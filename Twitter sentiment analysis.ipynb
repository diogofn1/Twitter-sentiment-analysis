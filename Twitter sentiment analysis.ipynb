{
 "cells": [
  {
   "cell_type": "markdown",
   "metadata": {
    "application/vnd.databricks.v1+cell": {
     "cellMetadata": {},
     "inputWidgets": {},
     "nuid": "11a8968a-f297-48aa-bb8f-44402c8c96af",
     "showTitle": false,
     "tableResultSettingsMap": {},
     "title": ""
    }
   },
   "source": [
    "### 1. Mount buckets\n",
    "Mounting the buckets will give easier access to the path that will be used to retrieve the data and the path that will be used to store files after processing and modeling."
   ]
  },
  {
   "cell_type": "code",
   "execution_count": null,
   "metadata": {
    "application/vnd.databricks.v1+cell": {
     "cellMetadata": {
      "byteLimit": 2048000,
      "rowLimit": 10000
     },
     "inputWidgets": {},
     "nuid": "fa70d59d-dad0-4ffc-8394-debc0b0893e2",
     "showTitle": false,
     "tableResultSettingsMap": {},
     "title": ""
    }
   },
   "outputs": [
    {
     "name": "stdout",
     "output_type": "stream",
     "text": [
      "Mounting weclouddata/twitter/AI\n",
      "/mnt/AI_tweets has been unmounted.\n",
      "The bucket weclouddata/twitter/AI was mounted to /mnt/AI_tweets \n",
      "\n",
      "Mounting diogo-weclouddata/big_data_project/\n",
      "/mnt/project has been unmounted.\n",
      "The bucket diogo-weclouddata/big_data_project/ was mounted to /mnt/project \n",
      "\n"
     ]
    }
   ],
   "source": [
    "# Step 1: Mount the  project bucket\n",
    "\n",
    "# Use the mount script from intro_to_spark folder's s3_data_mounting function and keys\n",
    "\n",
    "def mountBucket(accesskey, secretkey, bucketName, mountFolder):\n",
    "  ACCESS_KEY_ID = accesskey\n",
    "  SECRET_ACCESS_KEY = secretkey\n",
    "\n",
    "  print (\"Mounting\", bucketName)\n",
    "\n",
    "  try:\n",
    "    # Unmount the data in case it was already mounted.\n",
    "    dbutils.fs.unmount(mountFolder)\n",
    "    \n",
    "  except:\n",
    "    # If it fails to unmount it most likely wasn't mounted in the first place\n",
    "    print (\"Directory not unmounted: \", mountFolder )\n",
    "    \n",
    "  finally:\n",
    "    # Lastly, mount our bucket.\n",
    "    dbutils.fs.mount(\"s3a://\"+ ACCESS_KEY_ID + \":\" + SECRET_ACCESS_KEY + \"@\" + bucketName, mountFolder)\n",
    "    print (\"The bucket\", bucketName, \"was mounted to\", mountFolder, \"\\n\")\n",
    "\n",
    "# Set AWS programmatic access credentials\n",
    "\n",
    "import os\n",
    "from dotenv import load_dotenv, find_dotenv\n",
    "\n",
    "# these expect to find a .env file at the directory above the project.                                                                                                                     # the format for that file is (without the comment)                                                                                                                                       #API_KEYNAME=AStringThatIsTheLongAPIKeyFromSomeService                                                                                                                                     \n",
    "def load_env():\n",
    "    _ = load_dotenv(find_dotenv())\n",
    "\n",
    "load_env()\n",
    "access_key_id = os.environ['AWS_KEY_ID'] \n",
    "secret_access_key = os.environ['SECRET']\n",
    "\n",
    "# Mount WeCloudData bucket with project's data. This project will use AI tweets to make a sentiment analysis model\n",
    "mountBucket(access_key_id, secret_access_key, \"weclouddata/twitter/AI\", \"/mnt/AI_tweets\")\n",
    "\n",
    "# Mount personal S3 bucket for data storage\n",
    "mountBucket(access_key_id, secret_access_key, \"diogo-weclouddata/big_data_project/\", \"/mnt/project\")"
   ]
  },
  {
   "cell_type": "code",
   "execution_count": null,
   "metadata": {
    "application/vnd.databricks.v1+cell": {
     "cellMetadata": {
      "byteLimit": 2048000,
      "rowLimit": 10000
     },
     "inputWidgets": {},
     "nuid": "2075262a-a94a-4f8b-89e9-a8f799ecfdbe",
     "showTitle": false,
     "tableResultSettingsMap": {},
     "title": ""
    }
   },
   "outputs": [
    {
     "data": {
      "text/html": [
       "<style scoped>\n",
       "  .table-result-container {\n",
       "    max-height: 300px;\n",
       "    overflow: auto;\n",
       "  }\n",
       "  table, th, td {\n",
       "    border: 1px solid black;\n",
       "    border-collapse: collapse;\n",
       "  }\n",
       "  th, td {\n",
       "    padding: 5px;\n",
       "  }\n",
       "  th {\n",
       "    text-align: left;\n",
       "  }\n",
       "</style><div class='table-result-container'><table class='table-result'><thead style='background-color: white'><tr><th>path</th><th>name</th><th>size</th><th>modificationTime</th></tr></thead><tbody><tr><td>dbfs:/mnt/AI_tweets/2022/</td><td>2022/</td><td>0</td><td>0</td></tr></tbody></table></div>"
      ]
     },
     "metadata": {
      "application/vnd.databricks.v1+output": {
       "addedWidgets": {},
       "aggData": [],
       "aggError": "",
       "aggOverflow": false,
       "aggSchema": [],
       "aggSeriesLimitReached": false,
       "aggType": "",
       "arguments": {},
       "columnCustomDisplayInfos": {},
       "data": [
        [
         "dbfs:/mnt/AI_tweets/2022/",
         "2022/",
         0,
         0
        ]
       ],
       "datasetInfos": [],
       "dbfsResultPath": null,
       "isJsonSchema": true,
       "metadata": {
        "isDbfsCommandResult": false
       },
       "overflow": false,
       "plotOptions": {
        "customPlotOptions": {},
        "displayType": "table",
        "pivotAggregation": null,
        "pivotColumns": null,
        "xColumns": null,
        "yColumns": null
       },
       "removedWidgets": [],
       "schema": [
        {
         "metadata": "{}",
         "name": "path",
         "type": "\"string\""
        },
        {
         "metadata": "{}",
         "name": "name",
         "type": "\"string\""
        },
        {
         "metadata": "{}",
         "name": "size",
         "type": "\"long\""
        },
        {
         "metadata": "{}",
         "name": "modificationTime",
         "type": "\"long\""
        }
       ],
       "type": "table"
      }
     },
     "output_type": "display_data"
    }
   ],
   "source": [
    "%fs ls /mnt/AI_tweets"
   ]
  },
  {
   "cell_type": "markdown",
   "metadata": {
    "application/vnd.databricks.v1+cell": {
     "cellMetadata": {},
     "inputWidgets": {},
     "nuid": "af09d7f3-6460-4f8b-8a9a-359a9398a205",
     "showTitle": false,
     "tableResultSettingsMap": {},
     "title": ""
    }
   },
   "source": [
    "### 2. Start spark session and get the spark context"
   ]
  },
  {
   "cell_type": "code",
   "execution_count": null,
   "metadata": {
    "application/vnd.databricks.v1+cell": {
     "cellMetadata": {
      "byteLimit": 2048000,
      "rowLimit": 10000
     },
     "inputWidgets": {},
     "nuid": "836e345e-c6ed-4cf1-9b91-39a4654cd1bc",
     "showTitle": false,
     "tableResultSettingsMap": {},
     "title": ""
    }
   },
   "outputs": [
    {
     "name": "stdout",
     "output_type": "stream",
     "text": [
      "Session created\n"
     ]
    }
   ],
   "source": [
    "# Start the spark session \n",
    "\n",
    "from pyspark.sql import SparkSession\n",
    "spark = SparkSession \\\n",
    "        .builder \\\n",
    "        .appName('Sentiment Analysis Project') \\\n",
    "        .getOrCreate()\n",
    "print('Session created')\n",
    "\n",
    "# Get spark context\n",
    "\n",
    "sc = spark.sparkContext"
   ]
  },
  {
   "cell_type": "markdown",
   "metadata": {
    "application/vnd.databricks.v1+cell": {
     "cellMetadata": {},
     "inputWidgets": {},
     "nuid": "c338a069-f082-4c8a-bdd9-bb3785f4471b",
     "showTitle": false,
     "tableResultSettingsMap": {},
     "title": ""
    }
   },
   "source": [
    "### 3. Load the dataset"
   ]
  },
  {
   "cell_type": "code",
   "execution_count": null,
   "metadata": {
    "application/vnd.databricks.v1+cell": {
     "cellMetadata": {
      "byteLimit": 2048000,
      "rowLimit": 10000
     },
     "inputWidgets": {},
     "nuid": "276f996c-312c-4499-bbb3-22a82ed1cb80",
     "showTitle": false,
     "tableResultSettingsMap": {},
     "title": ""
    }
   },
   "outputs": [
    {
     "name": "stdout",
     "output_type": "stream",
     "text": [
      "Out[3]: ['1600919229729067008\\tA2z Daily News\\ta2zdailynews\\tPursuing a practical approach to\\xa0research https://t.co/IlJ4zuXTJI\\t3\\tNetherlands\\tNone\\tThu Dec 08 18:24:22 +0000 2022\\t',\n",
      " '1600919272208928770\\tJoshua Buah\\tDJoshuaBuah\\tRT @agristok: 🇺🇸 University of Florida is offering a scholarship to conduct PhD studies in plant breeding with emphasis in the fusion of ar…\\t39\\tNone\\tNone\\tThu Dec 08 18:24:32 +0000 2022\\t',\n",
      " '1600919279431716864\\tMK.KH2004\\tKh2004Mk\\t@Cryptogems223 #MVP #DeFi #Cryptocurency #BNB\\u202f\\u202f\\u202f\\u202f\\u202f\\u202f\\u202f\\u202f\\u202f\\u202f\\u202f\\u202f #Ethereum #IMPOSSIBLE #ARNC What is impossible robot? imp… https://t.co/jG5UY8HTWu\\t2\\tUnited States America 🇺🇸 \\tNone\\tThu Dec 08 18:24:34 +0000 2022\\t',\n",
      " \"1600919304576602113\\tGanpal Ramanjaneya Reddy\\tganpalramu\\tRT @RajivMessage: In conversation with @GadSaad, Evolutionary Behavioral Scientist, on my latest books, 'Artificial Intelligence and the Fu…\\t16\\tNone\\tNone\\tThu Dec 08 18:24:40 +0000 2022\\t\",\n",
      " '1600919381541691392\\tJosh Guetzkow\\tjoshg99\\tRT @BernieSpofforth: EU - mass citizen surveillance &amp; identification starts.  The EU has now agreed on the much-discussed Artificial Intell…\\t7738\\tTel Aviv\\tNone\\tThu Dec 08 18:24:58 +0000 2022\\t']"
     ]
    }
   ],
   "source": [
    "# As I did not have access to the document column_definition.txt file that was shared in the Slack channel, the schema had to be infered and some columns may not be named properly. As we will only use the column refering to the tweets to build the ML model, this should not be a problem.\n",
    "\n",
    "# Inspect first few rows before defining schema\n",
    "\n",
    "# Define path to file\n",
    "AI_tweets = \"/mnt/AI_tweets/*/*/*/*/*\"\n",
    "\n",
    "# Read first 5 lines as text\n",
    "test = sc.textFile(AI_tweets)\n",
    "test.take(5)"
   ]
  },
  {
   "cell_type": "code",
   "execution_count": null,
   "metadata": {
    "application/vnd.databricks.v1+cell": {
     "cellMetadata": {
      "byteLimit": 2048000,
      "rowLimit": 10000
     },
     "inputWidgets": {},
     "nuid": "b4f4fefd-9548-44c2-b679-c95b58ecf7a2",
     "showTitle": false,
     "tableResultSettingsMap": {},
     "title": ""
    }
   },
   "outputs": [
    {
     "data": {
      "text/html": [
       "<style scoped>\n",
       "  .table-result-container {\n",
       "    max-height: 300px;\n",
       "    overflow: auto;\n",
       "  }\n",
       "  table, th, td {\n",
       "    border: 1px solid black;\n",
       "    border-collapse: collapse;\n",
       "  }\n",
       "  th, td {\n",
       "    padding: 5px;\n",
       "  }\n",
       "  th {\n",
       "    text-align: left;\n",
       "  }\n",
       "</style><div class='table-result-container'><table class='table-result'><thead style='background-color: white'><tr><th>id</th><th>name</th><th>username</th><th>tweet</th><th>unknown1</th><th>location</th><th>unknown2</th><th>datetime</th><th>unknown3</th></tr></thead><tbody><tr><td>1601172099045158912</td><td>YUNUS HANBAL</td><td>HanbalYunus</td><td>@CryptoEmdarks There are many innovations and surprises in the future project #DXGM metaverse universe. You can par… https://t.co/R4PzLNEGFk</td><td>21</td><td>None</td><td>None</td><td>Fri Dec 09 11:09:11 +0000 2022</td><td>null</td></tr><tr><td>1601172122730041344</td><td>ASLI HANBAL</td><td>HanbalAsli</td><td>@Crypto__Diva #GPLEX with blockchain technology in the gaming world, with the unique #metaverse world waiting to be… https://t.co/scFwwFVAvz</td><td>152</td><td>None</td><td>None</td><td>Fri Dec 09 11:09:17 +0000 2022</td><td>null</td></tr><tr><td>1601172161372491778</td><td>YUNUS HANBAL</td><td>HanbalYunus</td><td>@CryptoThro There are many innovations and surprises in the future project #DXGM metaverse universe. You can partic… https://t.co/HvRw4EbJZU</td><td>21</td><td>None</td><td>None</td><td>Fri Dec 09 11:09:26 +0000 2022</td><td>null</td></tr><tr><td>1601172171602419712</td><td>ASLI HANBAL</td><td>HanbalAsli</td><td>@belufrancese #GPLEX with blockchain technology in the gaming world, with the unique #metaverse world waiting to be… https://t.co/FltRhZlt3J</td><td>152</td><td>None</td><td>None</td><td>Fri Dec 09 11:09:28 +0000 2022</td><td>null</td></tr><tr><td>1601172214056767489</td><td>YUNUS HANBAL</td><td>HanbalYunus</td><td>@cryptojack There are many innovations and surprises in the future project #DXGM metaverse universe. You can partic… https://t.co/n0FmdR4I81</td><td>21</td><td>None</td><td>None</td><td>Fri Dec 09 11:09:38 +0000 2022</td><td>null</td></tr><tr><td>1601172226631311362</td><td>ASLI HANBAL</td><td>HanbalAsli</td><td>@CryptoThro #GPLEX with blockchain technology in the gaming world, with the unique #metaverse world waiting to be d… https://t.co/D0TacL3rxu</td><td>152</td><td>None</td><td>None</td><td>Fri Dec 09 11:09:41 +0000 2022</td><td>null</td></tr><tr><td>1601172266460454914</td><td>ASLI HANBAL</td><td>HanbalAsli</td><td>@cryptoworld202 #GPLEX with blockchain technology in the gaming world, with the unique #metaverse world waiting to… https://t.co/eflMFNfp2K</td><td>152</td><td>None</td><td>None</td><td>Fri Dec 09 11:09:51 +0000 2022</td><td>null</td></tr><tr><td>1601172313017581568</td><td>ASLI HANBAL</td><td>HanbalAsli</td><td>@pascualprincipe #GPLEX with blockchain technology in the gaming world, with the unique #metaverse world waiting to… https://t.co/gWtYa8bIf6</td><td>152</td><td>None</td><td>None</td><td>Fri Dec 09 11:10:02 +0000 2022</td><td>null</td></tr><tr><td>1601172334810783744</td><td>YUNUS HANBAL</td><td>HanbalYunus</td><td>@riccardogems There are many innovations and surprises in the future project #DXGM metaverse universe. You can part… https://t.co/MGNxYHe1cK</td><td>21</td><td>None</td><td>None</td><td>Fri Dec 09 11:10:07 +0000 2022</td><td>null</td></tr><tr><td>1601172340188254208</td><td>Space ☆ Bruce</td><td>spacebruce</td><td>The VF-0 Phoenix variable fighter was an prototype for the VF-1 Valkyrie, it served in 2008 as a front-line fighter… https://t.co/25Omth4G4a</td><td>952</td><td>68000 HEART ON FIRE /🔞 please</td><td>None</td><td>Fri Dec 09 11:10:08 +0000 2022</td><td>null</td></tr></tbody></table></div>"
      ]
     },
     "metadata": {
      "application/vnd.databricks.v1+output": {
       "addedWidgets": {},
       "aggData": [],
       "aggError": "",
       "aggOverflow": false,
       "aggSchema": [],
       "aggSeriesLimitReached": false,
       "aggType": "",
       "arguments": {},
       "columnCustomDisplayInfos": {},
       "data": [
        [
         1601172099045159000,
         "YUNUS HANBAL",
         "HanbalYunus",
         "@CryptoEmdarks There are many innovations and surprises in the future project #DXGM metaverse universe. You can par… https://t.co/R4PzLNEGFk",
         21,
         "None",
         "None",
         "Fri Dec 09 11:09:11 +0000 2022",
         null
        ],
        [
         1601172122730041300,
         "ASLI HANBAL",
         "HanbalAsli",
         "@Crypto__Diva #GPLEX with blockchain technology in the gaming world, with the unique #metaverse world waiting to be… https://t.co/scFwwFVAvz",
         152,
         "None",
         "None",
         "Fri Dec 09 11:09:17 +0000 2022",
         null
        ],
        [
         1601172161372491800,
         "YUNUS HANBAL",
         "HanbalYunus",
         "@CryptoThro There are many innovations and surprises in the future project #DXGM metaverse universe. You can partic… https://t.co/HvRw4EbJZU",
         21,
         "None",
         "None",
         "Fri Dec 09 11:09:26 +0000 2022",
         null
        ],
        [
         1601172171602419700,
         "ASLI HANBAL",
         "HanbalAsli",
         "@belufrancese #GPLEX with blockchain technology in the gaming world, with the unique #metaverse world waiting to be… https://t.co/FltRhZlt3J",
         152,
         "None",
         "None",
         "Fri Dec 09 11:09:28 +0000 2022",
         null
        ],
        [
         1601172214056767500,
         "YUNUS HANBAL",
         "HanbalYunus",
         "@cryptojack There are many innovations and surprises in the future project #DXGM metaverse universe. You can partic… https://t.co/n0FmdR4I81",
         21,
         "None",
         "None",
         "Fri Dec 09 11:09:38 +0000 2022",
         null
        ],
        [
         1601172226631311400,
         "ASLI HANBAL",
         "HanbalAsli",
         "@CryptoThro #GPLEX with blockchain technology in the gaming world, with the unique #metaverse world waiting to be d… https://t.co/D0TacL3rxu",
         152,
         "None",
         "None",
         "Fri Dec 09 11:09:41 +0000 2022",
         null
        ],
        [
         1601172266460455000,
         "ASLI HANBAL",
         "HanbalAsli",
         "@cryptoworld202 #GPLEX with blockchain technology in the gaming world, with the unique #metaverse world waiting to… https://t.co/eflMFNfp2K",
         152,
         "None",
         "None",
         "Fri Dec 09 11:09:51 +0000 2022",
         null
        ],
        [
         1601172313017581600,
         "ASLI HANBAL",
         "HanbalAsli",
         "@pascualprincipe #GPLEX with blockchain technology in the gaming world, with the unique #metaverse world waiting to… https://t.co/gWtYa8bIf6",
         152,
         "None",
         "None",
         "Fri Dec 09 11:10:02 +0000 2022",
         null
        ],
        [
         1601172334810783700,
         "YUNUS HANBAL",
         "HanbalYunus",
         "@riccardogems There are many innovations and surprises in the future project #DXGM metaverse universe. You can part… https://t.co/MGNxYHe1cK",
         21,
         "None",
         "None",
         "Fri Dec 09 11:10:07 +0000 2022",
         null
        ],
        [
         1601172340188254200,
         "Space ☆ Bruce",
         "spacebruce",
         "The VF-0 Phoenix variable fighter was an prototype for the VF-1 Valkyrie, it served in 2008 as a front-line fighter… https://t.co/25Omth4G4a",
         952,
         "68000 HEART ON FIRE /🔞 please",
         "None",
         "Fri Dec 09 11:10:08 +0000 2022",
         null
        ]
       ],
       "datasetInfos": [],
       "dbfsResultPath": null,
       "isJsonSchema": true,
       "metadata": {},
       "overflow": false,
       "plotOptions": {
        "customPlotOptions": {},
        "displayType": "table",
        "pivotAggregation": null,
        "pivotColumns": null,
        "xColumns": null,
        "yColumns": null
       },
       "removedWidgets": [],
       "schema": [
        {
         "metadata": "{}",
         "name": "id",
         "type": "\"long\""
        },
        {
         "metadata": "{}",
         "name": "name",
         "type": "\"string\""
        },
        {
         "metadata": "{}",
         "name": "username",
         "type": "\"string\""
        },
        {
         "metadata": "{}",
         "name": "tweet",
         "type": "\"string\""
        },
        {
         "metadata": "{}",
         "name": "unknown1",
         "type": "\"integer\""
        },
        {
         "metadata": "{}",
         "name": "location",
         "type": "\"string\""
        },
        {
         "metadata": "{}",
         "name": "unknown2",
         "type": "\"string\""
        },
        {
         "metadata": "{}",
         "name": "datetime",
         "type": "\"string\""
        },
        {
         "metadata": "{}",
         "name": "unknown3",
         "type": "\"string\""
        }
       ],
       "type": "table"
      }
     },
     "output_type": "display_data"
    }
   ],
   "source": [
    "# Define the data schema\n",
    "\n",
    "from pyspark.sql.types import StructType, StructField, StringType, IntegerType, FloatType, LongType\n",
    "\n",
    "my_schema = StructType([\n",
    "  StructField(\"id\", LongType(), True),\n",
    "  StructField(\"name\", StringType(), True),\n",
    "  StructField(\"username\", StringType(), True),\n",
    "  StructField(\"tweet\", StringType(), True),\n",
    "  StructField(\"unknown1\", IntegerType(), True),\n",
    "  StructField(\"location\", StringType(), True),\n",
    "  StructField(\"unknown2\", StringType(), True),\n",
    "  StructField(\"datetime\", StringType(), True),\n",
    "  StructField(\"unknown3\", StringType(), True)\n",
    "])\n",
    "\n",
    "# Read the data from the WeCloudData bucket\n",
    "\n",
    "AI_tweets = \"/mnt/AI_tweets/*/*/*/*/*\"\n",
    "\n",
    "data = (spark.read                        \n",
    "   .option(\"header\", \"false\")       \n",
    "   .option(\"delimiter\", \"\\t\")      \n",
    "   .schema(my_schema)\n",
    "   .csv(AI_tweets) \n",
    ")   \n",
    "\n",
    "# Display first 10 rows\n",
    "display(data.limit(10))"
   ]
  },
  {
   "cell_type": "code",
   "execution_count": null,
   "metadata": {
    "application/vnd.databricks.v1+cell": {
     "cellMetadata": {
      "byteLimit": 2048000,
      "rowLimit": 10000
     },
     "inputWidgets": {},
     "nuid": "807ee958-ddf8-404f-a75a-83db349fc6d8",
     "showTitle": false,
     "tableResultSettingsMap": {},
     "title": ""
    }
   },
   "outputs": [
    {
     "name": "stdout",
     "output_type": "stream",
     "text": [
      "Out[5]: 10497"
     ]
    }
   ],
   "source": [
    "# Separate the tweets, which will be use as data to build the ML Model\n",
    "\n",
    "tweets = data.select(\"tweet\")\n",
    "\n",
    "# Cache the dataset\n",
    "tweets.cache()\n",
    "\n",
    "# Consolidate the cache by using count function\n",
    "tweets.count()"
   ]
  },
  {
   "cell_type": "markdown",
   "metadata": {
    "application/vnd.databricks.v1+cell": {
     "cellMetadata": {},
     "inputWidgets": {},
     "nuid": "b3e8acd5-eb08-423e-ad0c-5116e9020e6c",
     "showTitle": false,
     "tableResultSettingsMap": {},
     "title": ""
    }
   },
   "source": [
    "### 4. Prepare the data for building a ml Sentiment Analysis model"
   ]
  },
  {
   "cell_type": "code",
   "execution_count": null,
   "metadata": {
    "application/vnd.databricks.v1+cell": {
     "cellMetadata": {
      "byteLimit": 2048000,
      "rowLimit": 10000
     },
     "inputWidgets": {},
     "nuid": "236eda94-65c2-4388-a0f0-1df65db465c2",
     "showTitle": false,
     "tableResultSettingsMap": {},
     "title": ""
    }
   },
   "outputs": [
    {
     "data": {
      "text/html": [
       "<style scoped>\n",
       "  .table-result-container {\n",
       "    max-height: 300px;\n",
       "    overflow: auto;\n",
       "  }\n",
       "  table, th, td {\n",
       "    border: 1px solid black;\n",
       "    border-collapse: collapse;\n",
       "  }\n",
       "  th, td {\n",
       "    padding: 5px;\n",
       "  }\n",
       "  th {\n",
       "    text-align: left;\n",
       "  }\n",
       "</style><div class='table-result-container'><table class='table-result'><thead style='background-color: white'><tr><th>tweet</th></tr></thead><tbody><tr><td>there are many innovations and surprises in the future project dxgm metaverse universe you can par</td></tr><tr><td>gplex with blockchain technology in the gaming world with the unique metaverse world waiting to be</td></tr><tr><td>there are many innovations and surprises in the future project dxgm metaverse universe you can partic</td></tr><tr><td>gplex with blockchain technology in the gaming world with the unique metaverse world waiting to be</td></tr><tr><td>there are many innovations and surprises in the future project dxgm metaverse universe you can partic</td></tr><tr><td>gplex with blockchain technology in the gaming world with the unique metaverse world waiting to be d</td></tr><tr><td>gplex with blockchain technology in the gaming world with the unique metaverse world waiting to</td></tr><tr><td>gplex with blockchain technology in the gaming world with the unique metaverse world waiting to</td></tr><tr><td>there are many innovations and surprises in the future project dxgm metaverse universe you can part</td></tr><tr><td>the vf phoenix variable fighter was an prototype for the vf valkyrie it served in as a front line fighter</td></tr></tbody></table></div>"
      ]
     },
     "metadata": {
      "application/vnd.databricks.v1+output": {
       "addedWidgets": {},
       "aggData": [],
       "aggError": "",
       "aggOverflow": false,
       "aggSchema": [],
       "aggSeriesLimitReached": false,
       "aggType": "",
       "arguments": {},
       "columnCustomDisplayInfos": {},
       "data": [
        [
         "there are many innovations and surprises in the future project dxgm metaverse universe you can par"
        ],
        [
         "gplex with blockchain technology in the gaming world with the unique metaverse world waiting to be"
        ],
        [
         "there are many innovations and surprises in the future project dxgm metaverse universe you can partic"
        ],
        [
         "gplex with blockchain technology in the gaming world with the unique metaverse world waiting to be"
        ],
        [
         "there are many innovations and surprises in the future project dxgm metaverse universe you can partic"
        ],
        [
         "gplex with blockchain technology in the gaming world with the unique metaverse world waiting to be d"
        ],
        [
         "gplex with blockchain technology in the gaming world with the unique metaverse world waiting to"
        ],
        [
         "gplex with blockchain technology in the gaming world with the unique metaverse world waiting to"
        ],
        [
         "there are many innovations and surprises in the future project dxgm metaverse universe you can part"
        ],
        [
         "the vf phoenix variable fighter was an prototype for the vf valkyrie it served in as a front line fighter"
        ]
       ],
       "datasetInfos": [],
       "dbfsResultPath": null,
       "isJsonSchema": true,
       "metadata": {},
       "overflow": false,
       "plotOptions": {
        "customPlotOptions": {},
        "displayType": "table",
        "pivotAggregation": null,
        "pivotColumns": null,
        "xColumns": null,
        "yColumns": null
       },
       "removedWidgets": [],
       "schema": [
        {
         "metadata": "{}",
         "name": "tweet",
         "type": "\"string\""
        }
       ],
       "type": "table"
      }
     },
     "output_type": "display_data"
    }
   ],
   "source": [
    "# Clean the text by removing URLs (http), names starting with @ (@example), special characters, substituting multiple spaces with single space, lowercasing all text, and triming the leading/trailing whitespaces\n",
    "\n",
    "import pyspark.sql.functions as F\n",
    "\n",
    "tweets_clean = tweets.withColumn('tweet', F.regexp_replace('tweet', r\"http\\S+\", \"\")) \\\n",
    "                    .withColumn('tweet', F.regexp_replace('tweet', r\"@[a-zA-z]+\", \"\")) \\\n",
    "                    .withColumn('tweet', F.regexp_replace('tweet', r\"[^a-zA-z]\", \" \")) \\\n",
    "                    .withColumn('tweet', F.regexp_replace('tweet', r\"\\s+\", \" \")) \\\n",
    "                    .withColumn('tweet', F.lower('tweet')) \\\n",
    "                    .withColumn('tweet', F.trim('tweet')) \n",
    "\n",
    "# Remove rows with missing values\n",
    "\n",
    "tweets_clean = tweets_clean.dropna()\n",
    "\n",
    "# Display resulting df\n",
    "\n",
    "display(tweets_clean.limit(10))"
   ]
  },
  {
   "cell_type": "code",
   "execution_count": null,
   "metadata": {
    "application/vnd.databricks.v1+cell": {
     "cellMetadata": {
      "byteLimit": 2048000,
      "rowLimit": 10000
     },
     "inputWidgets": {},
     "nuid": "22cc7d34-51a8-44da-a91e-004708797496",
     "showTitle": false,
     "tableResultSettingsMap": {},
     "title": ""
    }
   },
   "outputs": [
    {
     "name": "stdout",
     "output_type": "stream",
     "text": [
      "Collecting textblob\r\n",
      "  Downloading textblob-0.18.0.post0-py3-none-any.whl (626 kB)\r\n",
      "\u001b[?25l\r",
      "\u001b[K     |▌                               | 10 kB 24.6 MB/s eta 0:00:01\r",
      "\u001b[K     |█                               | 20 kB 16.9 MB/s eta 0:00:01\r",
      "\u001b[K     |█▋                              | 30 kB 9.9 MB/s eta 0:00:01\r",
      "\u001b[K     |██                              | 40 kB 4.7 MB/s eta 0:00:01\r",
      "\u001b[K     |██▋                             | 51 kB 5.6 MB/s eta 0:00:01\r",
      "\u001b[K     |███▏                            | 61 kB 6.1 MB/s eta 0:00:01\r",
      "\u001b[K     |███▋                            | 71 kB 6.0 MB/s eta 0:00:01\r",
      "\u001b[K     |████▏                           | 81 kB 4.8 MB/s eta 0:00:01\r",
      "\u001b[K     |████▊                           | 92 kB 5.4 MB/s eta 0:00:01\r",
      "\u001b[K     |█████▎                          | 102 kB 4.7 MB/s eta 0:00:01\r",
      "\u001b[K     |█████▊                          | 112 kB 4.7 MB/s eta 0:00:01\r",
      "\u001b[K     |██████▎                         | 122 kB 4.7 MB/s eta 0:00:01\r",
      "\u001b[K     |██████▉                         | 133 kB 4.7 MB/s eta 0:00:01\r",
      "\u001b[K     |███████▎                        | 143 kB 4.7 MB/s eta 0:00:01\r",
      "\u001b[K     |███████▉                        | 153 kB 4.7 MB/s eta 0:00:01\r",
      "\u001b[K     |████████▍                       | 163 kB 4.7 MB/s eta 0:00:01\r",
      "\u001b[K     |█████████                       | 174 kB 4.7 MB/s eta 0:00:01\r",
      "\u001b[K     |█████████▍                      | 184 kB 4.7 MB/s eta 0:00:01\r",
      "\u001b[K     |██████████                      | 194 kB 4.7 MB/s eta 0:00:01\r",
      "\u001b[K     |██████████▌                     | 204 kB 4.7 MB/s eta 0:00:01\r",
      "\u001b[K     |███████████                     | 215 kB 4.7 MB/s eta 0:00:01\r",
      "\u001b[K     |███████████▌                    | 225 kB 4.7 MB/s eta 0:00:01\r",
      "\u001b[K     |████████████                    | 235 kB 4.7 MB/s eta 0:00:01\r",
      "\u001b[K     |████████████▋                   | 245 kB 4.7 MB/s eta 0:00:01\r",
      "\u001b[K     |█████████████                   | 256 kB 4.7 MB/s eta 0:00:01\r",
      "\u001b[K     |█████████████▋                  | 266 kB 4.7 MB/s eta 0:00:01\r",
      "\u001b[K     |██████████████▏                 | 276 kB 4.7 MB/s eta 0:00:01\r",
      "\u001b[K     |██████████████▋                 | 286 kB 4.7 MB/s eta 0:00:01\r",
      "\u001b[K     |███████████████▏                | 296 kB 4.7 MB/s eta 0:00:01\r",
      "\u001b[K     |███████████████▊                | 307 kB 4.7 MB/s eta 0:00:01\r",
      "\u001b[K     |████████████████▏               | 317 kB 4.7 MB/s eta 0:00:01\r",
      "\u001b[K     |████████████████▊               | 327 kB 4.7 MB/s eta 0:00:01\r",
      "\u001b[K     |█████████████████▎              | 337 kB 4.7 MB/s eta 0:00:01\r",
      "\u001b[K     |█████████████████▉              | 348 kB 4.7 MB/s eta 0:00:01\r",
      "\u001b[K     |██████████████████▎             | 358 kB 4.7 MB/s eta 0:00:01\r",
      "\u001b[K     |██████████████████▉             | 368 kB 4.7 MB/s eta 0:00:01\r",
      "\u001b[K     |███████████████████▍            | 378 kB 4.7 MB/s eta 0:00:01\r",
      "\u001b[K     |███████████████████▉            | 389 kB 4.7 MB/s eta 0:00:01\r",
      "\u001b[K     |████████████████████▍           | 399 kB 4.7 MB/s eta 0:00:01\r",
      "\u001b[K     |█████████████████████           | 409 kB 4.7 MB/s eta 0:00:01\r",
      "\u001b[K     |█████████████████████▌          | 419 kB 4.7 MB/s eta 0:00:01\r",
      "\u001b[K     |██████████████████████          | 430 kB 4.7 MB/s eta 0:00:01\r",
      "\u001b[K     |██████████████████████▌         | 440 kB 4.7 MB/s eta 0:00:01\r",
      "\u001b[K     |███████████████████████         | 450 kB 4.7 MB/s eta 0:00:01\r",
      "\u001b[K     |███████████████████████▌        | 460 kB 4.7 MB/s eta 0:00:01\r",
      "\u001b[K     |████████████████████████        | 471 kB 4.7 MB/s eta 0:00:01\r",
      "\u001b[K     |████████████████████████▋       | 481 kB 4.7 MB/s eta 0:00:01\r",
      "\u001b[K     |█████████████████████████▏      | 491 kB 4.7 MB/s eta 0:00:01\r",
      "\u001b[K     |█████████████████████████▋      | 501 kB 4.7 MB/s eta 0:00:01\r",
      "\u001b[K     |██████████████████████████▏     | 512 kB 4.7 MB/s eta 0:00:01\r",
      "\u001b[K     |██████████████████████████▊     | 522 kB 4.7 MB/s eta 0:00:01\r",
      "\u001b[K     |███████████████████████████▏    | 532 kB 4.7 MB/s eta 0:00:01\r",
      "\u001b[K     |███████████████████████████▊    | 542 kB 4.7 MB/s eta 0:00:01\r",
      "\u001b[K     |████████████████████████████▎   | 552 kB 4.7 MB/s eta 0:00:01\r",
      "\u001b[K     |████████████████████████████▊   | 563 kB 4.7 MB/s eta 0:00:01\r",
      "\u001b[K     |█████████████████████████████▎  | 573 kB 4.7 MB/s eta 0:00:01\r",
      "\u001b[K     |█████████████████████████████▉  | 583 kB 4.7 MB/s eta 0:00:01\r",
      "\u001b[K     |██████████████████████████████▍ | 593 kB 4.7 MB/s eta 0:00:01\r",
      "\u001b[K     |██████████████████████████████▉ | 604 kB 4.7 MB/s eta 0:00:01\r",
      "\u001b[K     |███████████████████████████████▍| 614 kB 4.7 MB/s eta 0:00:01\r",
      "\u001b[K     |████████████████████████████████| 624 kB 4.7 MB/s eta 0:00:01\r",
      "\u001b[K     |████████████████████████████████| 626 kB 4.7 MB/s \r\n",
      "\u001b[?25hCollecting nltk>=3.8\r\n",
      "  Downloading nltk-3.9.1-py3-none-any.whl (1.5 MB)\r\n",
      "\u001b[?25l\r",
      "\u001b[K     |▏                               | 10 kB 39.8 MB/s eta 0:00:01\r",
      "\u001b[K     |▍                               | 20 kB 50.8 MB/s eta 0:00:01\r",
      "\u001b[K     |▋                               | 30 kB 65.0 MB/s eta 0:00:01\r",
      "\u001b[K     |▉                               | 40 kB 68.2 MB/s eta 0:00:01\r",
      "\u001b[K     |█                               | 51 kB 75.2 MB/s eta 0:00:01\r",
      "\u001b[K     |█▎                              | 61 kB 84.9 MB/s eta 0:00:01\r",
      "\u001b[K     |█▌                              | 71 kB 92.8 MB/s eta 0:00:01\r",
      "\u001b[K     |█▊                              | 81 kB 99.1 MB/s eta 0:00:01\r",
      "\u001b[K     |██                              | 92 kB 85.5 MB/s eta 0:00:01\r",
      "\u001b[K     |██▏                             | 102 kB 85.8 MB/s eta 0:00:01\r",
      "\u001b[K     |██▍                             | 112 kB 85.8 MB/s eta 0:00:01\r",
      "\u001b[K     |██▋                             | 122 kB 85.8 MB/s eta 0:00:01\r",
      "\u001b[K     |██▉                             | 133 kB 85.8 MB/s eta 0:00:01\r",
      "\u001b[K     |███                             | 143 kB 85.8 MB/s eta 0:00:01\r",
      "\u001b[K     |███▎                            | 153 kB 85.8 MB/s eta 0:00:01\r",
      "\u001b[K     |███▌                            | 163 kB 85.8 MB/s eta 0:00:01\r",
      "\u001b[K     |███▊                            | 174 kB 85.8 MB/s eta 0:00:01\r",
      "\u001b[K     |████                            | 184 kB 85.8 MB/s eta 0:00:01\r",
      "\u001b[K     |████▏                           | 194 kB 85.8 MB/s eta 0:00:01\r",
      "\u001b[K     |████▍                           | 204 kB 85.8 MB/s eta 0:00:01\r",
      "\u001b[K     |████▋                           | 215 kB 85.8 MB/s eta 0:00:01\r",
      "\u001b[K     |████▉                           | 225 kB 85.8 MB/s eta 0:00:01\r",
      "\u001b[K     |█████                           | 235 kB 85.8 MB/s eta 0:00:01\r",
      "\u001b[K     |█████▎                          | 245 kB 85.8 MB/s eta 0:00:01\r",
      "\u001b[K     |█████▍                          | 256 kB 85.8 MB/s eta 0:00:01\r",
      "\u001b[K     |█████▋                          | 266 kB 85.8 MB/s eta 0:00:01\r",
      "\u001b[K     |█████▉                          | 276 kB 85.8 MB/s eta 0:00:01\r",
      "\u001b[K     |██████                          | 286 kB 85.8 MB/s eta 0:00:01\r",
      "\u001b[K     |██████▎                         | 296 kB 85.8 MB/s eta 0:00:01\r",
      "\u001b[K     |██████▌                         | 307 kB 85.8 MB/s eta 0:00:01\r",
      "\u001b[K     |██████▊                         | 317 kB 85.8 MB/s eta 0:00:01\r",
      "\u001b[K     |███████                         | 327 kB 85.8 MB/s eta 0:00:01\r",
      "\u001b[K     |███████▏                        | 337 kB 85.8 MB/s eta 0:00:01\r",
      "\u001b[K     |███████▍                        | 348 kB 85.8 MB/s eta 0:00:01\r",
      "\u001b[K     |███████▋                        | 358 kB 85.8 MB/s eta 0:00:01\r",
      "\u001b[K     |███████▉                        | 368 kB 85.8 MB/s eta 0:00:01\r",
      "\u001b[K     |████████                        | 378 kB 85.8 MB/s eta 0:00:01\r",
      "\u001b[K     |████████▎                       | 389 kB 85.8 MB/s eta 0:00:01\r",
      "\u001b[K     |████████▌                       | 399 kB 85.8 MB/s eta 0:00:01\r",
      "\u001b[K     |████████▊                       | 409 kB 85.8 MB/s eta 0:00:01\r",
      "\u001b[K     |█████████                       | 419 kB 85.8 MB/s eta 0:00:01\r",
      "\u001b[K     |█████████▏                      | 430 kB 85.8 MB/s eta 0:00:01\r",
      "\u001b[K     |█████████▍                      | 440 kB 85.8 MB/s eta 0:00:01\r",
      "\u001b[K     |█████████▋                      | 450 kB 85.8 MB/s eta 0:00:01\r",
      "\u001b[K     |█████████▉                      | 460 kB 85.8 MB/s eta 0:00:01\r",
      "\u001b[K     |██████████                      | 471 kB 85.8 MB/s eta 0:00:01\r",
      "\u001b[K     |██████████▎                     | 481 kB 85.8 MB/s eta 0:00:01\r",
      "\u001b[K     |██████████▌                     | 491 kB 85.8 MB/s eta 0:00:01\r",
      "\u001b[K     |██████████▋                     | 501 kB 85.8 MB/s eta 0:00:01\r",
      "\u001b[K     |██████████▉                     | 512 kB 85.8 MB/s eta 0:00:01\r",
      "\u001b[K     |███████████                     | 522 kB 85.8 MB/s eta 0:00:01\r",
      "\u001b[K     |███████████▎                    | 532 kB 85.8 MB/s eta 0:00:01\r",
      "\u001b[K     |███████████▌                    | 542 kB 85.8 MB/s eta 0:00:01\r",
      "\u001b[K     |███████████▊                    | 552 kB 85.8 MB/s eta 0:00:01\r",
      "\u001b[K     |████████████                    | 563 kB 85.8 MB/s eta 0:00:01\r",
      "\u001b[K     |████████████▏                   | 573 kB 85.8 MB/s eta 0:00:01\r",
      "\u001b[K     |████████████▍                   | 583 kB 85.8 MB/s eta 0:00:01\r",
      "\u001b[K     |████████████▋                   | 593 kB 85.8 MB/s eta 0:00:01\r",
      "\u001b[K     |████████████▉                   | 604 kB 85.8 MB/s eta 0:00:01\r",
      "\u001b[K     |█████████████                   | 614 kB 85.8 MB/s eta 0:00:01\r",
      "\u001b[K     |█████████████▎                  | 624 kB 85.8 MB/s eta 0:00:01\r",
      "\u001b[K     |█████████████▌                  | 634 kB 85.8 MB/s eta 0:00:01\r",
      "\u001b[K     |█████████████▊                  | 645 kB 85.8 MB/s eta 0:00:01\r",
      "\u001b[K     |██████████████                  | 655 kB 85.8 MB/s eta 0:00:01\r",
      "\u001b[K     |██████████████▏                 | 665 kB 85.8 MB/s eta 0:00:01\r",
      "\u001b[K     |██████████████▍                 | 675 kB 85.8 MB/s eta 0:00:01\r",
      "\u001b[K     |██████████████▋                 | 686 kB 85.8 MB/s eta 0:00:01\r",
      "\u001b[K     |██████████████▉                 | 696 kB 85.8 MB/s eta 0:00:01\r",
      "\u001b[K     |███████████████                 | 706 kB 85.8 MB/s eta 0:00:01\r",
      "\u001b[K     |███████████████▎                | 716 kB 85.8 MB/s eta 0:00:01\r",
      "\u001b[K     |███████████████▌                | 727 kB 85.8 MB/s eta 0:00:01\r",
      "\u001b[K     |███████████████▊                | 737 kB 85.8 MB/s eta 0:00:01\r",
      "\u001b[K     |████████████████                | 747 kB 85.8 MB/s eta 0:00:01\r",
      "\u001b[K     |████████████████                | 757 kB 85.8 MB/s eta 0:00:01\r",
      "\u001b[K     |████████████████▎               | 768 kB 85.8 MB/s eta 0:00:01\r",
      "\u001b[K     |████████████████▌               | 778 kB 85.8 MB/s eta 0:00:01\r",
      "\u001b[K     |████████████████▊               | 788 kB 85.8 MB/s eta 0:00:01\r",
      "\u001b[K     |█████████████████               | 798 kB 85.8 MB/s eta 0:00:01\r",
      "\u001b[K     |█████████████████▏              | 808 kB 85.8 MB/s eta 0:00:01\r",
      "\u001b[K     |█████████████████▍              | 819 kB 85.8 MB/s eta 0:00:01\r",
      "\u001b[K     |█████████████████▋              | 829 kB 85.8 MB/s eta 0:00:01\r",
      "\u001b[K     |█████████████████▉              | 839 kB 85.8 MB/s eta 0:00:01\r",
      "\u001b[K     |██████████████████              | 849 kB 85.8 MB/s eta 0:00:01\r",
      "\u001b[K     |██████████████████▎             | 860 kB 85.8 MB/s eta 0:00:01\r",
      "\u001b[K     |██████████████████▌             | 870 kB 85.8 MB/s eta 0:00:01\r",
      "\u001b[K     |██████████████████▊             | 880 kB 85.8 MB/s eta 0:00:01\r",
      "\u001b[K     |███████████████████             | 890 kB 85.8 MB/s eta 0:00:01\r",
      "\u001b[K     |███████████████████▏            | 901 kB 85.8 MB/s eta 0:00:01\r",
      "\u001b[K     |███████████████████▍            | 911 kB 85.8 MB/s eta 0:00:01\r",
      "\u001b[K     |███████████████████▋            | 921 kB 85.8 MB/s eta 0:00:01\r",
      "\u001b[K     |███████████████████▉            | 931 kB 85.8 MB/s eta 0:00:01\r",
      "\u001b[K     |████████████████████            | 942 kB 85.8 MB/s eta 0:00:01\r",
      "\u001b[K     |████████████████████▎           | 952 kB 85.8 MB/s eta 0:00:01\r",
      "\u001b[K     |████████████████████▌           | 962 kB 85.8 MB/s eta 0:00:01\r",
      "\u001b[K     |████████████████████▊           | 972 kB 85.8 MB/s eta 0:00:01\r",
      "\u001b[K     |█████████████████████           | 983 kB 85.8 MB/s eta 0:00:01\r",
      "\u001b[K     |█████████████████████▏          | 993 kB 85.8 MB/s eta 0:00:01\r",
      "\u001b[K     |█████████████████████▎          | 1.0 MB 85.8 MB/s eta 0:00:01\r",
      "\u001b[K     |█████████████████████▌          | 1.0 MB 85.8 MB/s eta 0:00:01\r",
      "\u001b[K     |█████████████████████▊          | 1.0 MB 85.8 MB/s eta 0:00:01\r",
      "\u001b[K     |██████████████████████          | 1.0 MB 85.8 MB/s eta 0:00:01\r",
      "\u001b[K     |██████████████████████▏         | 1.0 MB 85.8 MB/s eta 0:00:01\r",
      "\u001b[K     |██████████████████████▍         | 1.1 MB 85.8 MB/s eta 0:00:01\r",
      "\u001b[K     |██████████████████████▋         | 1.1 MB 85.8 MB/s eta 0:00:01\r",
      "\u001b[K     |██████████████████████▉         | 1.1 MB 85.8 MB/s eta 0:00:01\r",
      "\u001b[K     |███████████████████████         | 1.1 MB 85.8 MB/s eta 0:00:01\r",
      "\u001b[K     |███████████████████████▎        | 1.1 MB 85.8 MB/s eta 0:00:01\r",
      "\u001b[K     |███████████████████████▌        | 1.1 MB 85.8 MB/s eta 0:00:01\r",
      "\u001b[K     |███████████████████████▊        | 1.1 MB 85.8 MB/s eta 0:00:01\r",
      "\u001b[K     |████████████████████████        | 1.1 MB 85.8 MB/s eta 0:00:01\r",
      "\u001b[K     |████████████████████████▏       | 1.1 MB 85.8 MB/s eta 0:00:01\r",
      "\u001b[K     |████████████████████████▍       | 1.1 MB 85.8 MB/s eta 0:00:01\r",
      "\u001b[K     |████████████████████████▋       | 1.2 MB 85.8 MB/s eta 0:00:01\r",
      "\u001b[K     |████████████████████████▉       | 1.2 MB 85.8 MB/s eta 0:00:01\r",
      "\u001b[K     |█████████████████████████       | 1.2 MB 85.8 MB/s eta 0:00:01\r",
      "\u001b[K     |█████████████████████████▎      | 1.2 MB 85.8 MB/s eta 0:00:01\r",
      "\u001b[K     |█████████████████████████▌      | 1.2 MB 85.8 MB/s eta 0:00:01\r",
      "\u001b[K     |█████████████████████████▊      | 1.2 MB 85.8 MB/s eta 0:00:01\r",
      "\u001b[K     |██████████████████████████      | 1.2 MB 85.8 MB/s eta 0:00:01\r",
      "\u001b[K     |██████████████████████████▏     | 1.2 MB 85.8 MB/s eta 0:00:01\r",
      "\u001b[K     |██████████████████████████▍     | 1.2 MB 85.8 MB/s eta 0:00:01\r",
      "\u001b[K     |██████████████████████████▌     | 1.2 MB 85.8 MB/s eta 0:00:01\r",
      "\u001b[K     |██████████████████████████▊     | 1.3 MB 85.8 MB/s eta 0:00:01\r",
      "\u001b[K     |███████████████████████████     | 1.3 MB 85.8 MB/s eta 0:00:01\r",
      "\u001b[K     |███████████████████████████▏    | 1.3 MB 85.8 MB/s eta 0:00:01\r",
      "\u001b[K     |███████████████████████████▍    | 1.3 MB 85.8 MB/s eta 0:00:01\r",
      "\u001b[K     |███████████████████████████▋    | 1.3 MB 85.8 MB/s eta 0:00:01\r",
      "\u001b[K     |███████████████████████████▉    | 1.3 MB 85.8 MB/s eta 0:00:01\r",
      "\u001b[K     |████████████████████████████    | 1.3 MB 85.8 MB/s eta 0:00:01\r",
      "\u001b[K     |████████████████████████████▎   | 1.3 MB 85.8 MB/s eta 0:00:01\r",
      "\u001b[K     |████████████████████████████▌   | 1.3 MB 85.8 MB/s eta 0:00:01\r",
      "\u001b[K     |████████████████████████████▊   | 1.4 MB 85.8 MB/s eta 0:00:01\r",
      "\u001b[K     |█████████████████████████████   | 1.4 MB 85.8 MB/s eta 0:00:01\r",
      "\u001b[K     |█████████████████████████████▏  | 1.4 MB 85.8 MB/s eta 0:00:01\r",
      "\u001b[K     |█████████████████████████████▍  | 1.4 MB 85.8 MB/s eta 0:00:01\r",
      "\u001b[K     |█████████████████████████████▋  | 1.4 MB 85.8 MB/s eta 0:00:01\r",
      "\u001b[K     |█████████████████████████████▉  | 1.4 MB 85.8 MB/s eta 0:00:01\r",
      "\u001b[K     |██████████████████████████████  | 1.4 MB 85.8 MB/s eta 0:00:01\r",
      "\u001b[K     |██████████████████████████████▎ | 1.4 MB 85.8 MB/s eta 0:00:01\r",
      "\u001b[K     |██████████████████████████████▌ | 1.4 MB 85.8 MB/s eta 0:00:01\r",
      "\u001b[K     |██████████████████████████████▊ | 1.4 MB 85.8 MB/s eta 0:00:01\r",
      "\u001b[K     |███████████████████████████████ | 1.5 MB 85.8 MB/s eta 0:00:01\r",
      "\u001b[K     |███████████████████████████████▏| 1.5 MB 85.8 MB/s eta 0:00:01\r",
      "\u001b[K     |███████████████████████████████▍| 1.5 MB 85.8 MB/s eta 0:00:01\r",
      "\u001b[K     |███████████████████████████████▋| 1.5 MB 85.8 MB/s eta 0:00:01\r",
      "\u001b[K     |███████████████████████████████▉| 1.5 MB 85.8 MB/s eta 0:00:01\r",
      "\u001b[K     |████████████████████████████████| 1.5 MB 85.8 MB/s eta 0:00:01\r",
      "\u001b[K     |████████████████████████████████| 1.5 MB 85.8 MB/s \r\n",
      "\u001b[?25hCollecting regex>=2021.8.3\r\n",
      "  Downloading regex-2024.11.6-cp39-cp39-manylinux_2_17_x86_64.manylinux2014_x86_64.whl (780 kB)\r\n",
      "\u001b[?25l\r",
      "\u001b[K     |▍                               | 10 kB 17.5 MB/s eta 0:00:01\r",
      "\u001b[K     |▉                               | 20 kB 24.6 MB/s eta 0:00:01\r",
      "\u001b[K     |█▎                              | 30 kB 30.6 MB/s eta 0:00:01\r",
      "\u001b[K     |█▊                              | 40 kB 36.2 MB/s eta 0:00:01\r",
      "\u001b[K     |██                              | 51 kB 39.0 MB/s eta 0:00:01\r",
      "\u001b[K     |██▌                             | 61 kB 43.7 MB/s eta 0:00:01\r",
      "\u001b[K     |███                             | 71 kB 45.4 MB/s eta 0:00:01\r",
      "\u001b[K     |███▍                            | 81 kB 46.9 MB/s eta 0:00:01\r",
      "\u001b[K     |███▊                            | 92 kB 47.4 MB/s eta 0:00:01\r",
      "\u001b[K     |████▏                           | 102 kB 34.5 MB/s eta 0:00:01\r",
      "\u001b[K     |████▋                           | 112 kB 34.5 MB/s eta 0:00:01\r",
      "\u001b[K     |█████                           | 122 kB 34.5 MB/s eta 0:00:01\r",
      "\u001b[K     |█████▌                          | 133 kB 34.5 MB/s eta 0:00:01\r",
      "\u001b[K     |█████▉                          | 143 kB 34.5 MB/s eta 0:00:01\r",
      "\u001b[K     |██████▎                         | 153 kB 34.5 MB/s eta 0:00:01\r",
      "\u001b[K     |██████▊                         | 163 kB 34.5 MB/s eta 0:00:01\r",
      "\u001b[K     |███████▏                        | 174 kB 34.5 MB/s eta 0:00:01\r",
      "\u001b[K     |███████▌                        | 184 kB 34.5 MB/s eta 0:00:01\r",
      "\u001b[K     |████████                        | 194 kB 34.5 MB/s eta 0:00:01\r",
      "\u001b[K     |████████▍                       | 204 kB 34.5 MB/s eta 0:00:01\r",
      "\u001b[K     |████████▉                       | 215 kB 34.5 MB/s eta 0:00:01\r",
      "\u001b[K     |█████████▎                      | 225 kB 34.5 MB/s eta 0:00:01\r",
      "\u001b[K     |█████████▋                      | 235 kB 34.5 MB/s eta 0:00:01\r",
      "\u001b[K     |██████████                      | 245 kB 34.5 MB/s eta 0:00:01\r",
      "\u001b[K     |██████████▌                     | 256 kB 34.5 MB/s eta 0:00:01\r",
      "\u001b[K     |███████████                     | 266 kB 34.5 MB/s eta 0:00:01\r",
      "\u001b[K     |███████████▎                    | 276 kB 34.5 MB/s eta 0:00:01\r",
      "\u001b[K     |███████████▊                    | 286 kB 34.5 MB/s eta 0:00:01\r",
      "\u001b[K     |████████████▏                   | 296 kB 34.5 MB/s eta 0:00:01\r",
      "\u001b[K     |████████████▋                   | 307 kB 34.5 MB/s eta 0:00:01\r",
      "\u001b[K     |█████████████                   | 317 kB 34.5 MB/s eta 0:00:01\r",
      "\u001b[K     |█████████████▍                  | 327 kB 34.5 MB/s eta 0:00:01\r",
      "\u001b[K     |█████████████▉                  | 337 kB 34.5 MB/s eta 0:00:01\r",
      "\u001b[K     |██████████████▎                 | 348 kB 34.5 MB/s eta 0:00:01\r",
      "\u001b[K     |██████████████▊                 | 358 kB 34.5 MB/s eta 0:00:01\r",
      "\u001b[K     |███████████████                 | 368 kB 34.5 MB/s eta 0:00:01\r",
      "\u001b[K     |███████████████▌                | 378 kB 34.5 MB/s eta 0:00:01\r",
      "\u001b[K     |████████████████                | 389 kB 34.5 MB/s eta 0:00:01\r",
      "\u001b[K     |████████████████▍               | 399 kB 34.5 MB/s eta 0:00:01\r",
      "\u001b[K     |████████████████▉               | 409 kB 34.5 MB/s eta 0:00:01\r",
      "\u001b[K     |█████████████████▏              | 419 kB 34.5 MB/s eta 0:00:01\r",
      "\u001b[K     |█████████████████▋              | 430 kB 34.5 MB/s eta 0:00:01\r",
      "\u001b[K     |██████████████████              | 440 kB 34.5 MB/s eta 0:00:01\r",
      "\u001b[K     |██████████████████▌             | 450 kB 34.5 MB/s eta 0:00:01\r",
      "\u001b[K     |██████████████████▉             | 460 kB 34.5 MB/s eta 0:00:01\r",
      "\u001b[K     |███████████████████▎            | 471 kB 34.5 MB/s eta 0:00:01\r",
      "\u001b[K     |███████████████████▊            | 481 kB 34.5 MB/s eta 0:00:01\r",
      "\u001b[K     |████████████████████▏           | 491 kB 34.5 MB/s eta 0:00:01\r",
      "\u001b[K     |████████████████████▋           | 501 kB 34.5 MB/s eta 0:00:01\r",
      "\u001b[K     |█████████████████████           | 512 kB 34.5 MB/s eta 0:00:01\r",
      "\u001b[K     |█████████████████████▍          | 522 kB 34.5 MB/s eta 0:00:01\r",
      "\u001b[K     |█████████████████████▉          | 532 kB 34.5 MB/s eta 0:00:01\r",
      "\u001b[K     |██████████████████████▎         | 542 kB 34.5 MB/s eta 0:00:01\r",
      "\u001b[K     |██████████████████████▋         | 552 kB 34.5 MB/s eta 0:00:01\r",
      "\u001b[K     |███████████████████████         | 563 kB 34.5 MB/s eta 0:00:01\r",
      "\u001b[K     |███████████████████████▌        | 573 kB 34.5 MB/s eta 0:00:01\r",
      "\u001b[K     |████████████████████████        | 583 kB 34.5 MB/s eta 0:00:01\r",
      "\u001b[K     |████████████████████████▍       | 593 kB 34.5 MB/s eta 0:00:01\r",
      "\u001b[K     |████████████████████████▊       | 604 kB 34.5 MB/s eta 0:00:01\r",
      "\u001b[K     |█████████████████████████▏      | 614 kB 34.5 MB/s eta 0:00:01\r",
      "\u001b[K     |█████████████████████████▋      | 624 kB 34.5 MB/s eta 0:00:01\r",
      "\u001b[K     |██████████████████████████      | 634 kB 34.5 MB/s eta 0:00:01\r",
      "\u001b[K     |██████████████████████████▍     | 645 kB 34.5 MB/s eta 0:00:01\r",
      "\u001b[K     |██████████████████████████▉     | 655 kB 34.5 MB/s eta 0:00:01\r",
      "\u001b[K     |███████████████████████████▎    | 665 kB 34.5 MB/s eta 0:00:01\r",
      "\u001b[K     |███████████████████████████▊    | 675 kB 34.5 MB/s eta 0:00:01\r",
      "\u001b[K     |████████████████████████████▏   | 686 kB 34.5 MB/s eta 0:00:01\r",
      "\u001b[K     |████████████████████████████▌   | 696 kB 34.5 MB/s eta 0:00:01\r",
      "\u001b[K     |█████████████████████████████   | 706 kB 34.5 MB/s eta 0:00:01\r",
      "\u001b[K     |█████████████████████████████▍  | 716 kB 34.5 MB/s eta 0:00:01\r",
      "\u001b[K     |█████████████████████████████▉  | 727 kB 34.5 MB/s eta 0:00:01\r",
      "\u001b[K     |██████████████████████████████▏ | 737 kB 34.5 MB/s eta 0:00:01\r",
      "\u001b[K     |██████████████████████████████▋ | 747 kB 34.5 MB/s eta 0:00:01\r",
      "\u001b[K     |███████████████████████████████ | 757 kB 34.5 MB/s eta 0:00:01\r",
      "\u001b[K     |███████████████████████████████▌| 768 kB 34.5 MB/s eta 0:00:01\r",
      "\u001b[K     |████████████████████████████████| 778 kB 34.5 MB/s eta 0:00:01\r",
      "\u001b[K     |████████████████████████████████| 780 kB 34.5 MB/s \r\n",
      "\u001b[?25hCollecting tqdm\r\n",
      "  Downloading tqdm-4.67.1-py3-none-any.whl (78 kB)\r\n",
      "\u001b[?25l\r",
      "\u001b[K     |████▏                           | 10 kB 9.4 MB/s eta 0:00:01\r",
      "\u001b[K     |████████▍                       | 20 kB 16.2 MB/s eta 0:00:01\r",
      "\u001b[K     |████████████▌                   | 30 kB 17.4 MB/s eta 0:00:01\r",
      "\u001b[K     |████████████████▊               | 40 kB 20.6 MB/s eta 0:00:01\r",
      "\u001b[K     |████████████████████▉           | 51 kB 23.3 MB/s eta 0:00:01\r",
      "\u001b[K     |█████████████████████████       | 61 kB 26.2 MB/s eta 0:00:01\r",
      "\u001b[K     |█████████████████████████████▏  | 71 kB 29.2 MB/s eta 0:00:01\r",
      "\u001b[K     |████████████████████████████████| 78 kB 9.3 MB/s \r\n",
      "\u001b[?25hRequirement already satisfied: joblib in /databricks/python3/lib/python3.9/site-packages (from nltk>=3.8->textblob) (1.1.1)\r\n",
      "Requirement already satisfied: click in /databricks/python3/lib/python3.9/site-packages (from nltk>=3.8->textblob) (8.0.4)\r\n",
      "Installing collected packages: tqdm, regex, nltk, textblob\r\n",
      "Successfully installed nltk-3.9.1 regex-2024.11.6 textblob-0.18.0.post0 tqdm-4.67.1\r\n",
      "\u001b[33mWARNING: You are using pip version 21.2.4; however, version 24.3.1 is available.\r\n",
      "You should consider upgrading via the '/local_disk0/.ephemeral_nfs/envs/pythonEnv-0b1fa9d5-d051-4981-84af-7cde055076e2/bin/python -m pip install --upgrade pip' command.\u001b[0m\r\n"
     ]
    }
   ],
   "source": [
    "# Install textblob library that will be used to perform text analysis\n",
    "\n",
    "!pip install textblob"
   ]
  },
  {
   "cell_type": "code",
   "execution_count": null,
   "metadata": {
    "application/vnd.databricks.v1+cell": {
     "cellMetadata": {
      "byteLimit": 2048000,
      "rowLimit": 10000
     },
     "inputWidgets": {},
     "nuid": "92a009b4-fb0e-4eb1-9119-5ca9232b4916",
     "showTitle": false,
     "tableResultSettingsMap": {},
     "title": ""
    }
   },
   "outputs": [],
   "source": [
    "# Define function to get sentiment labels from tweets\n",
    "\n",
    "# Import TextBlob function to handle text analysis\n",
    "\n",
    "from textblob import TextBlob\n",
    "\n",
    "# Define functions to be used\n",
    "\n",
    "def get_polarity(tweet):\n",
    "  score = TextBlob(tweet).sentiment.polarity\n",
    "  return score\n",
    "\n",
    "def get_sentiment(tweet):\n",
    "  score = TextBlob(tweet).sentiment.polarity\n",
    "  if score < 0:\n",
    "    return \"negative\"\n",
    "  elif score == 0:\n",
    "      return \"neutral\"\n",
    "  else:\n",
    "    return \"positive\"\n",
    "  \n",
    "# Convert functions to udf\n",
    "\n",
    "from pyspark.sql.functions import col, udf\n",
    "from pyspark.sql.types import StringType, FloatType\n",
    "\n",
    "get_polarity_UDF = udf(lambda x: get_polarity(x), FloatType()) \n",
    "get_sentiment_UDF = udf(lambda x: get_sentiment(x), StringType()) "
   ]
  },
  {
   "cell_type": "code",
   "execution_count": null,
   "metadata": {
    "application/vnd.databricks.v1+cell": {
     "cellMetadata": {
      "byteLimit": 2048000,
      "rowLimit": 10000
     },
     "inputWidgets": {},
     "nuid": "b579fb1b-2aa1-42ec-94b0-e05394f575e4",
     "showTitle": false,
     "tableResultSettingsMap": {},
     "title": ""
    }
   },
   "outputs": [
    {
     "data": {
      "text/html": [
       "<style scoped>\n",
       "  .table-result-container {\n",
       "    max-height: 300px;\n",
       "    overflow: auto;\n",
       "  }\n",
       "  table, th, td {\n",
       "    border: 1px solid black;\n",
       "    border-collapse: collapse;\n",
       "  }\n",
       "  th, td {\n",
       "    padding: 5px;\n",
       "  }\n",
       "  th {\n",
       "    text-align: left;\n",
       "  }\n",
       "</style><div class='table-result-container'><table class='table-result'><thead style='background-color: white'><tr><th>tweet</th><th>sentiment</th><th>polarity</th></tr></thead><tbody><tr><td>there are many innovations and surprises in the future project dxgm metaverse universe you can par</td><td>positive</td><td>0.25</td></tr><tr><td>gplex with blockchain technology in the gaming world with the unique metaverse world waiting to be</td><td>positive</td><td>0.375</td></tr><tr><td>there are many innovations and surprises in the future project dxgm metaverse universe you can partic</td><td>positive</td><td>0.25</td></tr><tr><td>gplex with blockchain technology in the gaming world with the unique metaverse world waiting to be</td><td>positive</td><td>0.375</td></tr><tr><td>there are many innovations and surprises in the future project dxgm metaverse universe you can partic</td><td>positive</td><td>0.25</td></tr><tr><td>gplex with blockchain technology in the gaming world with the unique metaverse world waiting to be d</td><td>positive</td><td>0.375</td></tr><tr><td>gplex with blockchain technology in the gaming world with the unique metaverse world waiting to</td><td>positive</td><td>0.375</td></tr><tr><td>gplex with blockchain technology in the gaming world with the unique metaverse world waiting to</td><td>positive</td><td>0.375</td></tr><tr><td>there are many innovations and surprises in the future project dxgm metaverse universe you can part</td><td>positive</td><td>0.25</td></tr><tr><td>the vf phoenix variable fighter was an prototype for the vf valkyrie it served in as a front line fighter</td><td>neutral</td><td>0.0</td></tr></tbody></table></div>"
      ]
     },
     "metadata": {
      "application/vnd.databricks.v1+output": {
       "addedWidgets": {},
       "aggData": [],
       "aggError": "",
       "aggOverflow": false,
       "aggSchema": [],
       "aggSeriesLimitReached": false,
       "aggType": "",
       "arguments": {},
       "columnCustomDisplayInfos": {},
       "data": [
        [
         "there are many innovations and surprises in the future project dxgm metaverse universe you can par",
         "positive",
         0.25
        ],
        [
         "gplex with blockchain technology in the gaming world with the unique metaverse world waiting to be",
         "positive",
         0.375
        ],
        [
         "there are many innovations and surprises in the future project dxgm metaverse universe you can partic",
         "positive",
         0.25
        ],
        [
         "gplex with blockchain technology in the gaming world with the unique metaverse world waiting to be",
         "positive",
         0.375
        ],
        [
         "there are many innovations and surprises in the future project dxgm metaverse universe you can partic",
         "positive",
         0.25
        ],
        [
         "gplex with blockchain technology in the gaming world with the unique metaverse world waiting to be d",
         "positive",
         0.375
        ],
        [
         "gplex with blockchain technology in the gaming world with the unique metaverse world waiting to",
         "positive",
         0.375
        ],
        [
         "gplex with blockchain technology in the gaming world with the unique metaverse world waiting to",
         "positive",
         0.375
        ],
        [
         "there are many innovations and surprises in the future project dxgm metaverse universe you can part",
         "positive",
         0.25
        ],
        [
         "the vf phoenix variable fighter was an prototype for the vf valkyrie it served in as a front line fighter",
         "neutral",
         0
        ]
       ],
       "datasetInfos": [],
       "dbfsResultPath": null,
       "isJsonSchema": true,
       "metadata": {},
       "overflow": false,
       "plotOptions": {
        "customPlotOptions": {},
        "displayType": "table",
        "pivotAggregation": null,
        "pivotColumns": null,
        "xColumns": null,
        "yColumns": null
       },
       "removedWidgets": [],
       "schema": [
        {
         "metadata": "{}",
         "name": "tweet",
         "type": "\"string\""
        },
        {
         "metadata": "{}",
         "name": "sentiment",
         "type": "\"string\""
        },
        {
         "metadata": "{}",
         "name": "polarity",
         "type": "\"float\""
        }
       ],
       "type": "table"
      }
     },
     "output_type": "display_data"
    }
   ],
   "source": [
    "# Create sentiment column\n",
    "\n",
    "from pyspark.sql.functions import col\n",
    "\n",
    "tweets_labeled = tweets_clean.withColumn(\"sentiment\", get_sentiment_UDF(col(\"tweet\"))) \\\n",
    "                             .withColumn(\"polarity\", get_polarity_UDF(col(\"tweet\")))\n",
    "\n",
    "# Display first 10 rows\n",
    "\n",
    "display(tweets_labeled.limit(10))"
   ]
  },
  {
   "cell_type": "markdown",
   "metadata": {
    "application/vnd.databricks.v1+cell": {
     "cellMetadata": {},
     "inputWidgets": {},
     "nuid": "50baaaf2-6f44-46ad-94e9-d3455c49cd5a",
     "showTitle": false,
     "tableResultSettingsMap": {},
     "title": ""
    }
   },
   "source": [
    "### 5. Creating a Machine Learning model for Sentiment Analysis"
   ]
  },
  {
   "cell_type": "code",
   "execution_count": null,
   "metadata": {
    "application/vnd.databricks.v1+cell": {
     "cellMetadata": {
      "byteLimit": 2048000,
      "rowLimit": 10000
     },
     "inputWidgets": {},
     "nuid": "8cdaa7a1-5f73-4c98-aeff-77c674ac0bb6",
     "showTitle": false,
     "tableResultSettingsMap": {},
     "title": ""
    }
   },
   "outputs": [],
   "source": [
    "# Import relevant packages\n",
    "\n",
    "from pyspark.ml.feature import NGram, VectorAssembler, StopWordsRemover, CountVectorizer, HashingTF, IDF, Tokenizer, StringIndexer\n",
    "from pyspark.ml.classification import LogisticRegression, DecisionTreeClassifier, RandomForestClassifier\n",
    "from pyspark.ml import Pipeline\n",
    "from pyspark.ml.evaluation import BinaryClassificationEvaluator, MulticlassClassificationEvaluator\n",
    "\n",
    "# Split the data intro training, validation and test sets\n",
    "\n",
    "train, validation, test = tweets_labeled.randomSplit([0.6, 0.2, 0.2], seed=2)"
   ]
  },
  {
   "cell_type": "code",
   "execution_count": null,
   "metadata": {
    "application/vnd.databricks.v1+cell": {
     "cellMetadata": {
      "byteLimit": 2048000,
      "rowLimit": 10000
     },
     "inputWidgets": {},
     "nuid": "99674f2f-f253-4e86-912e-c8dcd698705f",
     "showTitle": false,
     "tableResultSettingsMap": {},
     "title": ""
    }
   },
   "outputs": [
    {
     "name": "stdout",
     "output_type": "stream",
     "text": [
      "LR accuracy score: 0.9026\n",
      "LR weighted precision: 0.9034\n",
      "LR weighted recall: 0.9026\n",
      "LR f1: 0.9027\n",
      "LR log loss: 2.1735\n"
     ]
    }
   ],
   "source": [
    "# Logistic regression model using 1gram_idf as feature\n",
    "\n",
    "# Create transformers for the ML pipeline with Logistic Regression\n",
    "tokenizer = Tokenizer(inputCol=\"tweet\", outputCol=\"tokens\")\n",
    "stopword_remover = StopWordsRemover(inputCol=\"tokens\", outputCol=\"filtered\")\n",
    "cv = CountVectorizer(vocabSize=2**16, inputCol=\"filtered\", outputCol='cv')\n",
    "idf = IDF(inputCol='cv', outputCol=\"1gram_idf\", minDocFreq=5) #minDocFreq: remove sparse terms\n",
    "assembler = VectorAssembler(inputCols=[\"1gram_idf\"], outputCol=\"features\")\n",
    "label_encoder= StringIndexer(inputCol = \"sentiment\", outputCol = \"label\")\n",
    "\n",
    "lr = LogisticRegression(maxIter=100)\n",
    "pipeline = Pipeline(stages=[tokenizer, stopword_remover, cv, idf, assembler, label_encoder, lr])\n",
    "\n",
    "pipeline_model = pipeline.fit(train) # Train Logistic Regression model\n",
    "predictions = pipeline_model.transform(validation)\n",
    "\n",
    "# Evaluate the model on the validation data\n",
    "\n",
    "evaluator = MulticlassClassificationEvaluator(predictionCol=\"prediction\", labelCol=\"label\")\n",
    "accuracy = evaluator.evaluate(predictions, {evaluator.metricName: \"accuracy\"})\n",
    "precision = evaluator.evaluate(predictions, {evaluator.metricName: \"weightedPrecision\"})\n",
    "recall = evaluator.evaluate(predictions, {evaluator.metricName: \"weightedRecall\"})\n",
    "f1 = evaluator.evaluate(predictions, {evaluator.metricName: \"f1\"})\n",
    "log_loss = evaluator.evaluate(predictions, {evaluator.metricName: \"logLoss\"})\n",
    "\n",
    "print(\"LR accuracy score: {0:.4f}\".format(accuracy))\n",
    "print(\"LR weighted precision: {0:.4f}\".format(precision))\n",
    "print(\"LR weighted recall: {0:.4f}\".format(recall))\n",
    "print(\"LR f1: {0:.4f}\".format(f1))\n",
    "print(\"LR log loss: {0:.4f}\".format(log_loss))\n"
   ]
  },
  {
   "cell_type": "code",
   "execution_count": null,
   "metadata": {
    "application/vnd.databricks.v1+cell": {
     "cellMetadata": {
      "byteLimit": 2048000,
      "rowLimit": 10000
     },
     "inputWidgets": {},
     "nuid": "756126a5-997a-45ca-a3ac-fc3f764641d7",
     "showTitle": false,
     "tableResultSettingsMap": {},
     "title": ""
    }
   },
   "outputs": [
    {
     "name": "stdout",
     "output_type": "stream",
     "text": [
      "DT accuracy score: 0.7892\n",
      "DT weighted precision: 0.8353\n",
      "DT weighted recall: 0.7892\n",
      "DT f1: 0.7645\n",
      "DT log loss: 0.4794\n"
     ]
    }
   ],
   "source": [
    "# Decision Tree model using 1gram_idf as feature\n",
    "\n",
    "# Create transformers for the ML pipeline with Logistic Regression\n",
    "tokenizer = Tokenizer(inputCol=\"tweet\", outputCol=\"tokens\")\n",
    "stopword_remover = StopWordsRemover(inputCol=\"tokens\", outputCol=\"filtered\")\n",
    "cv = CountVectorizer(vocabSize=2**16, inputCol=\"filtered\", outputCol='cv')\n",
    "idf = IDF(inputCol='cv', outputCol=\"1gram_idf\", minDocFreq=5) #minDocFreq: remove sparse terms\n",
    "assembler = VectorAssembler(inputCols=[\"1gram_idf\"], outputCol=\"features\")\n",
    "label_encoder= StringIndexer(inputCol = \"sentiment\", outputCol = \"label\")\n",
    "\n",
    "dt = DecisionTreeClassifier(maxDepth=5)\n",
    "pipeline = Pipeline(stages=[tokenizer, stopword_remover, cv, idf, assembler, label_encoder, dt])\n",
    "\n",
    "pipeline_model = pipeline.fit(train) # Train model\n",
    "predictions = pipeline_model.transform(validation)\n",
    "\n",
    "# Evaluate the model on the validation data\n",
    "\n",
    "evaluator = MulticlassClassificationEvaluator(predictionCol=\"prediction\", labelCol=\"label\")\n",
    "accuracy = evaluator.evaluate(predictions, {evaluator.metricName: \"accuracy\"})\n",
    "precision = evaluator.evaluate(predictions, {evaluator.metricName: \"weightedPrecision\"})\n",
    "recall = evaluator.evaluate(predictions, {evaluator.metricName: \"weightedRecall\"})\n",
    "f1 = evaluator.evaluate(predictions, {evaluator.metricName: \"f1\"})\n",
    "log_loss = evaluator.evaluate(predictions, {evaluator.metricName: \"logLoss\"})\n",
    "\n",
    "print(\"DT accuracy score: {0:.4f}\".format(accuracy))\n",
    "print(\"DT weighted precision: {0:.4f}\".format(precision))\n",
    "print(\"DT weighted recall: {0:.4f}\".format(recall))\n",
    "print(\"DT f1: {0:.4f}\".format(f1))\n",
    "print(\"DT log loss: {0:.4f}\".format(log_loss))"
   ]
  },
  {
   "cell_type": "code",
   "execution_count": null,
   "metadata": {
    "application/vnd.databricks.v1+cell": {
     "cellMetadata": {
      "byteLimit": 2048000,
      "rowLimit": 10000
     },
     "inputWidgets": {},
     "nuid": "7fc84c6f-9e11-462d-b6c5-4ca1d7556088",
     "showTitle": false,
     "tableResultSettingsMap": {},
     "title": ""
    }
   },
   "outputs": [
    {
     "name": "stdout",
     "output_type": "stream",
     "text": [
      "RF accuracy score: 0.6562\n",
      "RF weighted precision: 0.7951\n",
      "RF weighted recall: 0.6562\n",
      "RF f1: 0.6075\n",
      "RF log loss: 0.8240\n"
     ]
    }
   ],
   "source": [
    "# Random Forest model using 1gram_idf as feature\n",
    "\n",
    "from pyspark.ml.classification import RandomForestClassifier\n",
    "\n",
    "# Create transformers for the ML pipeline with Logistic Regression\n",
    "tokenizer = Tokenizer(inputCol=\"tweet\", outputCol=\"tokens\")\n",
    "stopword_remover = StopWordsRemover(inputCol=\"tokens\", outputCol=\"filtered\")\n",
    "cv = CountVectorizer(vocabSize=2**16, inputCol=\"filtered\", outputCol='cv')\n",
    "idf = IDF(inputCol='cv', outputCol=\"1gram_idf\", minDocFreq=5) #minDocFreq: remove sparse terms\n",
    "assembler = VectorAssembler(inputCols=[\"1gram_idf\"], outputCol=\"features\")\n",
    "label_encoder= StringIndexer(inputCol = \"sentiment\", outputCol = \"label\")\n",
    "\n",
    "rf = RandomForestClassifier(numTrees=100, maxDepth=5)\n",
    "pipeline = Pipeline(stages=[tokenizer, stopword_remover, cv, idf, assembler, label_encoder, rf])\n",
    "\n",
    "pipeline_model = pipeline.fit(train) # Train Logistic Regression model\n",
    "predictions = pipeline_model.transform(validation)\n",
    "\n",
    "evaluator = MulticlassClassificationEvaluator(predictionCol=\"prediction\", labelCol=\"label\")\n",
    "accuracy = evaluator.evaluate(predictions, {evaluator.metricName: \"accuracy\"})\n",
    "precision = evaluator.evaluate(predictions, {evaluator.metricName: \"weightedPrecision\"})\n",
    "recall = evaluator.evaluate(predictions, {evaluator.metricName: \"weightedRecall\"})\n",
    "f1 = evaluator.evaluate(predictions, {evaluator.metricName: \"f1\"})\n",
    "log_loss = evaluator.evaluate(predictions, {evaluator.metricName: \"logLoss\"})\n",
    "\n",
    "print(\"RF accuracy score: {0:.4f}\".format(accuracy))\n",
    "print(\"RF weighted precision: {0:.4f}\".format(precision))\n",
    "print(\"RF weighted recall: {0:.4f}\".format(recall))\n",
    "print(\"RF f1: {0:.4f}\".format(f1))\n",
    "print(\"RF log loss: {0:.4f}\".format(log_loss))\n"
   ]
  },
  {
   "cell_type": "markdown",
   "metadata": {
    "application/vnd.databricks.v1+cell": {
     "cellMetadata": {},
     "inputWidgets": {},
     "nuid": "df2fed7e-75d0-45d9-8b8e-a8ee6de4c6ae",
     "showTitle": false,
     "tableResultSettingsMap": {},
     "title": ""
    }
   },
   "source": [
    "Considering accuracy as the key metric to select the best model, the logistic regression that uses 1gram_idf as feature is the winner. The next step is to score the model using the test set."
   ]
  },
  {
   "cell_type": "code",
   "execution_count": null,
   "metadata": {
    "application/vnd.databricks.v1+cell": {
     "cellMetadata": {
      "byteLimit": 2048000,
      "rowLimit": 10000
     },
     "inputWidgets": {},
     "nuid": "e434441e-8609-48cd-adcf-10317fdd100f",
     "showTitle": false,
     "tableResultSettingsMap": {},
     "title": ""
    }
   },
   "outputs": [
    {
     "name": "stdout",
     "output_type": "stream",
     "text": [
      "LR accuracy score: 0.9047\n",
      "LR weighted precision: 0.9045\n",
      "LR weighted recall: 0.9047\n",
      "LR f1: 0.9046\n",
      "LR log loss: 2.1283\n"
     ]
    }
   ],
   "source": [
    "# Score the best model in the test dataset\n",
    "\n",
    "# Logistic regression model using 1gram_idf as feature\n",
    "\n",
    "# Create transformers for the ML pipeline with Logistic Regression\n",
    "tokenizer = Tokenizer(inputCol=\"tweet\", outputCol=\"tokens\")\n",
    "stopword_remover = StopWordsRemover(inputCol=\"tokens\", outputCol=\"filtered\")\n",
    "cv = CountVectorizer(vocabSize=2**16, inputCol=\"filtered\", outputCol='cv')\n",
    "idf = IDF(inputCol='cv', outputCol=\"1gram_idf\", minDocFreq=5) #minDocFreq: remove sparse terms\n",
    "assembler = VectorAssembler(inputCols=[\"1gram_idf\"], outputCol=\"features\")\n",
    "label_encoder= StringIndexer(inputCol = \"sentiment\", outputCol = \"label\")\n",
    "\n",
    "lr = LogisticRegression(maxIter=100)\n",
    "pipeline = Pipeline(stages=[tokenizer, stopword_remover, cv, idf, assembler, label_encoder, lr])\n",
    "\n",
    "pipeline_model = pipeline.fit(train) # Train Logistic Regression model\n",
    "predictions_test = pipeline_model.transform(test)\n",
    "\n",
    "# Score the model on the test data\n",
    "\n",
    "evaluator = MulticlassClassificationEvaluator(predictionCol=\"prediction\", labelCol=\"label\")\n",
    "accuracy = evaluator.evaluate(predictions_test, {evaluator.metricName: \"accuracy\"})\n",
    "precision = evaluator.evaluate(predictions_test, {evaluator.metricName: \"weightedPrecision\"})\n",
    "recall = evaluator.evaluate(predictions_test, {evaluator.metricName: \"weightedRecall\"})\n",
    "f1 = evaluator.evaluate(predictions_test, {evaluator.metricName: \"f1\"})\n",
    "log_loss = evaluator.evaluate(predictions_test, {evaluator.metricName: \"logLoss\"})\n",
    "\n",
    "print(\"LR accuracy score: {0:.4f}\".format(accuracy))\n",
    "print(\"LR weighted precision: {0:.4f}\".format(precision))\n",
    "print(\"LR weighted recall: {0:.4f}\".format(recall))\n",
    "print(\"LR f1: {0:.4f}\".format(f1))\n",
    "print(\"LR log loss: {0:.4f}\".format(log_loss))\n"
   ]
  },
  {
   "cell_type": "code",
   "execution_count": null,
   "metadata": {
    "application/vnd.databricks.v1+cell": {
     "cellMetadata": {
      "byteLimit": 2048000,
      "rowLimit": 10000
     },
     "inputWidgets": {},
     "nuid": "b25d9458-964e-4a7a-b6df-fcc88efc29d3",
     "showTitle": false,
     "tableResultSettingsMap": {},
     "title": ""
    }
   },
   "outputs": [],
   "source": [
    "# Fit the best model using the whole dataset and use it to make predictions\n",
    "\n",
    "# Logistic regression model using 1gram_idf as feature\n",
    "\n",
    "# Create transformers for the ML pipeline with Logistic Regression\n",
    "tokenizer = Tokenizer(inputCol=\"tweet\", outputCol=\"tokens\")\n",
    "stopword_remover = StopWordsRemover(inputCol=\"tokens\", outputCol=\"filtered\")\n",
    "cv = CountVectorizer(vocabSize=2**16, inputCol=\"filtered\", outputCol='cv')\n",
    "idf = IDF(inputCol='cv', outputCol=\"1gram_idf\", minDocFreq=5) #minDocFreq: remove sparse terms\n",
    "assembler = VectorAssembler(inputCols=[\"1gram_idf\"], outputCol=\"features\")\n",
    "label_encoder= StringIndexer(inputCol = \"sentiment\", outputCol = \"label\")\n",
    "\n",
    "lr = LogisticRegression(maxIter=100)\n",
    "pipeline = Pipeline(stages=[tokenizer, stopword_remover, cv, idf, assembler, label_encoder, lr])\n",
    "\n",
    "pipeline_model = pipeline.fit(tweets_labeled) # Train Logistic Regression model\n",
    "predictions = pipeline_model.transform(tweets_labeled)"
   ]
  },
  {
   "cell_type": "markdown",
   "metadata": {
    "application/vnd.databricks.v1+cell": {
     "cellMetadata": {},
     "inputWidgets": {},
     "nuid": "39ac956e-5cdd-4185-ba4b-e008a60b1aba",
     "showTitle": false,
     "tableResultSettingsMap": {},
     "title": ""
    }
   },
   "source": [
    "### Saving project files"
   ]
  },
  {
   "cell_type": "code",
   "execution_count": null,
   "metadata": {
    "application/vnd.databricks.v1+cell": {
     "cellMetadata": {
      "byteLimit": 2048000,
      "rowLimit": 10000
     },
     "inputWidgets": {},
     "nuid": "c50dc6a4-6543-4ea4-ab79-816d459c2141",
     "showTitle": false,
     "tableResultSettingsMap": {},
     "title": ""
    }
   },
   "outputs": [
    {
     "data": {
      "text/html": [
       "<style scoped>\n",
       "  .table-result-container {\n",
       "    max-height: 300px;\n",
       "    overflow: auto;\n",
       "  }\n",
       "  table, th, td {\n",
       "    border: 1px solid black;\n",
       "    border-collapse: collapse;\n",
       "  }\n",
       "  th, td {\n",
       "    padding: 5px;\n",
       "  }\n",
       "  th {\n",
       "    text-align: left;\n",
       "  }\n",
       "</style><div class='table-result-container'><table class='table-result'><thead style='background-color: white'><tr><th>tweet</th><th>sentiment</th><th>polarity</th></tr></thead><tbody><tr><td>there are many innovations and surprises in the future project dxgm metaverse universe you can par</td><td>positive</td><td>0.25</td></tr><tr><td>gplex with blockchain technology in the gaming world with the unique metaverse world waiting to be</td><td>positive</td><td>0.375</td></tr><tr><td>there are many innovations and surprises in the future project dxgm metaverse universe you can partic</td><td>positive</td><td>0.25</td></tr><tr><td>gplex with blockchain technology in the gaming world with the unique metaverse world waiting to be</td><td>positive</td><td>0.375</td></tr><tr><td>there are many innovations and surprises in the future project dxgm metaverse universe you can partic</td><td>positive</td><td>0.25</td></tr><tr><td>gplex with blockchain technology in the gaming world with the unique metaverse world waiting to be d</td><td>positive</td><td>0.375</td></tr><tr><td>gplex with blockchain technology in the gaming world with the unique metaverse world waiting to</td><td>positive</td><td>0.375</td></tr><tr><td>gplex with blockchain technology in the gaming world with the unique metaverse world waiting to</td><td>positive</td><td>0.375</td></tr><tr><td>there are many innovations and surprises in the future project dxgm metaverse universe you can part</td><td>positive</td><td>0.25</td></tr><tr><td>the vf phoenix variable fighter was an prototype for the vf valkyrie it served in as a front line fighter</td><td>neutral</td><td>0.0</td></tr></tbody></table></div>"
      ]
     },
     "metadata": {
      "application/vnd.databricks.v1+output": {
       "addedWidgets": {},
       "aggData": [],
       "aggError": "",
       "aggOverflow": false,
       "aggSchema": [],
       "aggSeriesLimitReached": false,
       "aggType": "",
       "arguments": {},
       "columnCustomDisplayInfos": {},
       "data": [
        [
         "there are many innovations and surprises in the future project dxgm metaverse universe you can par",
         "positive",
         0.25
        ],
        [
         "gplex with blockchain technology in the gaming world with the unique metaverse world waiting to be",
         "positive",
         0.375
        ],
        [
         "there are many innovations and surprises in the future project dxgm metaverse universe you can partic",
         "positive",
         0.25
        ],
        [
         "gplex with blockchain technology in the gaming world with the unique metaverse world waiting to be",
         "positive",
         0.375
        ],
        [
         "there are many innovations and surprises in the future project dxgm metaverse universe you can partic",
         "positive",
         0.25
        ],
        [
         "gplex with blockchain technology in the gaming world with the unique metaverse world waiting to be d",
         "positive",
         0.375
        ],
        [
         "gplex with blockchain technology in the gaming world with the unique metaverse world waiting to",
         "positive",
         0.375
        ],
        [
         "gplex with blockchain technology in the gaming world with the unique metaverse world waiting to",
         "positive",
         0.375
        ],
        [
         "there are many innovations and surprises in the future project dxgm metaverse universe you can part",
         "positive",
         0.25
        ],
        [
         "the vf phoenix variable fighter was an prototype for the vf valkyrie it served in as a front line fighter",
         "neutral",
         0
        ]
       ],
       "datasetInfos": [],
       "dbfsResultPath": null,
       "isJsonSchema": true,
       "metadata": {},
       "overflow": false,
       "plotOptions": {
        "customPlotOptions": {},
        "displayType": "table",
        "pivotAggregation": null,
        "pivotColumns": null,
        "xColumns": null,
        "yColumns": null
       },
       "removedWidgets": [],
       "schema": [
        {
         "metadata": "{}",
         "name": "tweet",
         "type": "\"string\""
        },
        {
         "metadata": "{}",
         "name": "sentiment",
         "type": "\"string\""
        },
        {
         "metadata": "{}",
         "name": "polarity",
         "type": "\"float\""
        }
       ],
       "type": "table"
      }
     },
     "output_type": "display_data"
    }
   ],
   "source": [
    "display(tweets_labeled.limit(10))"
   ]
  },
  {
   "cell_type": "code",
   "execution_count": null,
   "metadata": {
    "application/vnd.databricks.v1+cell": {
     "cellMetadata": {
      "byteLimit": 2048000,
      "rowLimit": 10000
     },
     "inputWidgets": {},
     "nuid": "f217ac5a-a84b-4ac9-895e-eaf00adf68fa",
     "showTitle": false,
     "tableResultSettingsMap": {},
     "title": ""
    }
   },
   "outputs": [
    {
     "data": {
      "text/html": [
       "<style scoped>\n",
       "  .table-result-container {\n",
       "    max-height: 300px;\n",
       "    overflow: auto;\n",
       "  }\n",
       "  table, th, td {\n",
       "    border: 1px solid black;\n",
       "    border-collapse: collapse;\n",
       "  }\n",
       "  th, td {\n",
       "    padding: 5px;\n",
       "  }\n",
       "  th {\n",
       "    text-align: left;\n",
       "  }\n",
       "</style><div class='table-result-container'><table class='table-result'><thead style='background-color: white'><tr><th>tweet</th><th>sentiment</th><th>polarity</th><th>tokens</th><th>filtered</th><th>cv</th><th>1gram_idf</th><th>features</th><th>label</th><th>rawPrediction</th><th>probability</th><th>prediction</th></tr></thead><tbody><tr><td>there are many innovations and surprises in the future project dxgm metaverse universe you can par</td><td>positive</td><td>0.25</td><td>List(there, are, many, innovations, and, surprises, in, the, future, project, dxgm, metaverse, universe, you, can, par)</td><td>List(many, innovations, surprises, future, project, dxgm, metaverse, universe, par)</td><td>Map(vectorType -> sparse, length -> 8485, indices -> List(43, 47, 111, 126, 140, 141, 306, 703, 3225), values -> List(1.0, 1.0, 1.0, 1.0, 1.0, 1.0, 1.0, 1.0, 1.0))</td><td>Map(vectorType -> sparse, length -> 8485, indices -> List(43, 47, 111, 126, 140, 141, 306, 703, 3225), values -> List(3.6058791607181138, 3.736907423124518, 4.302541283385503, 4.422086434035286, 4.804021044733257, 4.5047781498804, 5.215317073152214, 6.167325887628449, 0.0))</td><td>Map(vectorType -> sparse, length -> 8485, indices -> List(43, 47, 111, 126, 140, 141, 306, 703), values -> List(3.6058791607181138, 3.736907423124518, 4.302541283385503, 4.422086434035286, 4.804021044733257, 4.5047781498804, 5.215317073152214, 6.167325887628449))</td><td>1.0</td><td>Map(vectorType -> dense, length -> 3, values -> List(-12.827131833325156, 19.138761308105273, -6.311629474780116))</td><td>Map(vectorType -> dense, length -> 3, values -> List(1.3103550885926769E-14, 0.9999999999911351, 8.851884135562573E-12))</td><td>1.0</td></tr><tr><td>gplex with blockchain technology in the gaming world with the unique metaverse world waiting to be</td><td>positive</td><td>0.375</td><td>List(gplex, with, blockchain, technology, in, the, gaming, world, with, the, unique, metaverse, world, waiting, to, be)</td><td>List(gplex, blockchain, technology, gaming, world, unique, metaverse, world, waiting)</td><td>Map(vectorType -> sparse, length -> 8485, indices -> List(9, 16, 18, 43, 83, 105, 132, 156), values -> List(1.0, 2.0, 1.0, 1.0, 1.0, 1.0, 1.0, 1.0))</td><td>Map(vectorType -> sparse, length -> 8485, indices -> List(9, 16, 18, 43, 83, 105, 132, 156), values -> List(3.0338099117114044, 7.03715085761506, 3.2594317790400815, 3.6058791607181138, 3.935358361848356, 4.1831945257529375, 4.446183985614347, 4.613977441845392))</td><td>Map(vectorType -> sparse, length -> 8485, indices -> List(9, 16, 18, 43, 83, 105, 132, 156), values -> List(3.0338099117114044, 7.03715085761506, 3.2594317790400815, 3.6058791607181138, 3.935358361848356, 4.1831945257529375, 4.446183985614347, 4.613977441845392))</td><td>1.0</td><td>Map(vectorType -> dense, length -> 3, values -> List(-13.858940063528273, 17.117931068420994, -3.258991004892722))</td><td>Map(vectorType -> dense, length -> 3, values -> List(3.52302560946477E-14, 0.9999999985860761, 1.4138885737591142E-9))</td><td>1.0</td></tr><tr><td>there are many innovations and surprises in the future project dxgm metaverse universe you can partic</td><td>positive</td><td>0.25</td><td>List(there, are, many, innovations, and, surprises, in, the, future, project, dxgm, metaverse, universe, you, can, partic)</td><td>List(many, innovations, surprises, future, project, dxgm, metaverse, universe, partic)</td><td>Map(vectorType -> sparse, length -> 8485, indices -> List(43, 47, 111, 126, 140, 141, 306, 703, 2547), values -> List(1.0, 1.0, 1.0, 1.0, 1.0, 1.0, 1.0, 1.0, 1.0))</td><td>Map(vectorType -> sparse, length -> 8485, indices -> List(43, 47, 111, 126, 140, 141, 306, 703, 2547), values -> List(3.6058791607181138, 3.736907423124518, 4.302541283385503, 4.422086434035286, 4.804021044733257, 4.5047781498804, 5.215317073152214, 6.167325887628449, 0.0))</td><td>Map(vectorType -> sparse, length -> 8485, indices -> List(43, 47, 111, 126, 140, 141, 306, 703), values -> List(3.6058791607181138, 3.736907423124518, 4.302541283385503, 4.422086434035286, 4.804021044733257, 4.5047781498804, 5.215317073152214, 6.167325887628449))</td><td>1.0</td><td>Map(vectorType -> dense, length -> 3, values -> List(-12.827131833325156, 19.138761308105273, -6.311629474780116))</td><td>Map(vectorType -> dense, length -> 3, values -> List(1.3103550885926769E-14, 0.9999999999911351, 8.851884135562573E-12))</td><td>1.0</td></tr><tr><td>gplex with blockchain technology in the gaming world with the unique metaverse world waiting to be</td><td>positive</td><td>0.375</td><td>List(gplex, with, blockchain, technology, in, the, gaming, world, with, the, unique, metaverse, world, waiting, to, be)</td><td>List(gplex, blockchain, technology, gaming, world, unique, metaverse, world, waiting)</td><td>Map(vectorType -> sparse, length -> 8485, indices -> List(9, 16, 18, 43, 83, 105, 132, 156), values -> List(1.0, 2.0, 1.0, 1.0, 1.0, 1.0, 1.0, 1.0))</td><td>Map(vectorType -> sparse, length -> 8485, indices -> List(9, 16, 18, 43, 83, 105, 132, 156), values -> List(3.0338099117114044, 7.03715085761506, 3.2594317790400815, 3.6058791607181138, 3.935358361848356, 4.1831945257529375, 4.446183985614347, 4.613977441845392))</td><td>Map(vectorType -> sparse, length -> 8485, indices -> List(9, 16, 18, 43, 83, 105, 132, 156), values -> List(3.0338099117114044, 7.03715085761506, 3.2594317790400815, 3.6058791607181138, 3.935358361848356, 4.1831945257529375, 4.446183985614347, 4.613977441845392))</td><td>1.0</td><td>Map(vectorType -> dense, length -> 3, values -> List(-13.858940063528273, 17.117931068420994, -3.258991004892722))</td><td>Map(vectorType -> dense, length -> 3, values -> List(3.52302560946477E-14, 0.9999999985860761, 1.4138885737591142E-9))</td><td>1.0</td></tr><tr><td>there are many innovations and surprises in the future project dxgm metaverse universe you can partic</td><td>positive</td><td>0.25</td><td>List(there, are, many, innovations, and, surprises, in, the, future, project, dxgm, metaverse, universe, you, can, partic)</td><td>List(many, innovations, surprises, future, project, dxgm, metaverse, universe, partic)</td><td>Map(vectorType -> sparse, length -> 8485, indices -> List(43, 47, 111, 126, 140, 141, 306, 703, 2547), values -> List(1.0, 1.0, 1.0, 1.0, 1.0, 1.0, 1.0, 1.0, 1.0))</td><td>Map(vectorType -> sparse, length -> 8485, indices -> List(43, 47, 111, 126, 140, 141, 306, 703, 2547), values -> List(3.6058791607181138, 3.736907423124518, 4.302541283385503, 4.422086434035286, 4.804021044733257, 4.5047781498804, 5.215317073152214, 6.167325887628449, 0.0))</td><td>Map(vectorType -> sparse, length -> 8485, indices -> List(43, 47, 111, 126, 140, 141, 306, 703), values -> List(3.6058791607181138, 3.736907423124518, 4.302541283385503, 4.422086434035286, 4.804021044733257, 4.5047781498804, 5.215317073152214, 6.167325887628449))</td><td>1.0</td><td>Map(vectorType -> dense, length -> 3, values -> List(-12.827131833325156, 19.138761308105273, -6.311629474780116))</td><td>Map(vectorType -> dense, length -> 3, values -> List(1.3103550885926769E-14, 0.9999999999911351, 8.851884135562573E-12))</td><td>1.0</td></tr><tr><td>gplex with blockchain technology in the gaming world with the unique metaverse world waiting to be d</td><td>positive</td><td>0.375</td><td>List(gplex, with, blockchain, technology, in, the, gaming, world, with, the, unique, metaverse, world, waiting, to, be, d)</td><td>List(gplex, blockchain, technology, gaming, world, unique, metaverse, world, waiting, d)</td><td>Map(vectorType -> sparse, length -> 8485, indices -> List(9, 16, 18, 43, 83, 105, 132, 150, 156), values -> List(1.0, 2.0, 1.0, 1.0, 1.0, 1.0, 1.0, 1.0, 1.0))</td><td>Map(vectorType -> sparse, length -> 8485, indices -> List(9, 16, 18, 43, 83, 105, 132, 150, 156), values -> List(3.0338099117114044, 7.03715085761506, 3.2594317790400815, 3.6058791607181138, 3.935358361848356, 4.1831945257529375, 4.446183985614347, 4.7697319712546244, 4.613977441845392))</td><td>Map(vectorType -> sparse, length -> 8485, indices -> List(9, 16, 18, 43, 83, 105, 132, 150, 156), values -> List(3.0338099117114044, 7.03715085761506, 3.2594317790400815, 3.6058791607181138, 3.935358361848356, 4.1831945257529375, 4.446183985614347, 4.7697319712546244, 4.613977441845392))</td><td>1.0</td><td>Map(vectorType -> dense, length -> 3, values -> List(-14.466180561266349, 16.458606155357113, -1.9924255940907654))</td><td>Map(vectorType -> dense, length -> 3, values -> List(3.711382970888799E-14, 0.9999999902989135, 9.701049521968727E-9))</td><td>1.0</td></tr><tr><td>gplex with blockchain technology in the gaming world with the unique metaverse world waiting to</td><td>positive</td><td>0.375</td><td>List(gplex, with, blockchain, technology, in, the, gaming, world, with, the, unique, metaverse, world, waiting, to)</td><td>List(gplex, blockchain, technology, gaming, world, unique, metaverse, world, waiting)</td><td>Map(vectorType -> sparse, length -> 8485, indices -> List(9, 16, 18, 43, 83, 105, 132, 156), values -> List(1.0, 2.0, 1.0, 1.0, 1.0, 1.0, 1.0, 1.0))</td><td>Map(vectorType -> sparse, length -> 8485, indices -> List(9, 16, 18, 43, 83, 105, 132, 156), values -> List(3.0338099117114044, 7.03715085761506, 3.2594317790400815, 3.6058791607181138, 3.935358361848356, 4.1831945257529375, 4.446183985614347, 4.613977441845392))</td><td>Map(vectorType -> sparse, length -> 8485, indices -> List(9, 16, 18, 43, 83, 105, 132, 156), values -> List(3.0338099117114044, 7.03715085761506, 3.2594317790400815, 3.6058791607181138, 3.935358361848356, 4.1831945257529375, 4.446183985614347, 4.613977441845392))</td><td>1.0</td><td>Map(vectorType -> dense, length -> 3, values -> List(-13.858940063528273, 17.117931068420994, -3.258991004892722))</td><td>Map(vectorType -> dense, length -> 3, values -> List(3.52302560946477E-14, 0.9999999985860761, 1.4138885737591142E-9))</td><td>1.0</td></tr><tr><td>gplex with blockchain technology in the gaming world with the unique metaverse world waiting to</td><td>positive</td><td>0.375</td><td>List(gplex, with, blockchain, technology, in, the, gaming, world, with, the, unique, metaverse, world, waiting, to)</td><td>List(gplex, blockchain, technology, gaming, world, unique, metaverse, world, waiting)</td><td>Map(vectorType -> sparse, length -> 8485, indices -> List(9, 16, 18, 43, 83, 105, 132, 156), values -> List(1.0, 2.0, 1.0, 1.0, 1.0, 1.0, 1.0, 1.0))</td><td>Map(vectorType -> sparse, length -> 8485, indices -> List(9, 16, 18, 43, 83, 105, 132, 156), values -> List(3.0338099117114044, 7.03715085761506, 3.2594317790400815, 3.6058791607181138, 3.935358361848356, 4.1831945257529375, 4.446183985614347, 4.613977441845392))</td><td>Map(vectorType -> sparse, length -> 8485, indices -> List(9, 16, 18, 43, 83, 105, 132, 156), values -> List(3.0338099117114044, 7.03715085761506, 3.2594317790400815, 3.6058791607181138, 3.935358361848356, 4.1831945257529375, 4.446183985614347, 4.613977441845392))</td><td>1.0</td><td>Map(vectorType -> dense, length -> 3, values -> List(-13.858940063528273, 17.117931068420994, -3.258991004892722))</td><td>Map(vectorType -> dense, length -> 3, values -> List(3.52302560946477E-14, 0.9999999985860761, 1.4138885737591142E-9))</td><td>1.0</td></tr><tr><td>there are many innovations and surprises in the future project dxgm metaverse universe you can part</td><td>positive</td><td>0.25</td><td>List(there, are, many, innovations, and, surprises, in, the, future, project, dxgm, metaverse, universe, you, can, part)</td><td>List(many, innovations, surprises, future, project, dxgm, metaverse, universe, part)</td><td>Map(vectorType -> sparse, length -> 8485, indices -> List(43, 47, 111, 126, 140, 141, 151, 306, 703), values -> List(1.0, 1.0, 1.0, 1.0, 1.0, 1.0, 1.0, 1.0, 1.0))</td><td>Map(vectorType -> sparse, length -> 8485, indices -> List(43, 47, 111, 126, 140, 141, 151, 306, 703), values -> List(3.6058791607181138, 3.736907423124518, 4.302541283385503, 4.422086434035286, 4.804021044733257, 4.5047781498804, 4.673400862316193, 5.215317073152214, 6.167325887628449))</td><td>Map(vectorType -> sparse, length -> 8485, indices -> List(43, 47, 111, 126, 140, 141, 151, 306, 703), values -> List(3.6058791607181138, 3.736907423124518, 4.302541283385503, 4.422086434035286, 4.804021044733257, 4.5047781498804, 4.673400862316193, 5.215317073152214, 6.167325887628449))</td><td>1.0</td><td>Map(vectorType -> dense, length -> 3, values -> List(-15.380186271680214, 21.54660421111065, -6.166417939430435))</td><td>Map(vectorType -> dense, length -> 3, values -> List(9.181183318356128E-17, 0.9999999999990787, 9.212710055364739E-13))</td><td>1.0</td></tr><tr><td>the vf phoenix variable fighter was an prototype for the vf valkyrie it served in as a front line fighter</td><td>neutral</td><td>0.0</td><td>List(the, vf, phoenix, variable, fighter, was, an, prototype, for, the, vf, valkyrie, it, served, in, as, a, front, line, fighter)</td><td>List(vf, phoenix, variable, fighter, prototype, vf, valkyrie, served, front, line, fighter)</td><td>Map(vectorType -> sparse, length -> 8485, indices -> List(98, 1428, 2111, 2154, 2610, 3265, 3277, 4182, 4272), values -> List(2.0, 1.0, 1.0, 1.0, 2.0, 1.0, 1.0, 1.0, 1.0))</td><td>Map(vectorType -> sparse, length -> 8485, indices -> List(98, 1428, 2111, 2154, 2610, 3265, 3277, 4182, 4272), values -> List(8.187164734126501, 6.860473068188393, 7.312458191931451, 7.312458191931451, 0.0, 0.0, 0.0, 0.0, 0.0))</td><td>Map(vectorType -> sparse, length -> 8485, indices -> List(98, 1428, 2111, 2154), values -> List(8.187164734126501, 6.860473068188393, 7.312458191931451, 7.312458191931451))</td><td>2.0</td><td>Map(vectorType -> dense, length -> 3, values -> List(8.446717625389514, -26.241603544538044, 17.794885919148527))</td><td>Map(vectorType -> dense, length -> 3, values -> List(8.711727009536473E-5, 7.501667094655749E-20, 0.9999128827299048))</td><td>2.0</td></tr></tbody></table></div>"
      ]
     },
     "metadata": {
      "application/vnd.databricks.v1+output": {
       "addedWidgets": {},
       "aggData": [],
       "aggError": "",
       "aggOverflow": false,
       "aggSchema": [],
       "aggSeriesLimitReached": false,
       "aggType": "",
       "arguments": {},
       "columnCustomDisplayInfos": {},
       "data": [
        [
         "there are many innovations and surprises in the future project dxgm metaverse universe you can par",
         "positive",
         0.25,
         [
          "there",
          "are",
          "many",
          "innovations",
          "and",
          "surprises",
          "in",
          "the",
          "future",
          "project",
          "dxgm",
          "metaverse",
          "universe",
          "you",
          "can",
          "par"
         ],
         [
          "many",
          "innovations",
          "surprises",
          "future",
          "project",
          "dxgm",
          "metaverse",
          "universe",
          "par"
         ],
         {
          "indices": [
           43,
           47,
           111,
           126,
           140,
           141,
           306,
           703,
           3225
          ],
          "length": 8485,
          "values": [
           1,
           1,
           1,
           1,
           1,
           1,
           1,
           1,
           1
          ],
          "vectorType": "sparse"
         },
         {
          "indices": [
           43,
           47,
           111,
           126,
           140,
           141,
           306,
           703,
           3225
          ],
          "length": 8485,
          "values": [
           3.6058791607181138,
           3.736907423124518,
           4.302541283385503,
           4.422086434035286,
           4.804021044733257,
           4.5047781498804,
           5.215317073152214,
           6.167325887628449,
           0
          ],
          "vectorType": "sparse"
         },
         {
          "indices": [
           43,
           47,
           111,
           126,
           140,
           141,
           306,
           703
          ],
          "length": 8485,
          "values": [
           3.6058791607181138,
           3.736907423124518,
           4.302541283385503,
           4.422086434035286,
           4.804021044733257,
           4.5047781498804,
           5.215317073152214,
           6.167325887628449
          ],
          "vectorType": "sparse"
         },
         1,
         {
          "length": 3,
          "values": [
           -12.827131833325156,
           19.138761308105273,
           -6.311629474780116
          ],
          "vectorType": "dense"
         },
         {
          "length": 3,
          "values": [
           1.3103550885926769e-14,
           0.9999999999911351,
           8.851884135562573e-12
          ],
          "vectorType": "dense"
         },
         1
        ],
        [
         "gplex with blockchain technology in the gaming world with the unique metaverse world waiting to be",
         "positive",
         0.375,
         [
          "gplex",
          "with",
          "blockchain",
          "technology",
          "in",
          "the",
          "gaming",
          "world",
          "with",
          "the",
          "unique",
          "metaverse",
          "world",
          "waiting",
          "to",
          "be"
         ],
         [
          "gplex",
          "blockchain",
          "technology",
          "gaming",
          "world",
          "unique",
          "metaverse",
          "world",
          "waiting"
         ],
         {
          "indices": [
           9,
           16,
           18,
           43,
           83,
           105,
           132,
           156
          ],
          "length": 8485,
          "values": [
           1,
           2,
           1,
           1,
           1,
           1,
           1,
           1
          ],
          "vectorType": "sparse"
         },
         {
          "indices": [
           9,
           16,
           18,
           43,
           83,
           105,
           132,
           156
          ],
          "length": 8485,
          "values": [
           3.0338099117114044,
           7.03715085761506,
           3.2594317790400815,
           3.6058791607181138,
           3.935358361848356,
           4.1831945257529375,
           4.446183985614347,
           4.613977441845392
          ],
          "vectorType": "sparse"
         },
         {
          "indices": [
           9,
           16,
           18,
           43,
           83,
           105,
           132,
           156
          ],
          "length": 8485,
          "values": [
           3.0338099117114044,
           7.03715085761506,
           3.2594317790400815,
           3.6058791607181138,
           3.935358361848356,
           4.1831945257529375,
           4.446183985614347,
           4.613977441845392
          ],
          "vectorType": "sparse"
         },
         1,
         {
          "length": 3,
          "values": [
           -13.858940063528273,
           17.117931068420994,
           -3.258991004892722
          ],
          "vectorType": "dense"
         },
         {
          "length": 3,
          "values": [
           3.52302560946477e-14,
           0.9999999985860761,
           1.4138885737591142e-09
          ],
          "vectorType": "dense"
         },
         1
        ],
        [
         "there are many innovations and surprises in the future project dxgm metaverse universe you can partic",
         "positive",
         0.25,
         [
          "there",
          "are",
          "many",
          "innovations",
          "and",
          "surprises",
          "in",
          "the",
          "future",
          "project",
          "dxgm",
          "metaverse",
          "universe",
          "you",
          "can",
          "partic"
         ],
         [
          "many",
          "innovations",
          "surprises",
          "future",
          "project",
          "dxgm",
          "metaverse",
          "universe",
          "partic"
         ],
         {
          "indices": [
           43,
           47,
           111,
           126,
           140,
           141,
           306,
           703,
           2547
          ],
          "length": 8485,
          "values": [
           1,
           1,
           1,
           1,
           1,
           1,
           1,
           1,
           1
          ],
          "vectorType": "sparse"
         },
         {
          "indices": [
           43,
           47,
           111,
           126,
           140,
           141,
           306,
           703,
           2547
          ],
          "length": 8485,
          "values": [
           3.6058791607181138,
           3.736907423124518,
           4.302541283385503,
           4.422086434035286,
           4.804021044733257,
           4.5047781498804,
           5.215317073152214,
           6.167325887628449,
           0
          ],
          "vectorType": "sparse"
         },
         {
          "indices": [
           43,
           47,
           111,
           126,
           140,
           141,
           306,
           703
          ],
          "length": 8485,
          "values": [
           3.6058791607181138,
           3.736907423124518,
           4.302541283385503,
           4.422086434035286,
           4.804021044733257,
           4.5047781498804,
           5.215317073152214,
           6.167325887628449
          ],
          "vectorType": "sparse"
         },
         1,
         {
          "length": 3,
          "values": [
           -12.827131833325156,
           19.138761308105273,
           -6.311629474780116
          ],
          "vectorType": "dense"
         },
         {
          "length": 3,
          "values": [
           1.3103550885926769e-14,
           0.9999999999911351,
           8.851884135562573e-12
          ],
          "vectorType": "dense"
         },
         1
        ],
        [
         "gplex with blockchain technology in the gaming world with the unique metaverse world waiting to be",
         "positive",
         0.375,
         [
          "gplex",
          "with",
          "blockchain",
          "technology",
          "in",
          "the",
          "gaming",
          "world",
          "with",
          "the",
          "unique",
          "metaverse",
          "world",
          "waiting",
          "to",
          "be"
         ],
         [
          "gplex",
          "blockchain",
          "technology",
          "gaming",
          "world",
          "unique",
          "metaverse",
          "world",
          "waiting"
         ],
         {
          "indices": [
           9,
           16,
           18,
           43,
           83,
           105,
           132,
           156
          ],
          "length": 8485,
          "values": [
           1,
           2,
           1,
           1,
           1,
           1,
           1,
           1
          ],
          "vectorType": "sparse"
         },
         {
          "indices": [
           9,
           16,
           18,
           43,
           83,
           105,
           132,
           156
          ],
          "length": 8485,
          "values": [
           3.0338099117114044,
           7.03715085761506,
           3.2594317790400815,
           3.6058791607181138,
           3.935358361848356,
           4.1831945257529375,
           4.446183985614347,
           4.613977441845392
          ],
          "vectorType": "sparse"
         },
         {
          "indices": [
           9,
           16,
           18,
           43,
           83,
           105,
           132,
           156
          ],
          "length": 8485,
          "values": [
           3.0338099117114044,
           7.03715085761506,
           3.2594317790400815,
           3.6058791607181138,
           3.935358361848356,
           4.1831945257529375,
           4.446183985614347,
           4.613977441845392
          ],
          "vectorType": "sparse"
         },
         1,
         {
          "length": 3,
          "values": [
           -13.858940063528273,
           17.117931068420994,
           -3.258991004892722
          ],
          "vectorType": "dense"
         },
         {
          "length": 3,
          "values": [
           3.52302560946477e-14,
           0.9999999985860761,
           1.4138885737591142e-09
          ],
          "vectorType": "dense"
         },
         1
        ],
        [
         "there are many innovations and surprises in the future project dxgm metaverse universe you can partic",
         "positive",
         0.25,
         [
          "there",
          "are",
          "many",
          "innovations",
          "and",
          "surprises",
          "in",
          "the",
          "future",
          "project",
          "dxgm",
          "metaverse",
          "universe",
          "you",
          "can",
          "partic"
         ],
         [
          "many",
          "innovations",
          "surprises",
          "future",
          "project",
          "dxgm",
          "metaverse",
          "universe",
          "partic"
         ],
         {
          "indices": [
           43,
           47,
           111,
           126,
           140,
           141,
           306,
           703,
           2547
          ],
          "length": 8485,
          "values": [
           1,
           1,
           1,
           1,
           1,
           1,
           1,
           1,
           1
          ],
          "vectorType": "sparse"
         },
         {
          "indices": [
           43,
           47,
           111,
           126,
           140,
           141,
           306,
           703,
           2547
          ],
          "length": 8485,
          "values": [
           3.6058791607181138,
           3.736907423124518,
           4.302541283385503,
           4.422086434035286,
           4.804021044733257,
           4.5047781498804,
           5.215317073152214,
           6.167325887628449,
           0
          ],
          "vectorType": "sparse"
         },
         {
          "indices": [
           43,
           47,
           111,
           126,
           140,
           141,
           306,
           703
          ],
          "length": 8485,
          "values": [
           3.6058791607181138,
           3.736907423124518,
           4.302541283385503,
           4.422086434035286,
           4.804021044733257,
           4.5047781498804,
           5.215317073152214,
           6.167325887628449
          ],
          "vectorType": "sparse"
         },
         1,
         {
          "length": 3,
          "values": [
           -12.827131833325156,
           19.138761308105273,
           -6.311629474780116
          ],
          "vectorType": "dense"
         },
         {
          "length": 3,
          "values": [
           1.3103550885926769e-14,
           0.9999999999911351,
           8.851884135562573e-12
          ],
          "vectorType": "dense"
         },
         1
        ],
        [
         "gplex with blockchain technology in the gaming world with the unique metaverse world waiting to be d",
         "positive",
         0.375,
         [
          "gplex",
          "with",
          "blockchain",
          "technology",
          "in",
          "the",
          "gaming",
          "world",
          "with",
          "the",
          "unique",
          "metaverse",
          "world",
          "waiting",
          "to",
          "be",
          "d"
         ],
         [
          "gplex",
          "blockchain",
          "technology",
          "gaming",
          "world",
          "unique",
          "metaverse",
          "world",
          "waiting",
          "d"
         ],
         {
          "indices": [
           9,
           16,
           18,
           43,
           83,
           105,
           132,
           150,
           156
          ],
          "length": 8485,
          "values": [
           1,
           2,
           1,
           1,
           1,
           1,
           1,
           1,
           1
          ],
          "vectorType": "sparse"
         },
         {
          "indices": [
           9,
           16,
           18,
           43,
           83,
           105,
           132,
           150,
           156
          ],
          "length": 8485,
          "values": [
           3.0338099117114044,
           7.03715085761506,
           3.2594317790400815,
           3.6058791607181138,
           3.935358361848356,
           4.1831945257529375,
           4.446183985614347,
           4.7697319712546244,
           4.613977441845392
          ],
          "vectorType": "sparse"
         },
         {
          "indices": [
           9,
           16,
           18,
           43,
           83,
           105,
           132,
           150,
           156
          ],
          "length": 8485,
          "values": [
           3.0338099117114044,
           7.03715085761506,
           3.2594317790400815,
           3.6058791607181138,
           3.935358361848356,
           4.1831945257529375,
           4.446183985614347,
           4.7697319712546244,
           4.613977441845392
          ],
          "vectorType": "sparse"
         },
         1,
         {
          "length": 3,
          "values": [
           -14.466180561266349,
           16.458606155357113,
           -1.9924255940907654
          ],
          "vectorType": "dense"
         },
         {
          "length": 3,
          "values": [
           3.711382970888799e-14,
           0.9999999902989135,
           9.701049521968727e-09
          ],
          "vectorType": "dense"
         },
         1
        ],
        [
         "gplex with blockchain technology in the gaming world with the unique metaverse world waiting to",
         "positive",
         0.375,
         [
          "gplex",
          "with",
          "blockchain",
          "technology",
          "in",
          "the",
          "gaming",
          "world",
          "with",
          "the",
          "unique",
          "metaverse",
          "world",
          "waiting",
          "to"
         ],
         [
          "gplex",
          "blockchain",
          "technology",
          "gaming",
          "world",
          "unique",
          "metaverse",
          "world",
          "waiting"
         ],
         {
          "indices": [
           9,
           16,
           18,
           43,
           83,
           105,
           132,
           156
          ],
          "length": 8485,
          "values": [
           1,
           2,
           1,
           1,
           1,
           1,
           1,
           1
          ],
          "vectorType": "sparse"
         },
         {
          "indices": [
           9,
           16,
           18,
           43,
           83,
           105,
           132,
           156
          ],
          "length": 8485,
          "values": [
           3.0338099117114044,
           7.03715085761506,
           3.2594317790400815,
           3.6058791607181138,
           3.935358361848356,
           4.1831945257529375,
           4.446183985614347,
           4.613977441845392
          ],
          "vectorType": "sparse"
         },
         {
          "indices": [
           9,
           16,
           18,
           43,
           83,
           105,
           132,
           156
          ],
          "length": 8485,
          "values": [
           3.0338099117114044,
           7.03715085761506,
           3.2594317790400815,
           3.6058791607181138,
           3.935358361848356,
           4.1831945257529375,
           4.446183985614347,
           4.613977441845392
          ],
          "vectorType": "sparse"
         },
         1,
         {
          "length": 3,
          "values": [
           -13.858940063528273,
           17.117931068420994,
           -3.258991004892722
          ],
          "vectorType": "dense"
         },
         {
          "length": 3,
          "values": [
           3.52302560946477e-14,
           0.9999999985860761,
           1.4138885737591142e-09
          ],
          "vectorType": "dense"
         },
         1
        ],
        [
         "gplex with blockchain technology in the gaming world with the unique metaverse world waiting to",
         "positive",
         0.375,
         [
          "gplex",
          "with",
          "blockchain",
          "technology",
          "in",
          "the",
          "gaming",
          "world",
          "with",
          "the",
          "unique",
          "metaverse",
          "world",
          "waiting",
          "to"
         ],
         [
          "gplex",
          "blockchain",
          "technology",
          "gaming",
          "world",
          "unique",
          "metaverse",
          "world",
          "waiting"
         ],
         {
          "indices": [
           9,
           16,
           18,
           43,
           83,
           105,
           132,
           156
          ],
          "length": 8485,
          "values": [
           1,
           2,
           1,
           1,
           1,
           1,
           1,
           1
          ],
          "vectorType": "sparse"
         },
         {
          "indices": [
           9,
           16,
           18,
           43,
           83,
           105,
           132,
           156
          ],
          "length": 8485,
          "values": [
           3.0338099117114044,
           7.03715085761506,
           3.2594317790400815,
           3.6058791607181138,
           3.935358361848356,
           4.1831945257529375,
           4.446183985614347,
           4.613977441845392
          ],
          "vectorType": "sparse"
         },
         {
          "indices": [
           9,
           16,
           18,
           43,
           83,
           105,
           132,
           156
          ],
          "length": 8485,
          "values": [
           3.0338099117114044,
           7.03715085761506,
           3.2594317790400815,
           3.6058791607181138,
           3.935358361848356,
           4.1831945257529375,
           4.446183985614347,
           4.613977441845392
          ],
          "vectorType": "sparse"
         },
         1,
         {
          "length": 3,
          "values": [
           -13.858940063528273,
           17.117931068420994,
           -3.258991004892722
          ],
          "vectorType": "dense"
         },
         {
          "length": 3,
          "values": [
           3.52302560946477e-14,
           0.9999999985860761,
           1.4138885737591142e-09
          ],
          "vectorType": "dense"
         },
         1
        ],
        [
         "there are many innovations and surprises in the future project dxgm metaverse universe you can part",
         "positive",
         0.25,
         [
          "there",
          "are",
          "many",
          "innovations",
          "and",
          "surprises",
          "in",
          "the",
          "future",
          "project",
          "dxgm",
          "metaverse",
          "universe",
          "you",
          "can",
          "part"
         ],
         [
          "many",
          "innovations",
          "surprises",
          "future",
          "project",
          "dxgm",
          "metaverse",
          "universe",
          "part"
         ],
         {
          "indices": [
           43,
           47,
           111,
           126,
           140,
           141,
           151,
           306,
           703
          ],
          "length": 8485,
          "values": [
           1,
           1,
           1,
           1,
           1,
           1,
           1,
           1,
           1
          ],
          "vectorType": "sparse"
         },
         {
          "indices": [
           43,
           47,
           111,
           126,
           140,
           141,
           151,
           306,
           703
          ],
          "length": 8485,
          "values": [
           3.6058791607181138,
           3.736907423124518,
           4.302541283385503,
           4.422086434035286,
           4.804021044733257,
           4.5047781498804,
           4.673400862316193,
           5.215317073152214,
           6.167325887628449
          ],
          "vectorType": "sparse"
         },
         {
          "indices": [
           43,
           47,
           111,
           126,
           140,
           141,
           151,
           306,
           703
          ],
          "length": 8485,
          "values": [
           3.6058791607181138,
           3.736907423124518,
           4.302541283385503,
           4.422086434035286,
           4.804021044733257,
           4.5047781498804,
           4.673400862316193,
           5.215317073152214,
           6.167325887628449
          ],
          "vectorType": "sparse"
         },
         1,
         {
          "length": 3,
          "values": [
           -15.380186271680214,
           21.54660421111065,
           -6.166417939430435
          ],
          "vectorType": "dense"
         },
         {
          "length": 3,
          "values": [
           9.181183318356128e-17,
           0.9999999999990787,
           9.212710055364739e-13
          ],
          "vectorType": "dense"
         },
         1
        ],
        [
         "the vf phoenix variable fighter was an prototype for the vf valkyrie it served in as a front line fighter",
         "neutral",
         0,
         [
          "the",
          "vf",
          "phoenix",
          "variable",
          "fighter",
          "was",
          "an",
          "prototype",
          "for",
          "the",
          "vf",
          "valkyrie",
          "it",
          "served",
          "in",
          "as",
          "a",
          "front",
          "line",
          "fighter"
         ],
         [
          "vf",
          "phoenix",
          "variable",
          "fighter",
          "prototype",
          "vf",
          "valkyrie",
          "served",
          "front",
          "line",
          "fighter"
         ],
         {
          "indices": [
           98,
           1428,
           2111,
           2154,
           2610,
           3265,
           3277,
           4182,
           4272
          ],
          "length": 8485,
          "values": [
           2,
           1,
           1,
           1,
           2,
           1,
           1,
           1,
           1
          ],
          "vectorType": "sparse"
         },
         {
          "indices": [
           98,
           1428,
           2111,
           2154,
           2610,
           3265,
           3277,
           4182,
           4272
          ],
          "length": 8485,
          "values": [
           8.187164734126501,
           6.860473068188393,
           7.312458191931451,
           7.312458191931451,
           0,
           0,
           0,
           0,
           0
          ],
          "vectorType": "sparse"
         },
         {
          "indices": [
           98,
           1428,
           2111,
           2154
          ],
          "length": 8485,
          "values": [
           8.187164734126501,
           6.860473068188393,
           7.312458191931451,
           7.312458191931451
          ],
          "vectorType": "sparse"
         },
         2,
         {
          "length": 3,
          "values": [
           8.446717625389514,
           -26.241603544538044,
           17.794885919148527
          ],
          "vectorType": "dense"
         },
         {
          "length": 3,
          "values": [
           8.711727009536473e-05,
           7.501667094655749e-20,
           0.9999128827299048
          ],
          "vectorType": "dense"
         },
         2
        ]
       ],
       "datasetInfos": [],
       "dbfsResultPath": null,
       "isJsonSchema": true,
       "metadata": {},
       "overflow": false,
       "plotOptions": {
        "customPlotOptions": {},
        "displayType": "table",
        "pivotAggregation": null,
        "pivotColumns": null,
        "xColumns": null,
        "yColumns": null
       },
       "removedWidgets": [],
       "schema": [
        {
         "metadata": "{}",
         "name": "tweet",
         "type": "\"string\""
        },
        {
         "metadata": "{}",
         "name": "sentiment",
         "type": "\"string\""
        },
        {
         "metadata": "{}",
         "name": "polarity",
         "type": "\"float\""
        },
        {
         "metadata": "{}",
         "name": "tokens",
         "type": "{\"type\":\"array\",\"elementType\":\"string\",\"containsNull\":true}"
        },
        {
         "metadata": "{}",
         "name": "filtered",
         "type": "{\"type\":\"array\",\"elementType\":\"string\",\"containsNull\":true}"
        },
        {
         "metadata": "{\"ml_attr\":{\"attrs\":{},\"num_attrs\":8485}}",
         "name": "cv",
         "type": "{\"type\":\"udt\",\"class\":\"org.apache.spark.ml.linalg.VectorUDT\",\"pyClass\":\"pyspark.ml.linalg.VectorUDT\",\"sqlType\":{\"type\":\"struct\",\"fields\":[{\"name\":\"type\",\"type\":\"byte\",\"nullable\":false,\"metadata\":{}},{\"name\":\"size\",\"type\":\"integer\",\"nullable\":true,\"metadata\":{}},{\"name\":\"indices\",\"type\":{\"type\":\"array\",\"elementType\":\"integer\",\"containsNull\":false},\"nullable\":true,\"metadata\":{}},{\"name\":\"values\",\"type\":{\"type\":\"array\",\"elementType\":\"double\",\"containsNull\":false},\"nullable\":true,\"metadata\":{}}]}}"
        },
        {
         "metadata": "{\"ml_attr\":{\"num_attrs\":8485}}",
         "name": "1gram_idf",
         "type": "{\"type\":\"udt\",\"class\":\"org.apache.spark.ml.linalg.VectorUDT\",\"pyClass\":\"pyspark.ml.linalg.VectorUDT\",\"sqlType\":{\"type\":\"struct\",\"fields\":[{\"name\":\"type\",\"type\":\"byte\",\"nullable\":false,\"metadata\":{}},{\"name\":\"size\",\"type\":\"integer\",\"nullable\":true,\"metadata\":{}},{\"name\":\"indices\",\"type\":{\"type\":\"array\",\"elementType\":\"integer\",\"containsNull\":false},\"nullable\":true,\"metadata\":{}},{\"name\":\"values\",\"type\":{\"type\":\"array\",\"elementType\":\"double\",\"containsNull\":false},\"nullable\":true,\"metadata\":{}}]}}"
        },
        {
         "metadata": "{\"ml_attr\":{\"attrs\":{\"numeric\":[{\"idx\":0,\"name\":\"1gram_idf_0\"},{\"idx\":1,\"name\":\"1gram_idf_1\"},{\"idx\":2,\"name\":\"1gram_idf_2\"},{\"idx\":3,\"name\":\"1gram_idf_3\"},{\"idx\":4,\"name\":\"1gram_idf_4\"},{\"idx\":5,\"name\":\"1gram_idf_5\"},{\"idx\":6,\"name\":\"1gram_idf_6\"},{\"idx\":7,\"name\":\"1gram_idf_7\"},{\"idx\":8,\"name\":\"1gram_idf_8\"},{\"idx\":9,\"name\":\"1gram_idf_9\"},{\"idx\":10,\"name\":\"1gram_idf_10\"},{\"idx\":11,\"name\":\"1gram_idf_11\"},{\"idx\":12,\"name\":\"1gram_idf_12\"},{\"idx\":13,\"name\":\"1gram_idf_13\"},{\"idx\":14,\"name\":\"1gram_idf_14\"},{\"idx\":15,\"name\":\"1gram_idf_15\"},{\"idx\":16,\"name\":\"1gram_idf_16\"},{\"idx\":17,\"name\":\"1gram_idf_17\"},{\"idx\":18,\"name\":\"1gram_idf_18\"},{\"idx\":19,\"name\":\"1gram_idf_19\"},{\"idx\":20,\"name\":\"1gram_idf_20\"},{\"idx\":21,\"name\":\"1gram_idf_21\"},{\"idx\":22,\"name\":\"1gram_idf_22\"},{\"idx\":23,\"name\":\"1gram_idf_23\"},{\"idx\":24,\"name\":\"1gram_idf_24\"},{\"idx\":25,\"name\":\"1gram_idf_25\"},{\"idx\":26,\"name\":\"1gram_idf_26\"},{\"idx\":27,\"name\":\"1gram_idf_27\"},{\"idx\":28,\"name\":\"1gram_idf_28\"},{\"idx\":29,\"name\":\"1gram_idf_29\"},{\"idx\":30,\"name\":\"1gram_idf_30\"},{\"idx\":31,\"name\":\"1gram_idf_31\"},{\"idx\":32,\"name\":\"1gram_idf_32\"},{\"idx\":33,\"name\":\"1gram_idf_33\"},{\"idx\":34,\"name\":\"1gram_idf_34\"},{\"idx\":35,\"name\":\"1gram_idf_35\"},{\"idx\":36,\"name\":\"1gram_idf_36\"},{\"idx\":37,\"name\":\"1gram_idf_37\"},{\"idx\":38,\"name\":\"1gram_idf_38\"},{\"idx\":39,\"name\":\"1gram_idf_39\"},{\"idx\":40,\"name\":\"1gram_idf_40\"},{\"idx\":41,\"name\":\"1gram_idf_41\"},{\"idx\":42,\"name\":\"1gram_idf_42\"},{\"idx\":43,\"name\":\"1gram_idf_43\"},{\"idx\":44,\"name\":\"1gram_idf_44\"},{\"idx\":45,\"name\":\"1gram_idf_45\"},{\"idx\":46,\"name\":\"1gram_idf_46\"},{\"idx\":47,\"name\":\"1gram_idf_47\"},{\"idx\":48,\"name\":\"1gram_idf_48\"},{\"idx\":49,\"name\":\"1gram_idf_49\"},{\"idx\":50,\"name\":\"1gram_idf_50\"},{\"idx\":51,\"name\":\"1gram_idf_51\"},{\"idx\":52,\"name\":\"1gram_idf_52\"},{\"idx\":53,\"name\":\"1gram_idf_53\"},{\"idx\":54,\"name\":\"1gram_idf_54\"},{\"idx\":55,\"name\":\"1gram_idf_55\"},{\"idx\":56,\"name\":\"1gram_idf_56\"},{\"idx\":57,\"name\":\"1gram_idf_57\"},{\"idx\":58,\"name\":\"1gram_idf_58\"},{\"idx\":59,\"name\":\"1gram_idf_59\"},{\"idx\":60,\"name\":\"1gram_idf_60\"},{\"idx\":61,\"name\":\"1gram_idf_61\"},{\"idx\":62,\"name\":\"1gram_idf_62\"},{\"idx\":63,\"name\":\"1gram_idf_63\"},{\"idx\":64,\"name\":\"1gram_idf_64\"},{\"idx\":65,\"name\":\"1gram_idf_65\"},{\"idx\":66,\"name\":\"1gram_idf_66\"},{\"idx\":67,\"name\":\"1gram_idf_67\"},{\"idx\":68,\"name\":\"1gram_idf_68\"},{\"idx\":69,\"name\":\"1gram_idf_69\"},{\"idx\":70,\"name\":\"1gram_idf_70\"},{\"idx\":71,\"name\":\"1gram_idf_71\"},{\"idx\":72,\"name\":\"1gram_idf_72\"},{\"idx\":73,\"name\":\"1gram_idf_73\"},{\"idx\":74,\"name\":\"1gram_idf_74\"},{\"idx\":75,\"name\":\"1gram_idf_75\"},{\"idx\":76,\"name\":\"1gram_idf_76\"},{\"idx\":77,\"name\":\"1gram_idf_77\"},{\"idx\":78,\"name\":\"1gram_idf_78\"},{\"idx\":79,\"name\":\"1gram_idf_79\"},{\"idx\":80,\"name\":\"1gram_idf_80\"},{\"idx\":81,\"name\":\"1gram_idf_81\"},{\"idx\":82,\"name\":\"1gram_idf_82\"},{\"idx\":83,\"name\":\"1gram_idf_83\"},{\"idx\":84,\"name\":\"1gram_idf_84\"},{\"idx\":85,\"name\":\"1gram_idf_85\"},{\"idx\":86,\"name\":\"1gram_idf_86\"},{\"idx\":87,\"name\":\"1gram_idf_87\"},{\"idx\":88,\"name\":\"1gram_idf_88\"},{\"idx\":89,\"name\":\"1gram_idf_89\"},{\"idx\":90,\"name\":\"1gram_idf_90\"},{\"idx\":91,\"name\":\"1gram_idf_91\"},{\"idx\":92,\"name\":\"1gram_idf_92\"},{\"idx\":93,\"name\":\"1gram_idf_93\"},{\"idx\":94,\"name\":\"1gram_idf_94\"},{\"idx\":95,\"name\":\"1gram_idf_95\"},{\"idx\":96,\"name\":\"1gram_idf_96\"},{\"idx\":97,\"name\":\"1gram_idf_97\"},{\"idx\":98,\"name\":\"1gram_idf_98\"},{\"idx\":99,\"name\":\"1gram_idf_99\"},{\"idx\":100,\"name\":\"1gram_idf_100\"},{\"idx\":101,\"name\":\"1gram_idf_101\"},{\"idx\":102,\"name\":\"1gram_idf_102\"},{\"idx\":103,\"name\":\"1gram_idf_103\"},{\"idx\":104,\"name\":\"1gram_idf_104\"},{\"idx\":105,\"name\":\"1gram_idf_105\"},{\"idx\":106,\"name\":\"1gram_idf_106\"},{\"idx\":107,\"name\":\"1gram_idf_107\"},{\"idx\":108,\"name\":\"1gram_idf_108\"},{\"idx\":109,\"name\":\"1gram_idf_109\"},{\"idx\":110,\"name\":\"1gram_idf_110\"},{\"idx\":111,\"name\":\"1gram_idf_111\"},{\"idx\":112,\"name\":\"1gram_idf_112\"},{\"idx\":113,\"name\":\"1gram_idf_113\"},{\"idx\":114,\"name\":\"1gram_idf_114\"},{\"idx\":115,\"name\":\"1gram_idf_115\"},{\"idx\":116,\"name\":\"1gram_idf_116\"},{\"idx\":117,\"name\":\"1gram_idf_117\"},{\"idx\":118,\"name\":\"1gram_idf_118\"},{\"idx\":119,\"name\":\"1gram_idf_119\"},{\"idx\":120,\"name\":\"1gram_idf_120\"},{\"idx\":121,\"name\":\"1gram_idf_121\"},{\"idx\":122,\"name\":\"1gram_idf_122\"},{\"idx\":123,\"name\":\"1gram_idf_123\"},{\"idx\":124,\"name\":\"1gram_idf_124\"},{\"idx\":125,\"name\":\"1gram_idf_125\"},{\"idx\":126,\"name\":\"1gram_idf_126\"},{\"idx\":127,\"name\":\"1gram_idf_127\"},{\"idx\":128,\"name\":\"1gram_idf_128\"},{\"idx\":129,\"name\":\"1gram_idf_129\"},{\"idx\":130,\"name\":\"1gram_idf_130\"},{\"idx\":131,\"name\":\"1gram_idf_131\"},{\"idx\":132,\"name\":\"1gram_idf_132\"},{\"idx\":133,\"name\":\"1gram_idf_133\"},{\"idx\":134,\"name\":\"1gram_idf_134\"},{\"idx\":135,\"name\":\"1gram_idf_135\"},{\"idx\":136,\"name\":\"1gram_idf_136\"},{\"idx\":137,\"name\":\"1gram_idf_137\"},{\"idx\":138,\"name\":\"1gram_idf_138\"},{\"idx\":139,\"name\":\"1gram_idf_139\"},{\"idx\":140,\"name\":\"1gram_idf_140\"},{\"idx\":141,\"name\":\"1gram_idf_141\"},{\"idx\":142,\"name\":\"1gram_idf_142\"},{\"idx\":143,\"name\":\"1gram_idf_143\"},{\"idx\":144,\"name\":\"1gram_idf_144\"},{\"idx\":145,\"name\":\"1gram_idf_145\"},{\"idx\":146,\"name\":\"1gram_idf_146\"},{\"idx\":147,\"name\":\"1gram_idf_147\"},{\"idx\":148,\"name\":\"1gram_idf_148\"},{\"idx\":149,\"name\":\"1gram_idf_149\"},{\"idx\":150,\"name\":\"1gram_idf_150\"},{\"idx\":151,\"name\":\"1gram_idf_151\"},{\"idx\":152,\"name\":\"1gram_idf_152\"},{\"idx\":153,\"name\":\"1gram_idf_153\"},{\"idx\":154,\"name\":\"1gram_idf_154\"},{\"idx\":155,\"name\":\"1gram_idf_155\"},{\"idx\":156,\"name\":\"1gram_idf_156\"},{\"idx\":157,\"name\":\"1gram_idf_157\"},{\"idx\":158,\"name\":\"1gram_idf_158\"},{\"idx\":159,\"name\":\"1gram_idf_159\"},{\"idx\":160,\"name\":\"1gram_idf_160\"},{\"idx\":161,\"name\":\"1gram_idf_161\"},{\"idx\":162,\"name\":\"1gram_idf_162\"},{\"idx\":163,\"name\":\"1gram_idf_163\"},{\"idx\":164,\"name\":\"1gram_idf_164\"},{\"idx\":165,\"name\":\"1gram_idf_165\"},{\"idx\":166,\"name\":\"1gram_idf_166\"},{\"idx\":167,\"name\":\"1gram_idf_167\"},{\"idx\":168,\"name\":\"1gram_idf_168\"},{\"idx\":169,\"name\":\"1gram_idf_169\"},{\"idx\":170,\"name\":\"1gram_idf_170\"},{\"idx\":171,\"name\":\"1gram_idf_171\"},{\"idx\":172,\"name\":\"1gram_idf_172\"},{\"idx\":173,\"name\":\"1gram_idf_173\"},{\"idx\":174,\"name\":\"1gram_idf_174\"},{\"idx\":175,\"name\":\"1gram_idf_175\"},{\"idx\":176,\"name\":\"1gram_idf_176\"},{\"idx\":177,\"name\":\"1gram_idf_177\"},{\"idx\":178,\"name\":\"1gram_idf_178\"},{\"idx\":179,\"name\":\"1gram_idf_179\"},{\"idx\":180,\"name\":\"1gram_idf_180\"},{\"idx\":181,\"name\":\"1gram_idf_181\"},{\"idx\":182,\"name\":\"1gram_idf_182\"},{\"idx\":183,\"name\":\"1gram_idf_183\"},{\"idx\":184,\"name\":\"1gram_idf_184\"},{\"idx\":185,\"name\":\"1gram_idf_185\"},{\"idx\":186,\"name\":\"1gram_idf_186\"},{\"idx\":187,\"name\":\"1gram_idf_187\"},{\"idx\":188,\"name\":\"1gram_idf_188\"},{\"idx\":189,\"name\":\"1gram_idf_189\"},{\"idx\":190,\"name\":\"1gram_idf_190\"},{\"idx\":191,\"name\":\"1gram_idf_191\"},{\"idx\":192,\"name\":\"1gram_idf_192\"},{\"idx\":193,\"name\":\"1gram_idf_193\"},{\"idx\":194,\"name\":\"1gram_idf_194\"},{\"idx\":195,\"name\":\"1gram_idf_195\"},{\"idx\":196,\"name\":\"1gram_idf_196\"},{\"idx\":197,\"name\":\"1gram_idf_197\"},{\"idx\":198,\"name\":\"1gram_idf_198\"},{\"idx\":199,\"name\":\"1gram_idf_199\"},{\"idx\":200,\"name\":\"1gram_idf_200\"},{\"idx\":201,\"name\":\"1gram_idf_201\"},{\"idx\":202,\"name\":\"1gram_idf_202\"},{\"idx\":203,\"name\":\"1gram_idf_203\"},{\"idx\":204,\"name\":\"1gram_idf_204\"},{\"idx\":205,\"name\":\"1gram_idf_205\"},{\"idx\":206,\"name\":\"1gram_idf_206\"},{\"idx\":207,\"name\":\"1gram_idf_207\"},{\"idx\":208,\"name\":\"1gram_idf_208\"},{\"idx\":209,\"name\":\"1gram_idf_209\"},{\"idx\":210,\"name\":\"1gram_idf_210\"},{\"idx\":211,\"name\":\"1gram_idf_211\"},{\"idx\":212,\"name\":\"1gram_idf_212\"},{\"idx\":213,\"name\":\"1gram_idf_213\"},{\"idx\":214,\"name\":\"1gram_idf_214\"},{\"idx\":215,\"name\":\"1gram_idf_215\"},{\"idx\":216,\"name\":\"1gram_idf_216\"},{\"idx\":217,\"name\":\"1gram_idf_217\"},{\"idx\":218,\"name\":\"1gram_idf_218\"},{\"idx\":219,\"name\":\"1gram_idf_219\"},{\"idx\":220,\"name\":\"1gram_idf_220\"},{\"idx\":221,\"name\":\"1gram_idf_221\"},{\"idx\":222,\"name\":\"1gram_idf_222\"},{\"idx\":223,\"name\":\"1gram_idf_223\"},{\"idx\":224,\"name\":\"1gram_idf_224\"},{\"idx\":225,\"name\":\"1gram_idf_225\"},{\"idx\":226,\"name\":\"1gram_idf_226\"},{\"idx\":227,\"name\":\"1gram_idf_227\"},{\"idx\":228,\"name\":\"1gram_idf_228\"},{\"idx\":229,\"name\":\"1gram_idf_229\"},{\"idx\":230,\"name\":\"1gram_idf_230\"},{\"idx\":231,\"name\":\"1gram_idf_231\"},{\"idx\":232,\"name\":\"1gram_idf_232\"},{\"idx\":233,\"name\":\"1gram_idf_233\"},{\"idx\":234,\"name\":\"1gram_idf_234\"},{\"idx\":235,\"name\":\"1gram_idf_235\"},{\"idx\":236,\"name\":\"1gram_idf_236\"},{\"idx\":237,\"name\":\"1gram_idf_237\"},{\"idx\":238,\"name\":\"1gram_idf_238\"},{\"idx\":239,\"name\":\"1gram_idf_239\"},{\"idx\":240,\"name\":\"1gram_idf_240\"},{\"idx\":241,\"name\":\"1gram_idf_241\"},{\"idx\":242,\"name\":\"1gram_idf_242\"},{\"idx\":243,\"name\":\"1gram_idf_243\"},{\"idx\":244,\"name\":\"1gram_idf_244\"},{\"idx\":245,\"name\":\"1gram_idf_245\"},{\"idx\":246,\"name\":\"1gram_idf_246\"},{\"idx\":247,\"name\":\"1gram_idf_247\"},{\"idx\":248,\"name\":\"1gram_idf_248\"},{\"idx\":249,\"name\":\"1gram_idf_249\"},{\"idx\":250,\"name\":\"1gram_idf_250\"},{\"idx\":251,\"name\":\"1gram_idf_251\"},{\"idx\":252,\"name\":\"1gram_idf_252\"},{\"idx\":253,\"name\":\"1gram_idf_253\"},{\"idx\":254,\"name\":\"1gram_idf_254\"},{\"idx\":255,\"name\":\"1gram_idf_255\"},{\"idx\":256,\"name\":\"1gram_idf_256\"},{\"idx\":257,\"name\":\"1gram_idf_257\"},{\"idx\":258,\"name\":\"1gram_idf_258\"},{\"idx\":259,\"name\":\"1gram_idf_259\"},{\"idx\":260,\"name\":\"1gram_idf_260\"},{\"idx\":261,\"name\":\"1gram_idf_261\"},{\"idx\":262,\"name\":\"1gram_idf_262\"},{\"idx\":263,\"name\":\"1gram_idf_263\"},{\"idx\":264,\"name\":\"1gram_idf_264\"},{\"idx\":265,\"name\":\"1gram_idf_265\"},{\"idx\":266,\"name\":\"1gram_idf_266\"},{\"idx\":267,\"name\":\"1gram_idf_267\"},{\"idx\":268,\"name\":\"1gram_idf_268\"},{\"idx\":269,\"name\":\"1gram_idf_269\"},{\"idx\":270,\"name\":\"1gram_idf_270\"},{\"idx\":271,\"name\":\"1gram_idf_271\"},{\"idx\":272,\"name\":\"1gram_idf_272\"},{\"idx\":273,\"name\":\"1gram_idf_273\"},{\"idx\":274,\"name\":\"1gram_idf_274\"},{\"idx\":275,\"name\":\"1gram_idf_275\"},{\"idx\":276,\"name\":\"1gram_idf_276\"},{\"idx\":277,\"name\":\"1gram_idf_277\"},{\"idx\":278,\"name\":\"1gram_idf_278\"},{\"idx\":279,\"name\":\"1gram_idf_279\"},{\"idx\":280,\"name\":\"1gram_idf_280\"},{\"idx\":281,\"name\":\"1gram_idf_281\"},{\"idx\":282,\"name\":\"1gram_idf_282\"},{\"idx\":283,\"name\":\"1gram_idf_283\"},{\"idx\":284,\"name\":\"1gram_idf_284\"},{\"idx\":285,\"name\":\"1gram_idf_285\"},{\"idx\":286,\"name\":\"1gram_idf_286\"},{\"idx\":287,\"name\":\"1gram_idf_287\"},{\"idx\":288,\"name\":\"1gram_idf_288\"},{\"idx\":289,\"name\":\"1gram_idf_289\"},{\"idx\":290,\"name\":\"1gram_idf_290\"},{\"idx\":291,\"name\":\"1gram_idf_291\"},{\"idx\":292,\"name\":\"1gram_idf_292\"},{\"idx\":293,\"name\":\"1gram_idf_293\"},{\"idx\":294,\"name\":\"1gram_idf_294\"},{\"idx\":295,\"name\":\"1gram_idf_295\"},{\"idx\":296,\"name\":\"1gram_idf_296\"},{\"idx\":297,\"name\":\"1gram_idf_297\"},{\"idx\":298,\"name\":\"1gram_idf_298\"},{\"idx\":299,\"name\":\"1gram_idf_299\"},{\"idx\":300,\"name\":\"1gram_idf_300\"},{\"idx\":301,\"name\":\"1gram_idf_301\"},{\"idx\":302,\"name\":\"1gram_idf_302\"},{\"idx\":303,\"name\":\"1gram_idf_303\"},{\"idx\":304,\"name\":\"1gram_idf_304\"},{\"idx\":305,\"name\":\"1gram_idf_305\"},{\"idx\":306,\"name\":\"1gram_idf_306\"},{\"idx\":307,\"name\":\"1gram_idf_307\"},{\"idx\":308,\"name\":\"1gram_idf_308\"},{\"idx\":309,\"name\":\"1gram_idf_309\"},{\"idx\":310,\"name\":\"1gram_idf_310\"},{\"idx\":311,\"name\":\"1gram_idf_311\"},{\"idx\":312,\"name\":\"1gram_idf_312\"},{\"idx\":313,\"name\":\"1gram_idf_313\"},{\"idx\":314,\"name\":\"1gram_idf_314\"},{\"idx\":315,\"name\":\"1gram_idf_315\"},{\"idx\":316,\"name\":\"1gram_idf_316\"},{\"idx\":317,\"name\":\"1gram_idf_317\"},{\"idx\":318,\"name\":\"1gram_idf_318\"},{\"idx\":319,\"name\":\"1gram_idf_319\"},{\"idx\":320,\"name\":\"1gram_idf_320\"},{\"idx\":321,\"name\":\"1gram_idf_321\"},{\"idx\":322,\"name\":\"1gram_idf_322\"},{\"idx\":323,\"name\":\"1gram_idf_323\"},{\"idx\":324,\"name\":\"1gram_idf_324\"},{\"idx\":325,\"name\":\"1gram_idf_325\"},{\"idx\":326,\"name\":\"1gram_idf_326\"},{\"idx\":327,\"name\":\"1gram_idf_327\"},{\"idx\":328,\"name\":\"1gram_idf_328\"},{\"idx\":329,\"name\":\"1gram_idf_329\"},{\"idx\":330,\"name\":\"1gram_idf_330\"},{\"idx\":331,\"name\":\"1gram_idf_331\"},{\"idx\":332,\"name\":\"1gram_idf_332\"},{\"idx\":333,\"name\":\"1gram_idf_333\"},{\"idx\":334,\"name\":\"1gram_idf_334\"},{\"idx\":335,\"name\":\"1gram_idf_335\"},{\"idx\":336,\"name\":\"1gram_idf_336\"},{\"idx\":337,\"name\":\"1gram_idf_337\"},{\"idx\":338,\"name\":\"1gram_idf_338\"},{\"idx\":339,\"name\":\"1gram_idf_339\"},{\"idx\":340,\"name\":\"1gram_idf_340\"},{\"idx\":341,\"name\":\"1gram_idf_341\"},{\"idx\":342,\"name\":\"1gram_idf_342\"},{\"idx\":343,\"name\":\"1gram_idf_343\"},{\"idx\":344,\"name\":\"1gram_idf_344\"},{\"idx\":345,\"name\":\"1gram_idf_345\"},{\"idx\":346,\"name\":\"1gram_idf_346\"},{\"idx\":347,\"name\":\"1gram_idf_347\"},{\"idx\":348,\"name\":\"1gram_idf_348\"},{\"idx\":349,\"name\":\"1gram_idf_349\"},{\"idx\":350,\"name\":\"1gram_idf_350\"},{\"idx\":351,\"name\":\"1gram_idf_351\"},{\"idx\":352,\"name\":\"1gram_idf_352\"},{\"idx\":353,\"name\":\"1gram_idf_353\"},{\"idx\":354,\"name\":\"1gram_idf_354\"},{\"idx\":355,\"name\":\"1gram_idf_355\"},{\"idx\":356,\"name\":\"1gram_idf_356\"},{\"idx\":357,\"name\":\"1gram_idf_357\"},{\"idx\":358,\"name\":\"1gram_idf_358\"},{\"idx\":359,\"name\":\"1gram_idf_359\"},{\"idx\":360,\"name\":\"1gram_idf_360\"},{\"idx\":361,\"name\":\"1gram_idf_361\"},{\"idx\":362,\"name\":\"1gram_idf_362\"},{\"idx\":363,\"name\":\"1gram_idf_363\"},{\"idx\":364,\"name\":\"1gram_idf_364\"},{\"idx\":365,\"name\":\"1gram_idf_365\"},{\"idx\":366,\"name\":\"1gram_idf_366\"},{\"idx\":367,\"name\":\"1gram_idf_367\"},{\"idx\":368,\"name\":\"1gram_idf_368\"},{\"idx\":369,\"name\":\"1gram_idf_369\"},{\"idx\":370,\"name\":\"1gram_idf_370\"},{\"idx\":371,\"name\":\"1gram_idf_371\"},{\"idx\":372,\"name\":\"1gram_idf_372\"},{\"idx\":373,\"name\":\"1gram_idf_373\"},{\"idx\":374,\"name\":\"1gram_idf_374\"},{\"idx\":375,\"name\":\"1gram_idf_375\"},{\"idx\":376,\"name\":\"1gram_idf_376\"},{\"idx\":377,\"name\":\"1gram_idf_377\"},{\"idx\":378,\"name\":\"1gram_idf_378\"},{\"idx\":379,\"name\":\"1gram_idf_379\"},{\"idx\":380,\"name\":\"1gram_idf_380\"},{\"idx\":381,\"name\":\"1gram_idf_381\"},{\"idx\":382,\"name\":\"1gram_idf_382\"},{\"idx\":383,\"name\":\"1gram_idf_383\"},{\"idx\":384,\"name\":\"1gram_idf_384\"},{\"idx\":385,\"name\":\"1gram_idf_385\"},{\"idx\":386,\"name\":\"1gram_idf_386\"},{\"idx\":387,\"name\":\"1gram_idf_387\"},{\"idx\":388,\"name\":\"1gram_idf_388\"},{\"idx\":389,\"name\":\"1gram_idf_389\"},{\"idx\":390,\"name\":\"1gram_idf_390\"},{\"idx\":391,\"name\":\"1gram_idf_391\"},{\"idx\":392,\"name\":\"1gram_idf_392\"},{\"idx\":393,\"name\":\"1gram_idf_393\"},{\"idx\":394,\"name\":\"1gram_idf_394\"},{\"idx\":395,\"name\":\"1gram_idf_395\"},{\"idx\":396,\"name\":\"1gram_idf_396\"},{\"idx\":397,\"name\":\"1gram_idf_397\"},{\"idx\":398,\"name\":\"1gram_idf_398\"},{\"idx\":399,\"name\":\"1gram_idf_399\"},{\"idx\":400,\"name\":\"1gram_idf_400\"},{\"idx\":401,\"name\":\"1gram_idf_401\"},{\"idx\":402,\"name\":\"1gram_idf_402\"},{\"idx\":403,\"name\":\"1gram_idf_403\"},{\"idx\":404,\"name\":\"1gram_idf_404\"},{\"idx\":405,\"name\":\"1gram_idf_405\"},{\"idx\":406,\"name\":\"1gram_idf_406\"},{\"idx\":407,\"name\":\"1gram_idf_407\"},{\"idx\":408,\"name\":\"1gram_idf_408\"},{\"idx\":409,\"name\":\"1gram_idf_409\"},{\"idx\":410,\"name\":\"1gram_idf_410\"},{\"idx\":411,\"name\":\"1gram_idf_411\"},{\"idx\":412,\"name\":\"1gram_idf_412\"},{\"idx\":413,\"name\":\"1gram_idf_413\"},{\"idx\":414,\"name\":\"1gram_idf_414\"},{\"idx\":415,\"name\":\"1gram_idf_415\"},{\"idx\":416,\"name\":\"1gram_idf_416\"},{\"idx\":417,\"name\":\"1gram_idf_417\"},{\"idx\":418,\"name\":\"1gram_idf_418\"},{\"idx\":419,\"name\":\"1gram_idf_419\"},{\"idx\":420,\"name\":\"1gram_idf_420\"},{\"idx\":421,\"name\":\"1gram_idf_421\"},{\"idx\":422,\"name\":\"1gram_idf_422\"},{\"idx\":423,\"name\":\"1gram_idf_423\"},{\"idx\":424,\"name\":\"1gram_idf_424\"},{\"idx\":425,\"name\":\"1gram_idf_425\"},{\"idx\":426,\"name\":\"1gram_idf_426\"},{\"idx\":427,\"name\":\"1gram_idf_427\"},{\"idx\":428,\"name\":\"1gram_idf_428\"},{\"idx\":429,\"name\":\"1gram_idf_429\"},{\"idx\":430,\"name\":\"1gram_idf_430\"},{\"idx\":431,\"name\":\"1gram_idf_431\"},{\"idx\":432,\"name\":\"1gram_idf_432\"},{\"idx\":433,\"name\":\"1gram_idf_433\"},{\"idx\":434,\"name\":\"1gram_idf_434\"},{\"idx\":435,\"name\":\"1gram_idf_435\"},{\"idx\":436,\"name\":\"1gram_idf_436\"},{\"idx\":437,\"name\":\"1gram_idf_437\"},{\"idx\":438,\"name\":\"1gram_idf_438\"},{\"idx\":439,\"name\":\"1gram_idf_439\"},{\"idx\":440,\"name\":\"1gram_idf_440\"},{\"idx\":441,\"name\":\"1gram_idf_441\"},{\"idx\":442,\"name\":\"1gram_idf_442\"},{\"idx\":443,\"name\":\"1gram_idf_443\"},{\"idx\":444,\"name\":\"1gram_idf_444\"},{\"idx\":445,\"name\":\"1gram_idf_445\"},{\"idx\":446,\"name\":\"1gram_idf_446\"},{\"idx\":447,\"name\":\"1gram_idf_447\"},{\"idx\":448,\"name\":\"1gram_idf_448\"},{\"idx\":449,\"name\":\"1gram_idf_449\"},{\"idx\":450,\"name\":\"1gram_idf_450\"},{\"idx\":451,\"name\":\"1gram_idf_451\"},{\"idx\":452,\"name\":\"1gram_idf_452\"},{\"idx\":453,\"name\":\"1gram_idf_453\"},{\"idx\":454,\"name\":\"1gram_idf_454\"},{\"idx\":455,\"name\":\"1gram_idf_455\"},{\"idx\":456,\"name\":\"1gram_idf_456\"},{\"idx\":457,\"name\":\"1gram_idf_457\"},{\"idx\":458,\"name\":\"1gram_idf_458\"},{\"idx\":459,\"name\":\"1gram_idf_459\"},{\"idx\":460,\"name\":\"1gram_idf_460\"},{\"idx\":461,\"name\":\"1gram_idf_461\"},{\"idx\":462,\"name\":\"1gram_idf_462\"},{\"idx\":463,\"name\":\"1gram_idf_463\"},{\"idx\":464,\"name\":\"1gram_idf_464\"},{\"idx\":465,\"name\":\"1gram_idf_465\"},{\"idx\":466,\"name\":\"1gram_idf_466\"},{\"idx\":467,\"name\":\"1gram_idf_467\"},{\"idx\":468,\"name\":\"1gram_idf_468\"},{\"idx\":469,\"name\":\"1gram_idf_469\"},{\"idx\":470,\"name\":\"1gram_idf_470\"},{\"idx\":471,\"name\":\"1gram_idf_471\"},{\"idx\":472,\"name\":\"1gram_idf_472\"},{\"idx\":473,\"name\":\"1gram_idf_473\"},{\"idx\":474,\"name\":\"1gram_idf_474\"},{\"idx\":475,\"name\":\"1gram_idf_475\"},{\"idx\":476,\"name\":\"1gram_idf_476\"},{\"idx\":477,\"name\":\"1gram_idf_477\"},{\"idx\":478,\"name\":\"1gram_idf_478\"},{\"idx\":479,\"name\":\"1gram_idf_479\"},{\"idx\":480,\"name\":\"1gram_idf_480\"},{\"idx\":481,\"name\":\"1gram_idf_481\"},{\"idx\":482,\"name\":\"1gram_idf_482\"},{\"idx\":483,\"name\":\"1gram_idf_483\"},{\"idx\":484,\"name\":\"1gram_idf_484\"},{\"idx\":485,\"name\":\"1gram_idf_485\"},{\"idx\":486,\"name\":\"1gram_idf_486\"},{\"idx\":487,\"name\":\"1gram_idf_487\"},{\"idx\":488,\"name\":\"1gram_idf_488\"},{\"idx\":489,\"name\":\"1gram_idf_489\"},{\"idx\":490,\"name\":\"1gram_idf_490\"},{\"idx\":491,\"name\":\"1gram_idf_491\"},{\"idx\":492,\"name\":\"1gram_idf_492\"},{\"idx\":493,\"name\":\"1gram_idf_493\"},{\"idx\":494,\"name\":\"1gram_idf_494\"},{\"idx\":495,\"name\":\"1gram_idf_495\"},{\"idx\":496,\"name\":\"1gram_idf_496\"},{\"idx\":497,\"name\":\"1gram_idf_497\"},{\"idx\":498,\"name\":\"1gram_idf_498\"},{\"idx\":499,\"name\":\"1gram_idf_499\"},{\"idx\":500,\"name\":\"1gram_idf_500\"},{\"idx\":501,\"name\":\"1gram_idf_501\"},{\"idx\":502,\"name\":\"1gram_idf_502\"},{\"idx\":503,\"name\":\"1gram_idf_503\"},{\"idx\":504,\"name\":\"1gram_idf_504\"},{\"idx\":505,\"name\":\"1gram_idf_505\"},{\"idx\":506,\"name\":\"1gram_idf_506\"},{\"idx\":507,\"name\":\"1gram_idf_507\"},{\"idx\":508,\"name\":\"1gram_idf_508\"},{\"idx\":509,\"name\":\"1gram_idf_509\"},{\"idx\":510,\"name\":\"1gram_idf_510\"},{\"idx\":511,\"name\":\"1gram_idf_511\"},{\"idx\":512,\"name\":\"1gram_idf_512\"},{\"idx\":513,\"name\":\"1gram_idf_513\"},{\"idx\":514,\"name\":\"1gram_idf_514\"},{\"idx\":515,\"name\":\"1gram_idf_515\"},{\"idx\":516,\"name\":\"1gram_idf_516\"},{\"idx\":517,\"name\":\"1gram_idf_517\"},{\"idx\":518,\"name\":\"1gram_idf_518\"},{\"idx\":519,\"name\":\"1gram_idf_519\"},{\"idx\":520,\"name\":\"1gram_idf_520\"},{\"idx\":521,\"name\":\"1gram_idf_521\"},{\"idx\":522,\"name\":\"1gram_idf_522\"},{\"idx\":523,\"name\":\"1gram_idf_523\"},{\"idx\":524,\"name\":\"1gram_idf_524\"},{\"idx\":525,\"name\":\"1gram_idf_525\"},{\"idx\":526,\"name\":\"1gram_idf_526\"},{\"idx\":527,\"name\":\"1gram_idf_527\"},{\"idx\":528,\"name\":\"1gram_idf_528\"},{\"idx\":529,\"name\":\"1gram_idf_529\"},{\"idx\":530,\"name\":\"1gram_idf_530\"},{\"idx\":531,\"name\":\"1gram_idf_531\"},{\"idx\":532,\"name\":\"1gram_idf_532\"},{\"idx\":533,\"name\":\"1gram_idf_533\"},{\"idx\":534,\"name\":\"1gram_idf_534\"},{\"idx\":535,\"name\":\"1gram_idf_535\"},{\"idx\":536,\"name\":\"1gram_idf_536\"},{\"idx\":537,\"name\":\"1gram_idf_537\"},{\"idx\":538,\"name\":\"1gram_idf_538\"},{\"idx\":539,\"name\":\"1gram_idf_539\"},{\"idx\":540,\"name\":\"1gram_idf_540\"},{\"idx\":541,\"name\":\"1gram_idf_541\"},{\"idx\":542,\"name\":\"1gram_idf_542\"},{\"idx\":543,\"name\":\"1gram_idf_543\"},{\"idx\":544,\"name\":\"1gram_idf_544\"},{\"idx\":545,\"name\":\"1gram_idf_545\"},{\"idx\":546,\"name\":\"1gram_idf_546\"},{\"idx\":547,\"name\":\"1gram_idf_547\"},{\"idx\":548,\"name\":\"1gram_idf_548\"},{\"idx\":549,\"name\":\"1gram_idf_549\"},{\"idx\":550,\"name\":\"1gram_idf_550\"},{\"idx\":551,\"name\":\"1gram_idf_551\"},{\"idx\":552,\"name\":\"1gram_idf_552\"},{\"idx\":553,\"name\":\"1gram_idf_553\"},{\"idx\":554,\"name\":\"1gram_idf_554\"},{\"idx\":555,\"name\":\"1gram_idf_555\"},{\"idx\":556,\"name\":\"1gram_idf_556\"},{\"idx\":557,\"name\":\"1gram_idf_557\"},{\"idx\":558,\"name\":\"1gram_idf_558\"},{\"idx\":559,\"name\":\"1gram_idf_559\"},{\"idx\":560,\"name\":\"1gram_idf_560\"},{\"idx\":561,\"name\":\"1gram_idf_561\"},{\"idx\":562,\"name\":\"1gram_idf_562\"},{\"idx\":563,\"name\":\"1gram_idf_563\"},{\"idx\":564,\"name\":\"1gram_idf_564\"},{\"idx\":565,\"name\":\"1gram_idf_565\"},{\"idx\":566,\"name\":\"1gram_idf_566\"},{\"idx\":567,\"name\":\"1gram_idf_567\"},{\"idx\":568,\"name\":\"1gram_idf_568\"},{\"idx\":569,\"name\":\"1gram_idf_569\"},{\"idx\":570,\"name\":\"1gram_idf_570\"},{\"idx\":571,\"name\":\"1gram_idf_571\"},{\"idx\":572,\"name\":\"1gram_idf_572\"},{\"idx\":573,\"name\":\"1gram_idf_573\"},{\"idx\":574,\"name\":\"1gram_idf_574\"},{\"idx\":575,\"name\":\"1gram_idf_575\"},{\"idx\":576,\"name\":\"1gram_idf_576\"},{\"idx\":577,\"name\":\"1gram_idf_577\"},{\"idx\":578,\"name\":\"1gram_idf_578\"},{\"idx\":579,\"name\":\"1gram_idf_579\"},{\"idx\":580,\"name\":\"1gram_idf_580\"},{\"idx\":581,\"name\":\"1gram_idf_581\"},{\"idx\":582,\"name\":\"1gram_idf_582\"},{\"idx\":583,\"name\":\"1gram_idf_583\"},{\"idx\":584,\"name\":\"1gram_idf_584\"},{\"idx\":585,\"name\":\"1gram_idf_585\"},{\"idx\":586,\"name\":\"1gram_idf_586\"},{\"idx\":587,\"name\":\"1gram_idf_587\"},{\"idx\":588,\"name\":\"1gram_idf_588\"},{\"idx\":589,\"name\":\"1gram_idf_589\"},{\"idx\":590,\"name\":\"1gram_idf_590\"},{\"idx\":591,\"name\":\"1gram_idf_591\"},{\"idx\":592,\"name\":\"1gram_idf_592\"},{\"idx\":593,\"name\":\"1gram_idf_593\"},{\"idx\":594,\"name\":\"1gram_idf_594\"},{\"idx\":595,\"name\":\"1gram_idf_595\"},{\"idx\":596,\"name\":\"1gram_idf_596\"},{\"idx\":597,\"name\":\"1gram_idf_597\"},{\"idx\":598,\"name\":\"1gram_idf_598\"},{\"idx\":599,\"name\":\"1gram_idf_599\"},{\"idx\":600,\"name\":\"1gram_idf_600\"},{\"idx\":601,\"name\":\"1gram_idf_601\"},{\"idx\":602,\"name\":\"1gram_idf_602\"},{\"idx\":603,\"name\":\"1gram_idf_603\"},{\"idx\":604,\"name\":\"1gram_idf_604\"},{\"idx\":605,\"name\":\"1gram_idf_605\"},{\"idx\":606,\"name\":\"1gram_idf_606\"},{\"idx\":607,\"name\":\"1gram_idf_607\"},{\"idx\":608,\"name\":\"1gram_idf_608\"},{\"idx\":609,\"name\":\"1gram_idf_609\"},{\"idx\":610,\"name\":\"1gram_idf_610\"},{\"idx\":611,\"name\":\"1gram_idf_611\"},{\"idx\":612,\"name\":\"1gram_idf_612\"},{\"idx\":613,\"name\":\"1gram_idf_613\"},{\"idx\":614,\"name\":\"1gram_idf_614\"},{\"idx\":615,\"name\":\"1gram_idf_615\"},{\"idx\":616,\"name\":\"1gram_idf_616\"},{\"idx\":617,\"name\":\"1gram_idf_617\"},{\"idx\":618,\"name\":\"1gram_idf_618\"},{\"idx\":619,\"name\":\"1gram_idf_619\"},{\"idx\":620,\"name\":\"1gram_idf_620\"},{\"idx\":621,\"name\":\"1gram_idf_621\"},{\"idx\":622,\"name\":\"1gram_idf_622\"},{\"idx\":623,\"name\":\"1gram_idf_623\"},{\"idx\":624,\"name\":\"1gram_idf_624\"},{\"idx\":625,\"name\":\"1gram_idf_625\"},{\"idx\":626,\"name\":\"1gram_idf_626\"},{\"idx\":627,\"name\":\"1gram_idf_627\"},{\"idx\":628,\"name\":\"1gram_idf_628\"},{\"idx\":629,\"name\":\"1gram_idf_629\"},{\"idx\":630,\"name\":\"1gram_idf_630\"},{\"idx\":631,\"name\":\"1gram_idf_631\"},{\"idx\":632,\"name\":\"1gram_idf_632\"},{\"idx\":633,\"name\":\"1gram_idf_633\"},{\"idx\":634,\"name\":\"1gram_idf_634\"},{\"idx\":635,\"name\":\"1gram_idf_635\"},{\"idx\":636,\"name\":\"1gram_idf_636\"},{\"idx\":637,\"name\":\"1gram_idf_637\"},{\"idx\":638,\"name\":\"1gram_idf_638\"},{\"idx\":639,\"name\":\"1gram_idf_639\"},{\"idx\":640,\"name\":\"1gram_idf_640\"},{\"idx\":641,\"name\":\"1gram_idf_641\"},{\"idx\":642,\"name\":\"1gram_idf_642\"},{\"idx\":643,\"name\":\"1gram_idf_643\"},{\"idx\":644,\"name\":\"1gram_idf_644\"},{\"idx\":645,\"name\":\"1gram_idf_645\"},{\"idx\":646,\"name\":\"1gram_idf_646\"},{\"idx\":647,\"name\":\"1gram_idf_647\"},{\"idx\":648,\"name\":\"1gram_idf_648\"},{\"idx\":649,\"name\":\"1gram_idf_649\"},{\"idx\":650,\"name\":\"1gram_idf_650\"},{\"idx\":651,\"name\":\"1gram_idf_651\"},{\"idx\":652,\"name\":\"1gram_idf_652\"},{\"idx\":653,\"name\":\"1gram_idf_653\"},{\"idx\":654,\"name\":\"1gram_idf_654\"},{\"idx\":655,\"name\":\"1gram_idf_655\"},{\"idx\":656,\"name\":\"1gram_idf_656\"},{\"idx\":657,\"name\":\"1gram_idf_657\"},{\"idx\":658,\"name\":\"1gram_idf_658\"},{\"idx\":659,\"name\":\"1gram_idf_659\"},{\"idx\":660,\"name\":\"1gram_idf_660\"},{\"idx\":661,\"name\":\"1gram_idf_661\"},{\"idx\":662,\"name\":\"1gram_idf_662\"},{\"idx\":663,\"name\":\"1gram_idf_663\"},{\"idx\":664,\"name\":\"1gram_idf_664\"},{\"idx\":665,\"name\":\"1gram_idf_665\"},{\"idx\":666,\"name\":\"1gram_idf_666\"},{\"idx\":667,\"name\":\"1gram_idf_667\"},{\"idx\":668,\"name\":\"1gram_idf_668\"},{\"idx\":669,\"name\":\"1gram_idf_669\"},{\"idx\":670,\"name\":\"1gram_idf_670\"},{\"idx\":671,\"name\":\"1gram_idf_671\"},{\"idx\":672,\"name\":\"1gram_idf_672\"},{\"idx\":673,\"name\":\"1gram_idf_673\"},{\"idx\":674,\"name\":\"1gram_idf_674\"},{\"idx\":675,\"name\":\"1gram_idf_675\"},{\"idx\":676,\"name\":\"1gram_idf_676\"},{\"idx\":677,\"name\":\"1gram_idf_677\"},{\"idx\":678,\"name\":\"1gram_idf_678\"},{\"idx\":679,\"name\":\"1gram_idf_679\"},{\"idx\":680,\"name\":\"1gram_idf_680\"},{\"idx\":681,\"name\":\"1gram_idf_681\"},{\"idx\":682,\"name\":\"1gram_idf_682\"},{\"idx\":683,\"name\":\"1gram_idf_683\"},{\"idx\":684,\"name\":\"1gram_idf_684\"},{\"idx\":685,\"name\":\"1gram_idf_685\"},{\"idx\":686,\"name\":\"1gram_idf_686\"},{\"idx\":687,\"name\":\"1gram_idf_687\"},{\"idx\":688,\"name\":\"1gram_idf_688\"},{\"idx\":689,\"name\":\"1gram_idf_689\"},{\"idx\":690,\"name\":\"1gram_idf_690\"},{\"idx\":691,\"name\":\"1gram_idf_691\"},{\"idx\":692,\"name\":\"1gram_idf_692\"},{\"idx\":693,\"name\":\"1gram_idf_693\"},{\"idx\":694,\"name\":\"1gram_idf_694\"},{\"idx\":695,\"name\":\"1gram_idf_695\"},{\"idx\":696,\"name\":\"1gram_idf_696\"},{\"idx\":697,\"name\":\"1gram_idf_697\"},{\"idx\":698,\"name\":\"1gram_idf_698\"},{\"idx\":699,\"name\":\"1gram_idf_699\"},{\"idx\":700,\"name\":\"1gram_idf_700\"},{\"idx\":701,\"name\":\"1gram_idf_701\"},{\"idx\":702,\"name\":\"1gram_idf_702\"},{\"idx\":703,\"name\":\"1gram_idf_703\"},{\"idx\":704,\"name\":\"1gram_idf_704\"},{\"idx\":705,\"name\":\"1gram_idf_705\"},{\"idx\":706,\"name\":\"1gram_idf_706\"},{\"idx\":707,\"name\":\"1gram_idf_707\"},{\"idx\":708,\"name\":\"1gram_idf_708\"},{\"idx\":709,\"name\":\"1gram_idf_709\"},{\"idx\":710,\"name\":\"1gram_idf_710\"},{\"idx\":711,\"name\":\"1gram_idf_711\"},{\"idx\":712,\"name\":\"1gram_idf_712\"},{\"idx\":713,\"name\":\"1gram_idf_713\"},{\"idx\":714,\"name\":\"1gram_idf_714\"},{\"idx\":715,\"name\":\"1gram_idf_715\"},{\"idx\":716,\"name\":\"1gram_idf_716\"},{\"idx\":717,\"name\":\"1gram_idf_717\"},{\"idx\":718,\"name\":\"1gram_idf_718\"},{\"idx\":719,\"name\":\"1gram_idf_719\"},{\"idx\":720,\"name\":\"1gram_idf_720\"},{\"idx\":721,\"name\":\"1gram_idf_721\"},{\"idx\":722,\"name\":\"1gram_idf_722\"},{\"idx\":723,\"name\":\"1gram_idf_723\"},{\"idx\":724,\"name\":\"1gram_idf_724\"},{\"idx\":725,\"name\":\"1gram_idf_725\"},{\"idx\":726,\"name\":\"1gram_idf_726\"},{\"idx\":727,\"name\":\"1gram_idf_727\"},{\"idx\":728,\"name\":\"1gram_idf_728\"},{\"idx\":729,\"name\":\"1gram_idf_729\"},{\"idx\":730,\"name\":\"1gram_idf_730\"},{\"idx\":731,\"name\":\"1gram_idf_731\"},{\"idx\":732,\"name\":\"1gram_idf_732\"},{\"idx\":733,\"name\":\"1gram_idf_733\"},{\"idx\":734,\"name\":\"1gram_idf_734\"},{\"idx\":735,\"name\":\"1gram_idf_735\"},{\"idx\":736,\"name\":\"1gram_idf_736\"},{\"idx\":737,\"name\":\"1gram_idf_737\"},{\"idx\":738,\"name\":\"1gram_idf_738\"},{\"idx\":739,\"name\":\"1gram_idf_739\"},{\"idx\":740,\"name\":\"1gram_idf_740\"},{\"idx\":741,\"name\":\"1gram_idf_741\"},{\"idx\":742,\"name\":\"1gram_idf_742\"},{\"idx\":743,\"name\":\"1gram_idf_743\"},{\"idx\":744,\"name\":\"1gram_idf_744\"},{\"idx\":745,\"name\":\"1gram_idf_745\"},{\"idx\":746,\"name\":\"1gram_idf_746\"},{\"idx\":747,\"name\":\"1gram_idf_747\"},{\"idx\":748,\"name\":\"1gram_idf_748\"},{\"idx\":749,\"name\":\"1gram_idf_749\"},{\"idx\":750,\"name\":\"1gram_idf_750\"},{\"idx\":751,\"name\":\"1gram_idf_751\"},{\"idx\":752,\"name\":\"1gram_idf_752\"},{\"idx\":753,\"name\":\"1gram_idf_753\"},{\"idx\":754,\"name\":\"1gram_idf_754\"},{\"idx\":755,\"name\":\"1gram_idf_755\"},{\"idx\":756,\"name\":\"1gram_idf_756\"},{\"idx\":757,\"name\":\"1gram_idf_757\"},{\"idx\":758,\"name\":\"1gram_idf_758\"},{\"idx\":759,\"name\":\"1gram_idf_759\"},{\"idx\":760,\"name\":\"1gram_idf_760\"},{\"idx\":761,\"name\":\"1gram_idf_761\"},{\"idx\":762,\"name\":\"1gram_idf_762\"},{\"idx\":763,\"name\":\"1gram_idf_763\"},{\"idx\":764,\"name\":\"1gram_idf_764\"},{\"idx\":765,\"name\":\"1gram_idf_765\"},{\"idx\":766,\"name\":\"1gram_idf_766\"},{\"idx\":767,\"name\":\"1gram_idf_767\"},{\"idx\":768,\"name\":\"1gram_idf_768\"},{\"idx\":769,\"name\":\"1gram_idf_769\"},{\"idx\":770,\"name\":\"1gram_idf_770\"},{\"idx\":771,\"name\":\"1gram_idf_771\"},{\"idx\":772,\"name\":\"1gram_idf_772\"},{\"idx\":773,\"name\":\"1gram_idf_773\"},{\"idx\":774,\"name\":\"1gram_idf_774\"},{\"idx\":775,\"name\":\"1gram_idf_775\"},{\"idx\":776,\"name\":\"1gram_idf_776\"},{\"idx\":777,\"name\":\"1gram_idf_777\"},{\"idx\":778,\"name\":\"1gram_idf_778\"},{\"idx\":779,\"name\":\"1gram_idf_779\"},{\"idx\":780,\"name\":\"1gram_idf_780\"},{\"idx\":781,\"name\":\"1gram_idf_781\"},{\"idx\":782,\"name\":\"1gram_idf_782\"},{\"idx\":783,\"name\":\"1gram_idf_783\"},{\"idx\":784,\"name\":\"1gram_idf_784\"},{\"idx\":785,\"name\":\"1gram_idf_785\"},{\"idx\":786,\"name\":\"1gram_idf_786\"},{\"idx\":787,\"name\":\"1gram_idf_787\"},{\"idx\":788,\"name\":\"1gram_idf_788\"},{\"idx\":789,\"name\":\"1gram_idf_789\"},{\"idx\":790,\"name\":\"1gram_idf_790\"},{\"idx\":791,\"name\":\"1gram_idf_791\"},{\"idx\":792,\"name\":\"1gram_idf_792\"},{\"idx\":793,\"name\":\"1gram_idf_793\"},{\"idx\":794,\"name\":\"1gram_idf_794\"},{\"idx\":795,\"name\":\"1gram_idf_795\"},{\"idx\":796,\"name\":\"1gram_idf_796\"},{\"idx\":797,\"name\":\"1gram_idf_797\"},{\"idx\":798,\"name\":\"1gram_idf_798\"},{\"idx\":799,\"name\":\"1gram_idf_799\"},{\"idx\":800,\"name\":\"1gram_idf_800\"},{\"idx\":801,\"name\":\"1gram_idf_801\"},{\"idx\":802,\"name\":\"1gram_idf_802\"},{\"idx\":803,\"name\":\"1gram_idf_803\"},{\"idx\":804,\"name\":\"1gram_idf_804\"},{\"idx\":805,\"name\":\"1gram_idf_805\"},{\"idx\":806,\"name\":\"1gram_idf_806\"},{\"idx\":807,\"name\":\"1gram_idf_807\"},{\"idx\":808,\"name\":\"1gram_idf_808\"},{\"idx\":809,\"name\":\"1gram_idf_809\"},{\"idx\":810,\"name\":\"1gram_idf_810\"},{\"idx\":811,\"name\":\"1gram_idf_811\"},{\"idx\":812,\"name\":\"1gram_idf_812\"},{\"idx\":813,\"name\":\"1gram_idf_813\"},{\"idx\":814,\"name\":\"1gram_idf_814\"},{\"idx\":815,\"name\":\"1gram_idf_815\"},{\"idx\":816,\"name\":\"1gram_idf_816\"},{\"idx\":817,\"name\":\"1gram_idf_817\"},{\"idx\":818,\"name\":\"1gram_idf_818\"},{\"idx\":819,\"name\":\"1gram_idf_819\"},{\"idx\":820,\"name\":\"1gram_idf_820\"},{\"idx\":821,\"name\":\"1gram_idf_821\"},{\"idx\":822,\"name\":\"1gram_idf_822\"},{\"idx\":823,\"name\":\"1gram_idf_823\"},{\"idx\":824,\"name\":\"1gram_idf_824\"},{\"idx\":825,\"name\":\"1gram_idf_825\"},{\"idx\":826,\"name\":\"1gram_idf_826\"},{\"idx\":827,\"name\":\"1gram_idf_827\"},{\"idx\":828,\"name\":\"1gram_idf_828\"},{\"idx\":829,\"name\":\"1gram_idf_829\"},{\"idx\":830,\"name\":\"1gram_idf_830\"},{\"idx\":831,\"name\":\"1gram_idf_831\"},{\"idx\":832,\"name\":\"1gram_idf_832\"},{\"idx\":833,\"name\":\"1gram_idf_833\"},{\"idx\":834,\"name\":\"1gram_idf_834\"},{\"idx\":835,\"name\":\"1gram_idf_835\"},{\"idx\":836,\"name\":\"1gram_idf_836\"},{\"idx\":837,\"name\":\"1gram_idf_837\"},{\"idx\":838,\"name\":\"1gram_idf_838\"},{\"idx\":839,\"name\":\"1gram_idf_839\"},{\"idx\":840,\"name\":\"1gram_idf_840\"},{\"idx\":841,\"name\":\"1gram_idf_841\"},{\"idx\":842,\"name\":\"1gram_idf_842\"},{\"idx\":843,\"name\":\"1gram_idf_843\"},{\"idx\":844,\"name\":\"1gram_idf_844\"},{\"idx\":845,\"name\":\"1gram_idf_845\"},{\"idx\":846,\"name\":\"1gram_idf_846\"},{\"idx\":847,\"name\":\"1gram_idf_847\"},{\"idx\":848,\"name\":\"1gram_idf_848\"},{\"idx\":849,\"name\":\"1gram_idf_849\"},{\"idx\":850,\"name\":\"1gram_idf_850\"},{\"idx\":851,\"name\":\"1gram_idf_851\"},{\"idx\":852,\"name\":\"1gram_idf_852\"},{\"idx\":853,\"name\":\"1gram_idf_853\"},{\"idx\":854,\"name\":\"1gram_idf_854\"},{\"idx\":855,\"name\":\"1gram_idf_855\"},{\"idx\":856,\"name\":\"1gram_idf_856\"},{\"idx\":857,\"name\":\"1gram_idf_857\"},{\"idx\":858,\"name\":\"1gram_idf_858\"},{\"idx\":859,\"name\":\"1gram_idf_859\"},{\"idx\":860,\"name\":\"1gram_idf_860\"},{\"idx\":861,\"name\":\"1gram_idf_861\"},{\"idx\":862,\"name\":\"1gram_idf_862\"},{\"idx\":863,\"name\":\"1gram_idf_863\"},{\"idx\":864,\"name\":\"1gram_idf_864\"},{\"idx\":865,\"name\":\"1gram_idf_865\"},{\"idx\":866,\"name\":\"1gram_idf_866\"},{\"idx\":867,\"name\":\"1gram_idf_867\"},{\"idx\":868,\"name\":\"1gram_idf_868\"},{\"idx\":869,\"name\":\"1gram_idf_869\"},{\"idx\":870,\"name\":\"1gram_idf_870\"},{\"idx\":871,\"name\":\"1gram_idf_871\"},{\"idx\":872,\"name\":\"1gram_idf_872\"},{\"idx\":873,\"name\":\"1gram_idf_873\"},{\"idx\":874,\"name\":\"1gram_idf_874\"},{\"idx\":875,\"name\":\"1gram_idf_875\"},{\"idx\":876,\"name\":\"1gram_idf_876\"},{\"idx\":877,\"name\":\"1gram_idf_877\"},{\"idx\":878,\"name\":\"1gram_idf_878\"},{\"idx\":879,\"name\":\"1gram_idf_879\"},{\"idx\":880,\"name\":\"1gram_idf_880\"},{\"idx\":881,\"name\":\"1gram_idf_881\"},{\"idx\":882,\"name\":\"1gram_idf_882\"},{\"idx\":883,\"name\":\"1gram_idf_883\"},{\"idx\":884,\"name\":\"1gram_idf_884\"},{\"idx\":885,\"name\":\"1gram_idf_885\"},{\"idx\":886,\"name\":\"1gram_idf_886\"},{\"idx\":887,\"name\":\"1gram_idf_887\"},{\"idx\":888,\"name\":\"1gram_idf_888\"},{\"idx\":889,\"name\":\"1gram_idf_889\"},{\"idx\":890,\"name\":\"1gram_idf_890\"},{\"idx\":891,\"name\":\"1gram_idf_891\"},{\"idx\":892,\"name\":\"1gram_idf_892\"},{\"idx\":893,\"name\":\"1gram_idf_893\"},{\"idx\":894,\"name\":\"1gram_idf_894\"},{\"idx\":895,\"name\":\"1gram_idf_895\"},{\"idx\":896,\"name\":\"1gram_idf_896\"},{\"idx\":897,\"name\":\"1gram_idf_897\"},{\"idx\":898,\"name\":\"1gram_idf_898\"},{\"idx\":899,\"name\":\"1gram_idf_899\"},{\"idx\":900,\"name\":\"1gram_idf_900\"},{\"idx\":901,\"name\":\"1gram_idf_901\"},{\"idx\":902,\"name\":\"1gram_idf_902\"},{\"idx\":903,\"name\":\"1gram_idf_903\"},{\"idx\":904,\"name\":\"1gram_idf_904\"},{\"idx\":905,\"name\":\"1gram_idf_905\"},{\"idx\":906,\"name\":\"1gram_idf_906\"},{\"idx\":907,\"name\":\"1gram_idf_907\"},{\"idx\":908,\"name\":\"1gram_idf_908\"},{\"idx\":909,\"name\":\"1gram_idf_909\"},{\"idx\":910,\"name\":\"1gram_idf_910\"},{\"idx\":911,\"name\":\"1gram_idf_911\"},{\"idx\":912,\"name\":\"1gram_idf_912\"},{\"idx\":913,\"name\":\"1gram_idf_913\"},{\"idx\":914,\"name\":\"1gram_idf_914\"},{\"idx\":915,\"name\":\"1gram_idf_915\"},{\"idx\":916,\"name\":\"1gram_idf_916\"},{\"idx\":917,\"name\":\"1gram_idf_917\"},{\"idx\":918,\"name\":\"1gram_idf_918\"},{\"idx\":919,\"name\":\"1gram_idf_919\"},{\"idx\":920,\"name\":\"1gram_idf_920\"},{\"idx\":921,\"name\":\"1gram_idf_921\"},{\"idx\":922,\"name\":\"1gram_idf_922\"},{\"idx\":923,\"name\":\"1gram_idf_923\"},{\"idx\":924,\"name\":\"1gram_idf_924\"},{\"idx\":925,\"name\":\"1gram_idf_925\"},{\"idx\":926,\"name\":\"1gram_idf_926\"},{\"idx\":927,\"name\":\"1gram_idf_927\"},{\"idx\":928,\"name\":\"1gram_idf_928\"},{\"idx\":929,\"name\":\"1gram_idf_929\"},{\"idx\":930,\"name\":\"1gram_idf_930\"},{\"idx\":931,\"name\":\"1gram_idf_931\"},{\"idx\":932,\"name\":\"1gram_idf_932\"},{\"idx\":933,\"name\":\"1gram_idf_933\"},{\"idx\":934,\"name\":\"1gram_idf_934\"},{\"idx\":935,\"name\":\"1gram_idf_935\"},{\"idx\":936,\"name\":\"1gram_idf_936\"},{\"idx\":937,\"name\":\"1gram_idf_937\"},{\"idx\":938,\"name\":\"1gram_idf_938\"},{\"idx\":939,\"name\":\"1gram_idf_939\"},{\"idx\":940,\"name\":\"1gram_idf_940\"},{\"idx\":941,\"name\":\"1gram_idf_941\"},{\"idx\":942,\"name\":\"1gram_idf_942\"},{\"idx\":943,\"name\":\"1gram_idf_943\"},{\"idx\":944,\"name\":\"1gram_idf_944\"},{\"idx\":945,\"name\":\"1gram_idf_945\"},{\"idx\":946,\"name\":\"1gram_idf_946\"},{\"idx\":947,\"name\":\"1gram_idf_947\"},{\"idx\":948,\"name\":\"1gram_idf_948\"},{\"idx\":949,\"name\":\"1gram_idf_949\"},{\"idx\":950,\"name\":\"1gram_idf_950\"},{\"idx\":951,\"name\":\"1gram_idf_951\"},{\"idx\":952,\"name\":\"1gram_idf_952\"},{\"idx\":953,\"name\":\"1gram_idf_953\"},{\"idx\":954,\"name\":\"1gram_idf_954\"},{\"idx\":955,\"name\":\"1gram_idf_955\"},{\"idx\":956,\"name\":\"1gram_idf_956\"},{\"idx\":957,\"name\":\"1gram_idf_957\"},{\"idx\":958,\"name\":\"1gram_idf_958\"},{\"idx\":959,\"name\":\"1gram_idf_959\"},{\"idx\":960,\"name\":\"1gram_idf_960\"},{\"idx\":961,\"name\":\"1gram_idf_961\"},{\"idx\":962,\"name\":\"1gram_idf_962\"},{\"idx\":963,\"name\":\"1gram_idf_963\"},{\"idx\":964,\"name\":\"1gram_idf_964\"},{\"idx\":965,\"name\":\"1gram_idf_965\"},{\"idx\":966,\"name\":\"1gram_idf_966\"},{\"idx\":967,\"name\":\"1gram_idf_967\"},{\"idx\":968,\"name\":\"1gram_idf_968\"},{\"idx\":969,\"name\":\"1gram_idf_969\"},{\"idx\":970,\"name\":\"1gram_idf_970\"},{\"idx\":971,\"name\":\"1gram_idf_971\"},{\"idx\":972,\"name\":\"1gram_idf_972\"},{\"idx\":973,\"name\":\"1gram_idf_973\"},{\"idx\":974,\"name\":\"1gram_idf_974\"},{\"idx\":975,\"name\":\"1gram_idf_975\"},{\"idx\":976,\"name\":\"1gram_idf_976\"},{\"idx\":977,\"name\":\"1gram_idf_977\"},{\"idx\":978,\"name\":\"1gram_idf_978\"},{\"idx\":979,\"name\":\"1gram_idf_979\"},{\"idx\":980,\"name\":\"1gram_idf_980\"},{\"idx\":981,\"name\":\"1gram_idf_981\"},{\"idx\":982,\"name\":\"1gram_idf_982\"},{\"idx\":983,\"name\":\"1gram_idf_983\"},{\"idx\":984,\"name\":\"1gram_idf_984\"},{\"idx\":985,\"name\":\"1gram_idf_985\"},{\"idx\":986,\"name\":\"1gram_idf_986\"},{\"idx\":987,\"name\":\"1gram_idf_987\"},{\"idx\":988,\"name\":\"1gram_idf_988\"},{\"idx\":989,\"name\":\"1gram_idf_989\"},{\"idx\":990,\"name\":\"1gram_idf_990\"},{\"idx\":991,\"name\":\"1gram_idf_991\"},{\"idx\":992,\"name\":\"1gram_idf_992\"},{\"idx\":993,\"name\":\"1gram_idf_993\"},{\"idx\":994,\"name\":\"1gram_idf_994\"},{\"idx\":995,\"name\":\"1gram_idf_995\"},{\"idx\":996,\"name\":\"1gram_idf_996\"},{\"idx\":997,\"name\":\"1gram_idf_997\"},{\"idx\":998,\"name\":\"1gram_idf_998\"},{\"idx\":999,\"name\":\"1gram_idf_999\"},{\"idx\":1000,\"name\":\"1gram_idf_1000\"},{\"idx\":1001,\"name\":\"1gram_idf_1001\"},{\"idx\":1002,\"name\":\"1gram_idf_1002\"},{\"idx\":1003,\"name\":\"1gram_idf_1003\"},{\"idx\":1004,\"name\":\"1gram_idf_1004\"},{\"idx\":1005,\"name\":\"1gram_idf_1005\"},{\"idx\":1006,\"name\":\"1gram_idf_1006\"},{\"idx\":1007,\"name\":\"1gram_idf_1007\"},{\"idx\":1008,\"name\":\"1gram_idf_1008\"},{\"idx\":1009,\"name\":\"1gram_idf_1009\"},{\"idx\":1010,\"name\":\"1gram_idf_1010\"},{\"idx\":1011,\"name\":\"1gram_idf_1011\"},{\"idx\":1012,\"name\":\"1gram_idf_1012\"},{\"idx\":1013,\"name\":\"1gram_idf_1013\"},{\"idx\":1014,\"name\":\"1gram_idf_1014\"},{\"idx\":1015,\"name\":\"1gram_idf_1015\"},{\"idx\":1016,\"name\":\"1gram_idf_1016\"},{\"idx\":1017,\"name\":\"1gram_idf_1017\"},{\"idx\":1018,\"name\":\"1gram_idf_1018\"},{\"idx\":1019,\"name\":\"1gram_idf_1019\"},{\"idx\":1020,\"name\":\"1gram_idf_1020\"},{\"idx\":1021,\"name\":\"1gram_idf_1021\"},{\"idx\":1022,\"name\":\"1gram_idf_1022\"},{\"idx\":1023,\"name\":\"1gram_idf_1023\"},{\"idx\":1024,\"name\":\"1gram_idf_1024\"},{\"idx\":1025,\"name\":\"1gram_idf_1025\"},{\"idx\":1026,\"name\":\"1gram_idf_1026\"},{\"idx\":1027,\"name\":\"1gram_idf_1027\"},{\"idx\":1028,\"name\":\"1gram_idf_1028\"},{\"idx\":1029,\"name\":\"1gram_idf_1029\"},{\"idx\":1030,\"name\":\"1gram_idf_1030\"},{\"idx\":1031,\"name\":\"1gram_idf_1031\"},{\"idx\":1032,\"name\":\"1gram_idf_1032\"},{\"idx\":1033,\"name\":\"1gram_idf_1033\"},{\"idx\":1034,\"name\":\"1gram_idf_1034\"},{\"idx\":1035,\"name\":\"1gram_idf_1035\"},{\"idx\":1036,\"name\":\"1gram_idf_1036\"},{\"idx\":1037,\"name\":\"1gram_idf_1037\"},{\"idx\":1038,\"name\":\"1gram_idf_1038\"},{\"idx\":1039,\"name\":\"1gram_idf_1039\"},{\"idx\":1040,\"name\":\"1gram_idf_1040\"},{\"idx\":1041,\"name\":\"1gram_idf_1041\"},{\"idx\":1042,\"name\":\"1gram_idf_1042\"},{\"idx\":1043,\"name\":\"1gram_idf_1043\"},{\"idx\":1044,\"name\":\"1gram_idf_1044\"},{\"idx\":1045,\"name\":\"1gram_idf_1045\"},{\"idx\":1046,\"name\":\"1gram_idf_1046\"},{\"idx\":1047,\"name\":\"1gram_idf_1047\"},{\"idx\":1048,\"name\":\"1gram_idf_1048\"},{\"idx\":1049,\"name\":\"1gram_idf_1049\"},{\"idx\":1050,\"name\":\"1gram_idf_1050\"},{\"idx\":1051,\"name\":\"1gram_idf_1051\"},{\"idx\":1052,\"name\":\"1gram_idf_1052\"},{\"idx\":1053,\"name\":\"1gram_idf_1053\"},{\"idx\":1054,\"name\":\"1gram_idf_1054\"},{\"idx\":1055,\"name\":\"1gram_idf_1055\"},{\"idx\":1056,\"name\":\"1gram_idf_1056\"},{\"idx\":1057,\"name\":\"1gram_idf_1057\"},{\"idx\":1058,\"name\":\"1gram_idf_1058\"},{\"idx\":1059,\"name\":\"1gram_idf_1059\"},{\"idx\":1060,\"name\":\"1gram_idf_1060\"},{\"idx\":1061,\"name\":\"1gram_idf_1061\"},{\"idx\":1062,\"name\":\"1gram_idf_1062\"},{\"idx\":1063,\"name\":\"1gram_idf_1063\"},{\"idx\":1064,\"name\":\"1gram_idf_1064\"},{\"idx\":1065,\"name\":\"1gram_idf_1065\"},{\"idx\":1066,\"name\":\"1gram_idf_1066\"},{\"idx\":1067,\"name\":\"1gram_idf_1067\"},{\"idx\":1068,\"name\":\"1gram_idf_1068\"},{\"idx\":1069,\"name\":\"1gram_idf_1069\"},{\"idx\":1070,\"name\":\"1gram_idf_1070\"},{\"idx\":1071,\"name\":\"1gram_idf_1071\"},{\"idx\":1072,\"name\":\"1gram_idf_1072\"},{\"idx\":1073,\"name\":\"1gram_idf_1073\"},{\"idx\":1074,\"name\":\"1gram_idf_1074\"},{\"idx\":1075,\"name\":\"1gram_idf_1075\"},{\"idx\":1076,\"name\":\"1gram_idf_1076\"},{\"idx\":1077,\"name\":\"1gram_idf_1077\"},{\"idx\":1078,\"name\":\"1gram_idf_1078\"},{\"idx\":1079,\"name\":\"1gram_idf_1079\"},{\"idx\":1080,\"name\":\"1gram_idf_1080\"},{\"idx\":1081,\"name\":\"1gram_idf_1081\"},{\"idx\":1082,\"name\":\"1gram_idf_1082\"},{\"idx\":1083,\"name\":\"1gram_idf_1083\"},{\"idx\":1084,\"name\":\"1gram_idf_1084\"},{\"idx\":1085,\"name\":\"1gram_idf_1085\"},{\"idx\":1086,\"name\":\"1gram_idf_1086\"},{\"idx\":1087,\"name\":\"1gram_idf_1087\"},{\"idx\":1088,\"name\":\"1gram_idf_1088\"},{\"idx\":1089,\"name\":\"1gram_idf_1089\"},{\"idx\":1090,\"name\":\"1gram_idf_1090\"},{\"idx\":1091,\"name\":\"1gram_idf_1091\"},{\"idx\":1092,\"name\":\"1gram_idf_1092\"},{\"idx\":1093,\"name\":\"1gram_idf_1093\"},{\"idx\":1094,\"name\":\"1gram_idf_1094\"},{\"idx\":1095,\"name\":\"1gram_idf_1095\"},{\"idx\":1096,\"name\":\"1gram_idf_1096\"},{\"idx\":1097,\"name\":\"1gram_idf_1097\"},{\"idx\":1098,\"name\":\"1gram_idf_1098\"},{\"idx\":1099,\"name\":\"1gram_idf_1099\"},{\"idx\":1100,\"name\":\"1gram_idf_1100\"},{\"idx\":1101,\"name\":\"1gram_idf_1101\"},{\"idx\":1102,\"name\":\"1gram_idf_1102\"},{\"idx\":1103,\"name\":\"1gram_idf_1103\"},{\"idx\":1104,\"name\":\"1gram_idf_1104\"},{\"idx\":1105,\"name\":\"1gram_idf_1105\"},{\"idx\":1106,\"name\":\"1gram_idf_1106\"},{\"idx\":1107,\"name\":\"1gram_idf_1107\"},{\"idx\":1108,\"name\":\"1gram_idf_1108\"},{\"idx\":1109,\"name\":\"1gram_idf_1109\"},{\"idx\":1110,\"name\":\"1gram_idf_1110\"},{\"idx\":1111,\"name\":\"1gram_idf_1111\"},{\"idx\":1112,\"name\":\"1gram_idf_1112\"},{\"idx\":1113,\"name\":\"1gram_idf_1113\"},{\"idx\":1114,\"name\":\"1gram_idf_1114\"},{\"idx\":1115,\"name\":\"1gram_idf_1115\"},{\"idx\":1116,\"name\":\"1gram_idf_1116\"},{\"idx\":1117,\"name\":\"1gram_idf_1117\"},{\"idx\":1118,\"name\":\"1gram_idf_1118\"},{\"idx\":1119,\"name\":\"1gram_idf_1119\"},{\"idx\":1120,\"name\":\"1gram_idf_1120\"},{\"idx\":1121,\"name\":\"1gram_idf_1121\"},{\"idx\":1122,\"name\":\"1gram_idf_1122\"},{\"idx\":1123,\"name\":\"1gram_idf_1123\"},{\"idx\":1124,\"name\":\"1gram_idf_1124\"},{\"idx\":1125,\"name\":\"1gram_idf_1125\"},{\"idx\":1126,\"name\":\"1gram_idf_1126\"},{\"idx\":1127,\"name\":\"1gram_idf_1127\"},{\"idx\":1128,\"name\":\"1gram_idf_1128\"},{\"idx\":1129,\"name\":\"1gram_idf_1129\"},{\"idx\":1130,\"name\":\"1gram_idf_1130\"},{\"idx\":1131,\"name\":\"1gram_idf_1131\"},{\"idx\":1132,\"name\":\"1gram_idf_1132\"},{\"idx\":1133,\"name\":\"1gram_idf_1133\"},{\"idx\":1134,\"name\":\"1gram_idf_1134\"},{\"idx\":1135,\"name\":\"1gram_idf_1135\"},{\"idx\":1136,\"name\":\"1gram_idf_1136\"},{\"idx\":1137,\"name\":\"1gram_idf_1137\"},{\"idx\":1138,\"name\":\"1gram_idf_1138\"},{\"idx\":1139,\"name\":\"1gram_idf_1139\"},{\"idx\":1140,\"name\":\"1gram_idf_1140\"},{\"idx\":1141,\"name\":\"1gram_idf_1141\"},{\"idx\":1142,\"name\":\"1gram_idf_1142\"},{\"idx\":1143,\"name\":\"1gram_idf_1143\"},{\"idx\":1144,\"name\":\"1gram_idf_1144\"},{\"idx\":1145,\"name\":\"1gram_idf_1145\"},{\"idx\":1146,\"name\":\"1gram_idf_1146\"},{\"idx\":1147,\"name\":\"1gram_idf_1147\"},{\"idx\":1148,\"name\":\"1gram_idf_1148\"},{\"idx\":1149,\"name\":\"1gram_idf_1149\"},{\"idx\":1150,\"name\":\"1gram_idf_1150\"},{\"idx\":1151,\"name\":\"1gram_idf_1151\"},{\"idx\":1152,\"name\":\"1gram_idf_1152\"},{\"idx\":1153,\"name\":\"1gram_idf_1153\"},{\"idx\":1154,\"name\":\"1gram_idf_1154\"},{\"idx\":1155,\"name\":\"1gram_idf_1155\"},{\"idx\":1156,\"name\":\"1gram_idf_1156\"},{\"idx\":1157,\"name\":\"1gram_idf_1157\"},{\"idx\":1158,\"name\":\"1gram_idf_1158\"},{\"idx\":1159,\"name\":\"1gram_idf_1159\"},{\"idx\":1160,\"name\":\"1gram_idf_1160\"},{\"idx\":1161,\"name\":\"1gram_idf_1161\"},{\"idx\":1162,\"name\":\"1gram_idf_1162\"},{\"idx\":1163,\"name\":\"1gram_idf_1163\"},{\"idx\":1164,\"name\":\"1gram_idf_1164\"},{\"idx\":1165,\"name\":\"1gram_idf_1165\"},{\"idx\":1166,\"name\":\"1gram_idf_1166\"},{\"idx\":1167,\"name\":\"1gram_idf_1167\"},{\"idx\":1168,\"name\":\"1gram_idf_1168\"},{\"idx\":1169,\"name\":\"1gram_idf_1169\"},{\"idx\":1170,\"name\":\"1gram_idf_1170\"},{\"idx\":1171,\"name\":\"1gram_idf_1171\"},{\"idx\":1172,\"name\":\"1gram_idf_1172\"},{\"idx\":1173,\"name\":\"1gram_idf_1173\"},{\"idx\":1174,\"name\":\"1gram_idf_1174\"},{\"idx\":1175,\"name\":\"1gram_idf_1175\"},{\"idx\":1176,\"name\":\"1gram_idf_1176\"},{\"idx\":1177,\"name\":\"1gram_idf_1177\"},{\"idx\":1178,\"name\":\"1gram_idf_1178\"},{\"idx\":1179,\"name\":\"1gram_idf_1179\"},{\"idx\":1180,\"name\":\"1gram_idf_1180\"},{\"idx\":1181,\"name\":\"1gram_idf_1181\"},{\"idx\":1182,\"name\":\"1gram_idf_1182\"},{\"idx\":1183,\"name\":\"1gram_idf_1183\"},{\"idx\":1184,\"name\":\"1gram_idf_1184\"},{\"idx\":1185,\"name\":\"1gram_idf_1185\"},{\"idx\":1186,\"name\":\"1gram_idf_1186\"},{\"idx\":1187,\"name\":\"1gram_idf_1187\"},{\"idx\":1188,\"name\":\"1gram_idf_1188\"},{\"idx\":1189,\"name\":\"1gram_idf_1189\"},{\"idx\":1190,\"name\":\"1gram_idf_1190\"},{\"idx\":1191,\"name\":\"1gram_idf_1191\"},{\"idx\":1192,\"name\":\"1gram_idf_1192\"},{\"idx\":1193,\"name\":\"1gram_idf_1193\"},{\"idx\":1194,\"name\":\"1gram_idf_1194\"},{\"idx\":1195,\"name\":\"1gram_idf_1195\"},{\"idx\":1196,\"name\":\"1gram_idf_1196\"},{\"idx\":1197,\"name\":\"1gram_idf_1197\"},{\"idx\":1198,\"name\":\"1gram_idf_1198\"},{\"idx\":1199,\"name\":\"1gram_idf_1199\"},{\"idx\":1200,\"name\":\"1gram_idf_1200\"},{\"idx\":1201,\"name\":\"1gram_idf_1201\"},{\"idx\":1202,\"name\":\"1gram_idf_1202\"},{\"idx\":1203,\"name\":\"1gram_idf_1203\"},{\"idx\":1204,\"name\":\"1gram_idf_1204\"},{\"idx\":1205,\"name\":\"1gram_idf_1205\"},{\"idx\":1206,\"name\":\"1gram_idf_1206\"},{\"idx\":1207,\"name\":\"1gram_idf_1207\"},{\"idx\":1208,\"name\":\"1gram_idf_1208\"},{\"idx\":1209,\"name\":\"1gram_idf_1209\"},{\"idx\":1210,\"name\":\"1gram_idf_1210\"},{\"idx\":1211,\"name\":\"1gram_idf_1211\"},{\"idx\":1212,\"name\":\"1gram_idf_1212\"},{\"idx\":1213,\"name\":\"1gram_idf_1213\"},{\"idx\":1214,\"name\":\"1gram_idf_1214\"},{\"idx\":1215,\"name\":\"1gram_idf_1215\"},{\"idx\":1216,\"name\":\"1gram_idf_1216\"},{\"idx\":1217,\"name\":\"1gram_idf_1217\"},{\"idx\":1218,\"name\":\"1gram_idf_1218\"},{\"idx\":1219,\"name\":\"1gram_idf_1219\"},{\"idx\":1220,\"name\":\"1gram_idf_1220\"},{\"idx\":1221,\"name\":\"1gram_idf_1221\"},{\"idx\":1222,\"name\":\"1gram_idf_1222\"},{\"idx\":1223,\"name\":\"1gram_idf_1223\"},{\"idx\":1224,\"name\":\"1gram_idf_1224\"},{\"idx\":1225,\"name\":\"1gram_idf_1225\"},{\"idx\":1226,\"name\":\"1gram_idf_1226\"},{\"idx\":1227,\"name\":\"1gram_idf_1227\"},{\"idx\":1228,\"name\":\"1gram_idf_1228\"},{\"idx\":1229,\"name\":\"1gram_idf_1229\"},{\"idx\":1230,\"name\":\"1gram_idf_1230\"},{\"idx\":1231,\"name\":\"1gram_idf_1231\"},{\"idx\":1232,\"name\":\"1gram_idf_1232\"},{\"idx\":1233,\"name\":\"1gram_idf_1233\"},{\"idx\":1234,\"name\":\"1gram_idf_1234\"},{\"idx\":1235,\"name\":\"1gram_idf_1235\"},{\"idx\":1236,\"name\":\"1gram_idf_1236\"},{\"idx\":1237,\"name\":\"1gram_idf_1237\"},{\"idx\":1238,\"name\":\"1gram_idf_1238\"},{\"idx\":1239,\"name\":\"1gram_idf_1239\"},{\"idx\":1240,\"name\":\"1gram_idf_1240\"},{\"idx\":1241,\"name\":\"1gram_idf_1241\"},{\"idx\":1242,\"name\":\"1gram_idf_1242\"},{\"idx\":1243,\"name\":\"1gram_idf_1243\"},{\"idx\":1244,\"name\":\"1gram_idf_1244\"},{\"idx\":1245,\"name\":\"1gram_idf_1245\"},{\"idx\":1246,\"name\":\"1gram_idf_1246\"},{\"idx\":1247,\"name\":\"1gram_idf_1247\"},{\"idx\":1248,\"name\":\"1gram_idf_1248\"},{\"idx\":1249,\"name\":\"1gram_idf_1249\"},{\"idx\":1250,\"name\":\"1gram_idf_1250\"},{\"idx\":1251,\"name\":\"1gram_idf_1251\"},{\"idx\":1252,\"name\":\"1gram_idf_1252\"},{\"idx\":1253,\"name\":\"1gram_idf_1253\"},{\"idx\":1254,\"name\":\"1gram_idf_1254\"},{\"idx\":1255,\"name\":\"1gram_idf_1255\"},{\"idx\":1256,\"name\":\"1gram_idf_1256\"},{\"idx\":1257,\"name\":\"1gram_idf_1257\"},{\"idx\":1258,\"name\":\"1gram_idf_1258\"},{\"idx\":1259,\"name\":\"1gram_idf_1259\"},{\"idx\":1260,\"name\":\"1gram_idf_1260\"},{\"idx\":1261,\"name\":\"1gram_idf_1261\"},{\"idx\":1262,\"name\":\"1gram_idf_1262\"},{\"idx\":1263,\"name\":\"1gram_idf_1263\"},{\"idx\":1264,\"name\":\"1gram_idf_1264\"},{\"idx\":1265,\"name\":\"1gram_idf_1265\"},{\"idx\":1266,\"name\":\"1gram_idf_1266\"},{\"idx\":1267,\"name\":\"1gram_idf_1267\"},{\"idx\":1268,\"name\":\"1gram_idf_1268\"},{\"idx\":1269,\"name\":\"1gram_idf_1269\"},{\"idx\":1270,\"name\":\"1gram_idf_1270\"},{\"idx\":1271,\"name\":\"1gram_idf_1271\"},{\"idx\":1272,\"name\":\"1gram_idf_1272\"},{\"idx\":1273,\"name\":\"1gram_idf_1273\"},{\"idx\":1274,\"name\":\"1gram_idf_1274\"},{\"idx\":1275,\"name\":\"1gram_idf_1275\"},{\"idx\":1276,\"name\":\"1gram_idf_1276\"},{\"idx\":1277,\"name\":\"1gram_idf_1277\"},{\"idx\":1278,\"name\":\"1gram_idf_1278\"},{\"idx\":1279,\"name\":\"1gram_idf_1279\"},{\"idx\":1280,\"name\":\"1gram_idf_1280\"},{\"idx\":1281,\"name\":\"1gram_idf_1281\"},{\"idx\":1282,\"name\":\"1gram_idf_1282\"},{\"idx\":1283,\"name\":\"1gram_idf_1283\"},{\"idx\":1284,\"name\":\"1gram_idf_1284\"},{\"idx\":1285,\"name\":\"1gram_idf_1285\"},{\"idx\":1286,\"name\":\"1gram_idf_1286\"},{\"idx\":1287,\"name\":\"1gram_idf_1287\"},{\"idx\":1288,\"name\":\"1gram_idf_1288\"},{\"idx\":1289,\"name\":\"1gram_idf_1289\"},{\"idx\":1290,\"name\":\"1gram_idf_1290\"},{\"idx\":1291,\"name\":\"1gram_idf_1291\"},{\"idx\":1292,\"name\":\"1gram_idf_1292\"},{\"idx\":1293,\"name\":\"1gram_idf_1293\"},{\"idx\":1294,\"name\":\"1gram_idf_1294\"},{\"idx\":1295,\"name\":\"1gram_idf_1295\"},{\"idx\":1296,\"name\":\"1gram_idf_1296\"},{\"idx\":1297,\"name\":\"1gram_idf_1297\"},{\"idx\":1298,\"name\":\"1gram_idf_1298\"},{\"idx\":1299,\"name\":\"1gram_idf_1299\"},{\"idx\":1300,\"name\":\"1gram_idf_1300\"},{\"idx\":1301,\"name\":\"1gram_idf_1301\"},{\"idx\":1302,\"name\":\"1gram_idf_1302\"},{\"idx\":1303,\"name\":\"1gram_idf_1303\"},{\"idx\":1304,\"name\":\"1gram_idf_1304\"},{\"idx\":1305,\"name\":\"1gram_idf_1305\"},{\"idx\":1306,\"name\":\"1gram_idf_1306\"},{\"idx\":1307,\"name\":\"1gram_idf_1307\"},{\"idx\":1308,\"name\":\"1gram_idf_1308\"},{\"idx\":1309,\"name\":\"1gram_idf_1309\"},{\"idx\":1310,\"name\":\"1gram_idf_1310\"},{\"idx\":1311,\"name\":\"1gram_idf_1311\"},{\"idx\":1312,\"name\":\"1gram_idf_1312\"},{\"idx\":1313,\"name\":\"1gram_idf_1313\"},{\"idx\":1314,\"name\":\"1gram_idf_1314\"},{\"idx\":1315,\"name\":\"1gram_idf_1315\"},{\"idx\":1316,\"name\":\"1gram_idf_1316\"},{\"idx\":1317,\"name\":\"1gram_idf_1317\"},{\"idx\":1318,\"name\":\"1gram_idf_1318\"},{\"idx\":1319,\"name\":\"1gram_idf_1319\"},{\"idx\":1320,\"name\":\"1gram_idf_1320\"},{\"idx\":1321,\"name\":\"1gram_idf_1321\"},{\"idx\":1322,\"name\":\"1gram_idf_1322\"},{\"idx\":1323,\"name\":\"1gram_idf_1323\"},{\"idx\":1324,\"name\":\"1gram_idf_1324\"},{\"idx\":1325,\"name\":\"1gram_idf_1325\"},{\"idx\":1326,\"name\":\"1gram_idf_1326\"},{\"idx\":1327,\"name\":\"1gram_idf_1327\"},{\"idx\":1328,\"name\":\"1gram_idf_1328\"},{\"idx\":1329,\"name\":\"1gram_idf_1329\"},{\"idx\":1330,\"name\":\"1gram_idf_1330\"},{\"idx\":1331,\"name\":\"1gram_idf_1331\"},{\"idx\":1332,\"name\":\"1gram_idf_1332\"},{\"idx\":1333,\"name\":\"1gram_idf_1333\"},{\"idx\":1334,\"name\":\"1gram_idf_1334\"},{\"idx\":1335,\"name\":\"1gram_idf_1335\"},{\"idx\":1336,\"name\":\"1gram_idf_1336\"},{\"idx\":1337,\"name\":\"1gram_idf_1337\"},{\"idx\":1338,\"name\":\"1gram_idf_1338\"},{\"idx\":1339,\"name\":\"1gram_idf_1339\"},{\"idx\":1340,\"name\":\"1gram_idf_1340\"},{\"idx\":1341,\"name\":\"1gram_idf_1341\"},{\"idx\":1342,\"name\":\"1gram_idf_1342\"},{\"idx\":1343,\"name\":\"1gram_idf_1343\"},{\"idx\":1344,\"name\":\"1gram_idf_1344\"},{\"idx\":1345,\"name\":\"1gram_idf_1345\"},{\"idx\":1346,\"name\":\"1gram_idf_1346\"},{\"idx\":1347,\"name\":\"1gram_idf_1347\"},{\"idx\":1348,\"name\":\"1gram_idf_1348\"},{\"idx\":1349,\"name\":\"1gram_idf_1349\"},{\"idx\":1350,\"name\":\"1gram_idf_1350\"},{\"idx\":1351,\"name\":\"1gram_idf_1351\"},{\"idx\":1352,\"name\":\"1gram_idf_1352\"},{\"idx\":1353,\"name\":\"1gram_idf_1353\"},{\"idx\":1354,\"name\":\"1gram_idf_1354\"},{\"idx\":1355,\"name\":\"1gram_idf_1355\"},{\"idx\":1356,\"name\":\"1gram_idf_1356\"},{\"idx\":1357,\"name\":\"1gram_idf_1357\"},{\"idx\":1358,\"name\":\"1gram_idf_1358\"},{\"idx\":1359,\"name\":\"1gram_idf_1359\"},{\"idx\":1360,\"name\":\"1gram_idf_1360\"},{\"idx\":1361,\"name\":\"1gram_idf_1361\"},{\"idx\":1362,\"name\":\"1gram_idf_1362\"},{\"idx\":1363,\"name\":\"1gram_idf_1363\"},{\"idx\":1364,\"name\":\"1gram_idf_1364\"},{\"idx\":1365,\"name\":\"1gram_idf_1365\"},{\"idx\":1366,\"name\":\"1gram_idf_1366\"},{\"idx\":1367,\"name\":\"1gram_idf_1367\"},{\"idx\":1368,\"name\":\"1gram_idf_1368\"},{\"idx\":1369,\"name\":\"1gram_idf_1369\"},{\"idx\":1370,\"name\":\"1gram_idf_1370\"},{\"idx\":1371,\"name\":\"1gram_idf_1371\"},{\"idx\":1372,\"name\":\"1gram_idf_1372\"},{\"idx\":1373,\"name\":\"1gram_idf_1373\"},{\"idx\":1374,\"name\":\"1gram_idf_1374\"},{\"idx\":1375,\"name\":\"1gram_idf_1375\"},{\"idx\":1376,\"name\":\"1gram_idf_1376\"},{\"idx\":1377,\"name\":\"1gram_idf_1377\"},{\"idx\":1378,\"name\":\"1gram_idf_1378\"},{\"idx\":1379,\"name\":\"1gram_idf_1379\"},{\"idx\":1380,\"name\":\"1gram_idf_1380\"},{\"idx\":1381,\"name\":\"1gram_idf_1381\"},{\"idx\":1382,\"name\":\"1gram_idf_1382\"},{\"idx\":1383,\"name\":\"1gram_idf_1383\"},{\"idx\":1384,\"name\":\"1gram_idf_1384\"},{\"idx\":1385,\"name\":\"1gram_idf_1385\"},{\"idx\":1386,\"name\":\"1gram_idf_1386\"},{\"idx\":1387,\"name\":\"1gram_idf_1387\"},{\"idx\":1388,\"name\":\"1gram_idf_1388\"},{\"idx\":1389,\"name\":\"1gram_idf_1389\"},{\"idx\":1390,\"name\":\"1gram_idf_1390\"},{\"idx\":1391,\"name\":\"1gram_idf_1391\"},{\"idx\":1392,\"name\":\"1gram_idf_1392\"},{\"idx\":1393,\"name\":\"1gram_idf_1393\"},{\"idx\":1394,\"name\":\"1gram_idf_1394\"},{\"idx\":1395,\"name\":\"1gram_idf_1395\"},{\"idx\":1396,\"name\":\"1gram_idf_1396\"},{\"idx\":1397,\"name\":\"1gram_idf_1397\"},{\"idx\":1398,\"name\":\"1gram_idf_1398\"},{\"idx\":1399,\"name\":\"1gram_idf_1399\"},{\"idx\":1400,\"name\":\"1gram_idf_1400\"},{\"idx\":1401,\"name\":\"1gram_idf_1401\"},{\"idx\":1402,\"name\":\"1gram_idf_1402\"},{\"idx\":1403,\"name\":\"1gram_idf_1403\"},{\"idx\":1404,\"name\":\"1gram_idf_1404\"},{\"idx\":1405,\"name\":\"1gram_idf_1405\"},{\"idx\":1406,\"name\":\"1gram_idf_1406\"},{\"idx\":1407,\"name\":\"1gram_idf_1407\"},{\"idx\":1408,\"name\":\"1gram_idf_1408\"},{\"idx\":1409,\"name\":\"1gram_idf_1409\"},{\"idx\":1410,\"name\":\"1gram_idf_1410\"},{\"idx\":1411,\"name\":\"1gram_idf_1411\"},{\"idx\":1412,\"name\":\"1gram_idf_1412\"},{\"idx\":1413,\"name\":\"1gram_idf_1413\"},{\"idx\":1414,\"name\":\"1gram_idf_1414\"},{\"idx\":1415,\"name\":\"1gram_idf_1415\"},{\"idx\":1416,\"name\":\"1gram_idf_1416\"},{\"idx\":1417,\"name\":\"1gram_idf_1417\"},{\"idx\":1418,\"name\":\"1gram_idf_1418\"},{\"idx\":1419,\"name\":\"1gram_idf_1419\"},{\"idx\":1420,\"name\":\"1gram_idf_1420\"},{\"idx\":1421,\"name\":\"1gram_idf_1421\"},{\"idx\":1422,\"name\":\"1gram_idf_1422\"},{\"idx\":1423,\"name\":\"1gram_idf_1423\"},{\"idx\":1424,\"name\":\"1gram_idf_1424\"},{\"idx\":1425,\"name\":\"1gram_idf_1425\"},{\"idx\":1426,\"name\":\"1gram_idf_1426\"},{\"idx\":1427,\"name\":\"1gram_idf_1427\"},{\"idx\":1428,\"name\":\"1gram_idf_1428\"},{\"idx\":1429,\"name\":\"1gram_idf_1429\"},{\"idx\":1430,\"name\":\"1gram_idf_1430\"},{\"idx\":1431,\"name\":\"1gram_idf_1431\"},{\"idx\":1432,\"name\":\"1gram_idf_1432\"},{\"idx\":1433,\"name\":\"1gram_idf_1433\"},{\"idx\":1434,\"name\":\"1gram_idf_1434\"},{\"idx\":1435,\"name\":\"1gram_idf_1435\"},{\"idx\":1436,\"name\":\"1gram_idf_1436\"},{\"idx\":1437,\"name\":\"1gram_idf_1437\"},{\"idx\":1438,\"name\":\"1gram_idf_1438\"},{\"idx\":1439,\"name\":\"1gram_idf_1439\"},{\"idx\":1440,\"name\":\"1gram_idf_1440\"},{\"idx\":1441,\"name\":\"1gram_idf_1441\"},{\"idx\":1442,\"name\":\"1gram_idf_1442\"},{\"idx\":1443,\"name\":\"1gram_idf_1443\"},{\"idx\":1444,\"name\":\"1gram_idf_1444\"},{\"idx\":1445,\"name\":\"1gram_idf_1445\"},{\"idx\":1446,\"name\":\"1gram_idf_1446\"},{\"idx\":1447,\"name\":\"1gram_idf_1447\"},{\"idx\":1448,\"name\":\"1gram_idf_1448\"},{\"idx\":1449,\"name\":\"1gram_idf_1449\"},{\"idx\":1450,\"name\":\"1gram_idf_1450\"},{\"idx\":1451,\"name\":\"1gram_idf_1451\"},{\"idx\":1452,\"name\":\"1gram_idf_1452\"},{\"idx\":1453,\"name\":\"1gram_idf_1453\"},{\"idx\":1454,\"name\":\"1gram_idf_1454\"},{\"idx\":1455,\"name\":\"1gram_idf_1455\"},{\"idx\":1456,\"name\":\"1gram_idf_1456\"},{\"idx\":1457,\"name\":\"1gram_idf_1457\"},{\"idx\":1458,\"name\":\"1gram_idf_1458\"},{\"idx\":1459,\"name\":\"1gram_idf_1459\"},{\"idx\":1460,\"name\":\"1gram_idf_1460\"},{\"idx\":1461,\"name\":\"1gram_idf_1461\"},{\"idx\":1462,\"name\":\"1gram_idf_1462\"},{\"idx\":1463,\"name\":\"1gram_idf_1463\"},{\"idx\":1464,\"name\":\"1gram_idf_1464\"},{\"idx\":1465,\"name\":\"1gram_idf_1465\"},{\"idx\":1466,\"name\":\"1gram_idf_1466\"},{\"idx\":1467,\"name\":\"1gram_idf_1467\"},{\"idx\":1468,\"name\":\"1gram_idf_1468\"},{\"idx\":1469,\"name\":\"1gram_idf_1469\"},{\"idx\":1470,\"name\":\"1gram_idf_1470\"},{\"idx\":1471,\"name\":\"1gram_idf_1471\"},{\"idx\":1472,\"name\":\"1gram_idf_1472\"},{\"idx\":1473,\"name\":\"1gram_idf_1473\"},{\"idx\":1474,\"name\":\"1gram_idf_1474\"},{\"idx\":1475,\"name\":\"1gram_idf_1475\"},{\"idx\":1476,\"name\":\"1gram_idf_1476\"},{\"idx\":1477,\"name\":\"1gram_idf_1477\"},{\"idx\":1478,\"name\":\"1gram_idf_1478\"},{\"idx\":1479,\"name\":\"1gram_idf_1479\"},{\"idx\":1480,\"name\":\"1gram_idf_1480\"},{\"idx\":1481,\"name\":\"1gram_idf_1481\"},{\"idx\":1482,\"name\":\"1gram_idf_1482\"},{\"idx\":1483,\"name\":\"1gram_idf_1483\"},{\"idx\":1484,\"name\":\"1gram_idf_1484\"},{\"idx\":1485,\"name\":\"1gram_idf_1485\"},{\"idx\":1486,\"name\":\"1gram_idf_1486\"},{\"idx\":1487,\"name\":\"1gram_idf_1487\"},{\"idx\":1488,\"name\":\"1gram_idf_1488\"},{\"idx\":1489,\"name\":\"1gram_idf_1489\"},{\"idx\":1490,\"name\":\"1gram_idf_1490\"},{\"idx\":1491,\"name\":\"1gram_idf_1491\"},{\"idx\":1492,\"name\":\"1gram_idf_1492\"},{\"idx\":1493,\"name\":\"1gram_idf_1493\"},{\"idx\":1494,\"name\":\"1gram_idf_1494\"},{\"idx\":1495,\"name\":\"1gram_idf_1495\"},{\"idx\":1496,\"name\":\"1gram_idf_1496\"},{\"idx\":1497,\"name\":\"1gram_idf_1497\"},{\"idx\":1498,\"name\":\"1gram_idf_1498\"},{\"idx\":1499,\"name\":\"1gram_idf_1499\"},{\"idx\":1500,\"name\":\"1gram_idf_1500\"},{\"idx\":1501,\"name\":\"1gram_idf_1501\"},{\"idx\":1502,\"name\":\"1gram_idf_1502\"},{\"idx\":1503,\"name\":\"1gram_idf_1503\"},{\"idx\":1504,\"name\":\"1gram_idf_1504\"},{\"idx\":1505,\"name\":\"1gram_idf_1505\"},{\"idx\":1506,\"name\":\"1gram_idf_1506\"},{\"idx\":1507,\"name\":\"1gram_idf_1507\"},{\"idx\":1508,\"name\":\"1gram_idf_1508\"},{\"idx\":1509,\"name\":\"1gram_idf_1509\"},{\"idx\":1510,\"name\":\"1gram_idf_1510\"},{\"idx\":1511,\"name\":\"1gram_idf_1511\"},{\"idx\":1512,\"name\":\"1gram_idf_1512\"},{\"idx\":1513,\"name\":\"1gram_idf_1513\"},{\"idx\":1514,\"name\":\"1gram_idf_1514\"},{\"idx\":1515,\"name\":\"1gram_idf_1515\"},{\"idx\":1516,\"name\":\"1gram_idf_1516\"},{\"idx\":1517,\"name\":\"1gram_idf_1517\"},{\"idx\":1518,\"name\":\"1gram_idf_1518\"},{\"idx\":1519,\"name\":\"1gram_idf_1519\"},{\"idx\":1520,\"name\":\"1gram_idf_1520\"},{\"idx\":1521,\"name\":\"1gram_idf_1521\"},{\"idx\":1522,\"name\":\"1gram_idf_1522\"},{\"idx\":1523,\"name\":\"1gram_idf_1523\"},{\"idx\":1524,\"name\":\"1gram_idf_1524\"},{\"idx\":1525,\"name\":\"1gram_idf_1525\"},{\"idx\":1526,\"name\":\"1gram_idf_1526\"},{\"idx\":1527,\"name\":\"1gram_idf_1527\"},{\"idx\":1528,\"name\":\"1gram_idf_1528\"},{\"idx\":1529,\"name\":\"1gram_idf_1529\"},{\"idx\":1530,\"name\":\"1gram_idf_1530\"},{\"idx\":1531,\"name\":\"1gram_idf_1531\"},{\"idx\":1532,\"name\":\"1gram_idf_1532\"},{\"idx\":1533,\"name\":\"1gram_idf_1533\"},{\"idx\":1534,\"name\":\"1gram_idf_1534\"},{\"idx\":1535,\"name\":\"1gram_idf_1535\"},{\"idx\":1536,\"name\":\"1gram_idf_1536\"},{\"idx\":1537,\"name\":\"1gram_idf_1537\"},{\"idx\":1538,\"name\":\"1gram_idf_1538\"},{\"idx\":1539,\"name\":\"1gram_idf_1539\"},{\"idx\":1540,\"name\":\"1gram_idf_1540\"},{\"idx\":1541,\"name\":\"1gram_idf_1541\"},{\"idx\":1542,\"name\":\"1gram_idf_1542\"},{\"idx\":1543,\"name\":\"1gram_idf_1543\"},{\"idx\":1544,\"name\":\"1gram_idf_1544\"},{\"idx\":1545,\"name\":\"1gram_idf_1545\"},{\"idx\":1546,\"name\":\"1gram_idf_1546\"},{\"idx\":1547,\"name\":\"1gram_idf_1547\"},{\"idx\":1548,\"name\":\"1gram_idf_1548\"},{\"idx\":1549,\"name\":\"1gram_idf_1549\"},{\"idx\":1550,\"name\":\"1gram_idf_1550\"},{\"idx\":1551,\"name\":\"1gram_idf_1551\"},{\"idx\":1552,\"name\":\"1gram_idf_1552\"},{\"idx\":1553,\"name\":\"1gram_idf_1553\"},{\"idx\":1554,\"name\":\"1gram_idf_1554\"},{\"idx\":1555,\"name\":\"1gram_idf_1555\"},{\"idx\":1556,\"name\":\"1gram_idf_1556\"},{\"idx\":1557,\"name\":\"1gram_idf_1557\"},{\"idx\":1558,\"name\":\"1gram_idf_1558\"},{\"idx\":1559,\"name\":\"1gram_idf_1559\"},{\"idx\":1560,\"name\":\"1gram_idf_1560\"},{\"idx\":1561,\"name\":\"1gram_idf_1561\"},{\"idx\":1562,\"name\":\"1gram_idf_1562\"},{\"idx\":1563,\"name\":\"1gram_idf_1563\"},{\"idx\":1564,\"name\":\"1gram_idf_1564\"},{\"idx\":1565,\"name\":\"1gram_idf_1565\"},{\"idx\":1566,\"name\":\"1gram_idf_1566\"},{\"idx\":1567,\"name\":\"1gram_idf_1567\"},{\"idx\":1568,\"name\":\"1gram_idf_1568\"},{\"idx\":1569,\"name\":\"1gram_idf_1569\"},{\"idx\":1570,\"name\":\"1gram_idf_1570\"},{\"idx\":1571,\"name\":\"1gram_idf_1571\"},{\"idx\":1572,\"name\":\"1gram_idf_1572\"},{\"idx\":1573,\"name\":\"1gram_idf_1573\"},{\"idx\":1574,\"name\":\"1gram_idf_1574\"},{\"idx\":1575,\"name\":\"1gram_idf_1575\"},{\"idx\":1576,\"name\":\"1gram_idf_1576\"},{\"idx\":1577,\"name\":\"1gram_idf_1577\"},{\"idx\":1578,\"name\":\"1gram_idf_1578\"},{\"idx\":1579,\"name\":\"1gram_idf_1579\"},{\"idx\":1580,\"name\":\"1gram_idf_1580\"},{\"idx\":1581,\"name\":\"1gram_idf_1581\"},{\"idx\":1582,\"name\":\"1gram_idf_1582\"},{\"idx\":1583,\"name\":\"1gram_idf_1583\"},{\"idx\":1584,\"name\":\"1gram_idf_1584\"},{\"idx\":1585,\"name\":\"1gram_idf_1585\"},{\"idx\":1586,\"name\":\"1gram_idf_1586\"},{\"idx\":1587,\"name\":\"1gram_idf_1587\"},{\"idx\":1588,\"name\":\"1gram_idf_1588\"},{\"idx\":1589,\"name\":\"1gram_idf_1589\"},{\"idx\":1590,\"name\":\"1gram_idf_1590\"},{\"idx\":1591,\"name\":\"1gram_idf_1591\"},{\"idx\":1592,\"name\":\"1gram_idf_1592\"},{\"idx\":1593,\"name\":\"1gram_idf_1593\"},{\"idx\":1594,\"name\":\"1gram_idf_1594\"},{\"idx\":1595,\"name\":\"1gram_idf_1595\"},{\"idx\":1596,\"name\":\"1gram_idf_1596\"},{\"idx\":1597,\"name\":\"1gram_idf_1597\"},{\"idx\":1598,\"name\":\"1gram_idf_1598\"},{\"idx\":1599,\"name\":\"1gram_idf_1599\"},{\"idx\":1600,\"name\":\"1gram_idf_1600\"},{\"idx\":1601,\"name\":\"1gram_idf_1601\"},{\"idx\":1602,\"name\":\"1gram_idf_1602\"},{\"idx\":1603,\"name\":\"1gram_idf_1603\"},{\"idx\":1604,\"name\":\"1gram_idf_1604\"},{\"idx\":1605,\"name\":\"1gram_idf_1605\"},{\"idx\":1606,\"name\":\"1gram_idf_1606\"},{\"idx\":1607,\"name\":\"1gram_idf_1607\"},{\"idx\":1608,\"name\":\"1gram_idf_1608\"},{\"idx\":1609,\"name\":\"1gram_idf_1609\"},{\"idx\":1610,\"name\":\"1gram_idf_1610\"},{\"idx\":1611,\"name\":\"1gram_idf_1611\"},{\"idx\":1612,\"name\":\"1gram_idf_1612\"},{\"idx\":1613,\"name\":\"1gram_idf_1613\"},{\"idx\":1614,\"name\":\"1gram_idf_1614\"},{\"idx\":1615,\"name\":\"1gram_idf_1615\"},{\"idx\":1616,\"name\":\"1gram_idf_1616\"},{\"idx\":1617,\"name\":\"1gram_idf_1617\"},{\"idx\":1618,\"name\":\"1gram_idf_1618\"},{\"idx\":1619,\"name\":\"1gram_idf_1619\"},{\"idx\":1620,\"name\":\"1gram_idf_1620\"},{\"idx\":1621,\"name\":\"1gram_idf_1621\"},{\"idx\":1622,\"name\":\"1gram_idf_1622\"},{\"idx\":1623,\"name\":\"1gram_idf_1623\"},{\"idx\":1624,\"name\":\"1gram_idf_1624\"},{\"idx\":1625,\"name\":\"1gram_idf_1625\"},{\"idx\":1626,\"name\":\"1gram_idf_1626\"},{\"idx\":1627,\"name\":\"1gram_idf_1627\"},{\"idx\":1628,\"name\":\"1gram_idf_1628\"},{\"idx\":1629,\"name\":\"1gram_idf_1629\"},{\"idx\":1630,\"name\":\"1gram_idf_1630\"},{\"idx\":1631,\"name\":\"1gram_idf_1631\"},{\"idx\":1632,\"name\":\"1gram_idf_1632\"},{\"idx\":1633,\"name\":\"1gram_idf_1633\"},{\"idx\":1634,\"name\":\"1gram_idf_1634\"},{\"idx\":1635,\"name\":\"1gram_idf_1635\"},{\"idx\":1636,\"name\":\"1gram_idf_1636\"},{\"idx\":1637,\"name\":\"1gram_idf_1637\"},{\"idx\":1638,\"name\":\"1gram_idf_1638\"},{\"idx\":1639,\"name\":\"1gram_idf_1639\"},{\"idx\":1640,\"name\":\"1gram_idf_1640\"},{\"idx\":1641,\"name\":\"1gram_idf_1641\"},{\"idx\":1642,\"name\":\"1gram_idf_1642\"},{\"idx\":1643,\"name\":\"1gram_idf_1643\"},{\"idx\":1644,\"name\":\"1gram_idf_1644\"},{\"idx\":1645,\"name\":\"1gram_idf_1645\"},{\"idx\":1646,\"name\":\"1gram_idf_1646\"},{\"idx\":1647,\"name\":\"1gram_idf_1647\"},{\"idx\":1648,\"name\":\"1gram_idf_1648\"},{\"idx\":1649,\"name\":\"1gram_idf_1649\"},{\"idx\":1650,\"name\":\"1gram_idf_1650\"},{\"idx\":1651,\"name\":\"1gram_idf_1651\"},{\"idx\":1652,\"name\":\"1gram_idf_1652\"},{\"idx\":1653,\"name\":\"1gram_idf_1653\"},{\"idx\":1654,\"name\":\"1gram_idf_1654\"},{\"idx\":1655,\"name\":\"1gram_idf_1655\"},{\"idx\":1656,\"name\":\"1gram_idf_1656\"},{\"idx\":1657,\"name\":\"1gram_idf_1657\"},{\"idx\":1658,\"name\":\"1gram_idf_1658\"},{\"idx\":1659,\"name\":\"1gram_idf_1659\"},{\"idx\":1660,\"name\":\"1gram_idf_1660\"},{\"idx\":1661,\"name\":\"1gram_idf_1661\"},{\"idx\":1662,\"name\":\"1gram_idf_1662\"},{\"idx\":1663,\"name\":\"1gram_idf_1663\"},{\"idx\":1664,\"name\":\"1gram_idf_1664\"},{\"idx\":1665,\"name\":\"1gram_idf_1665\"},{\"idx\":1666,\"name\":\"1gram_idf_1666\"},{\"idx\":1667,\"name\":\"1gram_idf_1667\"},{\"idx\":1668,\"name\":\"1gram_idf_1668\"},{\"idx\":1669,\"name\":\"1gram_idf_1669\"},{\"idx\":1670,\"name\":\"1gram_idf_1670\"},{\"idx\":1671,\"name\":\"1gram_idf_1671\"},{\"idx\":1672,\"name\":\"1gram_idf_1672\"},{\"idx\":1673,\"name\":\"1gram_idf_1673\"},{\"idx\":1674,\"name\":\"1gram_idf_1674\"},{\"idx\":1675,\"name\":\"1gram_idf_1675\"},{\"idx\":1676,\"name\":\"1gram_idf_1676\"},{\"idx\":1677,\"name\":\"1gram_idf_1677\"},{\"idx\":1678,\"name\":\"1gram_idf_1678\"},{\"idx\":1679,\"name\":\"1gram_idf_1679\"},{\"idx\":1680,\"name\":\"1gram_idf_1680\"},{\"idx\":1681,\"name\":\"1gram_idf_1681\"},{\"idx\":1682,\"name\":\"1gram_idf_1682\"},{\"idx\":1683,\"name\":\"1gram_idf_1683\"},{\"idx\":1684,\"name\":\"1gram_idf_1684\"},{\"idx\":1685,\"name\":\"1gram_idf_1685\"},{\"idx\":1686,\"name\":\"1gram_idf_1686\"},{\"idx\":1687,\"name\":\"1gram_idf_1687\"},{\"idx\":1688,\"name\":\"1gram_idf_1688\"},{\"idx\":1689,\"name\":\"1gram_idf_1689\"},{\"idx\":1690,\"name\":\"1gram_idf_1690\"},{\"idx\":1691,\"name\":\"1gram_idf_1691\"},{\"idx\":1692,\"name\":\"1gram_idf_1692\"},{\"idx\":1693,\"name\":\"1gram_idf_1693\"},{\"idx\":1694,\"name\":\"1gram_idf_1694\"},{\"idx\":1695,\"name\":\"1gram_idf_1695\"},{\"idx\":1696,\"name\":\"1gram_idf_1696\"},{\"idx\":1697,\"name\":\"1gram_idf_1697\"},{\"idx\":1698,\"name\":\"1gram_idf_1698\"},{\"idx\":1699,\"name\":\"1gram_idf_1699\"},{\"idx\":1700,\"name\":\"1gram_idf_1700\"},{\"idx\":1701,\"name\":\"1gram_idf_1701\"},{\"idx\":1702,\"name\":\"1gram_idf_1702\"},{\"idx\":1703,\"name\":\"1gram_idf_1703\"},{\"idx\":1704,\"name\":\"1gram_idf_1704\"},{\"idx\":1705,\"name\":\"1gram_idf_1705\"},{\"idx\":1706,\"name\":\"1gram_idf_1706\"},{\"idx\":1707,\"name\":\"1gram_idf_1707\"},{\"idx\":1708,\"name\":\"1gram_idf_1708\"},{\"idx\":1709,\"name\":\"1gram_idf_1709\"},{\"idx\":1710,\"name\":\"1gram_idf_1710\"},{\"idx\":1711,\"name\":\"1gram_idf_1711\"},{\"idx\":1712,\"name\":\"1gram_idf_1712\"},{\"idx\":1713,\"name\":\"1gram_idf_1713\"},{\"idx\":1714,\"name\":\"1gram_idf_1714\"},{\"idx\":1715,\"name\":\"1gram_idf_1715\"},{\"idx\":1716,\"name\":\"1gram_idf_1716\"},{\"idx\":1717,\"name\":\"1gram_idf_1717\"},{\"idx\":1718,\"name\":\"1gram_idf_1718\"},{\"idx\":1719,\"name\":\"1gram_idf_1719\"},{\"idx\":1720,\"name\":\"1gram_idf_1720\"},{\"idx\":1721,\"name\":\"1gram_idf_1721\"},{\"idx\":1722,\"name\":\"1gram_idf_1722\"},{\"idx\":1723,\"name\":\"1gram_idf_1723\"},{\"idx\":1724,\"name\":\"1gram_idf_1724\"},{\"idx\":1725,\"name\":\"1gram_idf_1725\"},{\"idx\":1726,\"name\":\"1gram_idf_1726\"},{\"idx\":1727,\"name\":\"1gram_idf_1727\"},{\"idx\":1728,\"name\":\"1gram_idf_1728\"},{\"idx\":1729,\"name\":\"1gram_idf_1729\"},{\"idx\":1730,\"name\":\"1gram_idf_1730\"},{\"idx\":1731,\"name\":\"1gram_idf_1731\"},{\"idx\":1732,\"name\":\"1gram_idf_1732\"},{\"idx\":1733,\"name\":\"1gram_idf_1733\"},{\"idx\":1734,\"name\":\"1gram_idf_1734\"},{\"idx\":1735,\"name\":\"1gram_idf_1735\"},{\"idx\":1736,\"name\":\"1gram_idf_1736\"},{\"idx\":1737,\"name\":\"1gram_idf_1737\"},{\"idx\":1738,\"name\":\"1gram_idf_1738\"},{\"idx\":1739,\"name\":\"1gram_idf_1739\"},{\"idx\":1740,\"name\":\"1gram_idf_1740\"},{\"idx\":1741,\"name\":\"1gram_idf_1741\"},{\"idx\":1742,\"name\":\"1gram_idf_1742\"},{\"idx\":1743,\"name\":\"1gram_idf_1743\"},{\"idx\":1744,\"name\":\"1gram_idf_1744\"},{\"idx\":1745,\"name\":\"1gram_idf_1745\"},{\"idx\":1746,\"name\":\"1gram_idf_1746\"},{\"idx\":1747,\"name\":\"1gram_idf_1747\"},{\"idx\":1748,\"name\":\"1gram_idf_1748\"},{\"idx\":1749,\"name\":\"1gram_idf_1749\"},{\"idx\":1750,\"name\":\"1gram_idf_1750\"},{\"idx\":1751,\"name\":\"1gram_idf_1751\"},{\"idx\":1752,\"name\":\"1gram_idf_1752\"},{\"idx\":1753,\"name\":\"1gram_idf_1753\"},{\"idx\":1754,\"name\":\"1gram_idf_1754\"},{\"idx\":1755,\"name\":\"1gram_idf_1755\"},{\"idx\":1756,\"name\":\"1gram_idf_1756\"},{\"idx\":1757,\"name\":\"1gram_idf_1757\"},{\"idx\":1758,\"name\":\"1gram_idf_1758\"},{\"idx\":1759,\"name\":\"1gram_idf_1759\"},{\"idx\":1760,\"name\":\"1gram_idf_1760\"},{\"idx\":1761,\"name\":\"1gram_idf_1761\"},{\"idx\":1762,\"name\":\"1gram_idf_1762\"},{\"idx\":1763,\"name\":\"1gram_idf_1763\"},{\"idx\":1764,\"name\":\"1gram_idf_1764\"},{\"idx\":1765,\"name\":\"1gram_idf_1765\"},{\"idx\":1766,\"name\":\"1gram_idf_1766\"},{\"idx\":1767,\"name\":\"1gram_idf_1767\"},{\"idx\":1768,\"name\":\"1gram_idf_1768\"},{\"idx\":1769,\"name\":\"1gram_idf_1769\"},{\"idx\":1770,\"name\":\"1gram_idf_1770\"},{\"idx\":1771,\"name\":\"1gram_idf_1771\"},{\"idx\":1772,\"name\":\"1gram_idf_1772\"},{\"idx\":1773,\"name\":\"1gram_idf_1773\"},{\"idx\":1774,\"name\":\"1gram_idf_1774\"},{\"idx\":1775,\"name\":\"1gram_idf_1775\"},{\"idx\":1776,\"name\":\"1gram_idf_1776\"},{\"idx\":1777,\"name\":\"1gram_idf_1777\"},{\"idx\":1778,\"name\":\"1gram_idf_1778\"},{\"idx\":1779,\"name\":\"1gram_idf_1779\"},{\"idx\":1780,\"name\":\"1gram_idf_1780\"},{\"idx\":1781,\"name\":\"1gram_idf_1781\"},{\"idx\":1782,\"name\":\"1gram_idf_1782\"},{\"idx\":1783,\"name\":\"1gram_idf_1783\"},{\"idx\":1784,\"name\":\"1gram_idf_1784\"},{\"idx\":1785,\"name\":\"1gram_idf_1785\"},{\"idx\":1786,\"name\":\"1gram_idf_1786\"},{\"idx\":1787,\"name\":\"1gram_idf_1787\"},{\"idx\":1788,\"name\":\"1gram_idf_1788\"},{\"idx\":1789,\"name\":\"1gram_idf_1789\"},{\"idx\":1790,\"name\":\"1gram_idf_1790\"},{\"idx\":1791,\"name\":\"1gram_idf_1791\"},{\"idx\":1792,\"name\":\"1gram_idf_1792\"},{\"idx\":1793,\"name\":\"1gram_idf_1793\"},{\"idx\":1794,\"name\":\"1gram_idf_1794\"},{\"idx\":1795,\"name\":\"1gram_idf_1795\"},{\"idx\":1796,\"name\":\"1gram_idf_1796\"},{\"idx\":1797,\"name\":\"1gram_idf_1797\"},{\"idx\":1798,\"name\":\"1gram_idf_1798\"},{\"idx\":1799,\"name\":\"1gram_idf_1799\"},{\"idx\":1800,\"name\":\"1gram_idf_1800\"},{\"idx\":1801,\"name\":\"1gram_idf_1801\"},{\"idx\":1802,\"name\":\"1gram_idf_1802\"},{\"idx\":1803,\"name\":\"1gram_idf_1803\"},{\"idx\":1804,\"name\":\"1gram_idf_1804\"},{\"idx\":1805,\"name\":\"1gram_idf_1805\"},{\"idx\":1806,\"name\":\"1gram_idf_1806\"},{\"idx\":1807,\"name\":\"1gram_idf_1807\"},{\"idx\":1808,\"name\":\"1gram_idf_1808\"},{\"idx\":1809,\"name\":\"1gram_idf_1809\"},{\"idx\":1810,\"name\":\"1gram_idf_1810\"},{\"idx\":1811,\"name\":\"1gram_idf_1811\"},{\"idx\":1812,\"name\":\"1gram_idf_1812\"},{\"idx\":1813,\"name\":\"1gram_idf_1813\"},{\"idx\":1814,\"name\":\"1gram_idf_1814\"},{\"idx\":1815,\"name\":\"1gram_idf_1815\"},{\"idx\":1816,\"name\":\"1gram_idf_1816\"},{\"idx\":1817,\"name\":\"1gram_idf_1817\"},{\"idx\":1818,\"name\":\"1gram_idf_1818\"},{\"idx\":1819,\"name\":\"1gram_idf_1819\"},{\"idx\":1820,\"name\":\"1gram_idf_1820\"},{\"idx\":1821,\"name\":\"1gram_idf_1821\"},{\"idx\":1822,\"name\":\"1gram_idf_1822\"},{\"idx\":1823,\"name\":\"1gram_idf_1823\"},{\"idx\":1824,\"name\":\"1gram_idf_1824\"},{\"idx\":1825,\"name\":\"1gram_idf_1825\"},{\"idx\":1826,\"name\":\"1gram_idf_1826\"},{\"idx\":1827,\"name\":\"1gram_idf_1827\"},{\"idx\":1828,\"name\":\"1gram_idf_1828\"},{\"idx\":1829,\"name\":\"1gram_idf_1829\"},{\"idx\":1830,\"name\":\"1gram_idf_1830\"},{\"idx\":1831,\"name\":\"1gram_idf_1831\"},{\"idx\":1832,\"name\":\"1gram_idf_1832\"},{\"idx\":1833,\"name\":\"1gram_idf_1833\"},{\"idx\":1834,\"name\":\"1gram_idf_1834\"},{\"idx\":1835,\"name\":\"1gram_idf_1835\"},{\"idx\":1836,\"name\":\"1gram_idf_1836\"},{\"idx\":1837,\"name\":\"1gram_idf_1837\"},{\"idx\":1838,\"name\":\"1gram_idf_1838\"},{\"idx\":1839,\"name\":\"1gram_idf_1839\"},{\"idx\":1840,\"name\":\"1gram_idf_1840\"},{\"idx\":1841,\"name\":\"1gram_idf_1841\"},{\"idx\":1842,\"name\":\"1gram_idf_1842\"},{\"idx\":1843,\"name\":\"1gram_idf_1843\"},{\"idx\":1844,\"name\":\"1gram_idf_1844\"},{\"idx\":1845,\"name\":\"1gram_idf_1845\"},{\"idx\":1846,\"name\":\"1gram_idf_1846\"},{\"idx\":1847,\"name\":\"1gram_idf_1847\"},{\"idx\":1848,\"name\":\"1gram_idf_1848\"},{\"idx\":1849,\"name\":\"1gram_idf_1849\"},{\"idx\":1850,\"name\":\"1gram_idf_1850\"},{\"idx\":1851,\"name\":\"1gram_idf_1851\"},{\"idx\":1852,\"name\":\"1gram_idf_1852\"},{\"idx\":1853,\"name\":\"1gram_idf_1853\"},{\"idx\":1854,\"name\":\"1gram_idf_1854\"},{\"idx\":1855,\"name\":\"1gram_idf_1855\"},{\"idx\":1856,\"name\":\"1gram_idf_1856\"},{\"idx\":1857,\"name\":\"1gram_idf_1857\"},{\"idx\":1858,\"name\":\"1gram_idf_1858\"},{\"idx\":1859,\"name\":\"1gram_idf_1859\"},{\"idx\":1860,\"name\":\"1gram_idf_1860\"},{\"idx\":1861,\"name\":\"1gram_idf_1861\"},{\"idx\":1862,\"name\":\"1gram_idf_1862\"},{\"idx\":1863,\"name\":\"1gram_idf_1863\"},{\"idx\":1864,\"name\":\"1gram_idf_1864\"},{\"idx\":1865,\"name\":\"1gram_idf_1865\"},{\"idx\":1866,\"name\":\"1gram_idf_1866\"},{\"idx\":1867,\"name\":\"1gram_idf_1867\"},{\"idx\":1868,\"name\":\"1gram_idf_1868\"},{\"idx\":1869,\"name\":\"1gram_idf_1869\"},{\"idx\":1870,\"name\":\"1gram_idf_1870\"},{\"idx\":1871,\"name\":\"1gram_idf_1871\"},{\"idx\":1872,\"name\":\"1gram_idf_1872\"},{\"idx\":1873,\"name\":\"1gram_idf_1873\"},{\"idx\":1874,\"name\":\"1gram_idf_1874\"},{\"idx\":1875,\"name\":\"1gram_idf_1875\"},{\"idx\":1876,\"name\":\"1gram_idf_1876\"},{\"idx\":1877,\"name\":\"1gram_idf_1877\"},{\"idx\":1878,\"name\":\"1gram_idf_1878\"},{\"idx\":1879,\"name\":\"1gram_idf_1879\"},{\"idx\":1880,\"name\":\"1gram_idf_1880\"},{\"idx\":1881,\"name\":\"1gram_idf_1881\"},{\"idx\":1882,\"name\":\"1gram_idf_1882\"},{\"idx\":1883,\"name\":\"1gram_idf_1883\"},{\"idx\":1884,\"name\":\"1gram_idf_1884\"},{\"idx\":1885,\"name\":\"1gram_idf_1885\"},{\"idx\":1886,\"name\":\"1gram_idf_1886\"},{\"idx\":1887,\"name\":\"1gram_idf_1887\"},{\"idx\":1888,\"name\":\"1gram_idf_1888\"},{\"idx\":1889,\"name\":\"1gram_idf_1889\"},{\"idx\":1890,\"name\":\"1gram_idf_1890\"},{\"idx\":1891,\"name\":\"1gram_idf_1891\"},{\"idx\":1892,\"name\":\"1gram_idf_1892\"},{\"idx\":1893,\"name\":\"1gram_idf_1893\"},{\"idx\":1894,\"name\":\"1gram_idf_1894\"},{\"idx\":1895,\"name\":\"1gram_idf_1895\"},{\"idx\":1896,\"name\":\"1gram_idf_1896\"},{\"idx\":1897,\"name\":\"1gram_idf_1897\"},{\"idx\":1898,\"name\":\"1gram_idf_1898\"},{\"idx\":1899,\"name\":\"1gram_idf_1899\"},{\"idx\":1900,\"name\":\"1gram_idf_1900\"},{\"idx\":1901,\"name\":\"1gram_idf_1901\"},{\"idx\":1902,\"name\":\"1gram_idf_1902\"},{\"idx\":1903,\"name\":\"1gram_idf_1903\"},{\"idx\":1904,\"name\":\"1gram_idf_1904\"},{\"idx\":1905,\"name\":\"1gram_idf_1905\"},{\"idx\":1906,\"name\":\"1gram_idf_1906\"},{\"idx\":1907,\"name\":\"1gram_idf_1907\"},{\"idx\":1908,\"name\":\"1gram_idf_1908\"},{\"idx\":1909,\"name\":\"1gram_idf_1909\"},{\"idx\":1910,\"name\":\"1gram_idf_1910\"},{\"idx\":1911,\"name\":\"1gram_idf_1911\"},{\"idx\":1912,\"name\":\"1gram_idf_1912\"},{\"idx\":1913,\"name\":\"1gram_idf_1913\"},{\"idx\":1914,\"name\":\"1gram_idf_1914\"},{\"idx\":1915,\"name\":\"1gram_idf_1915\"},{\"idx\":1916,\"name\":\"1gram_idf_1916\"},{\"idx\":1917,\"name\":\"1gram_idf_1917\"},{\"idx\":1918,\"name\":\"1gram_idf_1918\"},{\"idx\":1919,\"name\":\"1gram_idf_1919\"},{\"idx\":1920,\"name\":\"1gram_idf_1920\"},{\"idx\":1921,\"name\":\"1gram_idf_1921\"},{\"idx\":1922,\"name\":\"1gram_idf_1922\"},{\"idx\":1923,\"name\":\"1gram_idf_1923\"},{\"idx\":1924,\"name\":\"1gram_idf_1924\"},{\"idx\":1925,\"name\":\"1gram_idf_1925\"},{\"idx\":1926,\"name\":\"1gram_idf_1926\"},{\"idx\":1927,\"name\":\"1gram_idf_1927\"},{\"idx\":1928,\"name\":\"1gram_idf_1928\"},{\"idx\":1929,\"name\":\"1gram_idf_1929\"},{\"idx\":1930,\"name\":\"1gram_idf_1930\"},{\"idx\":1931,\"name\":\"1gram_idf_1931\"},{\"idx\":1932,\"name\":\"1gram_idf_1932\"},{\"idx\":1933,\"name\":\"1gram_idf_1933\"},{\"idx\":1934,\"name\":\"1gram_idf_1934\"},{\"idx\":1935,\"name\":\"1gram_idf_1935\"},{\"idx\":1936,\"name\":\"1gram_idf_1936\"},{\"idx\":1937,\"name\":\"1gram_idf_1937\"},{\"idx\":1938,\"name\":\"1gram_idf_1938\"},{\"idx\":1939,\"name\":\"1gram_idf_1939\"},{\"idx\":1940,\"name\":\"1gram_idf_1940\"},{\"idx\":1941,\"name\":\"1gram_idf_1941\"},{\"idx\":1942,\"name\":\"1gram_idf_1942\"},{\"idx\":1943,\"name\":\"1gram_idf_1943\"},{\"idx\":1944,\"name\":\"1gram_idf_1944\"},{\"idx\":1945,\"name\":\"1gram_idf_1945\"},{\"idx\":1946,\"name\":\"1gram_idf_1946\"},{\"idx\":1947,\"name\":\"1gram_idf_1947\"},{\"idx\":1948,\"name\":\"1gram_idf_1948\"},{\"idx\":1949,\"name\":\"1gram_idf_1949\"},{\"idx\":1950,\"name\":\"1gram_idf_1950\"},{\"idx\":1951,\"name\":\"1gram_idf_1951\"},{\"idx\":1952,\"name\":\"1gram_idf_1952\"},{\"idx\":1953,\"name\":\"1gram_idf_1953\"},{\"idx\":1954,\"name\":\"1gram_idf_1954\"},{\"idx\":1955,\"name\":\"1gram_idf_1955\"},{\"idx\":1956,\"name\":\"1gram_idf_1956\"},{\"idx\":1957,\"name\":\"1gram_idf_1957\"},{\"idx\":1958,\"name\":\"1gram_idf_1958\"},{\"idx\":1959,\"name\":\"1gram_idf_1959\"},{\"idx\":1960,\"name\":\"1gram_idf_1960\"},{\"idx\":1961,\"name\":\"1gram_idf_1961\"},{\"idx\":1962,\"name\":\"1gram_idf_1962\"},{\"idx\":1963,\"name\":\"1gram_idf_1963\"},{\"idx\":1964,\"name\":\"1gram_idf_1964\"},{\"idx\":1965,\"name\":\"1gram_idf_1965\"},{\"idx\":1966,\"name\":\"1gram_idf_1966\"},{\"idx\":1967,\"name\":\"1gram_idf_1967\"},{\"idx\":1968,\"name\":\"1gram_idf_1968\"},{\"idx\":1969,\"name\":\"1gram_idf_1969\"},{\"idx\":1970,\"name\":\"1gram_idf_1970\"},{\"idx\":1971,\"name\":\"1gram_idf_1971\"},{\"idx\":1972,\"name\":\"1gram_idf_1972\"},{\"idx\":1973,\"name\":\"1gram_idf_1973\"},{\"idx\":1974,\"name\":\"1gram_idf_1974\"},{\"idx\":1975,\"name\":\"1gram_idf_1975\"},{\"idx\":1976,\"name\":\"1gram_idf_1976\"},{\"idx\":1977,\"name\":\"1gram_idf_1977\"},{\"idx\":1978,\"name\":\"1gram_idf_1978\"},{\"idx\":1979,\"name\":\"1gram_idf_1979\"},{\"idx\":1980,\"name\":\"1gram_idf_1980\"},{\"idx\":1981,\"name\":\"1gram_idf_1981\"},{\"idx\":1982,\"name\":\"1gram_idf_1982\"},{\"idx\":1983,\"name\":\"1gram_idf_1983\"},{\"idx\":1984,\"name\":\"1gram_idf_1984\"},{\"idx\":1985,\"name\":\"1gram_idf_1985\"},{\"idx\":1986,\"name\":\"1gram_idf_1986\"},{\"idx\":1987,\"name\":\"1gram_idf_1987\"},{\"idx\":1988,\"name\":\"1gram_idf_1988\"},{\"idx\":1989,\"name\":\"1gram_idf_1989\"},{\"idx\":1990,\"name\":\"1gram_idf_1990\"},{\"idx\":1991,\"name\":\"1gram_idf_1991\"},{\"idx\":1992,\"name\":\"1gram_idf_1992\"},{\"idx\":1993,\"name\":\"1gram_idf_1993\"},{\"idx\":1994,\"name\":\"1gram_idf_1994\"},{\"idx\":1995,\"name\":\"1gram_idf_1995\"},{\"idx\":1996,\"name\":\"1gram_idf_1996\"},{\"idx\":1997,\"name\":\"1gram_idf_1997\"},{\"idx\":1998,\"name\":\"1gram_idf_1998\"},{\"idx\":1999,\"name\":\"1gram_idf_1999\"},{\"idx\":2000,\"name\":\"1gram_idf_2000\"},{\"idx\":2001,\"name\":\"1gram_idf_2001\"},{\"idx\":2002,\"name\":\"1gram_idf_2002\"},{\"idx\":2003,\"name\":\"1gram_idf_2003\"},{\"idx\":2004,\"name\":\"1gram_idf_2004\"},{\"idx\":2005,\"name\":\"1gram_idf_2005\"},{\"idx\":2006,\"name\":\"1gram_idf_2006\"},{\"idx\":2007,\"name\":\"1gram_idf_2007\"},{\"idx\":2008,\"name\":\"1gram_idf_2008\"},{\"idx\":2009,\"name\":\"1gram_idf_2009\"},{\"idx\":2010,\"name\":\"1gram_idf_2010\"},{\"idx\":2011,\"name\":\"1gram_idf_2011\"},{\"idx\":2012,\"name\":\"1gram_idf_2012\"},{\"idx\":2013,\"name\":\"1gram_idf_2013\"},{\"idx\":2014,\"name\":\"1gram_idf_2014\"},{\"idx\":2015,\"name\":\"1gram_idf_2015\"},{\"idx\":2016,\"name\":\"1gram_idf_2016\"},{\"idx\":2017,\"name\":\"1gram_idf_2017\"},{\"idx\":2018,\"name\":\"1gram_idf_2018\"},{\"idx\":2019,\"name\":\"1gram_idf_2019\"},{\"idx\":2020,\"name\":\"1gram_idf_2020\"},{\"idx\":2021,\"name\":\"1gram_idf_2021\"},{\"idx\":2022,\"name\":\"1gram_idf_2022\"},{\"idx\":2023,\"name\":\"1gram_idf_2023\"},{\"idx\":2024,\"name\":\"1gram_idf_2024\"},{\"idx\":2025,\"name\":\"1gram_idf_2025\"},{\"idx\":2026,\"name\":\"1gram_idf_2026\"},{\"idx\":2027,\"name\":\"1gram_idf_2027\"},{\"idx\":2028,\"name\":\"1gram_idf_2028\"},{\"idx\":2029,\"name\":\"1gram_idf_2029\"},{\"idx\":2030,\"name\":\"1gram_idf_2030\"},{\"idx\":2031,\"name\":\"1gram_idf_2031\"},{\"idx\":2032,\"name\":\"1gram_idf_2032\"},{\"idx\":2033,\"name\":\"1gram_idf_2033\"},{\"idx\":2034,\"name\":\"1gram_idf_2034\"},{\"idx\":2035,\"name\":\"1gram_idf_2035\"},{\"idx\":2036,\"name\":\"1gram_idf_2036\"},{\"idx\":2037,\"name\":\"1gram_idf_2037\"},{\"idx\":2038,\"name\":\"1gram_idf_2038\"},{\"idx\":2039,\"name\":\"1gram_idf_2039\"},{\"idx\":2040,\"name\":\"1gram_idf_2040\"},{\"idx\":2041,\"name\":\"1gram_idf_2041\"},{\"idx\":2042,\"name\":\"1gram_idf_2042\"},{\"idx\":2043,\"name\":\"1gram_idf_2043\"},{\"idx\":2044,\"name\":\"1gram_idf_2044\"},{\"idx\":2045,\"name\":\"1gram_idf_2045\"},{\"idx\":2046,\"name\":\"1gram_idf_2046\"},{\"idx\":2047,\"name\":\"1gram_idf_2047\"},{\"idx\":2048,\"name\":\"1gram_idf_2048\"},{\"idx\":2049,\"name\":\"1gram_idf_2049\"},{\"idx\":2050,\"name\":\"1gram_idf_2050\"},{\"idx\":2051,\"name\":\"1gram_idf_2051\"},{\"idx\":2052,\"name\":\"1gram_idf_2052\"},{\"idx\":2053,\"name\":\"1gram_idf_2053\"},{\"idx\":2054,\"name\":\"1gram_idf_2054\"},{\"idx\":2055,\"name\":\"1gram_idf_2055\"},{\"idx\":2056,\"name\":\"1gram_idf_2056\"},{\"idx\":2057,\"name\":\"1gram_idf_2057\"},{\"idx\":2058,\"name\":\"1gram_idf_2058\"},{\"idx\":2059,\"name\":\"1gram_idf_2059\"},{\"idx\":2060,\"name\":\"1gram_idf_2060\"},{\"idx\":2061,\"name\":\"1gram_idf_2061\"},{\"idx\":2062,\"name\":\"1gram_idf_2062\"},{\"idx\":2063,\"name\":\"1gram_idf_2063\"},{\"idx\":2064,\"name\":\"1gram_idf_2064\"},{\"idx\":2065,\"name\":\"1gram_idf_2065\"},{\"idx\":2066,\"name\":\"1gram_idf_2066\"},{\"idx\":2067,\"name\":\"1gram_idf_2067\"},{\"idx\":2068,\"name\":\"1gram_idf_2068\"},{\"idx\":2069,\"name\":\"1gram_idf_2069\"},{\"idx\":2070,\"name\":\"1gram_idf_2070\"},{\"idx\":2071,\"name\":\"1gram_idf_2071\"},{\"idx\":2072,\"name\":\"1gram_idf_2072\"},{\"idx\":2073,\"name\":\"1gram_idf_2073\"},{\"idx\":2074,\"name\":\"1gram_idf_2074\"},{\"idx\":2075,\"name\":\"1gram_idf_2075\"},{\"idx\":2076,\"name\":\"1gram_idf_2076\"},{\"idx\":2077,\"name\":\"1gram_idf_2077\"},{\"idx\":2078,\"name\":\"1gram_idf_2078\"},{\"idx\":2079,\"name\":\"1gram_idf_2079\"},{\"idx\":2080,\"name\":\"1gram_idf_2080\"},{\"idx\":2081,\"name\":\"1gram_idf_2081\"},{\"idx\":2082,\"name\":\"1gram_idf_2082\"},{\"idx\":2083,\"name\":\"1gram_idf_2083\"},{\"idx\":2084,\"name\":\"1gram_idf_2084\"},{\"idx\":2085,\"name\":\"1gram_idf_2085\"},{\"idx\":2086,\"name\":\"1gram_idf_2086\"},{\"idx\":2087,\"name\":\"1gram_idf_2087\"},{\"idx\":2088,\"name\":\"1gram_idf_2088\"},{\"idx\":2089,\"name\":\"1gram_idf_2089\"},{\"idx\":2090,\"name\":\"1gram_idf_2090\"},{\"idx\":2091,\"name\":\"1gram_idf_2091\"},{\"idx\":2092,\"name\":\"1gram_idf_2092\"},{\"idx\":2093,\"name\":\"1gram_idf_2093\"},{\"idx\":2094,\"name\":\"1gram_idf_2094\"},{\"idx\":2095,\"name\":\"1gram_idf_2095\"},{\"idx\":2096,\"name\":\"1gram_idf_2096\"},{\"idx\":2097,\"name\":\"1gram_idf_2097\"},{\"idx\":2098,\"name\":\"1gram_idf_2098\"},{\"idx\":2099,\"name\":\"1gram_idf_2099\"},{\"idx\":2100,\"name\":\"1gram_idf_2100\"},{\"idx\":2101,\"name\":\"1gram_idf_2101\"},{\"idx\":2102,\"name\":\"1gram_idf_2102\"},{\"idx\":2103,\"name\":\"1gram_idf_2103\"},{\"idx\":2104,\"name\":\"1gram_idf_2104\"},{\"idx\":2105,\"name\":\"1gram_idf_2105\"},{\"idx\":2106,\"name\":\"1gram_idf_2106\"},{\"idx\":2107,\"name\":\"1gram_idf_2107\"},{\"idx\":2108,\"name\":\"1gram_idf_2108\"},{\"idx\":2109,\"name\":\"1gram_idf_2109\"},{\"idx\":2110,\"name\":\"1gram_idf_2110\"},{\"idx\":2111,\"name\":\"1gram_idf_2111\"},{\"idx\":2112,\"name\":\"1gram_idf_2112\"},{\"idx\":2113,\"name\":\"1gram_idf_2113\"},{\"idx\":2114,\"name\":\"1gram_idf_2114\"},{\"idx\":2115,\"name\":\"1gram_idf_2115\"},{\"idx\":2116,\"name\":\"1gram_idf_2116\"},{\"idx\":2117,\"name\":\"1gram_idf_2117\"},{\"idx\":2118,\"name\":\"1gram_idf_2118\"},{\"idx\":2119,\"name\":\"1gram_idf_2119\"},{\"idx\":2120,\"name\":\"1gram_idf_2120\"},{\"idx\":2121,\"name\":\"1gram_idf_2121\"},{\"idx\":2122,\"name\":\"1gram_idf_2122\"},{\"idx\":2123,\"name\":\"1gram_idf_2123\"},{\"idx\":2124,\"name\":\"1gram_idf_2124\"},{\"idx\":2125,\"name\":\"1gram_idf_2125\"},{\"idx\":2126,\"name\":\"1gram_idf_2126\"},{\"idx\":2127,\"name\":\"1gram_idf_2127\"},{\"idx\":2128,\"name\":\"1gram_idf_2128\"},{\"idx\":2129,\"name\":\"1gram_idf_2129\"},{\"idx\":2130,\"name\":\"1gram_idf_2130\"},{\"idx\":2131,\"name\":\"1gram_idf_2131\"},{\"idx\":2132,\"name\":\"1gram_idf_2132\"},{\"idx\":2133,\"name\":\"1gram_idf_2133\"},{\"idx\":2134,\"name\":\"1gram_idf_2134\"},{\"idx\":2135,\"name\":\"1gram_idf_2135\"},{\"idx\":2136,\"name\":\"1gram_idf_2136\"},{\"idx\":2137,\"name\":\"1gram_idf_2137\"},{\"idx\":2138,\"name\":\"1gram_idf_2138\"},{\"idx\":2139,\"name\":\"1gram_idf_2139\"},{\"idx\":2140,\"name\":\"1gram_idf_2140\"},{\"idx\":2141,\"name\":\"1gram_idf_2141\"},{\"idx\":2142,\"name\":\"1gram_idf_2142\"},{\"idx\":2143,\"name\":\"1gram_idf_2143\"},{\"idx\":2144,\"name\":\"1gram_idf_2144\"},{\"idx\":2145,\"name\":\"1gram_idf_2145\"},{\"idx\":2146,\"name\":\"1gram_idf_2146\"},{\"idx\":2147,\"name\":\"1gram_idf_2147\"},{\"idx\":2148,\"name\":\"1gram_idf_2148\"},{\"idx\":2149,\"name\":\"1gram_idf_2149\"},{\"idx\":2150,\"name\":\"1gram_idf_2150\"},{\"idx\":2151,\"name\":\"1gram_idf_2151\"},{\"idx\":2152,\"name\":\"1gram_idf_2152\"},{\"idx\":2153,\"name\":\"1gram_idf_2153\"},{\"idx\":2154,\"name\":\"1gram_idf_2154\"},{\"idx\":2155,\"name\":\"1gram_idf_2155\"},{\"idx\":2156,\"name\":\"1gram_idf_2156\"},{\"idx\":2157,\"name\":\"1gram_idf_2157\"},{\"idx\":2158,\"name\":\"1gram_idf_2158\"},{\"idx\":2159,\"name\":\"1gram_idf_2159\"},{\"idx\":2160,\"name\":\"1gram_idf_2160\"},{\"idx\":2161,\"name\":\"1gram_idf_2161\"},{\"idx\":2162,\"name\":\"1gram_idf_2162\"},{\"idx\":2163,\"name\":\"1gram_idf_2163\"},{\"idx\":2164,\"name\":\"1gram_idf_2164\"},{\"idx\":2165,\"name\":\"1gram_idf_2165\"},{\"idx\":2166,\"name\":\"1gram_idf_2166\"},{\"idx\":2167,\"name\":\"1gram_idf_2167\"},{\"idx\":2168,\"name\":\"1gram_idf_2168\"},{\"idx\":2169,\"name\":\"1gram_idf_2169\"},{\"idx\":2170,\"name\":\"1gram_idf_2170\"},{\"idx\":2171,\"name\":\"1gram_idf_2171\"},{\"idx\":2172,\"name\":\"1gram_idf_2172\"},{\"idx\":2173,\"name\":\"1gram_idf_2173\"},{\"idx\":2174,\"name\":\"1gram_idf_2174\"},{\"idx\":2175,\"name\":\"1gram_idf_2175\"},{\"idx\":2176,\"name\":\"1gram_idf_2176\"},{\"idx\":2177,\"name\":\"1gram_idf_2177\"},{\"idx\":2178,\"name\":\"1gram_idf_2178\"},{\"idx\":2179,\"name\":\"1gram_idf_2179\"},{\"idx\":2180,\"name\":\"1gram_idf_2180\"},{\"idx\":2181,\"name\":\"1gram_idf_2181\"},{\"idx\":2182,\"name\":\"1gram_idf_2182\"},{\"idx\":2183,\"name\":\"1gram_idf_2183\"},{\"idx\":2184,\"name\":\"1gram_idf_2184\"},{\"idx\":2185,\"name\":\"1gram_idf_2185\"},{\"idx\":2186,\"name\":\"1gram_idf_2186\"},{\"idx\":2187,\"name\":\"1gram_idf_2187\"},{\"idx\":2188,\"name\":\"1gram_idf_2188\"},{\"idx\":2189,\"name\":\"1gram_idf_2189\"},{\"idx\":2190,\"name\":\"1gram_idf_2190\"},{\"idx\":2191,\"name\":\"1gram_idf_2191\"},{\"idx\":2192,\"name\":\"1gram_idf_2192\"},{\"idx\":2193,\"name\":\"1gram_idf_2193\"},{\"idx\":2194,\"name\":\"1gram_idf_2194\"},{\"idx\":2195,\"name\":\"1gram_idf_2195\"},{\"idx\":2196,\"name\":\"1gram_idf_2196\"},{\"idx\":2197,\"name\":\"1gram_idf_2197\"},{\"idx\":2198,\"name\":\"1gram_idf_2198\"},{\"idx\":2199,\"name\":\"1gram_idf_2199\"},{\"idx\":2200,\"name\":\"1gram_idf_2200\"},{\"idx\":2201,\"name\":\"1gram_idf_2201\"},{\"idx\":2202,\"name\":\"1gram_idf_2202\"},{\"idx\":2203,\"name\":\"1gram_idf_2203\"},{\"idx\":2204,\"name\":\"1gram_idf_2204\"},{\"idx\":2205,\"name\":\"1gram_idf_2205\"},{\"idx\":2206,\"name\":\"1gram_idf_2206\"},{\"idx\":2207,\"name\":\"1gram_idf_2207\"},{\"idx\":2208,\"name\":\"1gram_idf_2208\"},{\"idx\":2209,\"name\":\"1gram_idf_2209\"},{\"idx\":2210,\"name\":\"1gram_idf_2210\"},{\"idx\":2211,\"name\":\"1gram_idf_2211\"},{\"idx\":2212,\"name\":\"1gram_idf_2212\"},{\"idx\":2213,\"name\":\"1gram_idf_2213\"},{\"idx\":2214,\"name\":\"1gram_idf_2214\"},{\"idx\":2215,\"name\":\"1gram_idf_2215\"},{\"idx\":2216,\"name\":\"1gram_idf_2216\"},{\"idx\":2217,\"name\":\"1gram_idf_2217\"},{\"idx\":2218,\"name\":\"1gram_idf_2218\"},{\"idx\":2219,\"name\":\"1gram_idf_2219\"},{\"idx\":2220,\"name\":\"1gram_idf_2220\"},{\"idx\":2221,\"name\":\"1gram_idf_2221\"},{\"idx\":2222,\"name\":\"1gram_idf_2222\"},{\"idx\":2223,\"name\":\"1gram_idf_2223\"},{\"idx\":2224,\"name\":\"1gram_idf_2224\"},{\"idx\":2225,\"name\":\"1gram_idf_2225\"},{\"idx\":2226,\"name\":\"1gram_idf_2226\"},{\"idx\":2227,\"name\":\"1gram_idf_2227\"},{\"idx\":2228,\"name\":\"1gram_idf_2228\"},{\"idx\":2229,\"name\":\"1gram_idf_2229\"},{\"idx\":2230,\"name\":\"1gram_idf_2230\"},{\"idx\":2231,\"name\":\"1gram_idf_2231\"},{\"idx\":2232,\"name\":\"1gram_idf_2232\"},{\"idx\":2233,\"name\":\"1gram_idf_2233\"},{\"idx\":2234,\"name\":\"1gram_idf_2234\"},{\"idx\":2235,\"name\":\"1gram_idf_2235\"},{\"idx\":2236,\"name\":\"1gram_idf_2236\"},{\"idx\":2237,\"name\":\"1gram_idf_2237\"},{\"idx\":2238,\"name\":\"1gram_idf_2238\"},{\"idx\":2239,\"name\":\"1gram_idf_2239\"},{\"idx\":2240,\"name\":\"1gram_idf_2240\"},{\"idx\":2241,\"name\":\"1gram_idf_2241\"},{\"idx\":2242,\"name\":\"1gram_idf_2242\"},{\"idx\":2243,\"name\":\"1gram_idf_2243\"},{\"idx\":2244,\"name\":\"1gram_idf_2244\"},{\"idx\":2245,\"name\":\"1gram_idf_2245\"},{\"idx\":2246,\"name\":\"1gram_idf_2246\"},{\"idx\":2247,\"name\":\"1gram_idf_2247\"},{\"idx\":2248,\"name\":\"1gram_idf_2248\"},{\"idx\":2249,\"name\":\"1gram_idf_2249\"},{\"idx\":2250,\"name\":\"1gram_idf_2250\"},{\"idx\":2251,\"name\":\"1gram_idf_2251\"},{\"idx\":2252,\"name\":\"1gram_idf_2252\"},{\"idx\":2253,\"name\":\"1gram_idf_2253\"},{\"idx\":2254,\"name\":\"1gram_idf_2254\"},{\"idx\":2255,\"name\":\"1gram_idf_2255\"},{\"idx\":2256,\"name\":\"1gram_idf_2256\"},{\"idx\":2257,\"name\":\"1gram_idf_2257\"},{\"idx\":2258,\"name\":\"1gram_idf_2258\"},{\"idx\":2259,\"name\":\"1gram_idf_2259\"},{\"idx\":2260,\"name\":\"1gram_idf_2260\"},{\"idx\":2261,\"name\":\"1gram_idf_2261\"},{\"idx\":2262,\"name\":\"1gram_idf_2262\"},{\"idx\":2263,\"name\":\"1gram_idf_2263\"},{\"idx\":2264,\"name\":\"1gram_idf_2264\"},{\"idx\":2265,\"name\":\"1gram_idf_2265\"},{\"idx\":2266,\"name\":\"1gram_idf_2266\"},{\"idx\":2267,\"name\":\"1gram_idf_2267\"},{\"idx\":2268,\"name\":\"1gram_idf_2268\"},{\"idx\":2269,\"name\":\"1gram_idf_2269\"},{\"idx\":2270,\"name\":\"1gram_idf_2270\"},{\"idx\":2271,\"name\":\"1gram_idf_2271\"},{\"idx\":2272,\"name\":\"1gram_idf_2272\"},{\"idx\":2273,\"name\":\"1gram_idf_2273\"},{\"idx\":2274,\"name\":\"1gram_idf_2274\"},{\"idx\":2275,\"name\":\"1gram_idf_2275\"},{\"idx\":2276,\"name\":\"1gram_idf_2276\"},{\"idx\":2277,\"name\":\"1gram_idf_2277\"},{\"idx\":2278,\"name\":\"1gram_idf_2278\"},{\"idx\":2279,\"name\":\"1gram_idf_2279\"},{\"idx\":2280,\"name\":\"1gram_idf_2280\"},{\"idx\":2281,\"name\":\"1gram_idf_2281\"},{\"idx\":2282,\"name\":\"1gram_idf_2282\"},{\"idx\":2283,\"name\":\"1gram_idf_2283\"},{\"idx\":2284,\"name\":\"1gram_idf_2284\"},{\"idx\":2285,\"name\":\"1gram_idf_2285\"},{\"idx\":2286,\"name\":\"1gram_idf_2286\"},{\"idx\":2287,\"name\":\"1gram_idf_2287\"},{\"idx\":2288,\"name\":\"1gram_idf_2288\"},{\"idx\":2289,\"name\":\"1gram_idf_2289\"},{\"idx\":2290,\"name\":\"1gram_idf_2290\"},{\"idx\":2291,\"name\":\"1gram_idf_2291\"},{\"idx\":2292,\"name\":\"1gram_idf_2292\"},{\"idx\":2293,\"name\":\"1gram_idf_2293\"},{\"idx\":2294,\"name\":\"1gram_idf_2294\"},{\"idx\":2295,\"name\":\"1gram_idf_2295\"},{\"idx\":2296,\"name\":\"1gram_idf_2296\"},{\"idx\":2297,\"name\":\"1gram_idf_2297\"},{\"idx\":2298,\"name\":\"1gram_idf_2298\"},{\"idx\":2299,\"name\":\"1gram_idf_2299\"},{\"idx\":2300,\"name\":\"1gram_idf_2300\"},{\"idx\":2301,\"name\":\"1gram_idf_2301\"},{\"idx\":2302,\"name\":\"1gram_idf_2302\"},{\"idx\":2303,\"name\":\"1gram_idf_2303\"},{\"idx\":2304,\"name\":\"1gram_idf_2304\"},{\"idx\":2305,\"name\":\"1gram_idf_2305\"},{\"idx\":2306,\"name\":\"1gram_idf_2306\"},{\"idx\":2307,\"name\":\"1gram_idf_2307\"},{\"idx\":2308,\"name\":\"1gram_idf_2308\"},{\"idx\":2309,\"name\":\"1gram_idf_2309\"},{\"idx\":2310,\"name\":\"1gram_idf_2310\"},{\"idx\":2311,\"name\":\"1gram_idf_2311\"},{\"idx\":2312,\"name\":\"1gram_idf_2312\"},{\"idx\":2313,\"name\":\"1gram_idf_2313\"},{\"idx\":2314,\"name\":\"1gram_idf_2314\"},{\"idx\":2315,\"name\":\"1gram_idf_2315\"},{\"idx\":2316,\"name\":\"1gram_idf_2316\"},{\"idx\":2317,\"name\":\"1gram_idf_2317\"},{\"idx\":2318,\"name\":\"1gram_idf_2318\"},{\"idx\":2319,\"name\":\"1gram_idf_2319\"},{\"idx\":2320,\"name\":\"1gram_idf_2320\"},{\"idx\":2321,\"name\":\"1gram_idf_2321\"},{\"idx\":2322,\"name\":\"1gram_idf_2322\"},{\"idx\":2323,\"name\":\"1gram_idf_2323\"},{\"idx\":2324,\"name\":\"1gram_idf_2324\"},{\"idx\":2325,\"name\":\"1gram_idf_2325\"},{\"idx\":2326,\"name\":\"1gram_idf_2326\"},{\"idx\":2327,\"name\":\"1gram_idf_2327\"},{\"idx\":2328,\"name\":\"1gram_idf_2328\"},{\"idx\":2329,\"name\":\"1gram_idf_2329\"},{\"idx\":2330,\"name\":\"1gram_idf_2330\"},{\"idx\":2331,\"name\":\"1gram_idf_2331\"},{\"idx\":2332,\"name\":\"1gram_idf_2332\"},{\"idx\":2333,\"name\":\"1gram_idf_2333\"},{\"idx\":2334,\"name\":\"1gram_idf_2334\"},{\"idx\":2335,\"name\":\"1gram_idf_2335\"},{\"idx\":2336,\"name\":\"1gram_idf_2336\"},{\"idx\":2337,\"name\":\"1gram_idf_2337\"},{\"idx\":2338,\"name\":\"1gram_idf_2338\"},{\"idx\":2339,\"name\":\"1gram_idf_2339\"},{\"idx\":2340,\"name\":\"1gram_idf_2340\"},{\"idx\":2341,\"name\":\"1gram_idf_2341\"},{\"idx\":2342,\"name\":\"1gram_idf_2342\"},{\"idx\":2343,\"name\":\"1gram_idf_2343\"},{\"idx\":2344,\"name\":\"1gram_idf_2344\"},{\"idx\":2345,\"name\":\"1gram_idf_2345\"},{\"idx\":2346,\"name\":\"1gram_idf_2346\"},{\"idx\":2347,\"name\":\"1gram_idf_2347\"},{\"idx\":2348,\"name\":\"1gram_idf_2348\"},{\"idx\":2349,\"name\":\"1gram_idf_2349\"},{\"idx\":2350,\"name\":\"1gram_idf_2350\"},{\"idx\":2351,\"name\":\"1gram_idf_2351\"},{\"idx\":2352,\"name\":\"1gram_idf_2352\"},{\"idx\":2353,\"name\":\"1gram_idf_2353\"},{\"idx\":2354,\"name\":\"1gram_idf_2354\"},{\"idx\":2355,\"name\":\"1gram_idf_2355\"},{\"idx\":2356,\"name\":\"1gram_idf_2356\"},{\"idx\":2357,\"name\":\"1gram_idf_2357\"},{\"idx\":2358,\"name\":\"1gram_idf_2358\"},{\"idx\":2359,\"name\":\"1gram_idf_2359\"},{\"idx\":2360,\"name\":\"1gram_idf_2360\"},{\"idx\":2361,\"name\":\"1gram_idf_2361\"},{\"idx\":2362,\"name\":\"1gram_idf_2362\"},{\"idx\":2363,\"name\":\"1gram_idf_2363\"},{\"idx\":2364,\"name\":\"1gram_idf_2364\"},{\"idx\":2365,\"name\":\"1gram_idf_2365\"},{\"idx\":2366,\"name\":\"1gram_idf_2366\"},{\"idx\":2367,\"name\":\"1gram_idf_2367\"},{\"idx\":2368,\"name\":\"1gram_idf_2368\"},{\"idx\":2369,\"name\":\"1gram_idf_2369\"},{\"idx\":2370,\"name\":\"1gram_idf_2370\"},{\"idx\":2371,\"name\":\"1gram_idf_2371\"},{\"idx\":2372,\"name\":\"1gram_idf_2372\"},{\"idx\":2373,\"name\":\"1gram_idf_2373\"},{\"idx\":2374,\"name\":\"1gram_idf_2374\"},{\"idx\":2375,\"name\":\"1gram_idf_2375\"},{\"idx\":2376,\"name\":\"1gram_idf_2376\"},{\"idx\":2377,\"name\":\"1gram_idf_2377\"},{\"idx\":2378,\"name\":\"1gram_idf_2378\"},{\"idx\":2379,\"name\":\"1gram_idf_2379\"},{\"idx\":2380,\"name\":\"1gram_idf_2380\"},{\"idx\":2381,\"name\":\"1gram_idf_2381\"},{\"idx\":2382,\"name\":\"1gram_idf_2382\"},{\"idx\":2383,\"name\":\"1gram_idf_2383\"},{\"idx\":2384,\"name\":\"1gram_idf_2384\"},{\"idx\":2385,\"name\":\"1gram_idf_2385\"},{\"idx\":2386,\"name\":\"1gram_idf_2386\"},{\"idx\":2387,\"name\":\"1gram_idf_2387\"},{\"idx\":2388,\"name\":\"1gram_idf_2388\"},{\"idx\":2389,\"name\":\"1gram_idf_2389\"},{\"idx\":2390,\"name\":\"1gram_idf_2390\"},{\"idx\":2391,\"name\":\"1gram_idf_2391\"},{\"idx\":2392,\"name\":\"1gram_idf_2392\"},{\"idx\":2393,\"name\":\"1gram_idf_2393\"},{\"idx\":2394,\"name\":\"1gram_idf_2394\"},{\"idx\":2395,\"name\":\"1gram_idf_2395\"},{\"idx\":2396,\"name\":\"1gram_idf_2396\"},{\"idx\":2397,\"name\":\"1gram_idf_2397\"},{\"idx\":2398,\"name\":\"1gram_idf_2398\"},{\"idx\":2399,\"name\":\"1gram_idf_2399\"},{\"idx\":2400,\"name\":\"1gram_idf_2400\"},{\"idx\":2401,\"name\":\"1gram_idf_2401\"},{\"idx\":2402,\"name\":\"1gram_idf_2402\"},{\"idx\":2403,\"name\":\"1gram_idf_2403\"},{\"idx\":2404,\"name\":\"1gram_idf_2404\"},{\"idx\":2405,\"name\":\"1gram_idf_2405\"},{\"idx\":2406,\"name\":\"1gram_idf_2406\"},{\"idx\":2407,\"name\":\"1gram_idf_2407\"},{\"idx\":2408,\"name\":\"1gram_idf_2408\"},{\"idx\":2409,\"name\":\"1gram_idf_2409\"},{\"idx\":2410,\"name\":\"1gram_idf_2410\"},{\"idx\":2411,\"name\":\"1gram_idf_2411\"},{\"idx\":2412,\"name\":\"1gram_idf_2412\"},{\"idx\":2413,\"name\":\"1gram_idf_2413\"},{\"idx\":2414,\"name\":\"1gram_idf_2414\"},{\"idx\":2415,\"name\":\"1gram_idf_2415\"},{\"idx\":2416,\"name\":\"1gram_idf_2416\"},{\"idx\":2417,\"name\":\"1gram_idf_2417\"},{\"idx\":2418,\"name\":\"1gram_idf_2418\"},{\"idx\":2419,\"name\":\"1gram_idf_2419\"},{\"idx\":2420,\"name\":\"1gram_idf_2420\"},{\"idx\":2421,\"name\":\"1gram_idf_2421\"},{\"idx\":2422,\"name\":\"1gram_idf_2422\"},{\"idx\":2423,\"name\":\"1gram_idf_2423\"},{\"idx\":2424,\"name\":\"1gram_idf_2424\"},{\"idx\":2425,\"name\":\"1gram_idf_2425\"},{\"idx\":2426,\"name\":\"1gram_idf_2426\"},{\"idx\":2427,\"name\":\"1gram_idf_2427\"},{\"idx\":2428,\"name\":\"1gram_idf_2428\"},{\"idx\":2429,\"name\":\"1gram_idf_2429\"},{\"idx\":2430,\"name\":\"1gram_idf_2430\"},{\"idx\":2431,\"name\":\"1gram_idf_2431\"},{\"idx\":2432,\"name\":\"1gram_idf_2432\"},{\"idx\":2433,\"name\":\"1gram_idf_2433\"},{\"idx\":2434,\"name\":\"1gram_idf_2434\"},{\"idx\":2435,\"name\":\"1gram_idf_2435\"},{\"idx\":2436,\"name\":\"1gram_idf_2436\"},{\"idx\":2437,\"name\":\"1gram_idf_2437\"},{\"idx\":2438,\"name\":\"1gram_idf_2438\"},{\"idx\":2439,\"name\":\"1gram_idf_2439\"},{\"idx\":2440,\"name\":\"1gram_idf_2440\"},{\"idx\":2441,\"name\":\"1gram_idf_2441\"},{\"idx\":2442,\"name\":\"1gram_idf_2442\"},{\"idx\":2443,\"name\":\"1gram_idf_2443\"},{\"idx\":2444,\"name\":\"1gram_idf_2444\"},{\"idx\":2445,\"name\":\"1gram_idf_2445\"},{\"idx\":2446,\"name\":\"1gram_idf_2446\"},{\"idx\":2447,\"name\":\"1gram_idf_2447\"},{\"idx\":2448,\"name\":\"1gram_idf_2448\"},{\"idx\":2449,\"name\":\"1gram_idf_2449\"},{\"idx\":2450,\"name\":\"1gram_idf_2450\"},{\"idx\":2451,\"name\":\"1gram_idf_2451\"},{\"idx\":2452,\"name\":\"1gram_idf_2452\"},{\"idx\":2453,\"name\":\"1gram_idf_2453\"},{\"idx\":2454,\"name\":\"1gram_idf_2454\"},{\"idx\":2455,\"name\":\"1gram_idf_2455\"},{\"idx\":2456,\"name\":\"1gram_idf_2456\"},{\"idx\":2457,\"name\":\"1gram_idf_2457\"},{\"idx\":2458,\"name\":\"1gram_idf_2458\"},{\"idx\":2459,\"name\":\"1gram_idf_2459\"},{\"idx\":2460,\"name\":\"1gram_idf_2460\"},{\"idx\":2461,\"name\":\"1gram_idf_2461\"},{\"idx\":2462,\"name\":\"1gram_idf_2462\"},{\"idx\":2463,\"name\":\"1gram_idf_2463\"},{\"idx\":2464,\"name\":\"1gram_idf_2464\"},{\"idx\":2465,\"name\":\"1gram_idf_2465\"},{\"idx\":2466,\"name\":\"1gram_idf_2466\"},{\"idx\":2467,\"name\":\"1gram_idf_2467\"},{\"idx\":2468,\"name\":\"1gram_idf_2468\"},{\"idx\":2469,\"name\":\"1gram_idf_2469\"},{\"idx\":2470,\"name\":\"1gram_idf_2470\"},{\"idx\":2471,\"name\":\"1gram_idf_2471\"},{\"idx\":2472,\"name\":\"1gram_idf_2472\"},{\"idx\":2473,\"name\":\"1gram_idf_2473\"},{\"idx\":2474,\"name\":\"1gram_idf_2474\"},{\"idx\":2475,\"name\":\"1gram_idf_2475\"},{\"idx\":2476,\"name\":\"1gram_idf_2476\"},{\"idx\":2477,\"name\":\"1gram_idf_2477\"},{\"idx\":2478,\"name\":\"1gram_idf_2478\"},{\"idx\":2479,\"name\":\"1gram_idf_2479\"},{\"idx\":2480,\"name\":\"1gram_idf_2480\"},{\"idx\":2481,\"name\":\"1gram_idf_2481\"},{\"idx\":2482,\"name\":\"1gram_idf_2482\"},{\"idx\":2483,\"name\":\"1gram_idf_2483\"},{\"idx\":2484,\"name\":\"1gram_idf_2484\"},{\"idx\":2485,\"name\":\"1gram_idf_2485\"},{\"idx\":2486,\"name\":\"1gram_idf_2486\"},{\"idx\":2487,\"name\":\"1gram_idf_2487\"},{\"idx\":2488,\"name\":\"1gram_idf_2488\"},{\"idx\":2489,\"name\":\"1gram_idf_2489\"},{\"idx\":2490,\"name\":\"1gram_idf_2490\"},{\"idx\":2491,\"name\":\"1gram_idf_2491\"},{\"idx\":2492,\"name\":\"1gram_idf_2492\"},{\"idx\":2493,\"name\":\"1gram_idf_2493\"},{\"idx\":2494,\"name\":\"1gram_idf_2494\"},{\"idx\":2495,\"name\":\"1gram_idf_2495\"},{\"idx\":2496,\"name\":\"1gram_idf_2496\"},{\"idx\":2497,\"name\":\"1gram_idf_2497\"},{\"idx\":2498,\"name\":\"1gram_idf_2498\"},{\"idx\":2499,\"name\":\"1gram_idf_2499\"},{\"idx\":2500,\"name\":\"1gram_idf_2500\"},{\"idx\":2501,\"name\":\"1gram_idf_2501\"},{\"idx\":2502,\"name\":\"1gram_idf_2502\"},{\"idx\":2503,\"name\":\"1gram_idf_2503\"},{\"idx\":2504,\"name\":\"1gram_idf_2504\"},{\"idx\":2505,\"name\":\"1gram_idf_2505\"},{\"idx\":2506,\"name\":\"1gram_idf_2506\"},{\"idx\":2507,\"name\":\"1gram_idf_2507\"},{\"idx\":2508,\"name\":\"1gram_idf_2508\"},{\"idx\":2509,\"name\":\"1gram_idf_2509\"},{\"idx\":2510,\"name\":\"1gram_idf_2510\"},{\"idx\":2511,\"name\":\"1gram_idf_2511\"},{\"idx\":2512,\"name\":\"1gram_idf_2512\"},{\"idx\":2513,\"name\":\"1gram_idf_2513\"},{\"idx\":2514,\"name\":\"1gram_idf_2514\"},{\"idx\":2515,\"name\":\"1gram_idf_2515\"},{\"idx\":2516,\"name\":\"1gram_idf_2516\"},{\"idx\":2517,\"name\":\"1gram_idf_2517\"},{\"idx\":2518,\"name\":\"1gram_idf_2518\"},{\"idx\":2519,\"name\":\"1gram_idf_2519\"},{\"idx\":2520,\"name\":\"1gram_idf_2520\"},{\"idx\":2521,\"name\":\"1gram_idf_2521\"},{\"idx\":2522,\"name\":\"1gram_idf_2522\"},{\"idx\":2523,\"name\":\"1gram_idf_2523\"},{\"idx\":2524,\"name\":\"1gram_idf_2524\"},{\"idx\":2525,\"name\":\"1gram_idf_2525\"},{\"idx\":2526,\"name\":\"1gram_idf_2526\"},{\"idx\":2527,\"name\":\"1gram_idf_2527\"},{\"idx\":2528,\"name\":\"1gram_idf_2528\"},{\"idx\":2529,\"name\":\"1gram_idf_2529\"},{\"idx\":2530,\"name\":\"1gram_idf_2530\"},{\"idx\":2531,\"name\":\"1gram_idf_2531\"},{\"idx\":2532,\"name\":\"1gram_idf_2532\"},{\"idx\":2533,\"name\":\"1gram_idf_2533\"},{\"idx\":2534,\"name\":\"1gram_idf_2534\"},{\"idx\":2535,\"name\":\"1gram_idf_2535\"},{\"idx\":2536,\"name\":\"1gram_idf_2536\"},{\"idx\":2537,\"name\":\"1gram_idf_2537\"},{\"idx\":2538,\"name\":\"1gram_idf_2538\"},{\"idx\":2539,\"name\":\"1gram_idf_2539\"},{\"idx\":2540,\"name\":\"1gram_idf_2540\"},{\"idx\":2541,\"name\":\"1gram_idf_2541\"},{\"idx\":2542,\"name\":\"1gram_idf_2542\"},{\"idx\":2543,\"name\":\"1gram_idf_2543\"},{\"idx\":2544,\"name\":\"1gram_idf_2544\"},{\"idx\":2545,\"name\":\"1gram_idf_2545\"},{\"idx\":2546,\"name\":\"1gram_idf_2546\"},{\"idx\":2547,\"name\":\"1gram_idf_2547\"},{\"idx\":2548,\"name\":\"1gram_idf_2548\"},{\"idx\":2549,\"name\":\"1gram_idf_2549\"},{\"idx\":2550,\"name\":\"1gram_idf_2550\"},{\"idx\":2551,\"name\":\"1gram_idf_2551\"},{\"idx\":2552,\"name\":\"1gram_idf_2552\"},{\"idx\":2553,\"name\":\"1gram_idf_2553\"},{\"idx\":2554,\"name\":\"1gram_idf_2554\"},{\"idx\":2555,\"name\":\"1gram_idf_2555\"},{\"idx\":2556,\"name\":\"1gram_idf_2556\"},{\"idx\":2557,\"name\":\"1gram_idf_2557\"},{\"idx\":2558,\"name\":\"1gram_idf_2558\"},{\"idx\":2559,\"name\":\"1gram_idf_2559\"},{\"idx\":2560,\"name\":\"1gram_idf_2560\"},{\"idx\":2561,\"name\":\"1gram_idf_2561\"},{\"idx\":2562,\"name\":\"1gram_idf_2562\"},{\"idx\":2563,\"name\":\"1gram_idf_2563\"},{\"idx\":2564,\"name\":\"1gram_idf_2564\"},{\"idx\":2565,\"name\":\"1gram_idf_2565\"},{\"idx\":2566,\"name\":\"1gram_idf_2566\"},{\"idx\":2567,\"name\":\"1gram_idf_2567\"},{\"idx\":2568,\"name\":\"1gram_idf_2568\"},{\"idx\":2569,\"name\":\"1gram_idf_2569\"},{\"idx\":2570,\"name\":\"1gram_idf_2570\"},{\"idx\":2571,\"name\":\"1gram_idf_2571\"},{\"idx\":2572,\"name\":\"1gram_idf_2572\"},{\"idx\":2573,\"name\":\"1gram_idf_2573\"},{\"idx\":2574,\"name\":\"1gram_idf_2574\"},{\"idx\":2575,\"name\":\"1gram_idf_2575\"},{\"idx\":2576,\"name\":\"1gram_idf_2576\"},{\"idx\":2577,\"name\":\"1gram_idf_2577\"},{\"idx\":2578,\"name\":\"1gram_idf_2578\"},{\"idx\":2579,\"name\":\"1gram_idf_2579\"},{\"idx\":2580,\"name\":\"1gram_idf_2580\"},{\"idx\":2581,\"name\":\"1gram_idf_2581\"},{\"idx\":2582,\"name\":\"1gram_idf_2582\"},{\"idx\":2583,\"name\":\"1gram_idf_2583\"},{\"idx\":2584,\"name\":\"1gram_idf_2584\"},{\"idx\":2585,\"name\":\"1gram_idf_2585\"},{\"idx\":2586,\"name\":\"1gram_idf_2586\"},{\"idx\":2587,\"name\":\"1gram_idf_2587\"},{\"idx\":2588,\"name\":\"1gram_idf_2588\"},{\"idx\":2589,\"name\":\"1gram_idf_2589\"},{\"idx\":2590,\"name\":\"1gram_idf_2590\"},{\"idx\":2591,\"name\":\"1gram_idf_2591\"},{\"idx\":2592,\"name\":\"1gram_idf_2592\"},{\"idx\":2593,\"name\":\"1gram_idf_2593\"},{\"idx\":2594,\"name\":\"1gram_idf_2594\"},{\"idx\":2595,\"name\":\"1gram_idf_2595\"},{\"idx\":2596,\"name\":\"1gram_idf_2596\"},{\"idx\":2597,\"name\":\"1gram_idf_2597\"},{\"idx\":2598,\"name\":\"1gram_idf_2598\"},{\"idx\":2599,\"name\":\"1gram_idf_2599\"},{\"idx\":2600,\"name\":\"1gram_idf_2600\"},{\"idx\":2601,\"name\":\"1gram_idf_2601\"},{\"idx\":2602,\"name\":\"1gram_idf_2602\"},{\"idx\":2603,\"name\":\"1gram_idf_2603\"},{\"idx\":2604,\"name\":\"1gram_idf_2604\"},{\"idx\":2605,\"name\":\"1gram_idf_2605\"},{\"idx\":2606,\"name\":\"1gram_idf_2606\"},{\"idx\":2607,\"name\":\"1gram_idf_2607\"},{\"idx\":2608,\"name\":\"1gram_idf_2608\"},{\"idx\":2609,\"name\":\"1gram_idf_2609\"},{\"idx\":2610,\"name\":\"1gram_idf_2610\"},{\"idx\":2611,\"name\":\"1gram_idf_2611\"},{\"idx\":2612,\"name\":\"1gram_idf_2612\"},{\"idx\":2613,\"name\":\"1gram_idf_2613\"},{\"idx\":2614,\"name\":\"1gram_idf_2614\"},{\"idx\":2615,\"name\":\"1gram_idf_2615\"},{\"idx\":2616,\"name\":\"1gram_idf_2616\"},{\"idx\":2617,\"name\":\"1gram_idf_2617\"},{\"idx\":2618,\"name\":\"1gram_idf_2618\"},{\"idx\":2619,\"name\":\"1gram_idf_2619\"},{\"idx\":2620,\"name\":\"1gram_idf_2620\"},{\"idx\":2621,\"name\":\"1gram_idf_2621\"},{\"idx\":2622,\"name\":\"1gram_idf_2622\"},{\"idx\":2623,\"name\":\"1gram_idf_2623\"},{\"idx\":2624,\"name\":\"1gram_idf_2624\"},{\"idx\":2625,\"name\":\"1gram_idf_2625\"},{\"idx\":2626,\"name\":\"1gram_idf_2626\"},{\"idx\":2627,\"name\":\"1gram_idf_2627\"},{\"idx\":2628,\"name\":\"1gram_idf_2628\"},{\"idx\":2629,\"name\":\"1gram_idf_2629\"},{\"idx\":2630,\"name\":\"1gram_idf_2630\"},{\"idx\":2631,\"name\":\"1gram_idf_2631\"},{\"idx\":2632,\"name\":\"1gram_idf_2632\"},{\"idx\":2633,\"name\":\"1gram_idf_2633\"},{\"idx\":2634,\"name\":\"1gram_idf_2634\"},{\"idx\":2635,\"name\":\"1gram_idf_2635\"},{\"idx\":2636,\"name\":\"1gram_idf_2636\"},{\"idx\":2637,\"name\":\"1gram_idf_2637\"},{\"idx\":2638,\"name\":\"1gram_idf_2638\"},{\"idx\":2639,\"name\":\"1gram_idf_2639\"},{\"idx\":2640,\"name\":\"1gram_idf_2640\"},{\"idx\":2641,\"name\":\"1gram_idf_2641\"},{\"idx\":2642,\"name\":\"1gram_idf_2642\"},{\"idx\":2643,\"name\":\"1gram_idf_2643\"},{\"idx\":2644,\"name\":\"1gram_idf_2644\"},{\"idx\":2645,\"name\":\"1gram_idf_2645\"},{\"idx\":2646,\"name\":\"1gram_idf_2646\"},{\"idx\":2647,\"name\":\"1gram_idf_2647\"},{\"idx\":2648,\"name\":\"1gram_idf_2648\"},{\"idx\":2649,\"name\":\"1gram_idf_2649\"},{\"idx\":2650,\"name\":\"1gram_idf_2650\"},{\"idx\":2651,\"name\":\"1gram_idf_2651\"},{\"idx\":2652,\"name\":\"1gram_idf_2652\"},{\"idx\":2653,\"name\":\"1gram_idf_2653\"},{\"idx\":2654,\"name\":\"1gram_idf_2654\"},{\"idx\":2655,\"name\":\"1gram_idf_2655\"},{\"idx\":2656,\"name\":\"1gram_idf_2656\"},{\"idx\":2657,\"name\":\"1gram_idf_2657\"},{\"idx\":2658,\"name\":\"1gram_idf_2658\"},{\"idx\":2659,\"name\":\"1gram_idf_2659\"},{\"idx\":2660,\"name\":\"1gram_idf_2660\"},{\"idx\":2661,\"name\":\"1gram_idf_2661\"},{\"idx\":2662,\"name\":\"1gram_idf_2662\"},{\"idx\":2663,\"name\":\"1gram_idf_2663\"},{\"idx\":2664,\"name\":\"1gram_idf_2664\"},{\"idx\":2665,\"name\":\"1gram_idf_2665\"},{\"idx\":2666,\"name\":\"1gram_idf_2666\"},{\"idx\":2667,\"name\":\"1gram_idf_2667\"},{\"idx\":2668,\"name\":\"1gram_idf_2668\"},{\"idx\":2669,\"name\":\"1gram_idf_2669\"},{\"idx\":2670,\"name\":\"1gram_idf_2670\"},{\"idx\":2671,\"name\":\"1gram_idf_2671\"},{\"idx\":2672,\"name\":\"1gram_idf_2672\"},{\"idx\":2673,\"name\":\"1gram_idf_2673\"},{\"idx\":2674,\"name\":\"1gram_idf_2674\"},{\"idx\":2675,\"name\":\"1gram_idf_2675\"},{\"idx\":2676,\"name\":\"1gram_idf_2676\"},{\"idx\":2677,\"name\":\"1gram_idf_2677\"},{\"idx\":2678,\"name\":\"1gram_idf_2678\"},{\"idx\":2679,\"name\":\"1gram_idf_2679\"},{\"idx\":2680,\"name\":\"1gram_idf_2680\"},{\"idx\":2681,\"name\":\"1gram_idf_2681\"},{\"idx\":2682,\"name\":\"1gram_idf_2682\"},{\"idx\":2683,\"name\":\"1gram_idf_2683\"},{\"idx\":2684,\"name\":\"1gram_idf_2684\"},{\"idx\":2685,\"name\":\"1gram_idf_2685\"},{\"idx\":2686,\"name\":\"1gram_idf_2686\"},{\"idx\":2687,\"name\":\"1gram_idf_2687\"},{\"idx\":2688,\"name\":\"1gram_idf_2688\"},{\"idx\":2689,\"name\":\"1gram_idf_2689\"},{\"idx\":2690,\"name\":\"1gram_idf_2690\"},{\"idx\":2691,\"name\":\"1gram_idf_2691\"},{\"idx\":2692,\"name\":\"1gram_idf_2692\"},{\"idx\":2693,\"name\":\"1gram_idf_2693\"},{\"idx\":2694,\"name\":\"1gram_idf_2694\"},{\"idx\":2695,\"name\":\"1gram_idf_2695\"},{\"idx\":2696,\"name\":\"1gram_idf_2696\"},{\"idx\":2697,\"name\":\"1gram_idf_2697\"},{\"idx\":2698,\"name\":\"1gram_idf_2698\"},{\"idx\":2699,\"name\":\"1gram_idf_2699\"},{\"idx\":2700,\"name\":\"1gram_idf_2700\"},{\"idx\":2701,\"name\":\"1gram_idf_2701\"},{\"idx\":2702,\"name\":\"1gram_idf_2702\"},{\"idx\":2703,\"name\":\"1gram_idf_2703\"},{\"idx\":2704,\"name\":\"1gram_idf_2704\"},{\"idx\":2705,\"name\":\"1gram_idf_2705\"},{\"idx\":2706,\"name\":\"1gram_idf_2706\"},{\"idx\":2707,\"name\":\"1gram_idf_2707\"},{\"idx\":2708,\"name\":\"1gram_idf_2708\"},{\"idx\":2709,\"name\":\"1gram_idf_2709\"},{\"idx\":2710,\"name\":\"1gram_idf_2710\"},{\"idx\":2711,\"name\":\"1gram_idf_2711\"},{\"idx\":2712,\"name\":\"1gram_idf_2712\"},{\"idx\":2713,\"name\":\"1gram_idf_2713\"},{\"idx\":2714,\"name\":\"1gram_idf_2714\"},{\"idx\":2715,\"name\":\"1gram_idf_2715\"},{\"idx\":2716,\"name\":\"1gram_idf_2716\"},{\"idx\":2717,\"name\":\"1gram_idf_2717\"},{\"idx\":2718,\"name\":\"1gram_idf_2718\"},{\"idx\":2719,\"name\":\"1gram_idf_2719\"},{\"idx\":2720,\"name\":\"1gram_idf_2720\"},{\"idx\":2721,\"name\":\"1gram_idf_2721\"},{\"idx\":2722,\"name\":\"1gram_idf_2722\"},{\"idx\":2723,\"name\":\"1gram_idf_2723\"},{\"idx\":2724,\"name\":\"1gram_idf_2724\"},{\"idx\":2725,\"name\":\"1gram_idf_2725\"},{\"idx\":2726,\"name\":\"1gram_idf_2726\"},{\"idx\":2727,\"name\":\"1gram_idf_2727\"},{\"idx\":2728,\"name\":\"1gram_idf_2728\"},{\"idx\":2729,\"name\":\"1gram_idf_2729\"},{\"idx\":2730,\"name\":\"1gram_idf_2730\"},{\"idx\":2731,\"name\":\"1gram_idf_2731\"},{\"idx\":2732,\"name\":\"1gram_idf_2732\"},{\"idx\":2733,\"name\":\"1gram_idf_2733\"},{\"idx\":2734,\"name\":\"1gram_idf_2734\"},{\"idx\":2735,\"name\":\"1gram_idf_2735\"},{\"idx\":2736,\"name\":\"1gram_idf_2736\"},{\"idx\":2737,\"name\":\"1gram_idf_2737\"},{\"idx\":2738,\"name\":\"1gram_idf_2738\"},{\"idx\":2739,\"name\":\"1gram_idf_2739\"},{\"idx\":2740,\"name\":\"1gram_idf_2740\"},{\"idx\":2741,\"name\":\"1gram_idf_2741\"},{\"idx\":2742,\"name\":\"1gram_idf_2742\"},{\"idx\":2743,\"name\":\"1gram_idf_2743\"},{\"idx\":2744,\"name\":\"1gram_idf_2744\"},{\"idx\":2745,\"name\":\"1gram_idf_2745\"},{\"idx\":2746,\"name\":\"1gram_idf_2746\"},{\"idx\":2747,\"name\":\"1gram_idf_2747\"},{\"idx\":2748,\"name\":\"1gram_idf_2748\"},{\"idx\":2749,\"name\":\"1gram_idf_2749\"},{\"idx\":2750,\"name\":\"1gram_idf_2750\"},{\"idx\":2751,\"name\":\"1gram_idf_2751\"},{\"idx\":2752,\"name\":\"1gram_idf_2752\"},{\"idx\":2753,\"name\":\"1gram_idf_2753\"},{\"idx\":2754,\"name\":\"1gram_idf_2754\"},{\"idx\":2755,\"name\":\"1gram_idf_2755\"},{\"idx\":2756,\"name\":\"1gram_idf_2756\"},{\"idx\":2757,\"name\":\"1gram_idf_2757\"},{\"idx\":2758,\"name\":\"1gram_idf_2758\"},{\"idx\":2759,\"name\":\"1gram_idf_2759\"},{\"idx\":2760,\"name\":\"1gram_idf_2760\"},{\"idx\":2761,\"name\":\"1gram_idf_2761\"},{\"idx\":2762,\"name\":\"1gram_idf_2762\"},{\"idx\":2763,\"name\":\"1gram_idf_2763\"},{\"idx\":2764,\"name\":\"1gram_idf_2764\"},{\"idx\":2765,\"name\":\"1gram_idf_2765\"},{\"idx\":2766,\"name\":\"1gram_idf_2766\"},{\"idx\":2767,\"name\":\"1gram_idf_2767\"},{\"idx\":2768,\"name\":\"1gram_idf_2768\"},{\"idx\":2769,\"name\":\"1gram_idf_2769\"},{\"idx\":2770,\"name\":\"1gram_idf_2770\"},{\"idx\":2771,\"name\":\"1gram_idf_2771\"},{\"idx\":2772,\"name\":\"1gram_idf_2772\"},{\"idx\":2773,\"name\":\"1gram_idf_2773\"},{\"idx\":2774,\"name\":\"1gram_idf_2774\"},{\"idx\":2775,\"name\":\"1gram_idf_2775\"},{\"idx\":2776,\"name\":\"1gram_idf_2776\"},{\"idx\":2777,\"name\":\"1gram_idf_2777\"},{\"idx\":2778,\"name\":\"1gram_idf_2778\"},{\"idx\":2779,\"name\":\"1gram_idf_2779\"},{\"idx\":2780,\"name\":\"1gram_idf_2780\"},{\"idx\":2781,\"name\":\"1gram_idf_2781\"},{\"idx\":2782,\"name\":\"1gram_idf_2782\"},{\"idx\":2783,\"name\":\"1gram_idf_2783\"},{\"idx\":2784,\"name\":\"1gram_idf_2784\"},{\"idx\":2785,\"name\":\"1gram_idf_2785\"},{\"idx\":2786,\"name\":\"1gram_idf_2786\"},{\"idx\":2787,\"name\":\"1gram_idf_2787\"},{\"idx\":2788,\"name\":\"1gram_idf_2788\"},{\"idx\":2789,\"name\":\"1gram_idf_2789\"},{\"idx\":2790,\"name\":\"1gram_idf_2790\"},{\"idx\":2791,\"name\":\"1gram_idf_2791\"},{\"idx\":2792,\"name\":\"1gram_idf_2792\"},{\"idx\":2793,\"name\":\"1gram_idf_2793\"},{\"idx\":2794,\"name\":\"1gram_idf_2794\"},{\"idx\":2795,\"name\":\"1gram_idf_2795\"},{\"idx\":2796,\"name\":\"1gram_idf_2796\"},{\"idx\":2797,\"name\":\"1gram_idf_2797\"},{\"idx\":2798,\"name\":\"1gram_idf_2798\"},{\"idx\":2799,\"name\":\"1gram_idf_2799\"},{\"idx\":2800,\"name\":\"1gram_idf_2800\"},{\"idx\":2801,\"name\":\"1gram_idf_2801\"},{\"idx\":2802,\"name\":\"1gram_idf_2802\"},{\"idx\":2803,\"name\":\"1gram_idf_2803\"},{\"idx\":2804,\"name\":\"1gram_idf_2804\"},{\"idx\":2805,\"name\":\"1gram_idf_2805\"},{\"idx\":2806,\"name\":\"1gram_idf_2806\"},{\"idx\":2807,\"name\":\"1gram_idf_2807\"},{\"idx\":2808,\"name\":\"1gram_idf_2808\"},{\"idx\":2809,\"name\":\"1gram_idf_2809\"},{\"idx\":2810,\"name\":\"1gram_idf_2810\"},{\"idx\":2811,\"name\":\"1gram_idf_2811\"},{\"idx\":2812,\"name\":\"1gram_idf_2812\"},{\"idx\":2813,\"name\":\"1gram_idf_2813\"},{\"idx\":2814,\"name\":\"1gram_idf_2814\"},{\"idx\":2815,\"name\":\"1gram_idf_2815\"},{\"idx\":2816,\"name\":\"1gram_idf_2816\"},{\"idx\":2817,\"name\":\"1gram_idf_2817\"},{\"idx\":2818,\"name\":\"1gram_idf_2818\"},{\"idx\":2819,\"name\":\"1gram_idf_2819\"},{\"idx\":2820,\"name\":\"1gram_idf_2820\"},{\"idx\":2821,\"name\":\"1gram_idf_2821\"},{\"idx\":2822,\"name\":\"1gram_idf_2822\"},{\"idx\":2823,\"name\":\"1gram_idf_2823\"},{\"idx\":2824,\"name\":\"1gram_idf_2824\"},{\"idx\":2825,\"name\":\"1gram_idf_2825\"},{\"idx\":2826,\"name\":\"1gram_idf_2826\"},{\"idx\":2827,\"name\":\"1gram_idf_2827\"},{\"idx\":2828,\"name\":\"1gram_idf_2828\"},{\"idx\":2829,\"name\":\"1gram_idf_2829\"},{\"idx\":2830,\"name\":\"1gram_idf_2830\"},{\"idx\":2831,\"name\":\"1gram_idf_2831\"},{\"idx\":2832,\"name\":\"1gram_idf_2832\"},{\"idx\":2833,\"name\":\"1gram_idf_2833\"},{\"idx\":2834,\"name\":\"1gram_idf_2834\"},{\"idx\":2835,\"name\":\"1gram_idf_2835\"},{\"idx\":2836,\"name\":\"1gram_idf_2836\"},{\"idx\":2837,\"name\":\"1gram_idf_2837\"},{\"idx\":2838,\"name\":\"1gram_idf_2838\"},{\"idx\":2839,\"name\":\"1gram_idf_2839\"},{\"idx\":2840,\"name\":\"1gram_idf_2840\"},{\"idx\":2841,\"name\":\"1gram_idf_2841\"},{\"idx\":2842,\"name\":\"1gram_idf_2842\"},{\"idx\":2843,\"name\":\"1gram_idf_2843\"},{\"idx\":2844,\"name\":\"1gram_idf_2844\"},{\"idx\":2845,\"name\":\"1gram_idf_2845\"},{\"idx\":2846,\"name\":\"1gram_idf_2846\"},{\"idx\":2847,\"name\":\"1gram_idf_2847\"},{\"idx\":2848,\"name\":\"1gram_idf_2848\"},{\"idx\":2849,\"name\":\"1gram_idf_2849\"},{\"idx\":2850,\"name\":\"1gram_idf_2850\"},{\"idx\":2851,\"name\":\"1gram_idf_2851\"},{\"idx\":2852,\"name\":\"1gram_idf_2852\"},{\"idx\":2853,\"name\":\"1gram_idf_2853\"},{\"idx\":2854,\"name\":\"1gram_idf_2854\"},{\"idx\":2855,\"name\":\"1gram_idf_2855\"},{\"idx\":2856,\"name\":\"1gram_idf_2856\"},{\"idx\":2857,\"name\":\"1gram_idf_2857\"},{\"idx\":2858,\"name\":\"1gram_idf_2858\"},{\"idx\":2859,\"name\":\"1gram_idf_2859\"},{\"idx\":2860,\"name\":\"1gram_idf_2860\"},{\"idx\":2861,\"name\":\"1gram_idf_2861\"},{\"idx\":2862,\"name\":\"1gram_idf_2862\"},{\"idx\":2863,\"name\":\"1gram_idf_2863\"},{\"idx\":2864,\"name\":\"1gram_idf_2864\"},{\"idx\":2865,\"name\":\"1gram_idf_2865\"},{\"idx\":2866,\"name\":\"1gram_idf_2866\"},{\"idx\":2867,\"name\":\"1gram_idf_2867\"},{\"idx\":2868,\"name\":\"1gram_idf_2868\"},{\"idx\":2869,\"name\":\"1gram_idf_2869\"},{\"idx\":2870,\"name\":\"1gram_idf_2870\"},{\"idx\":2871,\"name\":\"1gram_idf_2871\"},{\"idx\":2872,\"name\":\"1gram_idf_2872\"},{\"idx\":2873,\"name\":\"1gram_idf_2873\"},{\"idx\":2874,\"name\":\"1gram_idf_2874\"},{\"idx\":2875,\"name\":\"1gram_idf_2875\"},{\"idx\":2876,\"name\":\"1gram_idf_2876\"},{\"idx\":2877,\"name\":\"1gram_idf_2877\"},{\"idx\":2878,\"name\":\"1gram_idf_2878\"},{\"idx\":2879,\"name\":\"1gram_idf_2879\"},{\"idx\":2880,\"name\":\"1gram_idf_2880\"},{\"idx\":2881,\"name\":\"1gram_idf_2881\"},{\"idx\":2882,\"name\":\"1gram_idf_2882\"},{\"idx\":2883,\"name\":\"1gram_idf_2883\"},{\"idx\":2884,\"name\":\"1gram_idf_2884\"},{\"idx\":2885,\"name\":\"1gram_idf_2885\"},{\"idx\":2886,\"name\":\"1gram_idf_2886\"},{\"idx\":2887,\"name\":\"1gram_idf_2887\"},{\"idx\":2888,\"name\":\"1gram_idf_2888\"},{\"idx\":2889,\"name\":\"1gram_idf_2889\"},{\"idx\":2890,\"name\":\"1gram_idf_2890\"},{\"idx\":2891,\"name\":\"1gram_idf_2891\"},{\"idx\":2892,\"name\":\"1gram_idf_2892\"},{\"idx\":2893,\"name\":\"1gram_idf_2893\"},{\"idx\":2894,\"name\":\"1gram_idf_2894\"},{\"idx\":2895,\"name\":\"1gram_idf_2895\"},{\"idx\":2896,\"name\":\"1gram_idf_2896\"},{\"idx\":2897,\"name\":\"1gram_idf_2897\"},{\"idx\":2898,\"name\":\"1gram_idf_2898\"},{\"idx\":2899,\"name\":\"1gram_idf_2899\"},{\"idx\":2900,\"name\":\"1gram_idf_2900\"},{\"idx\":2901,\"name\":\"1gram_idf_2901\"},{\"idx\":2902,\"name\":\"1gram_idf_2902\"},{\"idx\":2903,\"name\":\"1gram_idf_2903\"},{\"idx\":2904,\"name\":\"1gram_idf_2904\"},{\"idx\":2905,\"name\":\"1gram_idf_2905\"},{\"idx\":2906,\"name\":\"1gram_idf_2906\"},{\"idx\":2907,\"name\":\"1gram_idf_2907\"},{\"idx\":2908,\"name\":\"1gram_idf_2908\"},{\"idx\":2909,\"name\":\"1gram_idf_2909\"},{\"idx\":2910,\"name\":\"1gram_idf_2910\"},{\"idx\":2911,\"name\":\"1gram_idf_2911\"},{\"idx\":2912,\"name\":\"1gram_idf_2912\"},{\"idx\":2913,\"name\":\"1gram_idf_2913\"},{\"idx\":2914,\"name\":\"1gram_idf_2914\"},{\"idx\":2915,\"name\":\"1gram_idf_2915\"},{\"idx\":2916,\"name\":\"1gram_idf_2916\"},{\"idx\":2917,\"name\":\"1gram_idf_2917\"},{\"idx\":2918,\"name\":\"1gram_idf_2918\"},{\"idx\":2919,\"name\":\"1gram_idf_2919\"},{\"idx\":2920,\"name\":\"1gram_idf_2920\"},{\"idx\":2921,\"name\":\"1gram_idf_2921\"},{\"idx\":2922,\"name\":\"1gram_idf_2922\"},{\"idx\":2923,\"name\":\"1gram_idf_2923\"},{\"idx\":2924,\"name\":\"1gram_idf_2924\"},{\"idx\":2925,\"name\":\"1gram_idf_2925\"},{\"idx\":2926,\"name\":\"1gram_idf_2926\"},{\"idx\":2927,\"name\":\"1gram_idf_2927\"},{\"idx\":2928,\"name\":\"1gram_idf_2928\"},{\"idx\":2929,\"name\":\"1gram_idf_2929\"},{\"idx\":2930,\"name\":\"1gram_idf_2930\"},{\"idx\":2931,\"name\":\"1gram_idf_2931\"},{\"idx\":2932,\"name\":\"1gram_idf_2932\"},{\"idx\":2933,\"name\":\"1gram_idf_2933\"},{\"idx\":2934,\"name\":\"1gram_idf_2934\"},{\"idx\":2935,\"name\":\"1gram_idf_2935\"},{\"idx\":2936,\"name\":\"1gram_idf_2936\"},{\"idx\":2937,\"name\":\"1gram_idf_2937\"},{\"idx\":2938,\"name\":\"1gram_idf_2938\"},{\"idx\":2939,\"name\":\"1gram_idf_2939\"},{\"idx\":2940,\"name\":\"1gram_idf_2940\"},{\"idx\":2941,\"name\":\"1gram_idf_2941\"},{\"idx\":2942,\"name\":\"1gram_idf_2942\"},{\"idx\":2943,\"name\":\"1gram_idf_2943\"},{\"idx\":2944,\"name\":\"1gram_idf_2944\"},{\"idx\":2945,\"name\":\"1gram_idf_2945\"},{\"idx\":2946,\"name\":\"1gram_idf_2946\"},{\"idx\":2947,\"name\":\"1gram_idf_2947\"},{\"idx\":2948,\"name\":\"1gram_idf_2948\"},{\"idx\":2949,\"name\":\"1gram_idf_2949\"},{\"idx\":2950,\"name\":\"1gram_idf_2950\"},{\"idx\":2951,\"name\":\"1gram_idf_2951\"},{\"idx\":2952,\"name\":\"1gram_idf_2952\"},{\"idx\":2953,\"name\":\"1gram_idf_2953\"},{\"idx\":2954,\"name\":\"1gram_idf_2954\"},{\"idx\":2955,\"name\":\"1gram_idf_2955\"},{\"idx\":2956,\"name\":\"1gram_idf_2956\"},{\"idx\":2957,\"name\":\"1gram_idf_2957\"},{\"idx\":2958,\"name\":\"1gram_idf_2958\"},{\"idx\":2959,\"name\":\"1gram_idf_2959\"},{\"idx\":2960,\"name\":\"1gram_idf_2960\"},{\"idx\":2961,\"name\":\"1gram_idf_2961\"},{\"idx\":2962,\"name\":\"1gram_idf_2962\"},{\"idx\":2963,\"name\":\"1gram_idf_2963\"},{\"idx\":2964,\"name\":\"1gram_idf_2964\"},{\"idx\":2965,\"name\":\"1gram_idf_2965\"},{\"idx\":2966,\"name\":\"1gram_idf_2966\"},{\"idx\":2967,\"name\":\"1gram_idf_2967\"},{\"idx\":2968,\"name\":\"1gram_idf_2968\"},{\"idx\":2969,\"name\":\"1gram_idf_2969\"},{\"idx\":2970,\"name\":\"1gram_idf_2970\"},{\"idx\":2971,\"name\":\"1gram_idf_2971\"},{\"idx\":2972,\"name\":\"1gram_idf_2972\"},{\"idx\":2973,\"name\":\"1gram_idf_2973\"},{\"idx\":2974,\"name\":\"1gram_idf_2974\"},{\"idx\":2975,\"name\":\"1gram_idf_2975\"},{\"idx\":2976,\"name\":\"1gram_idf_2976\"},{\"idx\":2977,\"name\":\"1gram_idf_2977\"},{\"idx\":2978,\"name\":\"1gram_idf_2978\"},{\"idx\":2979,\"name\":\"1gram_idf_2979\"},{\"idx\":2980,\"name\":\"1gram_idf_2980\"},{\"idx\":2981,\"name\":\"1gram_idf_2981\"},{\"idx\":2982,\"name\":\"1gram_idf_2982\"},{\"idx\":2983,\"name\":\"1gram_idf_2983\"},{\"idx\":2984,\"name\":\"1gram_idf_2984\"},{\"idx\":2985,\"name\":\"1gram_idf_2985\"},{\"idx\":2986,\"name\":\"1gram_idf_2986\"},{\"idx\":2987,\"name\":\"1gram_idf_2987\"},{\"idx\":2988,\"name\":\"1gram_idf_2988\"},{\"idx\":2989,\"name\":\"1gram_idf_2989\"},{\"idx\":2990,\"name\":\"1gram_idf_2990\"},{\"idx\":2991,\"name\":\"1gram_idf_2991\"},{\"idx\":2992,\"name\":\"1gram_idf_2992\"},{\"idx\":2993,\"name\":\"1gram_idf_2993\"},{\"idx\":2994,\"name\":\"1gram_idf_2994\"},{\"idx\":2995,\"name\":\"1gram_idf_2995\"},{\"idx\":2996,\"name\":\"1gram_idf_2996\"},{\"idx\":2997,\"name\":\"1gram_idf_2997\"},{\"idx\":2998,\"name\":\"1gram_idf_2998\"},{\"idx\":2999,\"name\":\"1gram_idf_2999\"},{\"idx\":3000,\"name\":\"1gram_idf_3000\"},{\"idx\":3001,\"name\":\"1gram_idf_3001\"},{\"idx\":3002,\"name\":\"1gram_idf_3002\"},{\"idx\":3003,\"name\":\"1gram_idf_3003\"},{\"idx\":3004,\"name\":\"1gram_idf_3004\"},{\"idx\":3005,\"name\":\"1gram_idf_3005\"},{\"idx\":3006,\"name\":\"1gram_idf_3006\"},{\"idx\":3007,\"name\":\"1gram_idf_3007\"},{\"idx\":3008,\"name\":\"1gram_idf_3008\"},{\"idx\":3009,\"name\":\"1gram_idf_3009\"},{\"idx\":3010,\"name\":\"1gram_idf_3010\"},{\"idx\":3011,\"name\":\"1gram_idf_3011\"},{\"idx\":3012,\"name\":\"1gram_idf_3012\"},{\"idx\":3013,\"name\":\"1gram_idf_3013\"},{\"idx\":3014,\"name\":\"1gram_idf_3014\"},{\"idx\":3015,\"name\":\"1gram_idf_3015\"},{\"idx\":3016,\"name\":\"1gram_idf_3016\"},{\"idx\":3017,\"name\":\"1gram_idf_3017\"},{\"idx\":3018,\"name\":\"1gram_idf_3018\"},{\"idx\":3019,\"name\":\"1gram_idf_3019\"},{\"idx\":3020,\"name\":\"1gram_idf_3020\"},{\"idx\":3021,\"name\":\"1gram_idf_3021\"},{\"idx\":3022,\"name\":\"1gram_idf_3022\"},{\"idx\":3023,\"name\":\"1gram_idf_3023\"},{\"idx\":3024,\"name\":\"1gram_idf_3024\"},{\"idx\":3025,\"name\":\"1gram_idf_3025\"},{\"idx\":3026,\"name\":\"1gram_idf_3026\"},{\"idx\":3027,\"name\":\"1gram_idf_3027\"},{\"idx\":3028,\"name\":\"1gram_idf_3028\"},{\"idx\":3029,\"name\":\"1gram_idf_3029\"},{\"idx\":3030,\"name\":\"1gram_idf_3030\"},{\"idx\":3031,\"name\":\"1gram_idf_3031\"},{\"idx\":3032,\"name\":\"1gram_idf_3032\"},{\"idx\":3033,\"name\":\"1gram_idf_3033\"},{\"idx\":3034,\"name\":\"1gram_idf_3034\"},{\"idx\":3035,\"name\":\"1gram_idf_3035\"},{\"idx\":3036,\"name\":\"1gram_idf_3036\"},{\"idx\":3037,\"name\":\"1gram_idf_3037\"},{\"idx\":3038,\"name\":\"1gram_idf_3038\"},{\"idx\":3039,\"name\":\"1gram_idf_3039\"},{\"idx\":3040,\"name\":\"1gram_idf_3040\"},{\"idx\":3041,\"name\":\"1gram_idf_3041\"},{\"idx\":3042,\"name\":\"1gram_idf_3042\"},{\"idx\":3043,\"name\":\"1gram_idf_3043\"},{\"idx\":3044,\"name\":\"1gram_idf_3044\"},{\"idx\":3045,\"name\":\"1gram_idf_3045\"},{\"idx\":3046,\"name\":\"1gram_idf_3046\"},{\"idx\":3047,\"name\":\"1gram_idf_3047\"},{\"idx\":3048,\"name\":\"1gram_idf_3048\"},{\"idx\":3049,\"name\":\"1gram_idf_3049\"},{\"idx\":3050,\"name\":\"1gram_idf_3050\"},{\"idx\":3051,\"name\":\"1gram_idf_3051\"},{\"idx\":3052,\"name\":\"1gram_idf_3052\"},{\"idx\":3053,\"name\":\"1gram_idf_3053\"},{\"idx\":3054,\"name\":\"1gram_idf_3054\"},{\"idx\":3055,\"name\":\"1gram_idf_3055\"},{\"idx\":3056,\"name\":\"1gram_idf_3056\"},{\"idx\":3057,\"name\":\"1gram_idf_3057\"},{\"idx\":3058,\"name\":\"1gram_idf_3058\"},{\"idx\":3059,\"name\":\"1gram_idf_3059\"},{\"idx\":3060,\"name\":\"1gram_idf_3060\"},{\"idx\":3061,\"name\":\"1gram_idf_3061\"},{\"idx\":3062,\"name\":\"1gram_idf_3062\"},{\"idx\":3063,\"name\":\"1gram_idf_3063\"},{\"idx\":3064,\"name\":\"1gram_idf_3064\"},{\"idx\":3065,\"name\":\"1gram_idf_3065\"},{\"idx\":3066,\"name\":\"1gram_idf_3066\"},{\"idx\":3067,\"name\":\"1gram_idf_3067\"},{\"idx\":3068,\"name\":\"1gram_idf_3068\"},{\"idx\":3069,\"name\":\"1gram_idf_3069\"},{\"idx\":3070,\"name\":\"1gram_idf_3070\"},{\"idx\":3071,\"name\":\"1gram_idf_3071\"},{\"idx\":3072,\"name\":\"1gram_idf_3072\"},{\"idx\":3073,\"name\":\"1gram_idf_3073\"},{\"idx\":3074,\"name\":\"1gram_idf_3074\"},{\"idx\":3075,\"name\":\"1gram_idf_3075\"},{\"idx\":3076,\"name\":\"1gram_idf_3076\"},{\"idx\":3077,\"name\":\"1gram_idf_3077\"},{\"idx\":3078,\"name\":\"1gram_idf_3078\"},{\"idx\":3079,\"name\":\"1gram_idf_3079\"},{\"idx\":3080,\"name\":\"1gram_idf_3080\"},{\"idx\":3081,\"name\":\"1gram_idf_3081\"},{\"idx\":3082,\"name\":\"1gram_idf_3082\"},{\"idx\":3083,\"name\":\"1gram_idf_3083\"},{\"idx\":3084,\"name\":\"1gram_idf_3084\"},{\"idx\":3085,\"name\":\"1gram_idf_3085\"},{\"idx\":3086,\"name\":\"1gram_idf_3086\"},{\"idx\":3087,\"name\":\"1gram_idf_3087\"},{\"idx\":3088,\"name\":\"1gram_idf_3088\"},{\"idx\":3089,\"name\":\"1gram_idf_3089\"},{\"idx\":3090,\"name\":\"1gram_idf_3090\"},{\"idx\":3091,\"name\":\"1gram_idf_3091\"},{\"idx\":3092,\"name\":\"1gram_idf_3092\"},{\"idx\":3093,\"name\":\"1gram_idf_3093\"},{\"idx\":3094,\"name\":\"1gram_idf_3094\"},{\"idx\":3095,\"name\":\"1gram_idf_3095\"},{\"idx\":3096,\"name\":\"1gram_idf_3096\"},{\"idx\":3097,\"name\":\"1gram_idf_3097\"},{\"idx\":3098,\"name\":\"1gram_idf_3098\"},{\"idx\":3099,\"name\":\"1gram_idf_3099\"},{\"idx\":3100,\"name\":\"1gram_idf_3100\"},{\"idx\":3101,\"name\":\"1gram_idf_3101\"},{\"idx\":3102,\"name\":\"1gram_idf_3102\"},{\"idx\":3103,\"name\":\"1gram_idf_3103\"},{\"idx\":3104,\"name\":\"1gram_idf_3104\"},{\"idx\":3105,\"name\":\"1gram_idf_3105\"},{\"idx\":3106,\"name\":\"1gram_idf_3106\"},{\"idx\":3107,\"name\":\"1gram_idf_3107\"},{\"idx\":3108,\"name\":\"1gram_idf_3108\"},{\"idx\":3109,\"name\":\"1gram_idf_3109\"},{\"idx\":3110,\"name\":\"1gram_idf_3110\"},{\"idx\":3111,\"name\":\"1gram_idf_3111\"},{\"idx\":3112,\"name\":\"1gram_idf_3112\"},{\"idx\":3113,\"name\":\"1gram_idf_3113\"},{\"idx\":3114,\"name\":\"1gram_idf_3114\"},{\"idx\":3115,\"name\":\"1gram_idf_3115\"},{\"idx\":3116,\"name\":\"1gram_idf_3116\"},{\"idx\":3117,\"name\":\"1gram_idf_3117\"},{\"idx\":3118,\"name\":\"1gram_idf_3118\"},{\"idx\":3119,\"name\":\"1gram_idf_3119\"},{\"idx\":3120,\"name\":\"1gram_idf_3120\"},{\"idx\":3121,\"name\":\"1gram_idf_3121\"},{\"idx\":3122,\"name\":\"1gram_idf_3122\"},{\"idx\":3123,\"name\":\"1gram_idf_3123\"},{\"idx\":3124,\"name\":\"1gram_idf_3124\"},{\"idx\":3125,\"name\":\"1gram_idf_3125\"},{\"idx\":3126,\"name\":\"1gram_idf_3126\"},{\"idx\":3127,\"name\":\"1gram_idf_3127\"},{\"idx\":3128,\"name\":\"1gram_idf_3128\"},{\"idx\":3129,\"name\":\"1gram_idf_3129\"},{\"idx\":3130,\"name\":\"1gram_idf_3130\"},{\"idx\":3131,\"name\":\"1gram_idf_3131\"},{\"idx\":3132,\"name\":\"1gram_idf_3132\"},{\"idx\":3133,\"name\":\"1gram_idf_3133\"},{\"idx\":3134,\"name\":\"1gram_idf_3134\"},{\"idx\":3135,\"name\":\"1gram_idf_3135\"},{\"idx\":3136,\"name\":\"1gram_idf_3136\"},{\"idx\":3137,\"name\":\"1gram_idf_3137\"},{\"idx\":3138,\"name\":\"1gram_idf_3138\"},{\"idx\":3139,\"name\":\"1gram_idf_3139\"},{\"idx\":3140,\"name\":\"1gram_idf_3140\"},{\"idx\":3141,\"name\":\"1gram_idf_3141\"},{\"idx\":3142,\"name\":\"1gram_idf_3142\"},{\"idx\":3143,\"name\":\"1gram_idf_3143\"},{\"idx\":3144,\"name\":\"1gram_idf_3144\"},{\"idx\":3145,\"name\":\"1gram_idf_3145\"},{\"idx\":3146,\"name\":\"1gram_idf_3146\"},{\"idx\":3147,\"name\":\"1gram_idf_3147\"},{\"idx\":3148,\"name\":\"1gram_idf_3148\"},{\"idx\":3149,\"name\":\"1gram_idf_3149\"},{\"idx\":3150,\"name\":\"1gram_idf_3150\"},{\"idx\":3151,\"name\":\"1gram_idf_3151\"},{\"idx\":3152,\"name\":\"1gram_idf_3152\"},{\"idx\":3153,\"name\":\"1gram_idf_3153\"},{\"idx\":3154,\"name\":\"1gram_idf_3154\"},{\"idx\":3155,\"name\":\"1gram_idf_3155\"},{\"idx\":3156,\"name\":\"1gram_idf_3156\"},{\"idx\":3157,\"name\":\"1gram_idf_3157\"},{\"idx\":3158,\"name\":\"1gram_idf_3158\"},{\"idx\":3159,\"name\":\"1gram_idf_3159\"},{\"idx\":3160,\"name\":\"1gram_idf_3160\"},{\"idx\":3161,\"name\":\"1gram_idf_3161\"},{\"idx\":3162,\"name\":\"1gram_idf_3162\"},{\"idx\":3163,\"name\":\"1gram_idf_3163\"},{\"idx\":3164,\"name\":\"1gram_idf_3164\"},{\"idx\":3165,\"name\":\"1gram_idf_3165\"},{\"idx\":3166,\"name\":\"1gram_idf_3166\"},{\"idx\":3167,\"name\":\"1gram_idf_3167\"},{\"idx\":3168,\"name\":\"1gram_idf_3168\"},{\"idx\":3169,\"name\":\"1gram_idf_3169\"},{\"idx\":3170,\"name\":\"1gram_idf_3170\"},{\"idx\":3171,\"name\":\"1gram_idf_3171\"},{\"idx\":3172,\"name\":\"1gram_idf_3172\"},{\"idx\":3173,\"name\":\"1gram_idf_3173\"},{\"idx\":3174,\"name\":\"1gram_idf_3174\"},{\"idx\":3175,\"name\":\"1gram_idf_3175\"},{\"idx\":3176,\"name\":\"1gram_idf_3176\"},{\"idx\":3177,\"name\":\"1gram_idf_3177\"},{\"idx\":3178,\"name\":\"1gram_idf_3178\"},{\"idx\":3179,\"name\":\"1gram_idf_3179\"},{\"idx\":3180,\"name\":\"1gram_idf_3180\"},{\"idx\":3181,\"name\":\"1gram_idf_3181\"},{\"idx\":3182,\"name\":\"1gram_idf_3182\"},{\"idx\":3183,\"name\":\"1gram_idf_3183\"},{\"idx\":3184,\"name\":\"1gram_idf_3184\"},{\"idx\":3185,\"name\":\"1gram_idf_3185\"},{\"idx\":3186,\"name\":\"1gram_idf_3186\"},{\"idx\":3187,\"name\":\"1gram_idf_3187\"},{\"idx\":3188,\"name\":\"1gram_idf_3188\"},{\"idx\":3189,\"name\":\"1gram_idf_3189\"},{\"idx\":3190,\"name\":\"1gram_idf_3190\"},{\"idx\":3191,\"name\":\"1gram_idf_3191\"},{\"idx\":3192,\"name\":\"1gram_idf_3192\"},{\"idx\":3193,\"name\":\"1gram_idf_3193\"},{\"idx\":3194,\"name\":\"1gram_idf_3194\"},{\"idx\":3195,\"name\":\"1gram_idf_3195\"},{\"idx\":3196,\"name\":\"1gram_idf_3196\"},{\"idx\":3197,\"name\":\"1gram_idf_3197\"},{\"idx\":3198,\"name\":\"1gram_idf_3198\"},{\"idx\":3199,\"name\":\"1gram_idf_3199\"},{\"idx\":3200,\"name\":\"1gram_idf_3200\"},{\"idx\":3201,\"name\":\"1gram_idf_3201\"},{\"idx\":3202,\"name\":\"1gram_idf_3202\"},{\"idx\":3203,\"name\":\"1gram_idf_3203\"},{\"idx\":3204,\"name\":\"1gram_idf_3204\"},{\"idx\":3205,\"name\":\"1gram_idf_3205\"},{\"idx\":3206,\"name\":\"1gram_idf_3206\"},{\"idx\":3207,\"name\":\"1gram_idf_3207\"},{\"idx\":3208,\"name\":\"1gram_idf_3208\"},{\"idx\":3209,\"name\":\"1gram_idf_3209\"},{\"idx\":3210,\"name\":\"1gram_idf_3210\"},{\"idx\":3211,\"name\":\"1gram_idf_3211\"},{\"idx\":3212,\"name\":\"1gram_idf_3212\"},{\"idx\":3213,\"name\":\"1gram_idf_3213\"},{\"idx\":3214,\"name\":\"1gram_idf_3214\"},{\"idx\":3215,\"name\":\"1gram_idf_3215\"},{\"idx\":3216,\"name\":\"1gram_idf_3216\"},{\"idx\":3217,\"name\":\"1gram_idf_3217\"},{\"idx\":3218,\"name\":\"1gram_idf_3218\"},{\"idx\":3219,\"name\":\"1gram_idf_3219\"},{\"idx\":3220,\"name\":\"1gram_idf_3220\"},{\"idx\":3221,\"name\":\"1gram_idf_3221\"},{\"idx\":3222,\"name\":\"1gram_idf_3222\"},{\"idx\":3223,\"name\":\"1gram_idf_3223\"},{\"idx\":3224,\"name\":\"1gram_idf_3224\"},{\"idx\":3225,\"name\":\"1gram_idf_3225\"},{\"idx\":3226,\"name\":\"1gram_idf_3226\"},{\"idx\":3227,\"name\":\"1gram_idf_3227\"},{\"idx\":3228,\"name\":\"1gram_idf_3228\"},{\"idx\":3229,\"name\":\"1gram_idf_3229\"},{\"idx\":3230,\"name\":\"1gram_idf_3230\"},{\"idx\":3231,\"name\":\"1gram_idf_3231\"},{\"idx\":3232,\"name\":\"1gram_idf_3232\"},{\"idx\":3233,\"name\":\"1gram_idf_3233\"},{\"idx\":3234,\"name\":\"1gram_idf_3234\"},{\"idx\":3235,\"name\":\"1gram_idf_3235\"},{\"idx\":3236,\"name\":\"1gram_idf_3236\"},{\"idx\":3237,\"name\":\"1gram_idf_3237\"},{\"idx\":3238,\"name\":\"1gram_idf_3238\"},{\"idx\":3239,\"name\":\"1gram_idf_3239\"},{\"idx\":3240,\"name\":\"1gram_idf_3240\"},{\"idx\":3241,\"name\":\"1gram_idf_3241\"},{\"idx\":3242,\"name\":\"1gram_idf_3242\"},{\"idx\":3243,\"name\":\"1gram_idf_3243\"},{\"idx\":3244,\"name\":\"1gram_idf_3244\"},{\"idx\":3245,\"name\":\"1gram_idf_3245\"},{\"idx\":3246,\"name\":\"1gram_idf_3246\"},{\"idx\":3247,\"name\":\"1gram_idf_3247\"},{\"idx\":3248,\"name\":\"1gram_idf_3248\"},{\"idx\":3249,\"name\":\"1gram_idf_3249\"},{\"idx\":3250,\"name\":\"1gram_idf_3250\"},{\"idx\":3251,\"name\":\"1gram_idf_3251\"},{\"idx\":3252,\"name\":\"1gram_idf_3252\"},{\"idx\":3253,\"name\":\"1gram_idf_3253\"},{\"idx\":3254,\"name\":\"1gram_idf_3254\"},{\"idx\":3255,\"name\":\"1gram_idf_3255\"},{\"idx\":3256,\"name\":\"1gram_idf_3256\"},{\"idx\":3257,\"name\":\"1gram_idf_3257\"},{\"idx\":3258,\"name\":\"1gram_idf_3258\"},{\"idx\":3259,\"name\":\"1gram_idf_3259\"},{\"idx\":3260,\"name\":\"1gram_idf_3260\"},{\"idx\":3261,\"name\":\"1gram_idf_3261\"},{\"idx\":3262,\"name\":\"1gram_idf_3262\"},{\"idx\":3263,\"name\":\"1gram_idf_3263\"},{\"idx\":3264,\"name\":\"1gram_idf_3264\"},{\"idx\":3265,\"name\":\"1gram_idf_3265\"},{\"idx\":3266,\"name\":\"1gram_idf_3266\"},{\"idx\":3267,\"name\":\"1gram_idf_3267\"},{\"idx\":3268,\"name\":\"1gram_idf_3268\"},{\"idx\":3269,\"name\":\"1gram_idf_3269\"},{\"idx\":3270,\"name\":\"1gram_idf_3270\"},{\"idx\":3271,\"name\":\"1gram_idf_3271\"},{\"idx\":3272,\"name\":\"1gram_idf_3272\"},{\"idx\":3273,\"name\":\"1gram_idf_3273\"},{\"idx\":3274,\"name\":\"1gram_idf_3274\"},{\"idx\":3275,\"name\":\"1gram_idf_3275\"},{\"idx\":3276,\"name\":\"1gram_idf_3276\"},{\"idx\":3277,\"name\":\"1gram_idf_3277\"},{\"idx\":3278,\"name\":\"1gram_idf_3278\"},{\"idx\":3279,\"name\":\"1gram_idf_3279\"},{\"idx\":3280,\"name\":\"1gram_idf_3280\"},{\"idx\":3281,\"name\":\"1gram_idf_3281\"},{\"idx\":3282,\"name\":\"1gram_idf_3282\"},{\"idx\":3283,\"name\":\"1gram_idf_3283\"},{\"idx\":3284,\"name\":\"1gram_idf_3284\"},{\"idx\":3285,\"name\":\"1gram_idf_3285\"},{\"idx\":3286,\"name\":\"1gram_idf_3286\"},{\"idx\":3287,\"name\":\"1gram_idf_3287\"},{\"idx\":3288,\"name\":\"1gram_idf_3288\"},{\"idx\":3289,\"name\":\"1gram_idf_3289\"},{\"idx\":3290,\"name\":\"1gram_idf_3290\"},{\"idx\":3291,\"name\":\"1gram_idf_3291\"},{\"idx\":3292,\"name\":\"1gram_idf_3292\"},{\"idx\":3293,\"name\":\"1gram_idf_3293\"},{\"idx\":3294,\"name\":\"1gram_idf_3294\"},{\"idx\":3295,\"name\":\"1gram_idf_3295\"},{\"idx\":3296,\"name\":\"1gram_idf_3296\"},{\"idx\":3297,\"name\":\"1gram_idf_3297\"},{\"idx\":3298,\"name\":\"1gram_idf_3298\"},{\"idx\":3299,\"name\":\"1gram_idf_3299\"},{\"idx\":3300,\"name\":\"1gram_idf_3300\"},{\"idx\":3301,\"name\":\"1gram_idf_3301\"},{\"idx\":3302,\"name\":\"1gram_idf_3302\"},{\"idx\":3303,\"name\":\"1gram_idf_3303\"},{\"idx\":3304,\"name\":\"1gram_idf_3304\"},{\"idx\":3305,\"name\":\"1gram_idf_3305\"},{\"idx\":3306,\"name\":\"1gram_idf_3306\"},{\"idx\":3307,\"name\":\"1gram_idf_3307\"},{\"idx\":3308,\"name\":\"1gram_idf_3308\"},{\"idx\":3309,\"name\":\"1gram_idf_3309\"},{\"idx\":3310,\"name\":\"1gram_idf_3310\"},{\"idx\":3311,\"name\":\"1gram_idf_3311\"},{\"idx\":3312,\"name\":\"1gram_idf_3312\"},{\"idx\":3313,\"name\":\"1gram_idf_3313\"},{\"idx\":3314,\"name\":\"1gram_idf_3314\"},{\"idx\":3315,\"name\":\"1gram_idf_3315\"},{\"idx\":3316,\"name\":\"1gram_idf_3316\"},{\"idx\":3317,\"name\":\"1gram_idf_3317\"},{\"idx\":3318,\"name\":\"1gram_idf_3318\"},{\"idx\":3319,\"name\":\"1gram_idf_3319\"},{\"idx\":3320,\"name\":\"1gram_idf_3320\"},{\"idx\":3321,\"name\":\"1gram_idf_3321\"},{\"idx\":3322,\"name\":\"1gram_idf_3322\"},{\"idx\":3323,\"name\":\"1gram_idf_3323\"},{\"idx\":3324,\"name\":\"1gram_idf_3324\"},{\"idx\":3325,\"name\":\"1gram_idf_3325\"},{\"idx\":3326,\"name\":\"1gram_idf_3326\"},{\"idx\":3327,\"name\":\"1gram_idf_3327\"},{\"idx\":3328,\"name\":\"1gram_idf_3328\"},{\"idx\":3329,\"name\":\"1gram_idf_3329\"},{\"idx\":3330,\"name\":\"1gram_idf_3330\"},{\"idx\":3331,\"name\":\"1gram_idf_3331\"},{\"idx\":3332,\"name\":\"1gram_idf_3332\"},{\"idx\":3333,\"name\":\"1gram_idf_3333\"},{\"idx\":3334,\"name\":\"1gram_idf_3334\"},{\"idx\":3335,\"name\":\"1gram_idf_3335\"},{\"idx\":3336,\"name\":\"1gram_idf_3336\"},{\"idx\":3337,\"name\":\"1gram_idf_3337\"},{\"idx\":3338,\"name\":\"1gram_idf_3338\"},{\"idx\":3339,\"name\":\"1gram_idf_3339\"},{\"idx\":3340,\"name\":\"1gram_idf_3340\"},{\"idx\":3341,\"name\":\"1gram_idf_3341\"},{\"idx\":3342,\"name\":\"1gram_idf_3342\"},{\"idx\":3343,\"name\":\"1gram_idf_3343\"},{\"idx\":3344,\"name\":\"1gram_idf_3344\"},{\"idx\":3345,\"name\":\"1gram_idf_3345\"},{\"idx\":3346,\"name\":\"1gram_idf_3346\"},{\"idx\":3347,\"name\":\"1gram_idf_3347\"},{\"idx\":3348,\"name\":\"1gram_idf_3348\"},{\"idx\":3349,\"name\":\"1gram_idf_3349\"},{\"idx\":3350,\"name\":\"1gram_idf_3350\"},{\"idx\":3351,\"name\":\"1gram_idf_3351\"},{\"idx\":3352,\"name\":\"1gram_idf_3352\"},{\"idx\":3353,\"name\":\"1gram_idf_3353\"},{\"idx\":3354,\"name\":\"1gram_idf_3354\"},{\"idx\":3355,\"name\":\"1gram_idf_3355\"},{\"idx\":3356,\"name\":\"1gram_idf_3356\"},{\"idx\":3357,\"name\":\"1gram_idf_3357\"},{\"idx\":3358,\"name\":\"1gram_idf_3358\"},{\"idx\":3359,\"name\":\"1gram_idf_3359\"},{\"idx\":3360,\"name\":\"1gram_idf_3360\"},{\"idx\":3361,\"name\":\"1gram_idf_3361\"},{\"idx\":3362,\"name\":\"1gram_idf_3362\"},{\"idx\":3363,\"name\":\"1gram_idf_3363\"},{\"idx\":3364,\"name\":\"1gram_idf_3364\"},{\"idx\":3365,\"name\":\"1gram_idf_3365\"},{\"idx\":3366,\"name\":\"1gram_idf_3366\"},{\"idx\":3367,\"name\":\"1gram_idf_3367\"},{\"idx\":3368,\"name\":\"1gram_idf_3368\"},{\"idx\":3369,\"name\":\"1gram_idf_3369\"},{\"idx\":3370,\"name\":\"1gram_idf_3370\"},{\"idx\":3371,\"name\":\"1gram_idf_3371\"},{\"idx\":3372,\"name\":\"1gram_idf_3372\"},{\"idx\":3373,\"name\":\"1gram_idf_3373\"},{\"idx\":3374,\"name\":\"1gram_idf_3374\"},{\"idx\":3375,\"name\":\"1gram_idf_3375\"},{\"idx\":3376,\"name\":\"1gram_idf_3376\"},{\"idx\":3377,\"name\":\"1gram_idf_3377\"},{\"idx\":3378,\"name\":\"1gram_idf_3378\"},{\"idx\":3379,\"name\":\"1gram_idf_3379\"},{\"idx\":3380,\"name\":\"1gram_idf_3380\"},{\"idx\":3381,\"name\":\"1gram_idf_3381\"},{\"idx\":3382,\"name\":\"1gram_idf_3382\"},{\"idx\":3383,\"name\":\"1gram_idf_3383\"},{\"idx\":3384,\"name\":\"1gram_idf_3384\"},{\"idx\":3385,\"name\":\"1gram_idf_3385\"},{\"idx\":3386,\"name\":\"1gram_idf_3386\"},{\"idx\":3387,\"name\":\"1gram_idf_3387\"},{\"idx\":3388,\"name\":\"1gram_idf_3388\"},{\"idx\":3389,\"name\":\"1gram_idf_3389\"},{\"idx\":3390,\"name\":\"1gram_idf_3390\"},{\"idx\":3391,\"name\":\"1gram_idf_3391\"},{\"idx\":3392,\"name\":\"1gram_idf_3392\"},{\"idx\":3393,\"name\":\"1gram_idf_3393\"},{\"idx\":3394,\"name\":\"1gram_idf_3394\"},{\"idx\":3395,\"name\":\"1gram_idf_3395\"},{\"idx\":3396,\"name\":\"1gram_idf_3396\"},{\"idx\":3397,\"name\":\"1gram_idf_3397\"},{\"idx\":3398,\"name\":\"1gram_idf_3398\"},{\"idx\":3399,\"name\":\"1gram_idf_3399\"},{\"idx\":3400,\"name\":\"1gram_idf_3400\"},{\"idx\":3401,\"name\":\"1gram_idf_3401\"},{\"idx\":3402,\"name\":\"1gram_idf_3402\"},{\"idx\":3403,\"name\":\"1gram_idf_3403\"},{\"idx\":3404,\"name\":\"1gram_idf_3404\"},{\"idx\":3405,\"name\":\"1gram_idf_3405\"},{\"idx\":3406,\"name\":\"1gram_idf_3406\"},{\"idx\":3407,\"name\":\"1gram_idf_3407\"},{\"idx\":3408,\"name\":\"1gram_idf_3408\"},{\"idx\":3409,\"name\":\"1gram_idf_3409\"},{\"idx\":3410,\"name\":\"1gram_idf_3410\"},{\"idx\":3411,\"name\":\"1gram_idf_3411\"},{\"idx\":3412,\"name\":\"1gram_idf_3412\"},{\"idx\":3413,\"name\":\"1gram_idf_3413\"},{\"idx\":3414,\"name\":\"1gram_idf_3414\"},{\"idx\":3415,\"name\":\"1gram_idf_3415\"},{\"idx\":3416,\"name\":\"1gram_idf_3416\"},{\"idx\":3417,\"name\":\"1gram_idf_3417\"},{\"idx\":3418,\"name\":\"1gram_idf_3418\"},{\"idx\":3419,\"name\":\"1gram_idf_3419\"},{\"idx\":3420,\"name\":\"1gram_idf_3420\"},{\"idx\":3421,\"name\":\"1gram_idf_3421\"},{\"idx\":3422,\"name\":\"1gram_idf_3422\"},{\"idx\":3423,\"name\":\"1gram_idf_3423\"},{\"idx\":3424,\"name\":\"1gram_idf_3424\"},{\"idx\":3425,\"name\":\"1gram_idf_3425\"},{\"idx\":3426,\"name\":\"1gram_idf_3426\"},{\"idx\":3427,\"name\":\"1gram_idf_3427\"},{\"idx\":3428,\"name\":\"1gram_idf_3428\"},{\"idx\":3429,\"name\":\"1gram_idf_3429\"},{\"idx\":3430,\"name\":\"1gram_idf_3430\"},{\"idx\":3431,\"name\":\"1gram_idf_3431\"},{\"idx\":3432,\"name\":\"1gram_idf_3432\"},{\"idx\":3433,\"name\":\"1gram_idf_3433\"},{\"idx\":3434,\"name\":\"1gram_idf_3434\"},{\"idx\":3435,\"name\":\"1gram_idf_3435\"},{\"idx\":3436,\"name\":\"1gram_idf_3436\"},{\"idx\":3437,\"name\":\"1gram_idf_3437\"},{\"idx\":3438,\"name\":\"1gram_idf_3438\"},{\"idx\":3439,\"name\":\"1gram_idf_3439\"},{\"idx\":3440,\"name\":\"1gram_idf_3440\"},{\"idx\":3441,\"name\":\"1gram_idf_3441\"},{\"idx\":3442,\"name\":\"1gram_idf_3442\"},{\"idx\":3443,\"name\":\"1gram_idf_3443\"},{\"idx\":3444,\"name\":\"1gram_idf_3444\"},{\"idx\":3445,\"name\":\"1gram_idf_3445\"},{\"idx\":3446,\"name\":\"1gram_idf_3446\"},{\"idx\":3447,\"name\":\"1gram_idf_3447\"},{\"idx\":3448,\"name\":\"1gram_idf_3448\"},{\"idx\":3449,\"name\":\"1gram_idf_3449\"},{\"idx\":3450,\"name\":\"1gram_idf_3450\"},{\"idx\":3451,\"name\":\"1gram_idf_3451\"},{\"idx\":3452,\"name\":\"1gram_idf_3452\"},{\"idx\":3453,\"name\":\"1gram_idf_3453\"},{\"idx\":3454,\"name\":\"1gram_idf_3454\"},{\"idx\":3455,\"name\":\"1gram_idf_3455\"},{\"idx\":3456,\"name\":\"1gram_idf_3456\"},{\"idx\":3457,\"name\":\"1gram_idf_3457\"},{\"idx\":3458,\"name\":\"1gram_idf_3458\"},{\"idx\":3459,\"name\":\"1gram_idf_3459\"},{\"idx\":3460,\"name\":\"1gram_idf_3460\"},{\"idx\":3461,\"name\":\"1gram_idf_3461\"},{\"idx\":3462,\"name\":\"1gram_idf_3462\"},{\"idx\":3463,\"name\":\"1gram_idf_3463\"},{\"idx\":3464,\"name\":\"1gram_idf_3464\"},{\"idx\":3465,\"name\":\"1gram_idf_3465\"},{\"idx\":3466,\"name\":\"1gram_idf_3466\"},{\"idx\":3467,\"name\":\"1gram_idf_3467\"},{\"idx\":3468,\"name\":\"1gram_idf_3468\"},{\"idx\":3469,\"name\":\"1gram_idf_3469\"},{\"idx\":3470,\"name\":\"1gram_idf_3470\"},{\"idx\":3471,\"name\":\"1gram_idf_3471\"},{\"idx\":3472,\"name\":\"1gram_idf_3472\"},{\"idx\":3473,\"name\":\"1gram_idf_3473\"},{\"idx\":3474,\"name\":\"1gram_idf_3474\"},{\"idx\":3475,\"name\":\"1gram_idf_3475\"},{\"idx\":3476,\"name\":\"1gram_idf_3476\"},{\"idx\":3477,\"name\":\"1gram_idf_3477\"},{\"idx\":3478,\"name\":\"1gram_idf_3478\"},{\"idx\":3479,\"name\":\"1gram_idf_3479\"},{\"idx\":3480,\"name\":\"1gram_idf_3480\"},{\"idx\":3481,\"name\":\"1gram_idf_3481\"},{\"idx\":3482,\"name\":\"1gram_idf_3482\"},{\"idx\":3483,\"name\":\"1gram_idf_3483\"},{\"idx\":3484,\"name\":\"1gram_idf_3484\"},{\"idx\":3485,\"name\":\"1gram_idf_3485\"},{\"idx\":3486,\"name\":\"1gram_idf_3486\"},{\"idx\":3487,\"name\":\"1gram_idf_3487\"},{\"idx\":3488,\"name\":\"1gram_idf_3488\"},{\"idx\":3489,\"name\":\"1gram_idf_3489\"},{\"idx\":3490,\"name\":\"1gram_idf_3490\"},{\"idx\":3491,\"name\":\"1gram_idf_3491\"},{\"idx\":3492,\"name\":\"1gram_idf_3492\"},{\"idx\":3493,\"name\":\"1gram_idf_3493\"},{\"idx\":3494,\"name\":\"1gram_idf_3494\"},{\"idx\":3495,\"name\":\"1gram_idf_3495\"},{\"idx\":3496,\"name\":\"1gram_idf_3496\"},{\"idx\":3497,\"name\":\"1gram_idf_3497\"},{\"idx\":3498,\"name\":\"1gram_idf_3498\"},{\"idx\":3499,\"name\":\"1gram_idf_3499\"},{\"idx\":3500,\"name\":\"1gram_idf_3500\"},{\"idx\":3501,\"name\":\"1gram_idf_3501\"},{\"idx\":3502,\"name\":\"1gram_idf_3502\"},{\"idx\":3503,\"name\":\"1gram_idf_3503\"},{\"idx\":3504,\"name\":\"1gram_idf_3504\"},{\"idx\":3505,\"name\":\"1gram_idf_3505\"},{\"idx\":3506,\"name\":\"1gram_idf_3506\"},{\"idx\":3507,\"name\":\"1gram_idf_3507\"},{\"idx\":3508,\"name\":\"1gram_idf_3508\"},{\"idx\":3509,\"name\":\"1gram_idf_3509\"},{\"idx\":3510,\"name\":\"1gram_idf_3510\"},{\"idx\":3511,\"name\":\"1gram_idf_3511\"},{\"idx\":3512,\"name\":\"1gram_idf_3512\"},{\"idx\":3513,\"name\":\"1gram_idf_3513\"},{\"idx\":3514,\"name\":\"1gram_idf_3514\"},{\"idx\":3515,\"name\":\"1gram_idf_3515\"},{\"idx\":3516,\"name\":\"1gram_idf_3516\"},{\"idx\":3517,\"name\":\"1gram_idf_3517\"},{\"idx\":3518,\"name\":\"1gram_idf_3518\"},{\"idx\":3519,\"name\":\"1gram_idf_3519\"},{\"idx\":3520,\"name\":\"1gram_idf_3520\"},{\"idx\":3521,\"name\":\"1gram_idf_3521\"},{\"idx\":3522,\"name\":\"1gram_idf_3522\"},{\"idx\":3523,\"name\":\"1gram_idf_3523\"},{\"idx\":3524,\"name\":\"1gram_idf_3524\"},{\"idx\":3525,\"name\":\"1gram_idf_3525\"},{\"idx\":3526,\"name\":\"1gram_idf_3526\"},{\"idx\":3527,\"name\":\"1gram_idf_3527\"},{\"idx\":3528,\"name\":\"1gram_idf_3528\"},{\"idx\":3529,\"name\":\"1gram_idf_3529\"},{\"idx\":3530,\"name\":\"1gram_idf_3530\"},{\"idx\":3531,\"name\":\"1gram_idf_3531\"},{\"idx\":3532,\"name\":\"1gram_idf_3532\"},{\"idx\":3533,\"name\":\"1gram_idf_3533\"},{\"idx\":3534,\"name\":\"1gram_idf_3534\"},{\"idx\":3535,\"name\":\"1gram_idf_3535\"},{\"idx\":3536,\"name\":\"1gram_idf_3536\"},{\"idx\":3537,\"name\":\"1gram_idf_3537\"},{\"idx\":3538,\"name\":\"1gram_idf_3538\"},{\"idx\":3539,\"name\":\"1gram_idf_3539\"},{\"idx\":3540,\"name\":\"1gram_idf_3540\"},{\"idx\":3541,\"name\":\"1gram_idf_3541\"},{\"idx\":3542,\"name\":\"1gram_idf_3542\"},{\"idx\":3543,\"name\":\"1gram_idf_3543\"},{\"idx\":3544,\"name\":\"1gram_idf_3544\"},{\"idx\":3545,\"name\":\"1gram_idf_3545\"},{\"idx\":3546,\"name\":\"1gram_idf_3546\"},{\"idx\":3547,\"name\":\"1gram_idf_3547\"},{\"idx\":3548,\"name\":\"1gram_idf_3548\"},{\"idx\":3549,\"name\":\"1gram_idf_3549\"},{\"idx\":3550,\"name\":\"1gram_idf_3550\"},{\"idx\":3551,\"name\":\"1gram_idf_3551\"},{\"idx\":3552,\"name\":\"1gram_idf_3552\"},{\"idx\":3553,\"name\":\"1gram_idf_3553\"},{\"idx\":3554,\"name\":\"1gram_idf_3554\"},{\"idx\":3555,\"name\":\"1gram_idf_3555\"},{\"idx\":3556,\"name\":\"1gram_idf_3556\"},{\"idx\":3557,\"name\":\"1gram_idf_3557\"},{\"idx\":3558,\"name\":\"1gram_idf_3558\"},{\"idx\":3559,\"name\":\"1gram_idf_3559\"},{\"idx\":3560,\"name\":\"1gram_idf_3560\"},{\"idx\":3561,\"name\":\"1gram_idf_3561\"},{\"idx\":3562,\"name\":\"1gram_idf_3562\"},{\"idx\":3563,\"name\":\"1gram_idf_3563\"},{\"idx\":3564,\"name\":\"1gram_idf_3564\"},{\"idx\":3565,\"name\":\"1gram_idf_3565\"},{\"idx\":3566,\"name\":\"1gram_idf_3566\"},{\"idx\":3567,\"name\":\"1gram_idf_3567\"},{\"idx\":3568,\"name\":\"1gram_idf_3568\"},{\"idx\":3569,\"name\":\"1gram_idf_3569\"},{\"idx\":3570,\"name\":\"1gram_idf_3570\"},{\"idx\":3571,\"name\":\"1gram_idf_3571\"},{\"idx\":3572,\"name\":\"1gram_idf_3572\"},{\"idx\":3573,\"name\":\"1gram_idf_3573\"},{\"idx\":3574,\"name\":\"1gram_idf_3574\"},{\"idx\":3575,\"name\":\"1gram_idf_3575\"},{\"idx\":3576,\"name\":\"1gram_idf_3576\"},{\"idx\":3577,\"name\":\"1gram_idf_3577\"},{\"idx\":3578,\"name\":\"1gram_idf_3578\"},{\"idx\":3579,\"name\":\"1gram_idf_3579\"},{\"idx\":3580,\"name\":\"1gram_idf_3580\"},{\"idx\":3581,\"name\":\"1gram_idf_3581\"},{\"idx\":3582,\"name\":\"1gram_idf_3582\"},{\"idx\":3583,\"name\":\"1gram_idf_3583\"},{\"idx\":3584,\"name\":\"1gram_idf_3584\"},{\"idx\":3585,\"name\":\"1gram_idf_3585\"},{\"idx\":3586,\"name\":\"1gram_idf_3586\"},{\"idx\":3587,\"name\":\"1gram_idf_3587\"},{\"idx\":3588,\"name\":\"1gram_idf_3588\"},{\"idx\":3589,\"name\":\"1gram_idf_3589\"},{\"idx\":3590,\"name\":\"1gram_idf_3590\"},{\"idx\":3591,\"name\":\"1gram_idf_3591\"},{\"idx\":3592,\"name\":\"1gram_idf_3592\"},{\"idx\":3593,\"name\":\"1gram_idf_3593\"},{\"idx\":3594,\"name\":\"1gram_idf_3594\"},{\"idx\":3595,\"name\":\"1gram_idf_3595\"},{\"idx\":3596,\"name\":\"1gram_idf_3596\"},{\"idx\":3597,\"name\":\"1gram_idf_3597\"},{\"idx\":3598,\"name\":\"1gram_idf_3598\"},{\"idx\":3599,\"name\":\"1gram_idf_3599\"},{\"idx\":3600,\"name\":\"1gram_idf_3600\"},{\"idx\":3601,\"name\":\"1gram_idf_3601\"},{\"idx\":3602,\"name\":\"1gram_idf_3602\"},{\"idx\":3603,\"name\":\"1gram_idf_3603\"},{\"idx\":3604,\"name\":\"1gram_idf_3604\"},{\"idx\":3605,\"name\":\"1gram_idf_3605\"},{\"idx\":3606,\"name\":\"1gram_idf_3606\"},{\"idx\":3607,\"name\":\"1gram_idf_3607\"},{\"idx\":3608,\"name\":\"1gram_idf_3608\"},{\"idx\":3609,\"name\":\"1gram_idf_3609\"},{\"idx\":3610,\"name\":\"1gram_idf_3610\"},{\"idx\":3611,\"name\":\"1gram_idf_3611\"},{\"idx\":3612,\"name\":\"1gram_idf_3612\"},{\"idx\":3613,\"name\":\"1gram_idf_3613\"},{\"idx\":3614,\"name\":\"1gram_idf_3614\"},{\"idx\":3615,\"name\":\"1gram_idf_3615\"},{\"idx\":3616,\"name\":\"1gram_idf_3616\"},{\"idx\":3617,\"name\":\"1gram_idf_3617\"},{\"idx\":3618,\"name\":\"1gram_idf_3618\"},{\"idx\":3619,\"name\":\"1gram_idf_3619\"},{\"idx\":3620,\"name\":\"1gram_idf_3620\"},{\"idx\":3621,\"name\":\"1gram_idf_3621\"},{\"idx\":3622,\"name\":\"1gram_idf_3622\"},{\"idx\":3623,\"name\":\"1gram_idf_3623\"},{\"idx\":3624,\"name\":\"1gram_idf_3624\"},{\"idx\":3625,\"name\":\"1gram_idf_3625\"},{\"idx\":3626,\"name\":\"1gram_idf_3626\"},{\"idx\":3627,\"name\":\"1gram_idf_3627\"},{\"idx\":3628,\"name\":\"1gram_idf_3628\"},{\"idx\":3629,\"name\":\"1gram_idf_3629\"},{\"idx\":3630,\"name\":\"1gram_idf_3630\"},{\"idx\":3631,\"name\":\"1gram_idf_3631\"},{\"idx\":3632,\"name\":\"1gram_idf_3632\"},{\"idx\":3633,\"name\":\"1gram_idf_3633\"},{\"idx\":3634,\"name\":\"1gram_idf_3634\"},{\"idx\":3635,\"name\":\"1gram_idf_3635\"},{\"idx\":3636,\"name\":\"1gram_idf_3636\"},{\"idx\":3637,\"name\":\"1gram_idf_3637\"},{\"idx\":3638,\"name\":\"1gram_idf_3638\"},{\"idx\":3639,\"name\":\"1gram_idf_3639\"},{\"idx\":3640,\"name\":\"1gram_idf_3640\"},{\"idx\":3641,\"name\":\"1gram_idf_3641\"},{\"idx\":3642,\"name\":\"1gram_idf_3642\"},{\"idx\":3643,\"name\":\"1gram_idf_3643\"},{\"idx\":3644,\"name\":\"1gram_idf_3644\"},{\"idx\":3645,\"name\":\"1gram_idf_3645\"},{\"idx\":3646,\"name\":\"1gram_idf_3646\"},{\"idx\":3647,\"name\":\"1gram_idf_3647\"},{\"idx\":3648,\"name\":\"1gram_idf_3648\"},{\"idx\":3649,\"name\":\"1gram_idf_3649\"},{\"idx\":3650,\"name\":\"1gram_idf_3650\"},{\"idx\":3651,\"name\":\"1gram_idf_3651\"},{\"idx\":3652,\"name\":\"1gram_idf_3652\"},{\"idx\":3653,\"name\":\"1gram_idf_3653\"},{\"idx\":3654,\"name\":\"1gram_idf_3654\"},{\"idx\":3655,\"name\":\"1gram_idf_3655\"},{\"idx\":3656,\"name\":\"1gram_idf_3656\"},{\"idx\":3657,\"name\":\"1gram_idf_3657\"},{\"idx\":3658,\"name\":\"1gram_idf_3658\"},{\"idx\":3659,\"name\":\"1gram_idf_3659\"},{\"idx\":3660,\"name\":\"1gram_idf_3660\"},{\"idx\":3661,\"name\":\"1gram_idf_3661\"},{\"idx\":3662,\"name\":\"1gram_idf_3662\"},{\"idx\":3663,\"name\":\"1gram_idf_3663\"},{\"idx\":3664,\"name\":\"1gram_idf_3664\"},{\"idx\":3665,\"name\":\"1gram_idf_3665\"},{\"idx\":3666,\"name\":\"1gram_idf_3666\"},{\"idx\":3667,\"name\":\"1gram_idf_3667\"},{\"idx\":3668,\"name\":\"1gram_idf_3668\"},{\"idx\":3669,\"name\":\"1gram_idf_3669\"},{\"idx\":3670,\"name\":\"1gram_idf_3670\"},{\"idx\":3671,\"name\":\"1gram_idf_3671\"},{\"idx\":3672,\"name\":\"1gram_idf_3672\"},{\"idx\":3673,\"name\":\"1gram_idf_3673\"},{\"idx\":3674,\"name\":\"1gram_idf_3674\"},{\"idx\":3675,\"name\":\"1gram_idf_3675\"},{\"idx\":3676,\"name\":\"1gram_idf_3676\"},{\"idx\":3677,\"name\":\"1gram_idf_3677\"},{\"idx\":3678,\"name\":\"1gram_idf_3678\"},{\"idx\":3679,\"name\":\"1gram_idf_3679\"},{\"idx\":3680,\"name\":\"1gram_idf_3680\"},{\"idx\":3681,\"name\":\"1gram_idf_3681\"},{\"idx\":3682,\"name\":\"1gram_idf_3682\"},{\"idx\":3683,\"name\":\"1gram_idf_3683\"},{\"idx\":3684,\"name\":\"1gram_idf_3684\"},{\"idx\":3685,\"name\":\"1gram_idf_3685\"},{\"idx\":3686,\"name\":\"1gram_idf_3686\"},{\"idx\":3687,\"name\":\"1gram_idf_3687\"},{\"idx\":3688,\"name\":\"1gram_idf_3688\"},{\"idx\":3689,\"name\":\"1gram_idf_3689\"},{\"idx\":3690,\"name\":\"1gram_idf_3690\"},{\"idx\":3691,\"name\":\"1gram_idf_3691\"},{\"idx\":3692,\"name\":\"1gram_idf_3692\"},{\"idx\":3693,\"name\":\"1gram_idf_3693\"},{\"idx\":3694,\"name\":\"1gram_idf_3694\"},{\"idx\":3695,\"name\":\"1gram_idf_3695\"},{\"idx\":3696,\"name\":\"1gram_idf_3696\"},{\"idx\":3697,\"name\":\"1gram_idf_3697\"},{\"idx\":3698,\"name\":\"1gram_idf_3698\"},{\"idx\":3699,\"name\":\"1gram_idf_3699\"},{\"idx\":3700,\"name\":\"1gram_idf_3700\"},{\"idx\":3701,\"name\":\"1gram_idf_3701\"},{\"idx\":3702,\"name\":\"1gram_idf_3702\"},{\"idx\":3703,\"name\":\"1gram_idf_3703\"},{\"idx\":3704,\"name\":\"1gram_idf_3704\"},{\"idx\":3705,\"name\":\"1gram_idf_3705\"},{\"idx\":3706,\"name\":\"1gram_idf_3706\"},{\"idx\":3707,\"name\":\"1gram_idf_3707\"},{\"idx\":3708,\"name\":\"1gram_idf_3708\"},{\"idx\":3709,\"name\":\"1gram_idf_3709\"},{\"idx\":3710,\"name\":\"1gram_idf_3710\"},{\"idx\":3711,\"name\":\"1gram_idf_3711\"},{\"idx\":3712,\"name\":\"1gram_idf_3712\"},{\"idx\":3713,\"name\":\"1gram_idf_3713\"},{\"idx\":3714,\"name\":\"1gram_idf_3714\"},{\"idx\":3715,\"name\":\"1gram_idf_3715\"},{\"idx\":3716,\"name\":\"1gram_idf_3716\"},{\"idx\":3717,\"name\":\"1gram_idf_3717\"},{\"idx\":3718,\"name\":\"1gram_idf_3718\"},{\"idx\":3719,\"name\":\"1gram_idf_3719\"},{\"idx\":3720,\"name\":\"1gram_idf_3720\"},{\"idx\":3721,\"name\":\"1gram_idf_3721\"},{\"idx\":3722,\"name\":\"1gram_idf_3722\"},{\"idx\":3723,\"name\":\"1gram_idf_3723\"},{\"idx\":3724,\"name\":\"1gram_idf_3724\"},{\"idx\":3725,\"name\":\"1gram_idf_3725\"},{\"idx\":3726,\"name\":\"1gram_idf_3726\"},{\"idx\":3727,\"name\":\"1gram_idf_3727\"},{\"idx\":3728,\"name\":\"1gram_idf_3728\"},{\"idx\":3729,\"name\":\"1gram_idf_3729\"},{\"idx\":3730,\"name\":\"1gram_idf_3730\"},{\"idx\":3731,\"name\":\"1gram_idf_3731\"},{\"idx\":3732,\"name\":\"1gram_idf_3732\"},{\"idx\":3733,\"name\":\"1gram_idf_3733\"},{\"idx\":3734,\"name\":\"1gram_idf_3734\"},{\"idx\":3735,\"name\":\"1gram_idf_3735\"},{\"idx\":3736,\"name\":\"1gram_idf_3736\"},{\"idx\":3737,\"name\":\"1gram_idf_3737\"},{\"idx\":3738,\"name\":\"1gram_idf_3738\"},{\"idx\":3739,\"name\":\"1gram_idf_3739\"},{\"idx\":3740,\"name\":\"1gram_idf_3740\"},{\"idx\":3741,\"name\":\"1gram_idf_3741\"},{\"idx\":3742,\"name\":\"1gram_idf_3742\"},{\"idx\":3743,\"name\":\"1gram_idf_3743\"},{\"idx\":3744,\"name\":\"1gram_idf_3744\"},{\"idx\":3745,\"name\":\"1gram_idf_3745\"},{\"idx\":3746,\"name\":\"1gram_idf_3746\"},{\"idx\":3747,\"name\":\"1gram_idf_3747\"},{\"idx\":3748,\"name\":\"1gram_idf_3748\"},{\"idx\":3749,\"name\":\"1gram_idf_3749\"},{\"idx\":3750,\"name\":\"1gram_idf_3750\"},{\"idx\":3751,\"name\":\"1gram_idf_3751\"},{\"idx\":3752,\"name\":\"1gram_idf_3752\"},{\"idx\":3753,\"name\":\"1gram_idf_3753\"},{\"idx\":3754,\"name\":\"1gram_idf_3754\"},{\"idx\":3755,\"name\":\"1gram_idf_3755\"},{\"idx\":3756,\"name\":\"1gram_idf_3756\"},{\"idx\":3757,\"name\":\"1gram_idf_3757\"},{\"idx\":3758,\"name\":\"1gram_idf_3758\"},{\"idx\":3759,\"name\":\"1gram_idf_3759\"},{\"idx\":3760,\"name\":\"1gram_idf_3760\"},{\"idx\":3761,\"name\":\"1gram_idf_3761\"},{\"idx\":3762,\"name\":\"1gram_idf_3762\"},{\"idx\":3763,\"name\":\"1gram_idf_3763\"},{\"idx\":3764,\"name\":\"1gram_idf_3764\"},{\"idx\":3765,\"name\":\"1gram_idf_3765\"},{\"idx\":3766,\"name\":\"1gram_idf_3766\"},{\"idx\":3767,\"name\":\"1gram_idf_3767\"},{\"idx\":3768,\"name\":\"1gram_idf_3768\"},{\"idx\":3769,\"name\":\"1gram_idf_3769\"},{\"idx\":3770,\"name\":\"1gram_idf_3770\"},{\"idx\":3771,\"name\":\"1gram_idf_3771\"},{\"idx\":3772,\"name\":\"1gram_idf_3772\"},{\"idx\":3773,\"name\":\"1gram_idf_3773\"},{\"idx\":3774,\"name\":\"1gram_idf_3774\"},{\"idx\":3775,\"name\":\"1gram_idf_3775\"},{\"idx\":3776,\"name\":\"1gram_idf_3776\"},{\"idx\":3777,\"name\":\"1gram_idf_3777\"},{\"idx\":3778,\"name\":\"1gram_idf_3778\"},{\"idx\":3779,\"name\":\"1gram_idf_3779\"},{\"idx\":3780,\"name\":\"1gram_idf_3780\"},{\"idx\":3781,\"name\":\"1gram_idf_3781\"},{\"idx\":3782,\"name\":\"1gram_idf_3782\"},{\"idx\":3783,\"name\":\"1gram_idf_3783\"},{\"idx\":3784,\"name\":\"1gram_idf_3784\"},{\"idx\":3785,\"name\":\"1gram_idf_3785\"},{\"idx\":3786,\"name\":\"1gram_idf_3786\"},{\"idx\":3787,\"name\":\"1gram_idf_3787\"},{\"idx\":3788,\"name\":\"1gram_idf_3788\"},{\"idx\":3789,\"name\":\"1gram_idf_3789\"},{\"idx\":3790,\"name\":\"1gram_idf_3790\"},{\"idx\":3791,\"name\":\"1gram_idf_3791\"},{\"idx\":3792,\"name\":\"1gram_idf_3792\"},{\"idx\":3793,\"name\":\"1gram_idf_3793\"},{\"idx\":3794,\"name\":\"1gram_idf_3794\"},{\"idx\":3795,\"name\":\"1gram_idf_3795\"},{\"idx\":3796,\"name\":\"1gram_idf_3796\"},{\"idx\":3797,\"name\":\"1gram_idf_3797\"},{\"idx\":3798,\"name\":\"1gram_idf_3798\"},{\"idx\":3799,\"name\":\"1gram_idf_3799\"},{\"idx\":3800,\"name\":\"1gram_idf_3800\"},{\"idx\":3801,\"name\":\"1gram_idf_3801\"},{\"idx\":3802,\"name\":\"1gram_idf_3802\"},{\"idx\":3803,\"name\":\"1gram_idf_3803\"},{\"idx\":3804,\"name\":\"1gram_idf_3804\"},{\"idx\":3805,\"name\":\"1gram_idf_3805\"},{\"idx\":3806,\"name\":\"1gram_idf_3806\"},{\"idx\":3807,\"name\":\"1gram_idf_3807\"},{\"idx\":3808,\"name\":\"1gram_idf_3808\"},{\"idx\":3809,\"name\":\"1gram_idf_3809\"},{\"idx\":3810,\"name\":\"1gram_idf_3810\"},{\"idx\":3811,\"name\":\"1gram_idf_3811\"},{\"idx\":3812,\"name\":\"1gram_idf_3812\"},{\"idx\":3813,\"name\":\"1gram_idf_3813\"},{\"idx\":3814,\"name\":\"1gram_idf_3814\"},{\"idx\":3815,\"name\":\"1gram_idf_3815\"},{\"idx\":3816,\"name\":\"1gram_idf_3816\"},{\"idx\":3817,\"name\":\"1gram_idf_3817\"},{\"idx\":3818,\"name\":\"1gram_idf_3818\"},{\"idx\":3819,\"name\":\"1gram_idf_3819\"},{\"idx\":3820,\"name\":\"1gram_idf_3820\"},{\"idx\":3821,\"name\":\"1gram_idf_3821\"},{\"idx\":3822,\"name\":\"1gram_idf_3822\"},{\"idx\":3823,\"name\":\"1gram_idf_3823\"},{\"idx\":3824,\"name\":\"1gram_idf_3824\"},{\"idx\":3825,\"name\":\"1gram_idf_3825\"},{\"idx\":3826,\"name\":\"1gram_idf_3826\"},{\"idx\":3827,\"name\":\"1gram_idf_3827\"},{\"idx\":3828,\"name\":\"1gram_idf_3828\"},{\"idx\":3829,\"name\":\"1gram_idf_3829\"},{\"idx\":3830,\"name\":\"1gram_idf_3830\"},{\"idx\":3831,\"name\":\"1gram_idf_3831\"},{\"idx\":3832,\"name\":\"1gram_idf_3832\"},{\"idx\":3833,\"name\":\"1gram_idf_3833\"},{\"idx\":3834,\"name\":\"1gram_idf_3834\"},{\"idx\":3835,\"name\":\"1gram_idf_3835\"},{\"idx\":3836,\"name\":\"1gram_idf_3836\"},{\"idx\":3837,\"name\":\"1gram_idf_3837\"},{\"idx\":3838,\"name\":\"1gram_idf_3838\"},{\"idx\":3839,\"name\":\"1gram_idf_3839\"},{\"idx\":3840,\"name\":\"1gram_idf_3840\"},{\"idx\":3841,\"name\":\"1gram_idf_3841\"},{\"idx\":3842,\"name\":\"1gram_idf_3842\"},{\"idx\":3843,\"name\":\"1gram_idf_3843\"},{\"idx\":3844,\"name\":\"1gram_idf_3844\"},{\"idx\":3845,\"name\":\"1gram_idf_3845\"},{\"idx\":3846,\"name\":\"1gram_idf_3846\"},{\"idx\":3847,\"name\":\"1gram_idf_3847\"},{\"idx\":3848,\"name\":\"1gram_idf_3848\"},{\"idx\":3849,\"name\":\"1gram_idf_3849\"},{\"idx\":3850,\"name\":\"1gram_idf_3850\"},{\"idx\":3851,\"name\":\"1gram_idf_3851\"},{\"idx\":3852,\"name\":\"1gram_idf_3852\"},{\"idx\":3853,\"name\":\"1gram_idf_3853\"},{\"idx\":3854,\"name\":\"1gram_idf_3854\"},{\"idx\":3855,\"name\":\"1gram_idf_3855\"},{\"idx\":3856,\"name\":\"1gram_idf_3856\"},{\"idx\":3857,\"name\":\"1gram_idf_3857\"},{\"idx\":3858,\"name\":\"1gram_idf_3858\"},{\"idx\":3859,\"name\":\"1gram_idf_3859\"},{\"idx\":3860,\"name\":\"1gram_idf_3860\"},{\"idx\":3861,\"name\":\"1gram_idf_3861\"},{\"idx\":3862,\"name\":\"1gram_idf_3862\"},{\"idx\":3863,\"name\":\"1gram_idf_3863\"},{\"idx\":3864,\"name\":\"1gram_idf_3864\"},{\"idx\":3865,\"name\":\"1gram_idf_3865\"},{\"idx\":3866,\"name\":\"1gram_idf_3866\"},{\"idx\":3867,\"name\":\"1gram_idf_3867\"},{\"idx\":3868,\"name\":\"1gram_idf_3868\"},{\"idx\":3869,\"name\":\"1gram_idf_3869\"},{\"idx\":3870,\"name\":\"1gram_idf_3870\"},{\"idx\":3871,\"name\":\"1gram_idf_3871\"},{\"idx\":3872,\"name\":\"1gram_idf_3872\"},{\"idx\":3873,\"name\":\"1gram_idf_3873\"},{\"idx\":3874,\"name\":\"1gram_idf_3874\"},{\"idx\":3875,\"name\":\"1gram_idf_3875\"},{\"idx\":3876,\"name\":\"1gram_idf_3876\"},{\"idx\":3877,\"name\":\"1gram_idf_3877\"},{\"idx\":3878,\"name\":\"1gram_idf_3878\"},{\"idx\":3879,\"name\":\"1gram_idf_3879\"},{\"idx\":3880,\"name\":\"1gram_idf_3880\"},{\"idx\":3881,\"name\":\"1gram_idf_3881\"},{\"idx\":3882,\"name\":\"1gram_idf_3882\"},{\"idx\":3883,\"name\":\"1gram_idf_3883\"},{\"idx\":3884,\"name\":\"1gram_idf_3884\"},{\"idx\":3885,\"name\":\"1gram_idf_3885\"},{\"idx\":3886,\"name\":\"1gram_idf_3886\"},{\"idx\":3887,\"name\":\"1gram_idf_3887\"},{\"idx\":3888,\"name\":\"1gram_idf_3888\"},{\"idx\":3889,\"name\":\"1gram_idf_3889\"},{\"idx\":3890,\"name\":\"1gram_idf_3890\"},{\"idx\":3891,\"name\":\"1gram_idf_3891\"},{\"idx\":3892,\"name\":\"1gram_idf_3892\"},{\"idx\":3893,\"name\":\"1gram_idf_3893\"},{\"idx\":3894,\"name\":\"1gram_idf_3894\"},{\"idx\":3895,\"name\":\"1gram_idf_3895\"},{\"idx\":3896,\"name\":\"1gram_idf_3896\"},{\"idx\":3897,\"name\":\"1gram_idf_3897\"},{\"idx\":3898,\"name\":\"1gram_idf_3898\"},{\"idx\":3899,\"name\":\"1gram_idf_3899\"},{\"idx\":3900,\"name\":\"1gram_idf_3900\"},{\"idx\":3901,\"name\":\"1gram_idf_3901\"},{\"idx\":3902,\"name\":\"1gram_idf_3902\"},{\"idx\":3903,\"name\":\"1gram_idf_3903\"},{\"idx\":3904,\"name\":\"1gram_idf_3904\"},{\"idx\":3905,\"name\":\"1gram_idf_3905\"},{\"idx\":3906,\"name\":\"1gram_idf_3906\"},{\"idx\":3907,\"name\":\"1gram_idf_3907\"},{\"idx\":3908,\"name\":\"1gram_idf_3908\"},{\"idx\":3909,\"name\":\"1gram_idf_3909\"},{\"idx\":3910,\"name\":\"1gram_idf_3910\"},{\"idx\":3911,\"name\":\"1gram_idf_3911\"},{\"idx\":3912,\"name\":\"1gram_idf_3912\"},{\"idx\":3913,\"name\":\"1gram_idf_3913\"},{\"idx\":3914,\"name\":\"1gram_idf_3914\"},{\"idx\":3915,\"name\":\"1gram_idf_3915\"},{\"idx\":3916,\"name\":\"1gram_idf_3916\"},{\"idx\":3917,\"name\":\"1gram_idf_3917\"},{\"idx\":3918,\"name\":\"1gram_idf_3918\"},{\"idx\":3919,\"name\":\"1gram_idf_3919\"},{\"idx\":3920,\"name\":\"1gram_idf_3920\"},{\"idx\":3921,\"name\":\"1gram_idf_3921\"},{\"idx\":3922,\"name\":\"1gram_idf_3922\"},{\"idx\":3923,\"name\":\"1gram_idf_3923\"},{\"idx\":3924,\"name\":\"1gram_idf_3924\"},{\"idx\":3925,\"name\":\"1gram_idf_3925\"},{\"idx\":3926,\"name\":\"1gram_idf_3926\"},{\"idx\":3927,\"name\":\"1gram_idf_3927\"},{\"idx\":3928,\"name\":\"1gram_idf_3928\"},{\"idx\":3929,\"name\":\"1gram_idf_3929\"},{\"idx\":3930,\"name\":\"1gram_idf_3930\"},{\"idx\":3931,\"name\":\"1gram_idf_3931\"},{\"idx\":3932,\"name\":\"1gram_idf_3932\"},{\"idx\":3933,\"name\":\"1gram_idf_3933\"},{\"idx\":3934,\"name\":\"1gram_idf_3934\"},{\"idx\":3935,\"name\":\"1gram_idf_3935\"},{\"idx\":3936,\"name\":\"1gram_idf_3936\"},{\"idx\":3937,\"name\":\"1gram_idf_3937\"},{\"idx\":3938,\"name\":\"1gram_idf_3938\"},{\"idx\":3939,\"name\":\"1gram_idf_3939\"},{\"idx\":3940,\"name\":\"1gram_idf_3940\"},{\"idx\":3941,\"name\":\"1gram_idf_3941\"},{\"idx\":3942,\"name\":\"1gram_idf_3942\"},{\"idx\":3943,\"name\":\"1gram_idf_3943\"},{\"idx\":3944,\"name\":\"1gram_idf_3944\"},{\"idx\":3945,\"name\":\"1gram_idf_3945\"},{\"idx\":3946,\"name\":\"1gram_idf_3946\"},{\"idx\":3947,\"name\":\"1gram_idf_3947\"},{\"idx\":3948,\"name\":\"1gram_idf_3948\"},{\"idx\":3949,\"name\":\"1gram_idf_3949\"},{\"idx\":3950,\"name\":\"1gram_idf_3950\"},{\"idx\":3951,\"name\":\"1gram_idf_3951\"},{\"idx\":3952,\"name\":\"1gram_idf_3952\"},{\"idx\":3953,\"name\":\"1gram_idf_3953\"},{\"idx\":3954,\"name\":\"1gram_idf_3954\"},{\"idx\":3955,\"name\":\"1gram_idf_3955\"},{\"idx\":3956,\"name\":\"1gram_idf_3956\"},{\"idx\":3957,\"name\":\"1gram_idf_3957\"},{\"idx\":3958,\"name\":\"1gram_idf_3958\"},{\"idx\":3959,\"name\":\"1gram_idf_3959\"},{\"idx\":3960,\"name\":\"1gram_idf_3960\"},{\"idx\":3961,\"name\":\"1gram_idf_3961\"},{\"idx\":3962,\"name\":\"1gram_idf_3962\"},{\"idx\":3963,\"name\":\"1gram_idf_3963\"},{\"idx\":3964,\"name\":\"1gram_idf_3964\"},{\"idx\":3965,\"name\":\"1gram_idf_3965\"},{\"idx\":3966,\"name\":\"1gram_idf_3966\"},{\"idx\":3967,\"name\":\"1gram_idf_3967\"},{\"idx\":3968,\"name\":\"1gram_idf_3968\"},{\"idx\":3969,\"name\":\"1gram_idf_3969\"},{\"idx\":3970,\"name\":\"1gram_idf_3970\"},{\"idx\":3971,\"name\":\"1gram_idf_3971\"},{\"idx\":3972,\"name\":\"1gram_idf_3972\"},{\"idx\":3973,\"name\":\"1gram_idf_3973\"},{\"idx\":3974,\"name\":\"1gram_idf_3974\"},{\"idx\":3975,\"name\":\"1gram_idf_3975\"},{\"idx\":3976,\"name\":\"1gram_idf_3976\"},{\"idx\":3977,\"name\":\"1gram_idf_3977\"},{\"idx\":3978,\"name\":\"1gram_idf_3978\"},{\"idx\":3979,\"name\":\"1gram_idf_3979\"},{\"idx\":3980,\"name\":\"1gram_idf_3980\"},{\"idx\":3981,\"name\":\"1gram_idf_3981\"},{\"idx\":3982,\"name\":\"1gram_idf_3982\"},{\"idx\":3983,\"name\":\"1gram_idf_3983\"},{\"idx\":3984,\"name\":\"1gram_idf_3984\"},{\"idx\":3985,\"name\":\"1gram_idf_3985\"},{\"idx\":3986,\"name\":\"1gram_idf_3986\"},{\"idx\":3987,\"name\":\"1gram_idf_3987\"},{\"idx\":3988,\"name\":\"1gram_idf_3988\"},{\"idx\":3989,\"name\":\"1gram_idf_3989\"},{\"idx\":3990,\"name\":\"1gram_idf_3990\"},{\"idx\":3991,\"name\":\"1gram_idf_3991\"},{\"idx\":3992,\"name\":\"1gram_idf_3992\"},{\"idx\":3993,\"name\":\"1gram_idf_3993\"},{\"idx\":3994,\"name\":\"1gram_idf_3994\"},{\"idx\":3995,\"name\":\"1gram_idf_3995\"},{\"idx\":3996,\"name\":\"1gram_idf_3996\"},{\"idx\":3997,\"name\":\"1gram_idf_3997\"},{\"idx\":3998,\"name\":\"1gram_idf_3998\"},{\"idx\":3999,\"name\":\"1gram_idf_3999\"},{\"idx\":4000,\"name\":\"1gram_idf_4000\"},{\"idx\":4001,\"name\":\"1gram_idf_4001\"},{\"idx\":4002,\"name\":\"1gram_idf_4002\"},{\"idx\":4003,\"name\":\"1gram_idf_4003\"},{\"idx\":4004,\"name\":\"1gram_idf_4004\"},{\"idx\":4005,\"name\":\"1gram_idf_4005\"},{\"idx\":4006,\"name\":\"1gram_idf_4006\"},{\"idx\":4007,\"name\":\"1gram_idf_4007\"},{\"idx\":4008,\"name\":\"1gram_idf_4008\"},{\"idx\":4009,\"name\":\"1gram_idf_4009\"},{\"idx\":4010,\"name\":\"1gram_idf_4010\"},{\"idx\":4011,\"name\":\"1gram_idf_4011\"},{\"idx\":4012,\"name\":\"1gram_idf_4012\"},{\"idx\":4013,\"name\":\"1gram_idf_4013\"},{\"idx\":4014,\"name\":\"1gram_idf_4014\"},{\"idx\":4015,\"name\":\"1gram_idf_4015\"},{\"idx\":4016,\"name\":\"1gram_idf_4016\"},{\"idx\":4017,\"name\":\"1gram_idf_4017\"},{\"idx\":4018,\"name\":\"1gram_idf_4018\"},{\"idx\":4019,\"name\":\"1gram_idf_4019\"},{\"idx\":4020,\"name\":\"1gram_idf_4020\"},{\"idx\":4021,\"name\":\"1gram_idf_4021\"},{\"idx\":4022,\"name\":\"1gram_idf_4022\"},{\"idx\":4023,\"name\":\"1gram_idf_4023\"},{\"idx\":4024,\"name\":\"1gram_idf_4024\"},{\"idx\":4025,\"name\":\"1gram_idf_4025\"},{\"idx\":4026,\"name\":\"1gram_idf_4026\"},{\"idx\":4027,\"name\":\"1gram_idf_4027\"},{\"idx\":4028,\"name\":\"1gram_idf_4028\"},{\"idx\":4029,\"name\":\"1gram_idf_4029\"},{\"idx\":4030,\"name\":\"1gram_idf_4030\"},{\"idx\":4031,\"name\":\"1gram_idf_4031\"},{\"idx\":4032,\"name\":\"1gram_idf_4032\"},{\"idx\":4033,\"name\":\"1gram_idf_4033\"},{\"idx\":4034,\"name\":\"1gram_idf_4034\"},{\"idx\":4035,\"name\":\"1gram_idf_4035\"},{\"idx\":4036,\"name\":\"1gram_idf_4036\"},{\"idx\":4037,\"name\":\"1gram_idf_4037\"},{\"idx\":4038,\"name\":\"1gram_idf_4038\"},{\"idx\":4039,\"name\":\"1gram_idf_4039\"},{\"idx\":4040,\"name\":\"1gram_idf_4040\"},{\"idx\":4041,\"name\":\"1gram_idf_4041\"},{\"idx\":4042,\"name\":\"1gram_idf_4042\"},{\"idx\":4043,\"name\":\"1gram_idf_4043\"},{\"idx\":4044,\"name\":\"1gram_idf_4044\"},{\"idx\":4045,\"name\":\"1gram_idf_4045\"},{\"idx\":4046,\"name\":\"1gram_idf_4046\"},{\"idx\":4047,\"name\":\"1gram_idf_4047\"},{\"idx\":4048,\"name\":\"1gram_idf_4048\"},{\"idx\":4049,\"name\":\"1gram_idf_4049\"},{\"idx\":4050,\"name\":\"1gram_idf_4050\"},{\"idx\":4051,\"name\":\"1gram_idf_4051\"},{\"idx\":4052,\"name\":\"1gram_idf_4052\"},{\"idx\":4053,\"name\":\"1gram_idf_4053\"},{\"idx\":4054,\"name\":\"1gram_idf_4054\"},{\"idx\":4055,\"name\":\"1gram_idf_4055\"},{\"idx\":4056,\"name\":\"1gram_idf_4056\"},{\"idx\":4057,\"name\":\"1gram_idf_4057\"},{\"idx\":4058,\"name\":\"1gram_idf_4058\"},{\"idx\":4059,\"name\":\"1gram_idf_4059\"},{\"idx\":4060,\"name\":\"1gram_idf_4060\"},{\"idx\":4061,\"name\":\"1gram_idf_4061\"},{\"idx\":4062,\"name\":\"1gram_idf_4062\"},{\"idx\":4063,\"name\":\"1gram_idf_4063\"},{\"idx\":4064,\"name\":\"1gram_idf_4064\"},{\"idx\":4065,\"name\":\"1gram_idf_4065\"},{\"idx\":4066,\"name\":\"1gram_idf_4066\"},{\"idx\":4067,\"name\":\"1gram_idf_4067\"},{\"idx\":4068,\"name\":\"1gram_idf_4068\"},{\"idx\":4069,\"name\":\"1gram_idf_4069\"},{\"idx\":4070,\"name\":\"1gram_idf_4070\"},{\"idx\":4071,\"name\":\"1gram_idf_4071\"},{\"idx\":4072,\"name\":\"1gram_idf_4072\"},{\"idx\":4073,\"name\":\"1gram_idf_4073\"},{\"idx\":4074,\"name\":\"1gram_idf_4074\"},{\"idx\":4075,\"name\":\"1gram_idf_4075\"},{\"idx\":4076,\"name\":\"1gram_idf_4076\"},{\"idx\":4077,\"name\":\"1gram_idf_4077\"},{\"idx\":4078,\"name\":\"1gram_idf_4078\"},{\"idx\":4079,\"name\":\"1gram_idf_4079\"},{\"idx\":4080,\"name\":\"1gram_idf_4080\"},{\"idx\":4081,\"name\":\"1gram_idf_4081\"},{\"idx\":4082,\"name\":\"1gram_idf_4082\"},{\"idx\":4083,\"name\":\"1gram_idf_4083\"},{\"idx\":4084,\"name\":\"1gram_idf_4084\"},{\"idx\":4085,\"name\":\"1gram_idf_4085\"},{\"idx\":4086,\"name\":\"1gram_idf_4086\"},{\"idx\":4087,\"name\":\"1gram_idf_4087\"},{\"idx\":4088,\"name\":\"1gram_idf_4088\"},{\"idx\":4089,\"name\":\"1gram_idf_4089\"},{\"idx\":4090,\"name\":\"1gram_idf_4090\"},{\"idx\":4091,\"name\":\"1gram_idf_4091\"},{\"idx\":4092,\"name\":\"1gram_idf_4092\"},{\"idx\":4093,\"name\":\"1gram_idf_4093\"},{\"idx\":4094,\"name\":\"1gram_idf_4094\"},{\"idx\":4095,\"name\":\"1gram_idf_4095\"},{\"idx\":4096,\"name\":\"1gram_idf_4096\"},{\"idx\":4097,\"name\":\"1gram_idf_4097\"},{\"idx\":4098,\"name\":\"1gram_idf_4098\"},{\"idx\":4099,\"name\":\"1gram_idf_4099\"},{\"idx\":4100,\"name\":\"1gram_idf_4100\"},{\"idx\":4101,\"name\":\"1gram_idf_4101\"},{\"idx\":4102,\"name\":\"1gram_idf_4102\"},{\"idx\":4103,\"name\":\"1gram_idf_4103\"},{\"idx\":4104,\"name\":\"1gram_idf_4104\"},{\"idx\":4105,\"name\":\"1gram_idf_4105\"},{\"idx\":4106,\"name\":\"1gram_idf_4106\"},{\"idx\":4107,\"name\":\"1gram_idf_4107\"},{\"idx\":4108,\"name\":\"1gram_idf_4108\"},{\"idx\":4109,\"name\":\"1gram_idf_4109\"},{\"idx\":4110,\"name\":\"1gram_idf_4110\"},{\"idx\":4111,\"name\":\"1gram_idf_4111\"},{\"idx\":4112,\"name\":\"1gram_idf_4112\"},{\"idx\":4113,\"name\":\"1gram_idf_4113\"},{\"idx\":4114,\"name\":\"1gram_idf_4114\"},{\"idx\":4115,\"name\":\"1gram_idf_4115\"},{\"idx\":4116,\"name\":\"1gram_idf_4116\"},{\"idx\":4117,\"name\":\"1gram_idf_4117\"},{\"idx\":4118,\"name\":\"1gram_idf_4118\"},{\"idx\":4119,\"name\":\"1gram_idf_4119\"},{\"idx\":4120,\"name\":\"1gram_idf_4120\"},{\"idx\":4121,\"name\":\"1gram_idf_4121\"},{\"idx\":4122,\"name\":\"1gram_idf_4122\"},{\"idx\":4123,\"name\":\"1gram_idf_4123\"},{\"idx\":4124,\"name\":\"1gram_idf_4124\"},{\"idx\":4125,\"name\":\"1gram_idf_4125\"},{\"idx\":4126,\"name\":\"1gram_idf_4126\"},{\"idx\":4127,\"name\":\"1gram_idf_4127\"},{\"idx\":4128,\"name\":\"1gram_idf_4128\"},{\"idx\":4129,\"name\":\"1gram_idf_4129\"},{\"idx\":4130,\"name\":\"1gram_idf_4130\"},{\"idx\":4131,\"name\":\"1gram_idf_4131\"},{\"idx\":4132,\"name\":\"1gram_idf_4132\"},{\"idx\":4133,\"name\":\"1gram_idf_4133\"},{\"idx\":4134,\"name\":\"1gram_idf_4134\"},{\"idx\":4135,\"name\":\"1gram_idf_4135\"},{\"idx\":4136,\"name\":\"1gram_idf_4136\"},{\"idx\":4137,\"name\":\"1gram_idf_4137\"},{\"idx\":4138,\"name\":\"1gram_idf_4138\"},{\"idx\":4139,\"name\":\"1gram_idf_4139\"},{\"idx\":4140,\"name\":\"1gram_idf_4140\"},{\"idx\":4141,\"name\":\"1gram_idf_4141\"},{\"idx\":4142,\"name\":\"1gram_idf_4142\"},{\"idx\":4143,\"name\":\"1gram_idf_4143\"},{\"idx\":4144,\"name\":\"1gram_idf_4144\"},{\"idx\":4145,\"name\":\"1gram_idf_4145\"},{\"idx\":4146,\"name\":\"1gram_idf_4146\"},{\"idx\":4147,\"name\":\"1gram_idf_4147\"},{\"idx\":4148,\"name\":\"1gram_idf_4148\"},{\"idx\":4149,\"name\":\"1gram_idf_4149\"},{\"idx\":4150,\"name\":\"1gram_idf_4150\"},{\"idx\":4151,\"name\":\"1gram_idf_4151\"},{\"idx\":4152,\"name\":\"1gram_idf_4152\"},{\"idx\":4153,\"name\":\"1gram_idf_4153\"},{\"idx\":4154,\"name\":\"1gram_idf_4154\"},{\"idx\":4155,\"name\":\"1gram_idf_4155\"},{\"idx\":4156,\"name\":\"1gram_idf_4156\"},{\"idx\":4157,\"name\":\"1gram_idf_4157\"},{\"idx\":4158,\"name\":\"1gram_idf_4158\"},{\"idx\":4159,\"name\":\"1gram_idf_4159\"},{\"idx\":4160,\"name\":\"1gram_idf_4160\"},{\"idx\":4161,\"name\":\"1gram_idf_4161\"},{\"idx\":4162,\"name\":\"1gram_idf_4162\"},{\"idx\":4163,\"name\":\"1gram_idf_4163\"},{\"idx\":4164,\"name\":\"1gram_idf_4164\"},{\"idx\":4165,\"name\":\"1gram_idf_4165\"},{\"idx\":4166,\"name\":\"1gram_idf_4166\"},{\"idx\":4167,\"name\":\"1gram_idf_4167\"},{\"idx\":4168,\"name\":\"1gram_idf_4168\"},{\"idx\":4169,\"name\":\"1gram_idf_4169\"},{\"idx\":4170,\"name\":\"1gram_idf_4170\"},{\"idx\":4171,\"name\":\"1gram_idf_4171\"},{\"idx\":4172,\"name\":\"1gram_idf_4172\"},{\"idx\":4173,\"name\":\"1gram_idf_4173\"},{\"idx\":4174,\"name\":\"1gram_idf_4174\"},{\"idx\":4175,\"name\":\"1gram_idf_4175\"},{\"idx\":4176,\"name\":\"1gram_idf_4176\"},{\"idx\":4177,\"name\":\"1gram_idf_4177\"},{\"idx\":4178,\"name\":\"1gram_idf_4178\"},{\"idx\":4179,\"name\":\"1gram_idf_4179\"},{\"idx\":4180,\"name\":\"1gram_idf_4180\"},{\"idx\":4181,\"name\":\"1gram_idf_4181\"},{\"idx\":4182,\"name\":\"1gram_idf_4182\"},{\"idx\":4183,\"name\":\"1gram_idf_4183\"},{\"idx\":4184,\"name\":\"1gram_idf_4184\"},{\"idx\":4185,\"name\":\"1gram_idf_4185\"},{\"idx\":4186,\"name\":\"1gram_idf_4186\"},{\"idx\":4187,\"name\":\"1gram_idf_4187\"},{\"idx\":4188,\"name\":\"1gram_idf_4188\"},{\"idx\":4189,\"name\":\"1gram_idf_4189\"},{\"idx\":4190,\"name\":\"1gram_idf_4190\"},{\"idx\":4191,\"name\":\"1gram_idf_4191\"},{\"idx\":4192,\"name\":\"1gram_idf_4192\"},{\"idx\":4193,\"name\":\"1gram_idf_4193\"},{\"idx\":4194,\"name\":\"1gram_idf_4194\"},{\"idx\":4195,\"name\":\"1gram_idf_4195\"},{\"idx\":4196,\"name\":\"1gram_idf_4196\"},{\"idx\":4197,\"name\":\"1gram_idf_4197\"},{\"idx\":4198,\"name\":\"1gram_idf_4198\"},{\"idx\":4199,\"name\":\"1gram_idf_4199\"},{\"idx\":4200,\"name\":\"1gram_idf_4200\"},{\"idx\":4201,\"name\":\"1gram_idf_4201\"},{\"idx\":4202,\"name\":\"1gram_idf_4202\"},{\"idx\":4203,\"name\":\"1gram_idf_4203\"},{\"idx\":4204,\"name\":\"1gram_idf_4204\"},{\"idx\":4205,\"name\":\"1gram_idf_4205\"},{\"idx\":4206,\"name\":\"1gram_idf_4206\"},{\"idx\":4207,\"name\":\"1gram_idf_4207\"},{\"idx\":4208,\"name\":\"1gram_idf_4208\"},{\"idx\":4209,\"name\":\"1gram_idf_4209\"},{\"idx\":4210,\"name\":\"1gram_idf_4210\"},{\"idx\":4211,\"name\":\"1gram_idf_4211\"},{\"idx\":4212,\"name\":\"1gram_idf_4212\"},{\"idx\":4213,\"name\":\"1gram_idf_4213\"},{\"idx\":4214,\"name\":\"1gram_idf_4214\"},{\"idx\":4215,\"name\":\"1gram_idf_4215\"},{\"idx\":4216,\"name\":\"1gram_idf_4216\"},{\"idx\":4217,\"name\":\"1gram_idf_4217\"},{\"idx\":4218,\"name\":\"1gram_idf_4218\"},{\"idx\":4219,\"name\":\"1gram_idf_4219\"},{\"idx\":4220,\"name\":\"1gram_idf_4220\"},{\"idx\":4221,\"name\":\"1gram_idf_4221\"},{\"idx\":4222,\"name\":\"1gram_idf_4222\"},{\"idx\":4223,\"name\":\"1gram_idf_4223\"},{\"idx\":4224,\"name\":\"1gram_idf_4224\"},{\"idx\":4225,\"name\":\"1gram_idf_4225\"},{\"idx\":4226,\"name\":\"1gram_idf_4226\"},{\"idx\":4227,\"name\":\"1gram_idf_4227\"},{\"idx\":4228,\"name\":\"1gram_idf_4228\"},{\"idx\":4229,\"name\":\"1gram_idf_4229\"},{\"idx\":4230,\"name\":\"1gram_idf_4230\"},{\"idx\":4231,\"name\":\"1gram_idf_4231\"},{\"idx\":4232,\"name\":\"1gram_idf_4232\"},{\"idx\":4233,\"name\":\"1gram_idf_4233\"},{\"idx\":4234,\"name\":\"1gram_idf_4234\"},{\"idx\":4235,\"name\":\"1gram_idf_4235\"},{\"idx\":4236,\"name\":\"1gram_idf_4236\"},{\"idx\":4237,\"name\":\"1gram_idf_4237\"},{\"idx\":4238,\"name\":\"1gram_idf_4238\"},{\"idx\":4239,\"name\":\"1gram_idf_4239\"},{\"idx\":4240,\"name\":\"1gram_idf_4240\"},{\"idx\":4241,\"name\":\"1gram_idf_4241\"},{\"idx\":4242,\"name\":\"1gram_idf_4242\"},{\"idx\":4243,\"name\":\"1gram_idf_4243\"},{\"idx\":4244,\"name\":\"1gram_idf_4244\"},{\"idx\":4245,\"name\":\"1gram_idf_4245\"},{\"idx\":4246,\"name\":\"1gram_idf_4246\"},{\"idx\":4247,\"name\":\"1gram_idf_4247\"},{\"idx\":4248,\"name\":\"1gram_idf_4248\"},{\"idx\":4249,\"name\":\"1gram_idf_4249\"},{\"idx\":4250,\"name\":\"1gram_idf_4250\"},{\"idx\":4251,\"name\":\"1gram_idf_4251\"},{\"idx\":4252,\"name\":\"1gram_idf_4252\"},{\"idx\":4253,\"name\":\"1gram_idf_4253\"},{\"idx\":4254,\"name\":\"1gram_idf_4254\"},{\"idx\":4255,\"name\":\"1gram_idf_4255\"},{\"idx\":4256,\"name\":\"1gram_idf_4256\"},{\"idx\":4257,\"name\":\"1gram_idf_4257\"},{\"idx\":4258,\"name\":\"1gram_idf_4258\"},{\"idx\":4259,\"name\":\"1gram_idf_4259\"},{\"idx\":4260,\"name\":\"1gram_idf_4260\"},{\"idx\":4261,\"name\":\"1gram_idf_4261\"},{\"idx\":4262,\"name\":\"1gram_idf_4262\"},{\"idx\":4263,\"name\":\"1gram_idf_4263\"},{\"idx\":4264,\"name\":\"1gram_idf_4264\"},{\"idx\":4265,\"name\":\"1gram_idf_4265\"},{\"idx\":4266,\"name\":\"1gram_idf_4266\"},{\"idx\":4267,\"name\":\"1gram_idf_4267\"},{\"idx\":4268,\"name\":\"1gram_idf_4268\"},{\"idx\":4269,\"name\":\"1gram_idf_4269\"},{\"idx\":4270,\"name\":\"1gram_idf_4270\"},{\"idx\":4271,\"name\":\"1gram_idf_4271\"},{\"idx\":4272,\"name\":\"1gram_idf_4272\"},{\"idx\":4273,\"name\":\"1gram_idf_4273\"},{\"idx\":4274,\"name\":\"1gram_idf_4274\"},{\"idx\":4275,\"name\":\"1gram_idf_4275\"},{\"idx\":4276,\"name\":\"1gram_idf_4276\"},{\"idx\":4277,\"name\":\"1gram_idf_4277\"},{\"idx\":4278,\"name\":\"1gram_idf_4278\"},{\"idx\":4279,\"name\":\"1gram_idf_4279\"},{\"idx\":4280,\"name\":\"1gram_idf_4280\"},{\"idx\":4281,\"name\":\"1gram_idf_4281\"},{\"idx\":4282,\"name\":\"1gram_idf_4282\"},{\"idx\":4283,\"name\":\"1gram_idf_4283\"},{\"idx\":4284,\"name\":\"1gram_idf_4284\"},{\"idx\":4285,\"name\":\"1gram_idf_4285\"},{\"idx\":4286,\"name\":\"1gram_idf_4286\"},{\"idx\":4287,\"name\":\"1gram_idf_4287\"},{\"idx\":4288,\"name\":\"1gram_idf_4288\"},{\"idx\":4289,\"name\":\"1gram_idf_4289\"},{\"idx\":4290,\"name\":\"1gram_idf_4290\"},{\"idx\":4291,\"name\":\"1gram_idf_4291\"},{\"idx\":4292,\"name\":\"1gram_idf_4292\"},{\"idx\":4293,\"name\":\"1gram_idf_4293\"},{\"idx\":4294,\"name\":\"1gram_idf_4294\"},{\"idx\":4295,\"name\":\"1gram_idf_4295\"},{\"idx\":4296,\"name\":\"1gram_idf_4296\"},{\"idx\":4297,\"name\":\"1gram_idf_4297\"},{\"idx\":4298,\"name\":\"1gram_idf_4298\"},{\"idx\":4299,\"name\":\"1gram_idf_4299\"},{\"idx\":4300,\"name\":\"1gram_idf_4300\"},{\"idx\":4301,\"name\":\"1gram_idf_4301\"},{\"idx\":4302,\"name\":\"1gram_idf_4302\"},{\"idx\":4303,\"name\":\"1gram_idf_4303\"},{\"idx\":4304,\"name\":\"1gram_idf_4304\"},{\"idx\":4305,\"name\":\"1gram_idf_4305\"},{\"idx\":4306,\"name\":\"1gram_idf_4306\"},{\"idx\":4307,\"name\":\"1gram_idf_4307\"},{\"idx\":4308,\"name\":\"1gram_idf_4308\"},{\"idx\":4309,\"name\":\"1gram_idf_4309\"},{\"idx\":4310,\"name\":\"1gram_idf_4310\"},{\"idx\":4311,\"name\":\"1gram_idf_4311\"},{\"idx\":4312,\"name\":\"1gram_idf_4312\"},{\"idx\":4313,\"name\":\"1gram_idf_4313\"},{\"idx\":4314,\"name\":\"1gram_idf_4314\"},{\"idx\":4315,\"name\":\"1gram_idf_4315\"},{\"idx\":4316,\"name\":\"1gram_idf_4316\"},{\"idx\":4317,\"name\":\"1gram_idf_4317\"},{\"idx\":4318,\"name\":\"1gram_idf_4318\"},{\"idx\":4319,\"name\":\"1gram_idf_4319\"},{\"idx\":4320,\"name\":\"1gram_idf_4320\"},{\"idx\":4321,\"name\":\"1gram_idf_4321\"},{\"idx\":4322,\"name\":\"1gram_idf_4322\"},{\"idx\":4323,\"name\":\"1gram_idf_4323\"},{\"idx\":4324,\"name\":\"1gram_idf_4324\"},{\"idx\":4325,\"name\":\"1gram_idf_4325\"},{\"idx\":4326,\"name\":\"1gram_idf_4326\"},{\"idx\":4327,\"name\":\"1gram_idf_4327\"},{\"idx\":4328,\"name\":\"1gram_idf_4328\"},{\"idx\":4329,\"name\":\"1gram_idf_4329\"},{\"idx\":4330,\"name\":\"1gram_idf_4330\"},{\"idx\":4331,\"name\":\"1gram_idf_4331\"},{\"idx\":4332,\"name\":\"1gram_idf_4332\"},{\"idx\":4333,\"name\":\"1gram_idf_4333\"},{\"idx\":4334,\"name\":\"1gram_idf_4334\"},{\"idx\":4335,\"name\":\"1gram_idf_4335\"},{\"idx\":4336,\"name\":\"1gram_idf_4336\"},{\"idx\":4337,\"name\":\"1gram_idf_4337\"},{\"idx\":4338,\"name\":\"1gram_idf_4338\"},{\"idx\":4339,\"name\":\"1gram_idf_4339\"},{\"idx\":4340,\"name\":\"1gram_idf_4340\"},{\"idx\":4341,\"name\":\"1gram_idf_4341\"},{\"idx\":4342,\"name\":\"1gram_idf_4342\"},{\"idx\":4343,\"name\":\"1gram_idf_4343\"},{\"idx\":4344,\"name\":\"1gram_idf_4344\"},{\"idx\":4345,\"name\":\"1gram_idf_4345\"},{\"idx\":4346,\"name\":\"1gram_idf_4346\"},{\"idx\":4347,\"name\":\"1gram_idf_4347\"},{\"idx\":4348,\"name\":\"1gram_idf_4348\"},{\"idx\":4349,\"name\":\"1gram_idf_4349\"},{\"idx\":4350,\"name\":\"1gram_idf_4350\"},{\"idx\":4351,\"name\":\"1gram_idf_4351\"},{\"idx\":4352,\"name\":\"1gram_idf_4352\"},{\"idx\":4353,\"name\":\"1gram_idf_4353\"},{\"idx\":4354,\"name\":\"1gram_idf_4354\"},{\"idx\":4355,\"name\":\"1gram_idf_4355\"},{\"idx\":4356,\"name\":\"1gram_idf_4356\"},{\"idx\":4357,\"name\":\"1gram_idf_4357\"},{\"idx\":4358,\"name\":\"1gram_idf_4358\"},{\"idx\":4359,\"name\":\"1gram_idf_4359\"},{\"idx\":4360,\"name\":\"1gram_idf_4360\"},{\"idx\":4361,\"name\":\"1gram_idf_4361\"},{\"idx\":4362,\"name\":\"1gram_idf_4362\"},{\"idx\":4363,\"name\":\"1gram_idf_4363\"},{\"idx\":4364,\"name\":\"1gram_idf_4364\"},{\"idx\":4365,\"name\":\"1gram_idf_4365\"},{\"idx\":4366,\"name\":\"1gram_idf_4366\"},{\"idx\":4367,\"name\":\"1gram_idf_4367\"},{\"idx\":4368,\"name\":\"1gram_idf_4368\"},{\"idx\":4369,\"name\":\"1gram_idf_4369\"},{\"idx\":4370,\"name\":\"1gram_idf_4370\"},{\"idx\":4371,\"name\":\"1gram_idf_4371\"},{\"idx\":4372,\"name\":\"1gram_idf_4372\"},{\"idx\":4373,\"name\":\"1gram_idf_4373\"},{\"idx\":4374,\"name\":\"1gram_idf_4374\"},{\"idx\":4375,\"name\":\"1gram_idf_4375\"},{\"idx\":4376,\"name\":\"1gram_idf_4376\"},{\"idx\":4377,\"name\":\"1gram_idf_4377\"},{\"idx\":4378,\"name\":\"1gram_idf_4378\"},{\"idx\":4379,\"name\":\"1gram_idf_4379\"},{\"idx\":4380,\"name\":\"1gram_idf_4380\"},{\"idx\":4381,\"name\":\"1gram_idf_4381\"},{\"idx\":4382,\"name\":\"1gram_idf_4382\"},{\"idx\":4383,\"name\":\"1gram_idf_4383\"},{\"idx\":4384,\"name\":\"1gram_idf_4384\"},{\"idx\":4385,\"name\":\"1gram_idf_4385\"},{\"idx\":4386,\"name\":\"1gram_idf_4386\"},{\"idx\":4387,\"name\":\"1gram_idf_4387\"},{\"idx\":4388,\"name\":\"1gram_idf_4388\"},{\"idx\":4389,\"name\":\"1gram_idf_4389\"},{\"idx\":4390,\"name\":\"1gram_idf_4390\"},{\"idx\":4391,\"name\":\"1gram_idf_4391\"},{\"idx\":4392,\"name\":\"1gram_idf_4392\"},{\"idx\":4393,\"name\":\"1gram_idf_4393\"},{\"idx\":4394,\"name\":\"1gram_idf_4394\"},{\"idx\":4395,\"name\":\"1gram_idf_4395\"},{\"idx\":4396,\"name\":\"1gram_idf_4396\"},{\"idx\":4397,\"name\":\"1gram_idf_4397\"},{\"idx\":4398,\"name\":\"1gram_idf_4398\"},{\"idx\":4399,\"name\":\"1gram_idf_4399\"},{\"idx\":4400,\"name\":\"1gram_idf_4400\"},{\"idx\":4401,\"name\":\"1gram_idf_4401\"},{\"idx\":4402,\"name\":\"1gram_idf_4402\"},{\"idx\":4403,\"name\":\"1gram_idf_4403\"},{\"idx\":4404,\"name\":\"1gram_idf_4404\"},{\"idx\":4405,\"name\":\"1gram_idf_4405\"},{\"idx\":4406,\"name\":\"1gram_idf_4406\"},{\"idx\":4407,\"name\":\"1gram_idf_4407\"},{\"idx\":4408,\"name\":\"1gram_idf_4408\"},{\"idx\":4409,\"name\":\"1gram_idf_4409\"},{\"idx\":4410,\"name\":\"1gram_idf_4410\"},{\"idx\":4411,\"name\":\"1gram_idf_4411\"},{\"idx\":4412,\"name\":\"1gram_idf_4412\"},{\"idx\":4413,\"name\":\"1gram_idf_4413\"},{\"idx\":4414,\"name\":\"1gram_idf_4414\"},{\"idx\":4415,\"name\":\"1gram_idf_4415\"},{\"idx\":4416,\"name\":\"1gram_idf_4416\"},{\"idx\":4417,\"name\":\"1gram_idf_4417\"},{\"idx\":4418,\"name\":\"1gram_idf_4418\"},{\"idx\":4419,\"name\":\"1gram_idf_4419\"},{\"idx\":4420,\"name\":\"1gram_idf_4420\"},{\"idx\":4421,\"name\":\"1gram_idf_4421\"},{\"idx\":4422,\"name\":\"1gram_idf_4422\"},{\"idx\":4423,\"name\":\"1gram_idf_4423\"},{\"idx\":4424,\"name\":\"1gram_idf_4424\"},{\"idx\":4425,\"name\":\"1gram_idf_4425\"},{\"idx\":4426,\"name\":\"1gram_idf_4426\"},{\"idx\":4427,\"name\":\"1gram_idf_4427\"},{\"idx\":4428,\"name\":\"1gram_idf_4428\"},{\"idx\":4429,\"name\":\"1gram_idf_4429\"},{\"idx\":4430,\"name\":\"1gram_idf_4430\"},{\"idx\":4431,\"name\":\"1gram_idf_4431\"},{\"idx\":4432,\"name\":\"1gram_idf_4432\"},{\"idx\":4433,\"name\":\"1gram_idf_4433\"},{\"idx\":4434,\"name\":\"1gram_idf_4434\"},{\"idx\":4435,\"name\":\"1gram_idf_4435\"},{\"idx\":4436,\"name\":\"1gram_idf_4436\"},{\"idx\":4437,\"name\":\"1gram_idf_4437\"},{\"idx\":4438,\"name\":\"1gram_idf_4438\"},{\"idx\":4439,\"name\":\"1gram_idf_4439\"},{\"idx\":4440,\"name\":\"1gram_idf_4440\"},{\"idx\":4441,\"name\":\"1gram_idf_4441\"},{\"idx\":4442,\"name\":\"1gram_idf_4442\"},{\"idx\":4443,\"name\":\"1gram_idf_4443\"},{\"idx\":4444,\"name\":\"1gram_idf_4444\"},{\"idx\":4445,\"name\":\"1gram_idf_4445\"},{\"idx\":4446,\"name\":\"1gram_idf_4446\"},{\"idx\":4447,\"name\":\"1gram_idf_4447\"},{\"idx\":4448,\"name\":\"1gram_idf_4448\"},{\"idx\":4449,\"name\":\"1gram_idf_4449\"},{\"idx\":4450,\"name\":\"1gram_idf_4450\"},{\"idx\":4451,\"name\":\"1gram_idf_4451\"},{\"idx\":4452,\"name\":\"1gram_idf_4452\"},{\"idx\":4453,\"name\":\"1gram_idf_4453\"},{\"idx\":4454,\"name\":\"1gram_idf_4454\"},{\"idx\":4455,\"name\":\"1gram_idf_4455\"},{\"idx\":4456,\"name\":\"1gram_idf_4456\"},{\"idx\":4457,\"name\":\"1gram_idf_4457\"},{\"idx\":4458,\"name\":\"1gram_idf_4458\"},{\"idx\":4459,\"name\":\"1gram_idf_4459\"},{\"idx\":4460,\"name\":\"1gram_idf_4460\"},{\"idx\":4461,\"name\":\"1gram_idf_4461\"},{\"idx\":4462,\"name\":\"1gram_idf_4462\"},{\"idx\":4463,\"name\":\"1gram_idf_4463\"},{\"idx\":4464,\"name\":\"1gram_idf_4464\"},{\"idx\":4465,\"name\":\"1gram_idf_4465\"},{\"idx\":4466,\"name\":\"1gram_idf_4466\"},{\"idx\":4467,\"name\":\"1gram_idf_4467\"},{\"idx\":4468,\"name\":\"1gram_idf_4468\"},{\"idx\":4469,\"name\":\"1gram_idf_4469\"},{\"idx\":4470,\"name\":\"1gram_idf_4470\"},{\"idx\":4471,\"name\":\"1gram_idf_4471\"},{\"idx\":4472,\"name\":\"1gram_idf_4472\"},{\"idx\":4473,\"name\":\"1gram_idf_4473\"},{\"idx\":4474,\"name\":\"1gram_idf_4474\"},{\"idx\":4475,\"name\":\"1gram_idf_4475\"},{\"idx\":4476,\"name\":\"1gram_idf_4476\"},{\"idx\":4477,\"name\":\"1gram_idf_4477\"},{\"idx\":4478,\"name\":\"1gram_idf_4478\"},{\"idx\":4479,\"name\":\"1gram_idf_4479\"},{\"idx\":4480,\"name\":\"1gram_idf_4480\"},{\"idx\":4481,\"name\":\"1gram_idf_4481\"},{\"idx\":4482,\"name\":\"1gram_idf_4482\"},{\"idx\":4483,\"name\":\"1gram_idf_4483\"},{\"idx\":4484,\"name\":\"1gram_idf_4484\"},{\"idx\":4485,\"name\":\"1gram_idf_4485\"},{\"idx\":4486,\"name\":\"1gram_idf_4486\"},{\"idx\":4487,\"name\":\"1gram_idf_4487\"},{\"idx\":4488,\"name\":\"1gram_idf_4488\"},{\"idx\":4489,\"name\":\"1gram_idf_4489\"},{\"idx\":4490,\"name\":\"1gram_idf_4490\"},{\"idx\":4491,\"name\":\"1gram_idf_4491\"},{\"idx\":4492,\"name\":\"1gram_idf_4492\"},{\"idx\":4493,\"name\":\"1gram_idf_4493\"},{\"idx\":4494,\"name\":\"1gram_idf_4494\"},{\"idx\":4495,\"name\":\"1gram_idf_4495\"},{\"idx\":4496,\"name\":\"1gram_idf_4496\"},{\"idx\":4497,\"name\":\"1gram_idf_4497\"},{\"idx\":4498,\"name\":\"1gram_idf_4498\"},{\"idx\":4499,\"name\":\"1gram_idf_4499\"},{\"idx\":4500,\"name\":\"1gram_idf_4500\"},{\"idx\":4501,\"name\":\"1gram_idf_4501\"},{\"idx\":4502,\"name\":\"1gram_idf_4502\"},{\"idx\":4503,\"name\":\"1gram_idf_4503\"},{\"idx\":4504,\"name\":\"1gram_idf_4504\"},{\"idx\":4505,\"name\":\"1gram_idf_4505\"},{\"idx\":4506,\"name\":\"1gram_idf_4506\"},{\"idx\":4507,\"name\":\"1gram_idf_4507\"},{\"idx\":4508,\"name\":\"1gram_idf_4508\"},{\"idx\":4509,\"name\":\"1gram_idf_4509\"},{\"idx\":4510,\"name\":\"1gram_idf_4510\"},{\"idx\":4511,\"name\":\"1gram_idf_4511\"},{\"idx\":4512,\"name\":\"1gram_idf_4512\"},{\"idx\":4513,\"name\":\"1gram_idf_4513\"},{\"idx\":4514,\"name\":\"1gram_idf_4514\"},{\"idx\":4515,\"name\":\"1gram_idf_4515\"},{\"idx\":4516,\"name\":\"1gram_idf_4516\"},{\"idx\":4517,\"name\":\"1gram_idf_4517\"},{\"idx\":4518,\"name\":\"1gram_idf_4518\"},{\"idx\":4519,\"name\":\"1gram_idf_4519\"},{\"idx\":4520,\"name\":\"1gram_idf_4520\"},{\"idx\":4521,\"name\":\"1gram_idf_4521\"},{\"idx\":4522,\"name\":\"1gram_idf_4522\"},{\"idx\":4523,\"name\":\"1gram_idf_4523\"},{\"idx\":4524,\"name\":\"1gram_idf_4524\"},{\"idx\":4525,\"name\":\"1gram_idf_4525\"},{\"idx\":4526,\"name\":\"1gram_idf_4526\"},{\"idx\":4527,\"name\":\"1gram_idf_4527\"},{\"idx\":4528,\"name\":\"1gram_idf_4528\"},{\"idx\":4529,\"name\":\"1gram_idf_4529\"},{\"idx\":4530,\"name\":\"1gram_idf_4530\"},{\"idx\":4531,\"name\":\"1gram_idf_4531\"},{\"idx\":4532,\"name\":\"1gram_idf_4532\"},{\"idx\":4533,\"name\":\"1gram_idf_4533\"},{\"idx\":4534,\"name\":\"1gram_idf_4534\"},{\"idx\":4535,\"name\":\"1gram_idf_4535\"},{\"idx\":4536,\"name\":\"1gram_idf_4536\"},{\"idx\":4537,\"name\":\"1gram_idf_4537\"},{\"idx\":4538,\"name\":\"1gram_idf_4538\"},{\"idx\":4539,\"name\":\"1gram_idf_4539\"},{\"idx\":4540,\"name\":\"1gram_idf_4540\"},{\"idx\":4541,\"name\":\"1gram_idf_4541\"},{\"idx\":4542,\"name\":\"1gram_idf_4542\"},{\"idx\":4543,\"name\":\"1gram_idf_4543\"},{\"idx\":4544,\"name\":\"1gram_idf_4544\"},{\"idx\":4545,\"name\":\"1gram_idf_4545\"},{\"idx\":4546,\"name\":\"1gram_idf_4546\"},{\"idx\":4547,\"name\":\"1gram_idf_4547\"},{\"idx\":4548,\"name\":\"1gram_idf_4548\"},{\"idx\":4549,\"name\":\"1gram_idf_4549\"},{\"idx\":4550,\"name\":\"1gram_idf_4550\"},{\"idx\":4551,\"name\":\"1gram_idf_4551\"},{\"idx\":4552,\"name\":\"1gram_idf_4552\"},{\"idx\":4553,\"name\":\"1gram_idf_4553\"},{\"idx\":4554,\"name\":\"1gram_idf_4554\"},{\"idx\":4555,\"name\":\"1gram_idf_4555\"},{\"idx\":4556,\"name\":\"1gram_idf_4556\"},{\"idx\":4557,\"name\":\"1gram_idf_4557\"},{\"idx\":4558,\"name\":\"1gram_idf_4558\"},{\"idx\":4559,\"name\":\"1gram_idf_4559\"},{\"idx\":4560,\"name\":\"1gram_idf_4560\"},{\"idx\":4561,\"name\":\"1gram_idf_4561\"},{\"idx\":4562,\"name\":\"1gram_idf_4562\"},{\"idx\":4563,\"name\":\"1gram_idf_4563\"},{\"idx\":4564,\"name\":\"1gram_idf_4564\"},{\"idx\":4565,\"name\":\"1gram_idf_4565\"},{\"idx\":4566,\"name\":\"1gram_idf_4566\"},{\"idx\":4567,\"name\":\"1gram_idf_4567\"},{\"idx\":4568,\"name\":\"1gram_idf_4568\"},{\"idx\":4569,\"name\":\"1gram_idf_4569\"},{\"idx\":4570,\"name\":\"1gram_idf_4570\"},{\"idx\":4571,\"name\":\"1gram_idf_4571\"},{\"idx\":4572,\"name\":\"1gram_idf_4572\"},{\"idx\":4573,\"name\":\"1gram_idf_4573\"},{\"idx\":4574,\"name\":\"1gram_idf_4574\"},{\"idx\":4575,\"name\":\"1gram_idf_4575\"},{\"idx\":4576,\"name\":\"1gram_idf_4576\"},{\"idx\":4577,\"name\":\"1gram_idf_4577\"},{\"idx\":4578,\"name\":\"1gram_idf_4578\"},{\"idx\":4579,\"name\":\"1gram_idf_4579\"},{\"idx\":4580,\"name\":\"1gram_idf_4580\"},{\"idx\":4581,\"name\":\"1gram_idf_4581\"},{\"idx\":4582,\"name\":\"1gram_idf_4582\"},{\"idx\":4583,\"name\":\"1gram_idf_4583\"},{\"idx\":4584,\"name\":\"1gram_idf_4584\"},{\"idx\":4585,\"name\":\"1gram_idf_4585\"},{\"idx\":4586,\"name\":\"1gram_idf_4586\"},{\"idx\":4587,\"name\":\"1gram_idf_4587\"},{\"idx\":4588,\"name\":\"1gram_idf_4588\"},{\"idx\":4589,\"name\":\"1gram_idf_4589\"},{\"idx\":4590,\"name\":\"1gram_idf_4590\"},{\"idx\":4591,\"name\":\"1gram_idf_4591\"},{\"idx\":4592,\"name\":\"1gram_idf_4592\"},{\"idx\":4593,\"name\":\"1gram_idf_4593\"},{\"idx\":4594,\"name\":\"1gram_idf_4594\"},{\"idx\":4595,\"name\":\"1gram_idf_4595\"},{\"idx\":4596,\"name\":\"1gram_idf_4596\"},{\"idx\":4597,\"name\":\"1gram_idf_4597\"},{\"idx\":4598,\"name\":\"1gram_idf_4598\"},{\"idx\":4599,\"name\":\"1gram_idf_4599\"},{\"idx\":4600,\"name\":\"1gram_idf_4600\"},{\"idx\":4601,\"name\":\"1gram_idf_4601\"},{\"idx\":4602,\"name\":\"1gram_idf_4602\"},{\"idx\":4603,\"name\":\"1gram_idf_4603\"},{\"idx\":4604,\"name\":\"1gram_idf_4604\"},{\"idx\":4605,\"name\":\"1gram_idf_4605\"},{\"idx\":4606,\"name\":\"1gram_idf_4606\"},{\"idx\":4607,\"name\":\"1gram_idf_4607\"},{\"idx\":4608,\"name\":\"1gram_idf_4608\"},{\"idx\":4609,\"name\":\"1gram_idf_4609\"},{\"idx\":4610,\"name\":\"1gram_idf_4610\"},{\"idx\":4611,\"name\":\"1gram_idf_4611\"},{\"idx\":4612,\"name\":\"1gram_idf_4612\"},{\"idx\":4613,\"name\":\"1gram_idf_4613\"},{\"idx\":4614,\"name\":\"1gram_idf_4614\"},{\"idx\":4615,\"name\":\"1gram_idf_4615\"},{\"idx\":4616,\"name\":\"1gram_idf_4616\"},{\"idx\":4617,\"name\":\"1gram_idf_4617\"},{\"idx\":4618,\"name\":\"1gram_idf_4618\"},{\"idx\":4619,\"name\":\"1gram_idf_4619\"},{\"idx\":4620,\"name\":\"1gram_idf_4620\"},{\"idx\":4621,\"name\":\"1gram_idf_4621\"},{\"idx\":4622,\"name\":\"1gram_idf_4622\"},{\"idx\":4623,\"name\":\"1gram_idf_4623\"},{\"idx\":4624,\"name\":\"1gram_idf_4624\"},{\"idx\":4625,\"name\":\"1gram_idf_4625\"},{\"idx\":4626,\"name\":\"1gram_idf_4626\"},{\"idx\":4627,\"name\":\"1gram_idf_4627\"},{\"idx\":4628,\"name\":\"1gram_idf_4628\"},{\"idx\":4629,\"name\":\"1gram_idf_4629\"},{\"idx\":4630,\"name\":\"1gram_idf_4630\"},{\"idx\":4631,\"name\":\"1gram_idf_4631\"},{\"idx\":4632,\"name\":\"1gram_idf_4632\"},{\"idx\":4633,\"name\":\"1gram_idf_4633\"},{\"idx\":4634,\"name\":\"1gram_idf_4634\"},{\"idx\":4635,\"name\":\"1gram_idf_4635\"},{\"idx\":4636,\"name\":\"1gram_idf_4636\"},{\"idx\":4637,\"name\":\"1gram_idf_4637\"},{\"idx\":4638,\"name\":\"1gram_idf_4638\"},{\"idx\":4639,\"name\":\"1gram_idf_4639\"},{\"idx\":4640,\"name\":\"1gram_idf_4640\"},{\"idx\":4641,\"name\":\"1gram_idf_4641\"},{\"idx\":4642,\"name\":\"1gram_idf_4642\"},{\"idx\":4643,\"name\":\"1gram_idf_4643\"},{\"idx\":4644,\"name\":\"1gram_idf_4644\"},{\"idx\":4645,\"name\":\"1gram_idf_4645\"},{\"idx\":4646,\"name\":\"1gram_idf_4646\"},{\"idx\":4647,\"name\":\"1gram_idf_4647\"},{\"idx\":4648,\"name\":\"1gram_idf_4648\"},{\"idx\":4649,\"name\":\"1gram_idf_4649\"},{\"idx\":4650,\"name\":\"1gram_idf_4650\"},{\"idx\":4651,\"name\":\"1gram_idf_4651\"},{\"idx\":4652,\"name\":\"1gram_idf_4652\"},{\"idx\":4653,\"name\":\"1gram_idf_4653\"},{\"idx\":4654,\"name\":\"1gram_idf_4654\"},{\"idx\":4655,\"name\":\"1gram_idf_4655\"},{\"idx\":4656,\"name\":\"1gram_idf_4656\"},{\"idx\":4657,\"name\":\"1gram_idf_4657\"},{\"idx\":4658,\"name\":\"1gram_idf_4658\"},{\"idx\":4659,\"name\":\"1gram_idf_4659\"},{\"idx\":4660,\"name\":\"1gram_idf_4660\"},{\"idx\":4661,\"name\":\"1gram_idf_4661\"},{\"idx\":4662,\"name\":\"1gram_idf_4662\"},{\"idx\":4663,\"name\":\"1gram_idf_4663\"},{\"idx\":4664,\"name\":\"1gram_idf_4664\"},{\"idx\":4665,\"name\":\"1gram_idf_4665\"},{\"idx\":4666,\"name\":\"1gram_idf_4666\"},{\"idx\":4667,\"name\":\"1gram_idf_4667\"},{\"idx\":4668,\"name\":\"1gram_idf_4668\"},{\"idx\":4669,\"name\":\"1gram_idf_4669\"},{\"idx\":4670,\"name\":\"1gram_idf_4670\"},{\"idx\":4671,\"name\":\"1gram_idf_4671\"},{\"idx\":4672,\"name\":\"1gram_idf_4672\"},{\"idx\":4673,\"name\":\"1gram_idf_4673\"},{\"idx\":4674,\"name\":\"1gram_idf_4674\"},{\"idx\":4675,\"name\":\"1gram_idf_4675\"},{\"idx\":4676,\"name\":\"1gram_idf_4676\"},{\"idx\":4677,\"name\":\"1gram_idf_4677\"},{\"idx\":4678,\"name\":\"1gram_idf_4678\"},{\"idx\":4679,\"name\":\"1gram_idf_4679\"},{\"idx\":4680,\"name\":\"1gram_idf_4680\"},{\"idx\":4681,\"name\":\"1gram_idf_4681\"},{\"idx\":4682,\"name\":\"1gram_idf_4682\"},{\"idx\":4683,\"name\":\"1gram_idf_4683\"},{\"idx\":4684,\"name\":\"1gram_idf_4684\"},{\"idx\":4685,\"name\":\"1gram_idf_4685\"},{\"idx\":4686,\"name\":\"1gram_idf_4686\"},{\"idx\":4687,\"name\":\"1gram_idf_4687\"},{\"idx\":4688,\"name\":\"1gram_idf_4688\"},{\"idx\":4689,\"name\":\"1gram_idf_4689\"},{\"idx\":4690,\"name\":\"1gram_idf_4690\"},{\"idx\":4691,\"name\":\"1gram_idf_4691\"},{\"idx\":4692,\"name\":\"1gram_idf_4692\"},{\"idx\":4693,\"name\":\"1gram_idf_4693\"},{\"idx\":4694,\"name\":\"1gram_idf_4694\"},{\"idx\":4695,\"name\":\"1gram_idf_4695\"},{\"idx\":4696,\"name\":\"1gram_idf_4696\"},{\"idx\":4697,\"name\":\"1gram_idf_4697\"},{\"idx\":4698,\"name\":\"1gram_idf_4698\"},{\"idx\":4699,\"name\":\"1gram_idf_4699\"},{\"idx\":4700,\"name\":\"1gram_idf_4700\"},{\"idx\":4701,\"name\":\"1gram_idf_4701\"},{\"idx\":4702,\"name\":\"1gram_idf_4702\"},{\"idx\":4703,\"name\":\"1gram_idf_4703\"},{\"idx\":4704,\"name\":\"1gram_idf_4704\"},{\"idx\":4705,\"name\":\"1gram_idf_4705\"},{\"idx\":4706,\"name\":\"1gram_idf_4706\"},{\"idx\":4707,\"name\":\"1gram_idf_4707\"},{\"idx\":4708,\"name\":\"1gram_idf_4708\"},{\"idx\":4709,\"name\":\"1gram_idf_4709\"},{\"idx\":4710,\"name\":\"1gram_idf_4710\"},{\"idx\":4711,\"name\":\"1gram_idf_4711\"},{\"idx\":4712,\"name\":\"1gram_idf_4712\"},{\"idx\":4713,\"name\":\"1gram_idf_4713\"},{\"idx\":4714,\"name\":\"1gram_idf_4714\"},{\"idx\":4715,\"name\":\"1gram_idf_4715\"},{\"idx\":4716,\"name\":\"1gram_idf_4716\"},{\"idx\":4717,\"name\":\"1gram_idf_4717\"},{\"idx\":4718,\"name\":\"1gram_idf_4718\"},{\"idx\":4719,\"name\":\"1gram_idf_4719\"},{\"idx\":4720,\"name\":\"1gram_idf_4720\"},{\"idx\":4721,\"name\":\"1gram_idf_4721\"},{\"idx\":4722,\"name\":\"1gram_idf_4722\"},{\"idx\":4723,\"name\":\"1gram_idf_4723\"},{\"idx\":4724,\"name\":\"1gram_idf_4724\"},{\"idx\":4725,\"name\":\"1gram_idf_4725\"},{\"idx\":4726,\"name\":\"1gram_idf_4726\"},{\"idx\":4727,\"name\":\"1gram_idf_4727\"},{\"idx\":4728,\"name\":\"1gram_idf_4728\"},{\"idx\":4729,\"name\":\"1gram_idf_4729\"},{\"idx\":4730,\"name\":\"1gram_idf_4730\"},{\"idx\":4731,\"name\":\"1gram_idf_4731\"},{\"idx\":4732,\"name\":\"1gram_idf_4732\"},{\"idx\":4733,\"name\":\"1gram_idf_4733\"},{\"idx\":4734,\"name\":\"1gram_idf_4734\"},{\"idx\":4735,\"name\":\"1gram_idf_4735\"},{\"idx\":4736,\"name\":\"1gram_idf_4736\"},{\"idx\":4737,\"name\":\"1gram_idf_4737\"},{\"idx\":4738,\"name\":\"1gram_idf_4738\"},{\"idx\":4739,\"name\":\"1gram_idf_4739\"},{\"idx\":4740,\"name\":\"1gram_idf_4740\"},{\"idx\":4741,\"name\":\"1gram_idf_4741\"},{\"idx\":4742,\"name\":\"1gram_idf_4742\"},{\"idx\":4743,\"name\":\"1gram_idf_4743\"},{\"idx\":4744,\"name\":\"1gram_idf_4744\"},{\"idx\":4745,\"name\":\"1gram_idf_4745\"},{\"idx\":4746,\"name\":\"1gram_idf_4746\"},{\"idx\":4747,\"name\":\"1gram_idf_4747\"},{\"idx\":4748,\"name\":\"1gram_idf_4748\"},{\"idx\":4749,\"name\":\"1gram_idf_4749\"},{\"idx\":4750,\"name\":\"1gram_idf_4750\"},{\"idx\":4751,\"name\":\"1gram_idf_4751\"},{\"idx\":4752,\"name\":\"1gram_idf_4752\"},{\"idx\":4753,\"name\":\"1gram_idf_4753\"},{\"idx\":4754,\"name\":\"1gram_idf_4754\"},{\"idx\":4755,\"name\":\"1gram_idf_4755\"},{\"idx\":4756,\"name\":\"1gram_idf_4756\"},{\"idx\":4757,\"name\":\"1gram_idf_4757\"},{\"idx\":4758,\"name\":\"1gram_idf_4758\"},{\"idx\":4759,\"name\":\"1gram_idf_4759\"},{\"idx\":4760,\"name\":\"1gram_idf_4760\"},{\"idx\":4761,\"name\":\"1gram_idf_4761\"},{\"idx\":4762,\"name\":\"1gram_idf_4762\"},{\"idx\":4763,\"name\":\"1gram_idf_4763\"},{\"idx\":4764,\"name\":\"1gram_idf_4764\"},{\"idx\":4765,\"name\":\"1gram_idf_4765\"},{\"idx\":4766,\"name\":\"1gram_idf_4766\"},{\"idx\":4767,\"name\":\"1gram_idf_4767\"},{\"idx\":4768,\"name\":\"1gram_idf_4768\"},{\"idx\":4769,\"name\":\"1gram_idf_4769\"},{\"idx\":4770,\"name\":\"1gram_idf_4770\"},{\"idx\":4771,\"name\":\"1gram_idf_4771\"},{\"idx\":4772,\"name\":\"1gram_idf_4772\"},{\"idx\":4773,\"name\":\"1gram_idf_4773\"},{\"idx\":4774,\"name\":\"1gram_idf_4774\"},{\"idx\":4775,\"name\":\"1gram_idf_4775\"},{\"idx\":4776,\"name\":\"1gram_idf_4776\"},{\"idx\":4777,\"name\":\"1gram_idf_4777\"},{\"idx\":4778,\"name\":\"1gram_idf_4778\"},{\"idx\":4779,\"name\":\"1gram_idf_4779\"},{\"idx\":4780,\"name\":\"1gram_idf_4780\"},{\"idx\":4781,\"name\":\"1gram_idf_4781\"},{\"idx\":4782,\"name\":\"1gram_idf_4782\"},{\"idx\":4783,\"name\":\"1gram_idf_4783\"},{\"idx\":4784,\"name\":\"1gram_idf_4784\"},{\"idx\":4785,\"name\":\"1gram_idf_4785\"},{\"idx\":4786,\"name\":\"1gram_idf_4786\"},{\"idx\":4787,\"name\":\"1gram_idf_4787\"},{\"idx\":4788,\"name\":\"1gram_idf_4788\"},{\"idx\":4789,\"name\":\"1gram_idf_4789\"},{\"idx\":4790,\"name\":\"1gram_idf_4790\"},{\"idx\":4791,\"name\":\"1gram_idf_4791\"},{\"idx\":4792,\"name\":\"1gram_idf_4792\"},{\"idx\":4793,\"name\":\"1gram_idf_4793\"},{\"idx\":4794,\"name\":\"1gram_idf_4794\"},{\"idx\":4795,\"name\":\"1gram_idf_4795\"},{\"idx\":4796,\"name\":\"1gram_idf_4796\"},{\"idx\":4797,\"name\":\"1gram_idf_4797\"},{\"idx\":4798,\"name\":\"1gram_idf_4798\"},{\"idx\":4799,\"name\":\"1gram_idf_4799\"},{\"idx\":4800,\"name\":\"1gram_idf_4800\"},{\"idx\":4801,\"name\":\"1gram_idf_4801\"},{\"idx\":4802,\"name\":\"1gram_idf_4802\"},{\"idx\":4803,\"name\":\"1gram_idf_4803\"},{\"idx\":4804,\"name\":\"1gram_idf_4804\"},{\"idx\":4805,\"name\":\"1gram_idf_4805\"},{\"idx\":4806,\"name\":\"1gram_idf_4806\"},{\"idx\":4807,\"name\":\"1gram_idf_4807\"},{\"idx\":4808,\"name\":\"1gram_idf_4808\"},{\"idx\":4809,\"name\":\"1gram_idf_4809\"},{\"idx\":4810,\"name\":\"1gram_idf_4810\"},{\"idx\":4811,\"name\":\"1gram_idf_4811\"},{\"idx\":4812,\"name\":\"1gram_idf_4812\"},{\"idx\":4813,\"name\":\"1gram_idf_4813\"},{\"idx\":4814,\"name\":\"1gram_idf_4814\"},{\"idx\":4815,\"name\":\"1gram_idf_4815\"},{\"idx\":4816,\"name\":\"1gram_idf_4816\"},{\"idx\":4817,\"name\":\"1gram_idf_4817\"},{\"idx\":4818,\"name\":\"1gram_idf_4818\"},{\"idx\":4819,\"name\":\"1gram_idf_4819\"},{\"idx\":4820,\"name\":\"1gram_idf_4820\"},{\"idx\":4821,\"name\":\"1gram_idf_4821\"},{\"idx\":4822,\"name\":\"1gram_idf_4822\"},{\"idx\":4823,\"name\":\"1gram_idf_4823\"},{\"idx\":4824,\"name\":\"1gram_idf_4824\"},{\"idx\":4825,\"name\":\"1gram_idf_4825\"},{\"idx\":4826,\"name\":\"1gram_idf_4826\"},{\"idx\":4827,\"name\":\"1gram_idf_4827\"},{\"idx\":4828,\"name\":\"1gram_idf_4828\"},{\"idx\":4829,\"name\":\"1gram_idf_4829\"},{\"idx\":4830,\"name\":\"1gram_idf_4830\"},{\"idx\":4831,\"name\":\"1gram_idf_4831\"},{\"idx\":4832,\"name\":\"1gram_idf_4832\"},{\"idx\":4833,\"name\":\"1gram_idf_4833\"},{\"idx\":4834,\"name\":\"1gram_idf_4834\"},{\"idx\":4835,\"name\":\"1gram_idf_4835\"},{\"idx\":4836,\"name\":\"1gram_idf_4836\"},{\"idx\":4837,\"name\":\"1gram_idf_4837\"},{\"idx\":4838,\"name\":\"1gram_idf_4838\"},{\"idx\":4839,\"name\":\"1gram_idf_4839\"},{\"idx\":4840,\"name\":\"1gram_idf_4840\"},{\"idx\":4841,\"name\":\"1gram_idf_4841\"},{\"idx\":4842,\"name\":\"1gram_idf_4842\"},{\"idx\":4843,\"name\":\"1gram_idf_4843\"},{\"idx\":4844,\"name\":\"1gram_idf_4844\"},{\"idx\":4845,\"name\":\"1gram_idf_4845\"},{\"idx\":4846,\"name\":\"1gram_idf_4846\"},{\"idx\":4847,\"name\":\"1gram_idf_4847\"},{\"idx\":4848,\"name\":\"1gram_idf_4848\"},{\"idx\":4849,\"name\":\"1gram_idf_4849\"},{\"idx\":4850,\"name\":\"1gram_idf_4850\"},{\"idx\":4851,\"name\":\"1gram_idf_4851\"},{\"idx\":4852,\"name\":\"1gram_idf_4852\"},{\"idx\":4853,\"name\":\"1gram_idf_4853\"},{\"idx\":4854,\"name\":\"1gram_idf_4854\"},{\"idx\":4855,\"name\":\"1gram_idf_4855\"},{\"idx\":4856,\"name\":\"1gram_idf_4856\"},{\"idx\":4857,\"name\":\"1gram_idf_4857\"},{\"idx\":4858,\"name\":\"1gram_idf_4858\"},{\"idx\":4859,\"name\":\"1gram_idf_4859\"},{\"idx\":4860,\"name\":\"1gram_idf_4860\"},{\"idx\":4861,\"name\":\"1gram_idf_4861\"},{\"idx\":4862,\"name\":\"1gram_idf_4862\"},{\"idx\":4863,\"name\":\"1gram_idf_4863\"},{\"idx\":4864,\"name\":\"1gram_idf_4864\"},{\"idx\":4865,\"name\":\"1gram_idf_4865\"},{\"idx\":4866,\"name\":\"1gram_idf_4866\"},{\"idx\":4867,\"name\":\"1gram_idf_4867\"},{\"idx\":4868,\"name\":\"1gram_idf_4868\"},{\"idx\":4869,\"name\":\"1gram_idf_4869\"},{\"idx\":4870,\"name\":\"1gram_idf_4870\"},{\"idx\":4871,\"name\":\"1gram_idf_4871\"},{\"idx\":4872,\"name\":\"1gram_idf_4872\"},{\"idx\":4873,\"name\":\"1gram_idf_4873\"},{\"idx\":4874,\"name\":\"1gram_idf_4874\"},{\"idx\":4875,\"name\":\"1gram_idf_4875\"},{\"idx\":4876,\"name\":\"1gram_idf_4876\"},{\"idx\":4877,\"name\":\"1gram_idf_4877\"},{\"idx\":4878,\"name\":\"1gram_idf_4878\"},{\"idx\":4879,\"name\":\"1gram_idf_4879\"},{\"idx\":4880,\"name\":\"1gram_idf_4880\"},{\"idx\":4881,\"name\":\"1gram_idf_4881\"},{\"idx\":4882,\"name\":\"1gram_idf_4882\"},{\"idx\":4883,\"name\":\"1gram_idf_4883\"},{\"idx\":4884,\"name\":\"1gram_idf_4884\"},{\"idx\":4885,\"name\":\"1gram_idf_4885\"},{\"idx\":4886,\"name\":\"1gram_idf_4886\"},{\"idx\":4887,\"name\":\"1gram_idf_4887\"},{\"idx\":4888,\"name\":\"1gram_idf_4888\"},{\"idx\":4889,\"name\":\"1gram_idf_4889\"},{\"idx\":4890,\"name\":\"1gram_idf_4890\"},{\"idx\":4891,\"name\":\"1gram_idf_4891\"},{\"idx\":4892,\"name\":\"1gram_idf_4892\"},{\"idx\":4893,\"name\":\"1gram_idf_4893\"},{\"idx\":4894,\"name\":\"1gram_idf_4894\"},{\"idx\":4895,\"name\":\"1gram_idf_4895\"},{\"idx\":4896,\"name\":\"1gram_idf_4896\"},{\"idx\":4897,\"name\":\"1gram_idf_4897\"},{\"idx\":4898,\"name\":\"1gram_idf_4898\"},{\"idx\":4899,\"name\":\"1gram_idf_4899\"},{\"idx\":4900,\"name\":\"1gram_idf_4900\"},{\"idx\":4901,\"name\":\"1gram_idf_4901\"},{\"idx\":4902,\"name\":\"1gram_idf_4902\"},{\"idx\":4903,\"name\":\"1gram_idf_4903\"},{\"idx\":4904,\"name\":\"1gram_idf_4904\"},{\"idx\":4905,\"name\":\"1gram_idf_4905\"},{\"idx\":4906,\"name\":\"1gram_idf_4906\"},{\"idx\":4907,\"name\":\"1gram_idf_4907\"},{\"idx\":4908,\"name\":\"1gram_idf_4908\"},{\"idx\":4909,\"name\":\"1gram_idf_4909\"},{\"idx\":4910,\"name\":\"1gram_idf_4910\"},{\"idx\":4911,\"name\":\"1gram_idf_4911\"},{\"idx\":4912,\"name\":\"1gram_idf_4912\"},{\"idx\":4913,\"name\":\"1gram_idf_4913\"},{\"idx\":4914,\"name\":\"1gram_idf_4914\"},{\"idx\":4915,\"name\":\"1gram_idf_4915\"},{\"idx\":4916,\"name\":\"1gram_idf_4916\"},{\"idx\":4917,\"name\":\"1gram_idf_4917\"},{\"idx\":4918,\"name\":\"1gram_idf_4918\"},{\"idx\":4919,\"name\":\"1gram_idf_4919\"},{\"idx\":4920,\"name\":\"1gram_idf_4920\"},{\"idx\":4921,\"name\":\"1gram_idf_4921\"},{\"idx\":4922,\"name\":\"1gram_idf_4922\"},{\"idx\":4923,\"name\":\"1gram_idf_4923\"},{\"idx\":4924,\"name\":\"1gram_idf_4924\"},{\"idx\":4925,\"name\":\"1gram_idf_4925\"},{\"idx\":4926,\"name\":\"1gram_idf_4926\"},{\"idx\":4927,\"name\":\"1gram_idf_4927\"},{\"idx\":4928,\"name\":\"1gram_idf_4928\"},{\"idx\":4929,\"name\":\"1gram_idf_4929\"},{\"idx\":4930,\"name\":\"1gram_idf_4930\"},{\"idx\":4931,\"name\":\"1gram_idf_4931\"},{\"idx\":4932,\"name\":\"1gram_idf_4932\"},{\"idx\":4933,\"name\":\"1gram_idf_4933\"},{\"idx\":4934,\"name\":\"1gram_idf_4934\"},{\"idx\":4935,\"name\":\"1gram_idf_4935\"},{\"idx\":4936,\"name\":\"1gram_idf_4936\"},{\"idx\":4937,\"name\":\"1gram_idf_4937\"},{\"idx\":4938,\"name\":\"1gram_idf_4938\"},{\"idx\":4939,\"name\":\"1gram_idf_4939\"},{\"idx\":4940,\"name\":\"1gram_idf_4940\"},{\"idx\":4941,\"name\":\"1gram_idf_4941\"},{\"idx\":4942,\"name\":\"1gram_idf_4942\"},{\"idx\":4943,\"name\":\"1gram_idf_4943\"},{\"idx\":4944,\"name\":\"1gram_idf_4944\"},{\"idx\":4945,\"name\":\"1gram_idf_4945\"},{\"idx\":4946,\"name\":\"1gram_idf_4946\"},{\"idx\":4947,\"name\":\"1gram_idf_4947\"},{\"idx\":4948,\"name\":\"1gram_idf_4948\"},{\"idx\":4949,\"name\":\"1gram_idf_4949\"},{\"idx\":4950,\"name\":\"1gram_idf_4950\"},{\"idx\":4951,\"name\":\"1gram_idf_4951\"},{\"idx\":4952,\"name\":\"1gram_idf_4952\"},{\"idx\":4953,\"name\":\"1gram_idf_4953\"},{\"idx\":4954,\"name\":\"1gram_idf_4954\"},{\"idx\":4955,\"name\":\"1gram_idf_4955\"},{\"idx\":4956,\"name\":\"1gram_idf_4956\"},{\"idx\":4957,\"name\":\"1gram_idf_4957\"},{\"idx\":4958,\"name\":\"1gram_idf_4958\"},{\"idx\":4959,\"name\":\"1gram_idf_4959\"},{\"idx\":4960,\"name\":\"1gram_idf_4960\"},{\"idx\":4961,\"name\":\"1gram_idf_4961\"},{\"idx\":4962,\"name\":\"1gram_idf_4962\"},{\"idx\":4963,\"name\":\"1gram_idf_4963\"},{\"idx\":4964,\"name\":\"1gram_idf_4964\"},{\"idx\":4965,\"name\":\"1gram_idf_4965\"},{\"idx\":4966,\"name\":\"1gram_idf_4966\"},{\"idx\":4967,\"name\":\"1gram_idf_4967\"},{\"idx\":4968,\"name\":\"1gram_idf_4968\"},{\"idx\":4969,\"name\":\"1gram_idf_4969\"},{\"idx\":4970,\"name\":\"1gram_idf_4970\"},{\"idx\":4971,\"name\":\"1gram_idf_4971\"},{\"idx\":4972,\"name\":\"1gram_idf_4972\"},{\"idx\":4973,\"name\":\"1gram_idf_4973\"},{\"idx\":4974,\"name\":\"1gram_idf_4974\"},{\"idx\":4975,\"name\":\"1gram_idf_4975\"},{\"idx\":4976,\"name\":\"1gram_idf_4976\"},{\"idx\":4977,\"name\":\"1gram_idf_4977\"},{\"idx\":4978,\"name\":\"1gram_idf_4978\"},{\"idx\":4979,\"name\":\"1gram_idf_4979\"},{\"idx\":4980,\"name\":\"1gram_idf_4980\"},{\"idx\":4981,\"name\":\"1gram_idf_4981\"},{\"idx\":4982,\"name\":\"1gram_idf_4982\"},{\"idx\":4983,\"name\":\"1gram_idf_4983\"},{\"idx\":4984,\"name\":\"1gram_idf_4984\"},{\"idx\":4985,\"name\":\"1gram_idf_4985\"},{\"idx\":4986,\"name\":\"1gram_idf_4986\"},{\"idx\":4987,\"name\":\"1gram_idf_4987\"},{\"idx\":4988,\"name\":\"1gram_idf_4988\"},{\"idx\":4989,\"name\":\"1gram_idf_4989\"},{\"idx\":4990,\"name\":\"1gram_idf_4990\"},{\"idx\":4991,\"name\":\"1gram_idf_4991\"},{\"idx\":4992,\"name\":\"1gram_idf_4992\"},{\"idx\":4993,\"name\":\"1gram_idf_4993\"},{\"idx\":4994,\"name\":\"1gram_idf_4994\"},{\"idx\":4995,\"name\":\"1gram_idf_4995\"},{\"idx\":4996,\"name\":\"1gram_idf_4996\"},{\"idx\":4997,\"name\":\"1gram_idf_4997\"},{\"idx\":4998,\"name\":\"1gram_idf_4998\"},{\"idx\":4999,\"name\":\"1gram_idf_4999\"},{\"idx\":5000,\"name\":\"1gram_idf_5000\"},{\"idx\":5001,\"name\":\"1gram_idf_5001\"},{\"idx\":5002,\"name\":\"1gram_idf_5002\"},{\"idx\":5003,\"name\":\"1gram_idf_5003\"},{\"idx\":5004,\"name\":\"1gram_idf_5004\"},{\"idx\":5005,\"name\":\"1gram_idf_5005\"},{\"idx\":5006,\"name\":\"1gram_idf_5006\"},{\"idx\":5007,\"name\":\"1gram_idf_5007\"},{\"idx\":5008,\"name\":\"1gram_idf_5008\"},{\"idx\":5009,\"name\":\"1gram_idf_5009\"},{\"idx\":5010,\"name\":\"1gram_idf_5010\"},{\"idx\":5011,\"name\":\"1gram_idf_5011\"},{\"idx\":5012,\"name\":\"1gram_idf_5012\"},{\"idx\":5013,\"name\":\"1gram_idf_5013\"},{\"idx\":5014,\"name\":\"1gram_idf_5014\"},{\"idx\":5015,\"name\":\"1gram_idf_5015\"},{\"idx\":5016,\"name\":\"1gram_idf_5016\"},{\"idx\":5017,\"name\":\"1gram_idf_5017\"},{\"idx\":5018,\"name\":\"1gram_idf_5018\"},{\"idx\":5019,\"name\":\"1gram_idf_5019\"},{\"idx\":5020,\"name\":\"1gram_idf_5020\"},{\"idx\":5021,\"name\":\"1gram_idf_5021\"},{\"idx\":5022,\"name\":\"1gram_idf_5022\"},{\"idx\":5023,\"name\":\"1gram_idf_5023\"},{\"idx\":5024,\"name\":\"1gram_idf_5024\"},{\"idx\":5025,\"name\":\"1gram_idf_5025\"},{\"idx\":5026,\"name\":\"1gram_idf_5026\"},{\"idx\":5027,\"name\":\"1gram_idf_5027\"},{\"idx\":5028,\"name\":\"1gram_idf_5028\"},{\"idx\":5029,\"name\":\"1gram_idf_5029\"},{\"idx\":5030,\"name\":\"1gram_idf_5030\"},{\"idx\":5031,\"name\":\"1gram_idf_5031\"},{\"idx\":5032,\"name\":\"1gram_idf_5032\"},{\"idx\":5033,\"name\":\"1gram_idf_5033\"},{\"idx\":5034,\"name\":\"1gram_idf_5034\"},{\"idx\":5035,\"name\":\"1gram_idf_5035\"},{\"idx\":5036,\"name\":\"1gram_idf_5036\"},{\"idx\":5037,\"name\":\"1gram_idf_5037\"},{\"idx\":5038,\"name\":\"1gram_idf_5038\"},{\"idx\":5039,\"name\":\"1gram_idf_5039\"},{\"idx\":5040,\"name\":\"1gram_idf_5040\"},{\"idx\":5041,\"name\":\"1gram_idf_5041\"},{\"idx\":5042,\"name\":\"1gram_idf_5042\"},{\"idx\":5043,\"name\":\"1gram_idf_5043\"},{\"idx\":5044,\"name\":\"1gram_idf_5044\"},{\"idx\":5045,\"name\":\"1gram_idf_5045\"},{\"idx\":5046,\"name\":\"1gram_idf_5046\"},{\"idx\":5047,\"name\":\"1gram_idf_5047\"},{\"idx\":5048,\"name\":\"1gram_idf_5048\"},{\"idx\":5049,\"name\":\"1gram_idf_5049\"},{\"idx\":5050,\"name\":\"1gram_idf_5050\"},{\"idx\":5051,\"name\":\"1gram_idf_5051\"},{\"idx\":5052,\"name\":\"1gram_idf_5052\"},{\"idx\":5053,\"name\":\"1gram_idf_5053\"},{\"idx\":5054,\"name\":\"1gram_idf_5054\"},{\"idx\":5055,\"name\":\"1gram_idf_5055\"},{\"idx\":5056,\"name\":\"1gram_idf_5056\"},{\"idx\":5057,\"name\":\"1gram_idf_5057\"},{\"idx\":5058,\"name\":\"1gram_idf_5058\"},{\"idx\":5059,\"name\":\"1gram_idf_5059\"},{\"idx\":5060,\"name\":\"1gram_idf_5060\"},{\"idx\":5061,\"name\":\"1gram_idf_5061\"},{\"idx\":5062,\"name\":\"1gram_idf_5062\"},{\"idx\":5063,\"name\":\"1gram_idf_5063\"},{\"idx\":5064,\"name\":\"1gram_idf_5064\"},{\"idx\":5065,\"name\":\"1gram_idf_5065\"},{\"idx\":5066,\"name\":\"1gram_idf_5066\"},{\"idx\":5067,\"name\":\"1gram_idf_5067\"},{\"idx\":5068,\"name\":\"1gram_idf_5068\"},{\"idx\":5069,\"name\":\"1gram_idf_5069\"},{\"idx\":5070,\"name\":\"1gram_idf_5070\"},{\"idx\":5071,\"name\":\"1gram_idf_5071\"},{\"idx\":5072,\"name\":\"1gram_idf_5072\"},{\"idx\":5073,\"name\":\"1gram_idf_5073\"},{\"idx\":5074,\"name\":\"1gram_idf_5074\"},{\"idx\":5075,\"name\":\"1gram_idf_5075\"},{\"idx\":5076,\"name\":\"1gram_idf_5076\"},{\"idx\":5077,\"name\":\"1gram_idf_5077\"},{\"idx\":5078,\"name\":\"1gram_idf_5078\"},{\"idx\":5079,\"name\":\"1gram_idf_5079\"},{\"idx\":5080,\"name\":\"1gram_idf_5080\"},{\"idx\":5081,\"name\":\"1gram_idf_5081\"},{\"idx\":5082,\"name\":\"1gram_idf_5082\"},{\"idx\":5083,\"name\":\"1gram_idf_5083\"},{\"idx\":5084,\"name\":\"1gram_idf_5084\"},{\"idx\":5085,\"name\":\"1gram_idf_5085\"},{\"idx\":5086,\"name\":\"1gram_idf_5086\"},{\"idx\":5087,\"name\":\"1gram_idf_5087\"},{\"idx\":5088,\"name\":\"1gram_idf_5088\"},{\"idx\":5089,\"name\":\"1gram_idf_5089\"},{\"idx\":5090,\"name\":\"1gram_idf_5090\"},{\"idx\":5091,\"name\":\"1gram_idf_5091\"},{\"idx\":5092,\"name\":\"1gram_idf_5092\"},{\"idx\":5093,\"name\":\"1gram_idf_5093\"},{\"idx\":5094,\"name\":\"1gram_idf_5094\"},{\"idx\":5095,\"name\":\"1gram_idf_5095\"},{\"idx\":5096,\"name\":\"1gram_idf_5096\"},{\"idx\":5097,\"name\":\"1gram_idf_5097\"},{\"idx\":5098,\"name\":\"1gram_idf_5098\"},{\"idx\":5099,\"name\":\"1gram_idf_5099\"},{\"idx\":5100,\"name\":\"1gram_idf_5100\"},{\"idx\":5101,\"name\":\"1gram_idf_5101\"},{\"idx\":5102,\"name\":\"1gram_idf_5102\"},{\"idx\":5103,\"name\":\"1gram_idf_5103\"},{\"idx\":5104,\"name\":\"1gram_idf_5104\"},{\"idx\":5105,\"name\":\"1gram_idf_5105\"},{\"idx\":5106,\"name\":\"1gram_idf_5106\"},{\"idx\":5107,\"name\":\"1gram_idf_5107\"},{\"idx\":5108,\"name\":\"1gram_idf_5108\"},{\"idx\":5109,\"name\":\"1gram_idf_5109\"},{\"idx\":5110,\"name\":\"1gram_idf_5110\"},{\"idx\":5111,\"name\":\"1gram_idf_5111\"},{\"idx\":5112,\"name\":\"1gram_idf_5112\"},{\"idx\":5113,\"name\":\"1gram_idf_5113\"},{\"idx\":5114,\"name\":\"1gram_idf_5114\"},{\"idx\":5115,\"name\":\"1gram_idf_5115\"},{\"idx\":5116,\"name\":\"1gram_idf_5116\"},{\"idx\":5117,\"name\":\"1gram_idf_5117\"},{\"idx\":5118,\"name\":\"1gram_idf_5118\"},{\"idx\":5119,\"name\":\"1gram_idf_5119\"},{\"idx\":5120,\"name\":\"1gram_idf_5120\"},{\"idx\":5121,\"name\":\"1gram_idf_5121\"},{\"idx\":5122,\"name\":\"1gram_idf_5122\"},{\"idx\":5123,\"name\":\"1gram_idf_5123\"},{\"idx\":5124,\"name\":\"1gram_idf_5124\"},{\"idx\":5125,\"name\":\"1gram_idf_5125\"},{\"idx\":5126,\"name\":\"1gram_idf_5126\"},{\"idx\":5127,\"name\":\"1gram_idf_5127\"},{\"idx\":5128,\"name\":\"1gram_idf_5128\"},{\"idx\":5129,\"name\":\"1gram_idf_5129\"},{\"idx\":5130,\"name\":\"1gram_idf_5130\"},{\"idx\":5131,\"name\":\"1gram_idf_5131\"},{\"idx\":5132,\"name\":\"1gram_idf_5132\"},{\"idx\":5133,\"name\":\"1gram_idf_5133\"},{\"idx\":5134,\"name\":\"1gram_idf_5134\"},{\"idx\":5135,\"name\":\"1gram_idf_5135\"},{\"idx\":5136,\"name\":\"1gram_idf_5136\"},{\"idx\":5137,\"name\":\"1gram_idf_5137\"},{\"idx\":5138,\"name\":\"1gram_idf_5138\"},{\"idx\":5139,\"name\":\"1gram_idf_5139\"},{\"idx\":5140,\"name\":\"1gram_idf_5140\"},{\"idx\":5141,\"name\":\"1gram_idf_5141\"},{\"idx\":5142,\"name\":\"1gram_idf_5142\"},{\"idx\":5143,\"name\":\"1gram_idf_5143\"},{\"idx\":5144,\"name\":\"1gram_idf_5144\"},{\"idx\":5145,\"name\":\"1gram_idf_5145\"},{\"idx\":5146,\"name\":\"1gram_idf_5146\"},{\"idx\":5147,\"name\":\"1gram_idf_5147\"},{\"idx\":5148,\"name\":\"1gram_idf_5148\"},{\"idx\":5149,\"name\":\"1gram_idf_5149\"},{\"idx\":5150,\"name\":\"1gram_idf_5150\"},{\"idx\":5151,\"name\":\"1gram_idf_5151\"},{\"idx\":5152,\"name\":\"1gram_idf_5152\"},{\"idx\":5153,\"name\":\"1gram_idf_5153\"},{\"idx\":5154,\"name\":\"1gram_idf_5154\"},{\"idx\":5155,\"name\":\"1gram_idf_5155\"},{\"idx\":5156,\"name\":\"1gram_idf_5156\"},{\"idx\":5157,\"name\":\"1gram_idf_5157\"},{\"idx\":5158,\"name\":\"1gram_idf_5158\"},{\"idx\":5159,\"name\":\"1gram_idf_5159\"},{\"idx\":5160,\"name\":\"1gram_idf_5160\"},{\"idx\":5161,\"name\":\"1gram_idf_5161\"},{\"idx\":5162,\"name\":\"1gram_idf_5162\"},{\"idx\":5163,\"name\":\"1gram_idf_5163\"},{\"idx\":5164,\"name\":\"1gram_idf_5164\"},{\"idx\":5165,\"name\":\"1gram_idf_5165\"},{\"idx\":5166,\"name\":\"1gram_idf_5166\"},{\"idx\":5167,\"name\":\"1gram_idf_5167\"},{\"idx\":5168,\"name\":\"1gram_idf_5168\"},{\"idx\":5169,\"name\":\"1gram_idf_5169\"},{\"idx\":5170,\"name\":\"1gram_idf_5170\"},{\"idx\":5171,\"name\":\"1gram_idf_5171\"},{\"idx\":5172,\"name\":\"1gram_idf_5172\"},{\"idx\":5173,\"name\":\"1gram_idf_5173\"},{\"idx\":5174,\"name\":\"1gram_idf_5174\"},{\"idx\":5175,\"name\":\"1gram_idf_5175\"},{\"idx\":5176,\"name\":\"1gram_idf_5176\"},{\"idx\":5177,\"name\":\"1gram_idf_5177\"},{\"idx\":5178,\"name\":\"1gram_idf_5178\"},{\"idx\":5179,\"name\":\"1gram_idf_5179\"},{\"idx\":5180,\"name\":\"1gram_idf_5180\"},{\"idx\":5181,\"name\":\"1gram_idf_5181\"},{\"idx\":5182,\"name\":\"1gram_idf_5182\"},{\"idx\":5183,\"name\":\"1gram_idf_5183\"},{\"idx\":5184,\"name\":\"1gram_idf_5184\"},{\"idx\":5185,\"name\":\"1gram_idf_5185\"},{\"idx\":5186,\"name\":\"1gram_idf_5186\"},{\"idx\":5187,\"name\":\"1gram_idf_5187\"},{\"idx\":5188,\"name\":\"1gram_idf_5188\"},{\"idx\":5189,\"name\":\"1gram_idf_5189\"},{\"idx\":5190,\"name\":\"1gram_idf_5190\"},{\"idx\":5191,\"name\":\"1gram_idf_5191\"},{\"idx\":5192,\"name\":\"1gram_idf_5192\"},{\"idx\":5193,\"name\":\"1gram_idf_5193\"},{\"idx\":5194,\"name\":\"1gram_idf_5194\"},{\"idx\":5195,\"name\":\"1gram_idf_5195\"},{\"idx\":5196,\"name\":\"1gram_idf_5196\"},{\"idx\":5197,\"name\":\"1gram_idf_5197\"},{\"idx\":5198,\"name\":\"1gram_idf_5198\"},{\"idx\":5199,\"name\":\"1gram_idf_5199\"},{\"idx\":5200,\"name\":\"1gram_idf_5200\"},{\"idx\":5201,\"name\":\"1gram_idf_5201\"},{\"idx\":5202,\"name\":\"1gram_idf_5202\"},{\"idx\":5203,\"name\":\"1gram_idf_5203\"},{\"idx\":5204,\"name\":\"1gram_idf_5204\"},{\"idx\":5205,\"name\":\"1gram_idf_5205\"},{\"idx\":5206,\"name\":\"1gram_idf_5206\"},{\"idx\":5207,\"name\":\"1gram_idf_5207\"},{\"idx\":5208,\"name\":\"1gram_idf_5208\"},{\"idx\":5209,\"name\":\"1gram_idf_5209\"},{\"idx\":5210,\"name\":\"1gram_idf_5210\"},{\"idx\":5211,\"name\":\"1gram_idf_5211\"},{\"idx\":5212,\"name\":\"1gram_idf_5212\"},{\"idx\":5213,\"name\":\"1gram_idf_5213\"},{\"idx\":5214,\"name\":\"1gram_idf_5214\"},{\"idx\":5215,\"name\":\"1gram_idf_5215\"},{\"idx\":5216,\"name\":\"1gram_idf_5216\"},{\"idx\":5217,\"name\":\"1gram_idf_5217\"},{\"idx\":5218,\"name\":\"1gram_idf_5218\"},{\"idx\":5219,\"name\":\"1gram_idf_5219\"},{\"idx\":5220,\"name\":\"1gram_idf_5220\"},{\"idx\":5221,\"name\":\"1gram_idf_5221\"},{\"idx\":5222,\"name\":\"1gram_idf_5222\"},{\"idx\":5223,\"name\":\"1gram_idf_5223\"},{\"idx\":5224,\"name\":\"1gram_idf_5224\"},{\"idx\":5225,\"name\":\"1gram_idf_5225\"},{\"idx\":5226,\"name\":\"1gram_idf_5226\"},{\"idx\":5227,\"name\":\"1gram_idf_5227\"},{\"idx\":5228,\"name\":\"1gram_idf_5228\"},{\"idx\":5229,\"name\":\"1gram_idf_5229\"},{\"idx\":5230,\"name\":\"1gram_idf_5230\"},{\"idx\":5231,\"name\":\"1gram_idf_5231\"},{\"idx\":5232,\"name\":\"1gram_idf_5232\"},{\"idx\":5233,\"name\":\"1gram_idf_5233\"},{\"idx\":5234,\"name\":\"1gram_idf_5234\"},{\"idx\":5235,\"name\":\"1gram_idf_5235\"},{\"idx\":5236,\"name\":\"1gram_idf_5236\"},{\"idx\":5237,\"name\":\"1gram_idf_5237\"},{\"idx\":5238,\"name\":\"1gram_idf_5238\"},{\"idx\":5239,\"name\":\"1gram_idf_5239\"},{\"idx\":5240,\"name\":\"1gram_idf_5240\"},{\"idx\":5241,\"name\":\"1gram_idf_5241\"},{\"idx\":5242,\"name\":\"1gram_idf_5242\"},{\"idx\":5243,\"name\":\"1gram_idf_5243\"},{\"idx\":5244,\"name\":\"1gram_idf_5244\"},{\"idx\":5245,\"name\":\"1gram_idf_5245\"},{\"idx\":5246,\"name\":\"1gram_idf_5246\"},{\"idx\":5247,\"name\":\"1gram_idf_5247\"},{\"idx\":5248,\"name\":\"1gram_idf_5248\"},{\"idx\":5249,\"name\":\"1gram_idf_5249\"},{\"idx\":5250,\"name\":\"1gram_idf_5250\"},{\"idx\":5251,\"name\":\"1gram_idf_5251\"},{\"idx\":5252,\"name\":\"1gram_idf_5252\"},{\"idx\":5253,\"name\":\"1gram_idf_5253\"},{\"idx\":5254,\"name\":\"1gram_idf_5254\"},{\"idx\":5255,\"name\":\"1gram_idf_5255\"},{\"idx\":5256,\"name\":\"1gram_idf_5256\"},{\"idx\":5257,\"name\":\"1gram_idf_5257\"},{\"idx\":5258,\"name\":\"1gram_idf_5258\"},{\"idx\":5259,\"name\":\"1gram_idf_5259\"},{\"idx\":5260,\"name\":\"1gram_idf_5260\"},{\"idx\":5261,\"name\":\"1gram_idf_5261\"},{\"idx\":5262,\"name\":\"1gram_idf_5262\"},{\"idx\":5263,\"name\":\"1gram_idf_5263\"},{\"idx\":5264,\"name\":\"1gram_idf_5264\"},{\"idx\":5265,\"name\":\"1gram_idf_5265\"},{\"idx\":5266,\"name\":\"1gram_idf_5266\"},{\"idx\":5267,\"name\":\"1gram_idf_5267\"},{\"idx\":5268,\"name\":\"1gram_idf_5268\"},{\"idx\":5269,\"name\":\"1gram_idf_5269\"},{\"idx\":5270,\"name\":\"1gram_idf_5270\"},{\"idx\":5271,\"name\":\"1gram_idf_5271\"},{\"idx\":5272,\"name\":\"1gram_idf_5272\"},{\"idx\":5273,\"name\":\"1gram_idf_5273\"},{\"idx\":5274,\"name\":\"1gram_idf_5274\"},{\"idx\":5275,\"name\":\"1gram_idf_5275\"},{\"idx\":5276,\"name\":\"1gram_idf_5276\"},{\"idx\":5277,\"name\":\"1gram_idf_5277\"},{\"idx\":5278,\"name\":\"1gram_idf_5278\"},{\"idx\":5279,\"name\":\"1gram_idf_5279\"},{\"idx\":5280,\"name\":\"1gram_idf_5280\"},{\"idx\":5281,\"name\":\"1gram_idf_5281\"},{\"idx\":5282,\"name\":\"1gram_idf_5282\"},{\"idx\":5283,\"name\":\"1gram_idf_5283\"},{\"idx\":5284,\"name\":\"1gram_idf_5284\"},{\"idx\":5285,\"name\":\"1gram_idf_5285\"},{\"idx\":5286,\"name\":\"1gram_idf_5286\"},{\"idx\":5287,\"name\":\"1gram_idf_5287\"},{\"idx\":5288,\"name\":\"1gram_idf_5288\"},{\"idx\":5289,\"name\":\"1gram_idf_5289\"},{\"idx\":5290,\"name\":\"1gram_idf_5290\"},{\"idx\":5291,\"name\":\"1gram_idf_5291\"},{\"idx\":5292,\"name\":\"1gram_idf_5292\"},{\"idx\":5293,\"name\":\"1gram_idf_5293\"},{\"idx\":5294,\"name\":\"1gram_idf_5294\"},{\"idx\":5295,\"name\":\"1gram_idf_5295\"},{\"idx\":5296,\"name\":\"1gram_idf_5296\"},{\"idx\":5297,\"name\":\"1gram_idf_5297\"},{\"idx\":5298,\"name\":\"1gram_idf_5298\"},{\"idx\":5299,\"name\":\"1gram_idf_5299\"},{\"idx\":5300,\"name\":\"1gram_idf_5300\"},{\"idx\":5301,\"name\":\"1gram_idf_5301\"},{\"idx\":5302,\"name\":\"1gram_idf_5302\"},{\"idx\":5303,\"name\":\"1gram_idf_5303\"},{\"idx\":5304,\"name\":\"1gram_idf_5304\"},{\"idx\":5305,\"name\":\"1gram_idf_5305\"},{\"idx\":5306,\"name\":\"1gram_idf_5306\"},{\"idx\":5307,\"name\":\"1gram_idf_5307\"},{\"idx\":5308,\"name\":\"1gram_idf_5308\"},{\"idx\":5309,\"name\":\"1gram_idf_5309\"},{\"idx\":5310,\"name\":\"1gram_idf_5310\"},{\"idx\":5311,\"name\":\"1gram_idf_5311\"},{\"idx\":5312,\"name\":\"1gram_idf_5312\"},{\"idx\":5313,\"name\":\"1gram_idf_5313\"},{\"idx\":5314,\"name\":\"1gram_idf_5314\"},{\"idx\":5315,\"name\":\"1gram_idf_5315\"},{\"idx\":5316,\"name\":\"1gram_idf_5316\"},{\"idx\":5317,\"name\":\"1gram_idf_5317\"},{\"idx\":5318,\"name\":\"1gram_idf_5318\"},{\"idx\":5319,\"name\":\"1gram_idf_5319\"},{\"idx\":5320,\"name\":\"1gram_idf_5320\"},{\"idx\":5321,\"name\":\"1gram_idf_5321\"},{\"idx\":5322,\"name\":\"1gram_idf_5322\"},{\"idx\":5323,\"name\":\"1gram_idf_5323\"},{\"idx\":5324,\"name\":\"1gram_idf_5324\"},{\"idx\":5325,\"name\":\"1gram_idf_5325\"},{\"idx\":5326,\"name\":\"1gram_idf_5326\"},{\"idx\":5327,\"name\":\"1gram_idf_5327\"},{\"idx\":5328,\"name\":\"1gram_idf_5328\"},{\"idx\":5329,\"name\":\"1gram_idf_5329\"},{\"idx\":5330,\"name\":\"1gram_idf_5330\"},{\"idx\":5331,\"name\":\"1gram_idf_5331\"},{\"idx\":5332,\"name\":\"1gram_idf_5332\"},{\"idx\":5333,\"name\":\"1gram_idf_5333\"},{\"idx\":5334,\"name\":\"1gram_idf_5334\"},{\"idx\":5335,\"name\":\"1gram_idf_5335\"},{\"idx\":5336,\"name\":\"1gram_idf_5336\"},{\"idx\":5337,\"name\":\"1gram_idf_5337\"},{\"idx\":5338,\"name\":\"1gram_idf_5338\"},{\"idx\":5339,\"name\":\"1gram_idf_5339\"},{\"idx\":5340,\"name\":\"1gram_idf_5340\"},{\"idx\":5341,\"name\":\"1gram_idf_5341\"},{\"idx\":5342,\"name\":\"1gram_idf_5342\"},{\"idx\":5343,\"name\":\"1gram_idf_5343\"},{\"idx\":5344,\"name\":\"1gram_idf_5344\"},{\"idx\":5345,\"name\":\"1gram_idf_5345\"},{\"idx\":5346,\"name\":\"1gram_idf_5346\"},{\"idx\":5347,\"name\":\"1gram_idf_5347\"},{\"idx\":5348,\"name\":\"1gram_idf_5348\"},{\"idx\":5349,\"name\":\"1gram_idf_5349\"},{\"idx\":5350,\"name\":\"1gram_idf_5350\"},{\"idx\":5351,\"name\":\"1gram_idf_5351\"},{\"idx\":5352,\"name\":\"1gram_idf_5352\"},{\"idx\":5353,\"name\":\"1gram_idf_5353\"},{\"idx\":5354,\"name\":\"1gram_idf_5354\"},{\"idx\":5355,\"name\":\"1gram_idf_5355\"},{\"idx\":5356,\"name\":\"1gram_idf_5356\"},{\"idx\":5357,\"name\":\"1gram_idf_5357\"},{\"idx\":5358,\"name\":\"1gram_idf_5358\"},{\"idx\":5359,\"name\":\"1gram_idf_5359\"},{\"idx\":5360,\"name\":\"1gram_idf_5360\"},{\"idx\":5361,\"name\":\"1gram_idf_5361\"},{\"idx\":5362,\"name\":\"1gram_idf_5362\"},{\"idx\":5363,\"name\":\"1gram_idf_5363\"},{\"idx\":5364,\"name\":\"1gram_idf_5364\"},{\"idx\":5365,\"name\":\"1gram_idf_5365\"},{\"idx\":5366,\"name\":\"1gram_idf_5366\"},{\"idx\":5367,\"name\":\"1gram_idf_5367\"},{\"idx\":5368,\"name\":\"1gram_idf_5368\"},{\"idx\":5369,\"name\":\"1gram_idf_5369\"},{\"idx\":5370,\"name\":\"1gram_idf_5370\"},{\"idx\":5371,\"name\":\"1gram_idf_5371\"},{\"idx\":5372,\"name\":\"1gram_idf_5372\"},{\"idx\":5373,\"name\":\"1gram_idf_5373\"},{\"idx\":5374,\"name\":\"1gram_idf_5374\"},{\"idx\":5375,\"name\":\"1gram_idf_5375\"},{\"idx\":5376,\"name\":\"1gram_idf_5376\"},{\"idx\":5377,\"name\":\"1gram_idf_5377\"},{\"idx\":5378,\"name\":\"1gram_idf_5378\"},{\"idx\":5379,\"name\":\"1gram_idf_5379\"},{\"idx\":5380,\"name\":\"1gram_idf_5380\"},{\"idx\":5381,\"name\":\"1gram_idf_5381\"},{\"idx\":5382,\"name\":\"1gram_idf_5382\"},{\"idx\":5383,\"name\":\"1gram_idf_5383\"},{\"idx\":5384,\"name\":\"1gram_idf_5384\"},{\"idx\":5385,\"name\":\"1gram_idf_5385\"},{\"idx\":5386,\"name\":\"1gram_idf_5386\"},{\"idx\":5387,\"name\":\"1gram_idf_5387\"},{\"idx\":5388,\"name\":\"1gram_idf_5388\"},{\"idx\":5389,\"name\":\"1gram_idf_5389\"},{\"idx\":5390,\"name\":\"1gram_idf_5390\"},{\"idx\":5391,\"name\":\"1gram_idf_5391\"},{\"idx\":5392,\"name\":\"1gram_idf_5392\"},{\"idx\":5393,\"name\":\"1gram_idf_5393\"},{\"idx\":5394,\"name\":\"1gram_idf_5394\"},{\"idx\":5395,\"name\":\"1gram_idf_5395\"},{\"idx\":5396,\"name\":\"1gram_idf_5396\"},{\"idx\":5397,\"name\":\"1gram_idf_5397\"},{\"idx\":5398,\"name\":\"1gram_idf_5398\"},{\"idx\":5399,\"name\":\"1gram_idf_5399\"},{\"idx\":5400,\"name\":\"1gram_idf_5400\"},{\"idx\":5401,\"name\":\"1gram_idf_5401\"},{\"idx\":5402,\"name\":\"1gram_idf_5402\"},{\"idx\":5403,\"name\":\"1gram_idf_5403\"},{\"idx\":5404,\"name\":\"1gram_idf_5404\"},{\"idx\":5405,\"name\":\"1gram_idf_5405\"},{\"idx\":5406,\"name\":\"1gram_idf_5406\"},{\"idx\":5407,\"name\":\"1gram_idf_5407\"},{\"idx\":5408,\"name\":\"1gram_idf_5408\"},{\"idx\":5409,\"name\":\"1gram_idf_5409\"},{\"idx\":5410,\"name\":\"1gram_idf_5410\"},{\"idx\":5411,\"name\":\"1gram_idf_5411\"},{\"idx\":5412,\"name\":\"1gram_idf_5412\"},{\"idx\":5413,\"name\":\"1gram_idf_5413\"},{\"idx\":5414,\"name\":\"1gram_idf_5414\"},{\"idx\":5415,\"name\":\"1gram_idf_5415\"},{\"idx\":5416,\"name\":\"1gram_idf_5416\"},{\"idx\":5417,\"name\":\"1gram_idf_5417\"},{\"idx\":5418,\"name\":\"1gram_idf_5418\"},{\"idx\":5419,\"name\":\"1gram_idf_5419\"},{\"idx\":5420,\"name\":\"1gram_idf_5420\"},{\"idx\":5421,\"name\":\"1gram_idf_5421\"},{\"idx\":5422,\"name\":\"1gram_idf_5422\"},{\"idx\":5423,\"name\":\"1gram_idf_5423\"},{\"idx\":5424,\"name\":\"1gram_idf_5424\"},{\"idx\":5425,\"name\":\"1gram_idf_5425\"},{\"idx\":5426,\"name\":\"1gram_idf_5426\"},{\"idx\":5427,\"name\":\"1gram_idf_5427\"},{\"idx\":5428,\"name\":\"1gram_idf_5428\"},{\"idx\":5429,\"name\":\"1gram_idf_5429\"},{\"idx\":5430,\"name\":\"1gram_idf_5430\"},{\"idx\":5431,\"name\":\"1gram_idf_5431\"},{\"idx\":5432,\"name\":\"1gram_idf_5432\"},{\"idx\":5433,\"name\":\"1gram_idf_5433\"},{\"idx\":5434,\"name\":\"1gram_idf_5434\"},{\"idx\":5435,\"name\":\"1gram_idf_5435\"},{\"idx\":5436,\"name\":\"1gram_idf_5436\"},{\"idx\":5437,\"name\":\"1gram_idf_5437\"},{\"idx\":5438,\"name\":\"1gram_idf_5438\"},{\"idx\":5439,\"name\":\"1gram_idf_5439\"},{\"idx\":5440,\"name\":\"1gram_idf_5440\"},{\"idx\":5441,\"name\":\"1gram_idf_5441\"},{\"idx\":5442,\"name\":\"1gram_idf_5442\"},{\"idx\":5443,\"name\":\"1gram_idf_5443\"},{\"idx\":5444,\"name\":\"1gram_idf_5444\"},{\"idx\":5445,\"name\":\"1gram_idf_5445\"},{\"idx\":5446,\"name\":\"1gram_idf_5446\"},{\"idx\":5447,\"name\":\"1gram_idf_5447\"},{\"idx\":5448,\"name\":\"1gram_idf_5448\"},{\"idx\":5449,\"name\":\"1gram_idf_5449\"},{\"idx\":5450,\"name\":\"1gram_idf_5450\"},{\"idx\":5451,\"name\":\"1gram_idf_5451\"},{\"idx\":5452,\"name\":\"1gram_idf_5452\"},{\"idx\":5453,\"name\":\"1gram_idf_5453\"},{\"idx\":5454,\"name\":\"1gram_idf_5454\"},{\"idx\":5455,\"name\":\"1gram_idf_5455\"},{\"idx\":5456,\"name\":\"1gram_idf_5456\"},{\"idx\":5457,\"name\":\"1gram_idf_5457\"},{\"idx\":5458,\"name\":\"1gram_idf_5458\"},{\"idx\":5459,\"name\":\"1gram_idf_5459\"},{\"idx\":5460,\"name\":\"1gram_idf_5460\"},{\"idx\":5461,\"name\":\"1gram_idf_5461\"},{\"idx\":5462,\"name\":\"1gram_idf_5462\"},{\"idx\":5463,\"name\":\"1gram_idf_5463\"},{\"idx\":5464,\"name\":\"1gram_idf_5464\"},{\"idx\":5465,\"name\":\"1gram_idf_5465\"},{\"idx\":5466,\"name\":\"1gram_idf_5466\"},{\"idx\":5467,\"name\":\"1gram_idf_5467\"},{\"idx\":5468,\"name\":\"1gram_idf_5468\"},{\"idx\":5469,\"name\":\"1gram_idf_5469\"},{\"idx\":5470,\"name\":\"1gram_idf_5470\"},{\"idx\":5471,\"name\":\"1gram_idf_5471\"},{\"idx\":5472,\"name\":\"1gram_idf_5472\"},{\"idx\":5473,\"name\":\"1gram_idf_5473\"},{\"idx\":5474,\"name\":\"1gram_idf_5474\"},{\"idx\":5475,\"name\":\"1gram_idf_5475\"},{\"idx\":5476,\"name\":\"1gram_idf_5476\"},{\"idx\":5477,\"name\":\"1gram_idf_5477\"},{\"idx\":5478,\"name\":\"1gram_idf_5478\"},{\"idx\":5479,\"name\":\"1gram_idf_5479\"},{\"idx\":5480,\"name\":\"1gram_idf_5480\"},{\"idx\":5481,\"name\":\"1gram_idf_5481\"},{\"idx\":5482,\"name\":\"1gram_idf_5482\"},{\"idx\":5483,\"name\":\"1gram_idf_5483\"},{\"idx\":5484,\"name\":\"1gram_idf_5484\"},{\"idx\":5485,\"name\":\"1gram_idf_5485\"},{\"idx\":5486,\"name\":\"1gram_idf_5486\"},{\"idx\":5487,\"name\":\"1gram_idf_5487\"},{\"idx\":5488,\"name\":\"1gram_idf_5488\"},{\"idx\":5489,\"name\":\"1gram_idf_5489\"},{\"idx\":5490,\"name\":\"1gram_idf_5490\"},{\"idx\":5491,\"name\":\"1gram_idf_5491\"},{\"idx\":5492,\"name\":\"1gram_idf_5492\"},{\"idx\":5493,\"name\":\"1gram_idf_5493\"},{\"idx\":5494,\"name\":\"1gram_idf_5494\"},{\"idx\":5495,\"name\":\"1gram_idf_5495\"},{\"idx\":5496,\"name\":\"1gram_idf_5496\"},{\"idx\":5497,\"name\":\"1gram_idf_5497\"},{\"idx\":5498,\"name\":\"1gram_idf_5498\"},{\"idx\":5499,\"name\":\"1gram_idf_5499\"},{\"idx\":5500,\"name\":\"1gram_idf_5500\"},{\"idx\":5501,\"name\":\"1gram_idf_5501\"},{\"idx\":5502,\"name\":\"1gram_idf_5502\"},{\"idx\":5503,\"name\":\"1gram_idf_5503\"},{\"idx\":5504,\"name\":\"1gram_idf_5504\"},{\"idx\":5505,\"name\":\"1gram_idf_5505\"},{\"idx\":5506,\"name\":\"1gram_idf_5506\"},{\"idx\":5507,\"name\":\"1gram_idf_5507\"},{\"idx\":5508,\"name\":\"1gram_idf_5508\"},{\"idx\":5509,\"name\":\"1gram_idf_5509\"},{\"idx\":5510,\"name\":\"1gram_idf_5510\"},{\"idx\":5511,\"name\":\"1gram_idf_5511\"},{\"idx\":5512,\"name\":\"1gram_idf_5512\"},{\"idx\":5513,\"name\":\"1gram_idf_5513\"},{\"idx\":5514,\"name\":\"1gram_idf_5514\"},{\"idx\":5515,\"name\":\"1gram_idf_5515\"},{\"idx\":5516,\"name\":\"1gram_idf_5516\"},{\"idx\":5517,\"name\":\"1gram_idf_5517\"},{\"idx\":5518,\"name\":\"1gram_idf_5518\"},{\"idx\":5519,\"name\":\"1gram_idf_5519\"},{\"idx\":5520,\"name\":\"1gram_idf_5520\"},{\"idx\":5521,\"name\":\"1gram_idf_5521\"},{\"idx\":5522,\"name\":\"1gram_idf_5522\"},{\"idx\":5523,\"name\":\"1gram_idf_5523\"},{\"idx\":5524,\"name\":\"1gram_idf_5524\"},{\"idx\":5525,\"name\":\"1gram_idf_5525\"},{\"idx\":5526,\"name\":\"1gram_idf_5526\"},{\"idx\":5527,\"name\":\"1gram_idf_5527\"},{\"idx\":5528,\"name\":\"1gram_idf_5528\"},{\"idx\":5529,\"name\":\"1gram_idf_5529\"},{\"idx\":5530,\"name\":\"1gram_idf_5530\"},{\"idx\":5531,\"name\":\"1gram_idf_5531\"},{\"idx\":5532,\"name\":\"1gram_idf_5532\"},{\"idx\":5533,\"name\":\"1gram_idf_5533\"},{\"idx\":5534,\"name\":\"1gram_idf_5534\"},{\"idx\":5535,\"name\":\"1gram_idf_5535\"},{\"idx\":5536,\"name\":\"1gram_idf_5536\"},{\"idx\":5537,\"name\":\"1gram_idf_5537\"},{\"idx\":5538,\"name\":\"1gram_idf_5538\"},{\"idx\":5539,\"name\":\"1gram_idf_5539\"},{\"idx\":5540,\"name\":\"1gram_idf_5540\"},{\"idx\":5541,\"name\":\"1gram_idf_5541\"},{\"idx\":5542,\"name\":\"1gram_idf_5542\"},{\"idx\":5543,\"name\":\"1gram_idf_5543\"},{\"idx\":5544,\"name\":\"1gram_idf_5544\"},{\"idx\":5545,\"name\":\"1gram_idf_5545\"},{\"idx\":5546,\"name\":\"1gram_idf_5546\"},{\"idx\":5547,\"name\":\"1gram_idf_5547\"},{\"idx\":5548,\"name\":\"1gram_idf_5548\"},{\"idx\":5549,\"name\":\"1gram_idf_5549\"},{\"idx\":5550,\"name\":\"1gram_idf_5550\"},{\"idx\":5551,\"name\":\"1gram_idf_5551\"},{\"idx\":5552,\"name\":\"1gram_idf_5552\"},{\"idx\":5553,\"name\":\"1gram_idf_5553\"},{\"idx\":5554,\"name\":\"1gram_idf_5554\"},{\"idx\":5555,\"name\":\"1gram_idf_5555\"},{\"idx\":5556,\"name\":\"1gram_idf_5556\"},{\"idx\":5557,\"name\":\"1gram_idf_5557\"},{\"idx\":5558,\"name\":\"1gram_idf_5558\"},{\"idx\":5559,\"name\":\"1gram_idf_5559\"},{\"idx\":5560,\"name\":\"1gram_idf_5560\"},{\"idx\":5561,\"name\":\"1gram_idf_5561\"},{\"idx\":5562,\"name\":\"1gram_idf_5562\"},{\"idx\":5563,\"name\":\"1gram_idf_5563\"},{\"idx\":5564,\"name\":\"1gram_idf_5564\"},{\"idx\":5565,\"name\":\"1gram_idf_5565\"},{\"idx\":5566,\"name\":\"1gram_idf_5566\"},{\"idx\":5567,\"name\":\"1gram_idf_5567\"},{\"idx\":5568,\"name\":\"1gram_idf_5568\"},{\"idx\":5569,\"name\":\"1gram_idf_5569\"},{\"idx\":5570,\"name\":\"1gram_idf_5570\"},{\"idx\":5571,\"name\":\"1gram_idf_5571\"},{\"idx\":5572,\"name\":\"1gram_idf_5572\"},{\"idx\":5573,\"name\":\"1gram_idf_5573\"},{\"idx\":5574,\"name\":\"1gram_idf_5574\"},{\"idx\":5575,\"name\":\"1gram_idf_5575\"},{\"idx\":5576,\"name\":\"1gram_idf_5576\"},{\"idx\":5577,\"name\":\"1gram_idf_5577\"},{\"idx\":5578,\"name\":\"1gram_idf_5578\"},{\"idx\":5579,\"name\":\"1gram_idf_5579\"},{\"idx\":5580,\"name\":\"1gram_idf_5580\"},{\"idx\":5581,\"name\":\"1gram_idf_5581\"},{\"idx\":5582,\"name\":\"1gram_idf_5582\"},{\"idx\":5583,\"name\":\"1gram_idf_5583\"},{\"idx\":5584,\"name\":\"1gram_idf_5584\"},{\"idx\":5585,\"name\":\"1gram_idf_5585\"},{\"idx\":5586,\"name\":\"1gram_idf_5586\"},{\"idx\":5587,\"name\":\"1gram_idf_5587\"},{\"idx\":5588,\"name\":\"1gram_idf_5588\"},{\"idx\":5589,\"name\":\"1gram_idf_5589\"},{\"idx\":5590,\"name\":\"1gram_idf_5590\"},{\"idx\":5591,\"name\":\"1gram_idf_5591\"},{\"idx\":5592,\"name\":\"1gram_idf_5592\"},{\"idx\":5593,\"name\":\"1gram_idf_5593\"},{\"idx\":5594,\"name\":\"1gram_idf_5594\"},{\"idx\":5595,\"name\":\"1gram_idf_5595\"},{\"idx\":5596,\"name\":\"1gram_idf_5596\"},{\"idx\":5597,\"name\":\"1gram_idf_5597\"},{\"idx\":5598,\"name\":\"1gram_idf_5598\"},{\"idx\":5599,\"name\":\"1gram_idf_5599\"},{\"idx\":5600,\"name\":\"1gram_idf_5600\"},{\"idx\":5601,\"name\":\"1gram_idf_5601\"},{\"idx\":5602,\"name\":\"1gram_idf_5602\"},{\"idx\":5603,\"name\":\"1gram_idf_5603\"},{\"idx\":5604,\"name\":\"1gram_idf_5604\"},{\"idx\":5605,\"name\":\"1gram_idf_5605\"},{\"idx\":5606,\"name\":\"1gram_idf_5606\"},{\"idx\":5607,\"name\":\"1gram_idf_5607\"},{\"idx\":5608,\"name\":\"1gram_idf_5608\"},{\"idx\":5609,\"name\":\"1gram_idf_5609\"},{\"idx\":5610,\"name\":\"1gram_idf_5610\"},{\"idx\":5611,\"name\":\"1gram_idf_5611\"},{\"idx\":5612,\"name\":\"1gram_idf_5612\"},{\"idx\":5613,\"name\":\"1gram_idf_5613\"},{\"idx\":5614,\"name\":\"1gram_idf_5614\"},{\"idx\":5615,\"name\":\"1gram_idf_5615\"},{\"idx\":5616,\"name\":\"1gram_idf_5616\"},{\"idx\":5617,\"name\":\"1gram_idf_5617\"},{\"idx\":5618,\"name\":\"1gram_idf_5618\"},{\"idx\":5619,\"name\":\"1gram_idf_5619\"},{\"idx\":5620,\"name\":\"1gram_idf_5620\"},{\"idx\":5621,\"name\":\"1gram_idf_5621\"},{\"idx\":5622,\"name\":\"1gram_idf_5622\"},{\"idx\":5623,\"name\":\"1gram_idf_5623\"},{\"idx\":5624,\"name\":\"1gram_idf_5624\"},{\"idx\":5625,\"name\":\"1gram_idf_5625\"},{\"idx\":5626,\"name\":\"1gram_idf_5626\"},{\"idx\":5627,\"name\":\"1gram_idf_5627\"},{\"idx\":5628,\"name\":\"1gram_idf_5628\"},{\"idx\":5629,\"name\":\"1gram_idf_5629\"},{\"idx\":5630,\"name\":\"1gram_idf_5630\"},{\"idx\":5631,\"name\":\"1gram_idf_5631\"},{\"idx\":5632,\"name\":\"1gram_idf_5632\"},{\"idx\":5633,\"name\":\"1gram_idf_5633\"},{\"idx\":5634,\"name\":\"1gram_idf_5634\"},{\"idx\":5635,\"name\":\"1gram_idf_5635\"},{\"idx\":5636,\"name\":\"1gram_idf_5636\"},{\"idx\":5637,\"name\":\"1gram_idf_5637\"},{\"idx\":5638,\"name\":\"1gram_idf_5638\"},{\"idx\":5639,\"name\":\"1gram_idf_5639\"},{\"idx\":5640,\"name\":\"1gram_idf_5640\"},{\"idx\":5641,\"name\":\"1gram_idf_5641\"},{\"idx\":5642,\"name\":\"1gram_idf_5642\"},{\"idx\":5643,\"name\":\"1gram_idf_5643\"},{\"idx\":5644,\"name\":\"1gram_idf_5644\"},{\"idx\":5645,\"name\":\"1gram_idf_5645\"},{\"idx\":5646,\"name\":\"1gram_idf_5646\"},{\"idx\":5647,\"name\":\"1gram_idf_5647\"},{\"idx\":5648,\"name\":\"1gram_idf_5648\"},{\"idx\":5649,\"name\":\"1gram_idf_5649\"},{\"idx\":5650,\"name\":\"1gram_idf_5650\"},{\"idx\":5651,\"name\":\"1gram_idf_5651\"},{\"idx\":5652,\"name\":\"1gram_idf_5652\"},{\"idx\":5653,\"name\":\"1gram_idf_5653\"},{\"idx\":5654,\"name\":\"1gram_idf_5654\"},{\"idx\":5655,\"name\":\"1gram_idf_5655\"},{\"idx\":5656,\"name\":\"1gram_idf_5656\"},{\"idx\":5657,\"name\":\"1gram_idf_5657\"},{\"idx\":5658,\"name\":\"1gram_idf_5658\"},{\"idx\":5659,\"name\":\"1gram_idf_5659\"},{\"idx\":5660,\"name\":\"1gram_idf_5660\"},{\"idx\":5661,\"name\":\"1gram_idf_5661\"},{\"idx\":5662,\"name\":\"1gram_idf_5662\"},{\"idx\":5663,\"name\":\"1gram_idf_5663\"},{\"idx\":5664,\"name\":\"1gram_idf_5664\"},{\"idx\":5665,\"name\":\"1gram_idf_5665\"},{\"idx\":5666,\"name\":\"1gram_idf_5666\"},{\"idx\":5667,\"name\":\"1gram_idf_5667\"},{\"idx\":5668,\"name\":\"1gram_idf_5668\"},{\"idx\":5669,\"name\":\"1gram_idf_5669\"},{\"idx\":5670,\"name\":\"1gram_idf_5670\"},{\"idx\":5671,\"name\":\"1gram_idf_5671\"},{\"idx\":5672,\"name\":\"1gram_idf_5672\"},{\"idx\":5673,\"name\":\"1gram_idf_5673\"},{\"idx\":5674,\"name\":\"1gram_idf_5674\"},{\"idx\":5675,\"name\":\"1gram_idf_5675\"},{\"idx\":5676,\"name\":\"1gram_idf_5676\"},{\"idx\":5677,\"name\":\"1gram_idf_5677\"},{\"idx\":5678,\"name\":\"1gram_idf_5678\"},{\"idx\":5679,\"name\":\"1gram_idf_5679\"},{\"idx\":5680,\"name\":\"1gram_idf_5680\"},{\"idx\":5681,\"name\":\"1gram_idf_5681\"},{\"idx\":5682,\"name\":\"1gram_idf_5682\"},{\"idx\":5683,\"name\":\"1gram_idf_5683\"},{\"idx\":5684,\"name\":\"1gram_idf_5684\"},{\"idx\":5685,\"name\":\"1gram_idf_5685\"},{\"idx\":5686,\"name\":\"1gram_idf_5686\"},{\"idx\":5687,\"name\":\"1gram_idf_5687\"},{\"idx\":5688,\"name\":\"1gram_idf_5688\"},{\"idx\":5689,\"name\":\"1gram_idf_5689\"},{\"idx\":5690,\"name\":\"1gram_idf_5690\"},{\"idx\":5691,\"name\":\"1gram_idf_5691\"},{\"idx\":5692,\"name\":\"1gram_idf_5692\"},{\"idx\":5693,\"name\":\"1gram_idf_5693\"},{\"idx\":5694,\"name\":\"1gram_idf_5694\"},{\"idx\":5695,\"name\":\"1gram_idf_5695\"},{\"idx\":5696,\"name\":\"1gram_idf_5696\"},{\"idx\":5697,\"name\":\"1gram_idf_5697\"},{\"idx\":5698,\"name\":\"1gram_idf_5698\"},{\"idx\":5699,\"name\":\"1gram_idf_5699\"},{\"idx\":5700,\"name\":\"1gram_idf_5700\"},{\"idx\":5701,\"name\":\"1gram_idf_5701\"},{\"idx\":5702,\"name\":\"1gram_idf_5702\"},{\"idx\":5703,\"name\":\"1gram_idf_5703\"},{\"idx\":5704,\"name\":\"1gram_idf_5704\"},{\"idx\":5705,\"name\":\"1gram_idf_5705\"},{\"idx\":5706,\"name\":\"1gram_idf_5706\"},{\"idx\":5707,\"name\":\"1gram_idf_5707\"},{\"idx\":5708,\"name\":\"1gram_idf_5708\"},{\"idx\":5709,\"name\":\"1gram_idf_5709\"},{\"idx\":5710,\"name\":\"1gram_idf_5710\"},{\"idx\":5711,\"name\":\"1gram_idf_5711\"},{\"idx\":5712,\"name\":\"1gram_idf_5712\"},{\"idx\":5713,\"name\":\"1gram_idf_5713\"},{\"idx\":5714,\"name\":\"1gram_idf_5714\"},{\"idx\":5715,\"name\":\"1gram_idf_5715\"},{\"idx\":5716,\"name\":\"1gram_idf_5716\"},{\"idx\":5717,\"name\":\"1gram_idf_5717\"},{\"idx\":5718,\"name\":\"1gram_idf_5718\"},{\"idx\":5719,\"name\":\"1gram_idf_5719\"},{\"idx\":5720,\"name\":\"1gram_idf_5720\"},{\"idx\":5721,\"name\":\"1gram_idf_5721\"},{\"idx\":5722,\"name\":\"1gram_idf_5722\"},{\"idx\":5723,\"name\":\"1gram_idf_5723\"},{\"idx\":5724,\"name\":\"1gram_idf_5724\"},{\"idx\":5725,\"name\":\"1gram_idf_5725\"},{\"idx\":5726,\"name\":\"1gram_idf_5726\"},{\"idx\":5727,\"name\":\"1gram_idf_5727\"},{\"idx\":5728,\"name\":\"1gram_idf_5728\"},{\"idx\":5729,\"name\":\"1gram_idf_5729\"},{\"idx\":5730,\"name\":\"1gram_idf_5730\"},{\"idx\":5731,\"name\":\"1gram_idf_5731\"},{\"idx\":5732,\"name\":\"1gram_idf_5732\"},{\"idx\":5733,\"name\":\"1gram_idf_5733\"},{\"idx\":5734,\"name\":\"1gram_idf_5734\"},{\"idx\":5735,\"name\":\"1gram_idf_5735\"},{\"idx\":5736,\"name\":\"1gram_idf_5736\"},{\"idx\":5737,\"name\":\"1gram_idf_5737\"},{\"idx\":5738,\"name\":\"1gram_idf_5738\"},{\"idx\":5739,\"name\":\"1gram_idf_5739\"},{\"idx\":5740,\"name\":\"1gram_idf_5740\"},{\"idx\":5741,\"name\":\"1gram_idf_5741\"},{\"idx\":5742,\"name\":\"1gram_idf_5742\"},{\"idx\":5743,\"name\":\"1gram_idf_5743\"},{\"idx\":5744,\"name\":\"1gram_idf_5744\"},{\"idx\":5745,\"name\":\"1gram_idf_5745\"},{\"idx\":5746,\"name\":\"1gram_idf_5746\"},{\"idx\":5747,\"name\":\"1gram_idf_5747\"},{\"idx\":5748,\"name\":\"1gram_idf_5748\"},{\"idx\":5749,\"name\":\"1gram_idf_5749\"},{\"idx\":5750,\"name\":\"1gram_idf_5750\"},{\"idx\":5751,\"name\":\"1gram_idf_5751\"},{\"idx\":5752,\"name\":\"1gram_idf_5752\"},{\"idx\":5753,\"name\":\"1gram_idf_5753\"},{\"idx\":5754,\"name\":\"1gram_idf_5754\"},{\"idx\":5755,\"name\":\"1gram_idf_5755\"},{\"idx\":5756,\"name\":\"1gram_idf_5756\"},{\"idx\":5757,\"name\":\"1gram_idf_5757\"},{\"idx\":5758,\"name\":\"1gram_idf_5758\"},{\"idx\":5759,\"name\":\"1gram_idf_5759\"},{\"idx\":5760,\"name\":\"1gram_idf_5760\"},{\"idx\":5761,\"name\":\"1gram_idf_5761\"},{\"idx\":5762,\"name\":\"1gram_idf_5762\"},{\"idx\":5763,\"name\":\"1gram_idf_5763\"},{\"idx\":5764,\"name\":\"1gram_idf_5764\"},{\"idx\":5765,\"name\":\"1gram_idf_5765\"},{\"idx\":5766,\"name\":\"1gram_idf_5766\"},{\"idx\":5767,\"name\":\"1gram_idf_5767\"},{\"idx\":5768,\"name\":\"1gram_idf_5768\"},{\"idx\":5769,\"name\":\"1gram_idf_5769\"},{\"idx\":5770,\"name\":\"1gram_idf_5770\"},{\"idx\":5771,\"name\":\"1gram_idf_5771\"},{\"idx\":5772,\"name\":\"1gram_idf_5772\"},{\"idx\":5773,\"name\":\"1gram_idf_5773\"},{\"idx\":5774,\"name\":\"1gram_idf_5774\"},{\"idx\":5775,\"name\":\"1gram_idf_5775\"},{\"idx\":5776,\"name\":\"1gram_idf_5776\"},{\"idx\":5777,\"name\":\"1gram_idf_5777\"},{\"idx\":5778,\"name\":\"1gram_idf_5778\"},{\"idx\":5779,\"name\":\"1gram_idf_5779\"},{\"idx\":5780,\"name\":\"1gram_idf_5780\"},{\"idx\":5781,\"name\":\"1gram_idf_5781\"},{\"idx\":5782,\"name\":\"1gram_idf_5782\"},{\"idx\":5783,\"name\":\"1gram_idf_5783\"},{\"idx\":5784,\"name\":\"1gram_idf_5784\"},{\"idx\":5785,\"name\":\"1gram_idf_5785\"},{\"idx\":5786,\"name\":\"1gram_idf_5786\"},{\"idx\":5787,\"name\":\"1gram_idf_5787\"},{\"idx\":5788,\"name\":\"1gram_idf_5788\"},{\"idx\":5789,\"name\":\"1gram_idf_5789\"},{\"idx\":5790,\"name\":\"1gram_idf_5790\"},{\"idx\":5791,\"name\":\"1gram_idf_5791\"},{\"idx\":5792,\"name\":\"1gram_idf_5792\"},{\"idx\":5793,\"name\":\"1gram_idf_5793\"},{\"idx\":5794,\"name\":\"1gram_idf_5794\"},{\"idx\":5795,\"name\":\"1gram_idf_5795\"},{\"idx\":5796,\"name\":\"1gram_idf_5796\"},{\"idx\":5797,\"name\":\"1gram_idf_5797\"},{\"idx\":5798,\"name\":\"1gram_idf_5798\"},{\"idx\":5799,\"name\":\"1gram_idf_5799\"},{\"idx\":5800,\"name\":\"1gram_idf_5800\"},{\"idx\":5801,\"name\":\"1gram_idf_5801\"},{\"idx\":5802,\"name\":\"1gram_idf_5802\"},{\"idx\":5803,\"name\":\"1gram_idf_5803\"},{\"idx\":5804,\"name\":\"1gram_idf_5804\"},{\"idx\":5805,\"name\":\"1gram_idf_5805\"},{\"idx\":5806,\"name\":\"1gram_idf_5806\"},{\"idx\":5807,\"name\":\"1gram_idf_5807\"},{\"idx\":5808,\"name\":\"1gram_idf_5808\"},{\"idx\":5809,\"name\":\"1gram_idf_5809\"},{\"idx\":5810,\"name\":\"1gram_idf_5810\"},{\"idx\":5811,\"name\":\"1gram_idf_5811\"},{\"idx\":5812,\"name\":\"1gram_idf_5812\"},{\"idx\":5813,\"name\":\"1gram_idf_5813\"},{\"idx\":5814,\"name\":\"1gram_idf_5814\"},{\"idx\":5815,\"name\":\"1gram_idf_5815\"},{\"idx\":5816,\"name\":\"1gram_idf_5816\"},{\"idx\":5817,\"name\":\"1gram_idf_5817\"},{\"idx\":5818,\"name\":\"1gram_idf_5818\"},{\"idx\":5819,\"name\":\"1gram_idf_5819\"},{\"idx\":5820,\"name\":\"1gram_idf_5820\"},{\"idx\":5821,\"name\":\"1gram_idf_5821\"},{\"idx\":5822,\"name\":\"1gram_idf_5822\"},{\"idx\":5823,\"name\":\"1gram_idf_5823\"},{\"idx\":5824,\"name\":\"1gram_idf_5824\"},{\"idx\":5825,\"name\":\"1gram_idf_5825\"},{\"idx\":5826,\"name\":\"1gram_idf_5826\"},{\"idx\":5827,\"name\":\"1gram_idf_5827\"},{\"idx\":5828,\"name\":\"1gram_idf_5828\"},{\"idx\":5829,\"name\":\"1gram_idf_5829\"},{\"idx\":5830,\"name\":\"1gram_idf_5830\"},{\"idx\":5831,\"name\":\"1gram_idf_5831\"},{\"idx\":5832,\"name\":\"1gram_idf_5832\"},{\"idx\":5833,\"name\":\"1gram_idf_5833\"},{\"idx\":5834,\"name\":\"1gram_idf_5834\"},{\"idx\":5835,\"name\":\"1gram_idf_5835\"},{\"idx\":5836,\"name\":\"1gram_idf_5836\"},{\"idx\":5837,\"name\":\"1gram_idf_5837\"},{\"idx\":5838,\"name\":\"1gram_idf_5838\"},{\"idx\":5839,\"name\":\"1gram_idf_5839\"},{\"idx\":5840,\"name\":\"1gram_idf_5840\"},{\"idx\":5841,\"name\":\"1gram_idf_5841\"},{\"idx\":5842,\"name\":\"1gram_idf_5842\"},{\"idx\":5843,\"name\":\"1gram_idf_5843\"},{\"idx\":5844,\"name\":\"1gram_idf_5844\"},{\"idx\":5845,\"name\":\"1gram_idf_5845\"},{\"idx\":5846,\"name\":\"1gram_idf_5846\"},{\"idx\":5847,\"name\":\"1gram_idf_5847\"},{\"idx\":5848,\"name\":\"1gram_idf_5848\"},{\"idx\":5849,\"name\":\"1gram_idf_5849\"},{\"idx\":5850,\"name\":\"1gram_idf_5850\"},{\"idx\":5851,\"name\":\"1gram_idf_5851\"},{\"idx\":5852,\"name\":\"1gram_idf_5852\"},{\"idx\":5853,\"name\":\"1gram_idf_5853\"},{\"idx\":5854,\"name\":\"1gram_idf_5854\"},{\"idx\":5855,\"name\":\"1gram_idf_5855\"},{\"idx\":5856,\"name\":\"1gram_idf_5856\"},{\"idx\":5857,\"name\":\"1gram_idf_5857\"},{\"idx\":5858,\"name\":\"1gram_idf_5858\"},{\"idx\":5859,\"name\":\"1gram_idf_5859\"},{\"idx\":5860,\"name\":\"1gram_idf_5860\"},{\"idx\":5861,\"name\":\"1gram_idf_5861\"},{\"idx\":5862,\"name\":\"1gram_idf_5862\"},{\"idx\":5863,\"name\":\"1gram_idf_5863\"},{\"idx\":5864,\"name\":\"1gram_idf_5864\"},{\"idx\":5865,\"name\":\"1gram_idf_5865\"},{\"idx\":5866,\"name\":\"1gram_idf_5866\"},{\"idx\":5867,\"name\":\"1gram_idf_5867\"},{\"idx\":5868,\"name\":\"1gram_idf_5868\"},{\"idx\":5869,\"name\":\"1gram_idf_5869\"},{\"idx\":5870,\"name\":\"1gram_idf_5870\"},{\"idx\":5871,\"name\":\"1gram_idf_5871\"},{\"idx\":5872,\"name\":\"1gram_idf_5872\"},{\"idx\":5873,\"name\":\"1gram_idf_5873\"},{\"idx\":5874,\"name\":\"1gram_idf_5874\"},{\"idx\":5875,\"name\":\"1gram_idf_5875\"},{\"idx\":5876,\"name\":\"1gram_idf_5876\"},{\"idx\":5877,\"name\":\"1gram_idf_5877\"},{\"idx\":5878,\"name\":\"1gram_idf_5878\"},{\"idx\":5879,\"name\":\"1gram_idf_5879\"},{\"idx\":5880,\"name\":\"1gram_idf_5880\"},{\"idx\":5881,\"name\":\"1gram_idf_5881\"},{\"idx\":5882,\"name\":\"1gram_idf_5882\"},{\"idx\":5883,\"name\":\"1gram_idf_5883\"},{\"idx\":5884,\"name\":\"1gram_idf_5884\"},{\"idx\":5885,\"name\":\"1gram_idf_5885\"},{\"idx\":5886,\"name\":\"1gram_idf_5886\"},{\"idx\":5887,\"name\":\"1gram_idf_5887\"},{\"idx\":5888,\"name\":\"1gram_idf_5888\"},{\"idx\":5889,\"name\":\"1gram_idf_5889\"},{\"idx\":5890,\"name\":\"1gram_idf_5890\"},{\"idx\":5891,\"name\":\"1gram_idf_5891\"},{\"idx\":5892,\"name\":\"1gram_idf_5892\"},{\"idx\":5893,\"name\":\"1gram_idf_5893\"},{\"idx\":5894,\"name\":\"1gram_idf_5894\"},{\"idx\":5895,\"name\":\"1gram_idf_5895\"},{\"idx\":5896,\"name\":\"1gram_idf_5896\"},{\"idx\":5897,\"name\":\"1gram_idf_5897\"},{\"idx\":5898,\"name\":\"1gram_idf_5898\"},{\"idx\":5899,\"name\":\"1gram_idf_5899\"},{\"idx\":5900,\"name\":\"1gram_idf_5900\"},{\"idx\":5901,\"name\":\"1gram_idf_5901\"},{\"idx\":5902,\"name\":\"1gram_idf_5902\"},{\"idx\":5903,\"name\":\"1gram_idf_5903\"},{\"idx\":5904,\"name\":\"1gram_idf_5904\"},{\"idx\":5905,\"name\":\"1gram_idf_5905\"},{\"idx\":5906,\"name\":\"1gram_idf_5906\"},{\"idx\":5907,\"name\":\"1gram_idf_5907\"},{\"idx\":5908,\"name\":\"1gram_idf_5908\"},{\"idx\":5909,\"name\":\"1gram_idf_5909\"},{\"idx\":5910,\"name\":\"1gram_idf_5910\"},{\"idx\":5911,\"name\":\"1gram_idf_5911\"},{\"idx\":5912,\"name\":\"1gram_idf_5912\"},{\"idx\":5913,\"name\":\"1gram_idf_5913\"},{\"idx\":5914,\"name\":\"1gram_idf_5914\"},{\"idx\":5915,\"name\":\"1gram_idf_5915\"},{\"idx\":5916,\"name\":\"1gram_idf_5916\"},{\"idx\":5917,\"name\":\"1gram_idf_5917\"},{\"idx\":5918,\"name\":\"1gram_idf_5918\"},{\"idx\":5919,\"name\":\"1gram_idf_5919\"},{\"idx\":5920,\"name\":\"1gram_idf_5920\"},{\"idx\":5921,\"name\":\"1gram_idf_5921\"},{\"idx\":5922,\"name\":\"1gram_idf_5922\"},{\"idx\":5923,\"name\":\"1gram_idf_5923\"},{\"idx\":5924,\"name\":\"1gram_idf_5924\"},{\"idx\":5925,\"name\":\"1gram_idf_5925\"},{\"idx\":5926,\"name\":\"1gram_idf_5926\"},{\"idx\":5927,\"name\":\"1gram_idf_5927\"},{\"idx\":5928,\"name\":\"1gram_idf_5928\"},{\"idx\":5929,\"name\":\"1gram_idf_5929\"},{\"idx\":5930,\"name\":\"1gram_idf_5930\"},{\"idx\":5931,\"name\":\"1gram_idf_5931\"},{\"idx\":5932,\"name\":\"1gram_idf_5932\"},{\"idx\":5933,\"name\":\"1gram_idf_5933\"},{\"idx\":5934,\"name\":\"1gram_idf_5934\"},{\"idx\":5935,\"name\":\"1gram_idf_5935\"},{\"idx\":5936,\"name\":\"1gram_idf_5936\"},{\"idx\":5937,\"name\":\"1gram_idf_5937\"},{\"idx\":5938,\"name\":\"1gram_idf_5938\"},{\"idx\":5939,\"name\":\"1gram_idf_5939\"},{\"idx\":5940,\"name\":\"1gram_idf_5940\"},{\"idx\":5941,\"name\":\"1gram_idf_5941\"},{\"idx\":5942,\"name\":\"1gram_idf_5942\"},{\"idx\":5943,\"name\":\"1gram_idf_5943\"},{\"idx\":5944,\"name\":\"1gram_idf_5944\"},{\"idx\":5945,\"name\":\"1gram_idf_5945\"},{\"idx\":5946,\"name\":\"1gram_idf_5946\"},{\"idx\":5947,\"name\":\"1gram_idf_5947\"},{\"idx\":5948,\"name\":\"1gram_idf_5948\"},{\"idx\":5949,\"name\":\"1gram_idf_5949\"},{\"idx\":5950,\"name\":\"1gram_idf_5950\"},{\"idx\":5951,\"name\":\"1gram_idf_5951\"},{\"idx\":5952,\"name\":\"1gram_idf_5952\"},{\"idx\":5953,\"name\":\"1gram_idf_5953\"},{\"idx\":5954,\"name\":\"1gram_idf_5954\"},{\"idx\":5955,\"name\":\"1gram_idf_5955\"},{\"idx\":5956,\"name\":\"1gram_idf_5956\"},{\"idx\":5957,\"name\":\"1gram_idf_5957\"},{\"idx\":5958,\"name\":\"1gram_idf_5958\"},{\"idx\":5959,\"name\":\"1gram_idf_5959\"},{\"idx\":5960,\"name\":\"1gram_idf_5960\"},{\"idx\":5961,\"name\":\"1gram_idf_5961\"},{\"idx\":5962,\"name\":\"1gram_idf_5962\"},{\"idx\":5963,\"name\":\"1gram_idf_5963\"},{\"idx\":5964,\"name\":\"1gram_idf_5964\"},{\"idx\":5965,\"name\":\"1gram_idf_5965\"},{\"idx\":5966,\"name\":\"1gram_idf_5966\"},{\"idx\":5967,\"name\":\"1gram_idf_5967\"},{\"idx\":5968,\"name\":\"1gram_idf_5968\"},{\"idx\":5969,\"name\":\"1gram_idf_5969\"},{\"idx\":5970,\"name\":\"1gram_idf_5970\"},{\"idx\":5971,\"name\":\"1gram_idf_5971\"},{\"idx\":5972,\"name\":\"1gram_idf_5972\"},{\"idx\":5973,\"name\":\"1gram_idf_5973\"},{\"idx\":5974,\"name\":\"1gram_idf_5974\"},{\"idx\":5975,\"name\":\"1gram_idf_5975\"},{\"idx\":5976,\"name\":\"1gram_idf_5976\"},{\"idx\":5977,\"name\":\"1gram_idf_5977\"},{\"idx\":5978,\"name\":\"1gram_idf_5978\"},{\"idx\":5979,\"name\":\"1gram_idf_5979\"},{\"idx\":5980,\"name\":\"1gram_idf_5980\"},{\"idx\":5981,\"name\":\"1gram_idf_5981\"},{\"idx\":5982,\"name\":\"1gram_idf_5982\"},{\"idx\":5983,\"name\":\"1gram_idf_5983\"},{\"idx\":5984,\"name\":\"1gram_idf_5984\"},{\"idx\":5985,\"name\":\"1gram_idf_5985\"},{\"idx\":5986,\"name\":\"1gram_idf_5986\"},{\"idx\":5987,\"name\":\"1gram_idf_5987\"},{\"idx\":5988,\"name\":\"1gram_idf_5988\"},{\"idx\":5989,\"name\":\"1gram_idf_5989\"},{\"idx\":5990,\"name\":\"1gram_idf_5990\"},{\"idx\":5991,\"name\":\"1gram_idf_5991\"},{\"idx\":5992,\"name\":\"1gram_idf_5992\"},{\"idx\":5993,\"name\":\"1gram_idf_5993\"},{\"idx\":5994,\"name\":\"1gram_idf_5994\"},{\"idx\":5995,\"name\":\"1gram_idf_5995\"},{\"idx\":5996,\"name\":\"1gram_idf_5996\"},{\"idx\":5997,\"name\":\"1gram_idf_5997\"},{\"idx\":5998,\"name\":\"1gram_idf_5998\"},{\"idx\":5999,\"name\":\"1gram_idf_5999\"},{\"idx\":6000,\"name\":\"1gram_idf_6000\"},{\"idx\":6001,\"name\":\"1gram_idf_6001\"},{\"idx\":6002,\"name\":\"1gram_idf_6002\"},{\"idx\":6003,\"name\":\"1gram_idf_6003\"},{\"idx\":6004,\"name\":\"1gram_idf_6004\"},{\"idx\":6005,\"name\":\"1gram_idf_6005\"},{\"idx\":6006,\"name\":\"1gram_idf_6006\"},{\"idx\":6007,\"name\":\"1gram_idf_6007\"},{\"idx\":6008,\"name\":\"1gram_idf_6008\"},{\"idx\":6009,\"name\":\"1gram_idf_6009\"},{\"idx\":6010,\"name\":\"1gram_idf_6010\"},{\"idx\":6011,\"name\":\"1gram_idf_6011\"},{\"idx\":6012,\"name\":\"1gram_idf_6012\"},{\"idx\":6013,\"name\":\"1gram_idf_6013\"},{\"idx\":6014,\"name\":\"1gram_idf_6014\"},{\"idx\":6015,\"name\":\"1gram_idf_6015\"},{\"idx\":6016,\"name\":\"1gram_idf_6016\"},{\"idx\":6017,\"name\":\"1gram_idf_6017\"},{\"idx\":6018,\"name\":\"1gram_idf_6018\"},{\"idx\":6019,\"name\":\"1gram_idf_6019\"},{\"idx\":6020,\"name\":\"1gram_idf_6020\"},{\"idx\":6021,\"name\":\"1gram_idf_6021\"},{\"idx\":6022,\"name\":\"1gram_idf_6022\"},{\"idx\":6023,\"name\":\"1gram_idf_6023\"},{\"idx\":6024,\"name\":\"1gram_idf_6024\"},{\"idx\":6025,\"name\":\"1gram_idf_6025\"},{\"idx\":6026,\"name\":\"1gram_idf_6026\"},{\"idx\":6027,\"name\":\"1gram_idf_6027\"},{\"idx\":6028,\"name\":\"1gram_idf_6028\"},{\"idx\":6029,\"name\":\"1gram_idf_6029\"},{\"idx\":6030,\"name\":\"1gram_idf_6030\"},{\"idx\":6031,\"name\":\"1gram_idf_6031\"},{\"idx\":6032,\"name\":\"1gram_idf_6032\"},{\"idx\":6033,\"name\":\"1gram_idf_6033\"},{\"idx\":6034,\"name\":\"1gram_idf_6034\"},{\"idx\":6035,\"name\":\"1gram_idf_6035\"},{\"idx\":6036,\"name\":\"1gram_idf_6036\"},{\"idx\":6037,\"name\":\"1gram_idf_6037\"},{\"idx\":6038,\"name\":\"1gram_idf_6038\"},{\"idx\":6039,\"name\":\"1gram_idf_6039\"},{\"idx\":6040,\"name\":\"1gram_idf_6040\"},{\"idx\":6041,\"name\":\"1gram_idf_6041\"},{\"idx\":6042,\"name\":\"1gram_idf_6042\"},{\"idx\":6043,\"name\":\"1gram_idf_6043\"},{\"idx\":6044,\"name\":\"1gram_idf_6044\"},{\"idx\":6045,\"name\":\"1gram_idf_6045\"},{\"idx\":6046,\"name\":\"1gram_idf_6046\"},{\"idx\":6047,\"name\":\"1gram_idf_6047\"},{\"idx\":6048,\"name\":\"1gram_idf_6048\"},{\"idx\":6049,\"name\":\"1gram_idf_6049\"},{\"idx\":6050,\"name\":\"1gram_idf_6050\"},{\"idx\":6051,\"name\":\"1gram_idf_6051\"},{\"idx\":6052,\"name\":\"1gram_idf_6052\"},{\"idx\":6053,\"name\":\"1gram_idf_6053\"},{\"idx\":6054,\"name\":\"1gram_idf_6054\"},{\"idx\":6055,\"name\":\"1gram_idf_6055\"},{\"idx\":6056,\"name\":\"1gram_idf_6056\"},{\"idx\":6057,\"name\":\"1gram_idf_6057\"},{\"idx\":6058,\"name\":\"1gram_idf_6058\"},{\"idx\":6059,\"name\":\"1gram_idf_6059\"},{\"idx\":6060,\"name\":\"1gram_idf_6060\"},{\"idx\":6061,\"name\":\"1gram_idf_6061\"},{\"idx\":6062,\"name\":\"1gram_idf_6062\"},{\"idx\":6063,\"name\":\"1gram_idf_6063\"},{\"idx\":6064,\"name\":\"1gram_idf_6064\"},{\"idx\":6065,\"name\":\"1gram_idf_6065\"},{\"idx\":6066,\"name\":\"1gram_idf_6066\"},{\"idx\":6067,\"name\":\"1gram_idf_6067\"},{\"idx\":6068,\"name\":\"1gram_idf_6068\"},{\"idx\":6069,\"name\":\"1gram_idf_6069\"},{\"idx\":6070,\"name\":\"1gram_idf_6070\"},{\"idx\":6071,\"name\":\"1gram_idf_6071\"},{\"idx\":6072,\"name\":\"1gram_idf_6072\"},{\"idx\":6073,\"name\":\"1gram_idf_6073\"},{\"idx\":6074,\"name\":\"1gram_idf_6074\"},{\"idx\":6075,\"name\":\"1gram_idf_6075\"},{\"idx\":6076,\"name\":\"1gram_idf_6076\"},{\"idx\":6077,\"name\":\"1gram_idf_6077\"},{\"idx\":6078,\"name\":\"1gram_idf_6078\"},{\"idx\":6079,\"name\":\"1gram_idf_6079\"},{\"idx\":6080,\"name\":\"1gram_idf_6080\"},{\"idx\":6081,\"name\":\"1gram_idf_6081\"},{\"idx\":6082,\"name\":\"1gram_idf_6082\"},{\"idx\":6083,\"name\":\"1gram_idf_6083\"},{\"idx\":6084,\"name\":\"1gram_idf_6084\"},{\"idx\":6085,\"name\":\"1gram_idf_6085\"},{\"idx\":6086,\"name\":\"1gram_idf_6086\"},{\"idx\":6087,\"name\":\"1gram_idf_6087\"},{\"idx\":6088,\"name\":\"1gram_idf_6088\"},{\"idx\":6089,\"name\":\"1gram_idf_6089\"},{\"idx\":6090,\"name\":\"1gram_idf_6090\"},{\"idx\":6091,\"name\":\"1gram_idf_6091\"},{\"idx\":6092,\"name\":\"1gram_idf_6092\"},{\"idx\":6093,\"name\":\"1gram_idf_6093\"},{\"idx\":6094,\"name\":\"1gram_idf_6094\"},{\"idx\":6095,\"name\":\"1gram_idf_6095\"},{\"idx\":6096,\"name\":\"1gram_idf_6096\"},{\"idx\":6097,\"name\":\"1gram_idf_6097\"},{\"idx\":6098,\"name\":\"1gram_idf_6098\"},{\"idx\":6099,\"name\":\"1gram_idf_6099\"},{\"idx\":6100,\"name\":\"1gram_idf_6100\"},{\"idx\":6101,\"name\":\"1gram_idf_6101\"},{\"idx\":6102,\"name\":\"1gram_idf_6102\"},{\"idx\":6103,\"name\":\"1gram_idf_6103\"},{\"idx\":6104,\"name\":\"1gram_idf_6104\"},{\"idx\":6105,\"name\":\"1gram_idf_6105\"},{\"idx\":6106,\"name\":\"1gram_idf_6106\"},{\"idx\":6107,\"name\":\"1gram_idf_6107\"},{\"idx\":6108,\"name\":\"1gram_idf_6108\"},{\"idx\":6109,\"name\":\"1gram_idf_6109\"},{\"idx\":6110,\"name\":\"1gram_idf_6110\"},{\"idx\":6111,\"name\":\"1gram_idf_6111\"},{\"idx\":6112,\"name\":\"1gram_idf_6112\"},{\"idx\":6113,\"name\":\"1gram_idf_6113\"},{\"idx\":6114,\"name\":\"1gram_idf_6114\"},{\"idx\":6115,\"name\":\"1gram_idf_6115\"},{\"idx\":6116,\"name\":\"1gram_idf_6116\"},{\"idx\":6117,\"name\":\"1gram_idf_6117\"},{\"idx\":6118,\"name\":\"1gram_idf_6118\"},{\"idx\":6119,\"name\":\"1gram_idf_6119\"},{\"idx\":6120,\"name\":\"1gram_idf_6120\"},{\"idx\":6121,\"name\":\"1gram_idf_6121\"},{\"idx\":6122,\"name\":\"1gram_idf_6122\"},{\"idx\":6123,\"name\":\"1gram_idf_6123\"},{\"idx\":6124,\"name\":\"1gram_idf_6124\"},{\"idx\":6125,\"name\":\"1gram_idf_6125\"},{\"idx\":6126,\"name\":\"1gram_idf_6126\"},{\"idx\":6127,\"name\":\"1gram_idf_6127\"},{\"idx\":6128,\"name\":\"1gram_idf_6128\"},{\"idx\":6129,\"name\":\"1gram_idf_6129\"},{\"idx\":6130,\"name\":\"1gram_idf_6130\"},{\"idx\":6131,\"name\":\"1gram_idf_6131\"},{\"idx\":6132,\"name\":\"1gram_idf_6132\"},{\"idx\":6133,\"name\":\"1gram_idf_6133\"},{\"idx\":6134,\"name\":\"1gram_idf_6134\"},{\"idx\":6135,\"name\":\"1gram_idf_6135\"},{\"idx\":6136,\"name\":\"1gram_idf_6136\"},{\"idx\":6137,\"name\":\"1gram_idf_6137\"},{\"idx\":6138,\"name\":\"1gram_idf_6138\"},{\"idx\":6139,\"name\":\"1gram_idf_6139\"},{\"idx\":6140,\"name\":\"1gram_idf_6140\"},{\"idx\":6141,\"name\":\"1gram_idf_6141\"},{\"idx\":6142,\"name\":\"1gram_idf_6142\"},{\"idx\":6143,\"name\":\"1gram_idf_6143\"},{\"idx\":6144,\"name\":\"1gram_idf_6144\"},{\"idx\":6145,\"name\":\"1gram_idf_6145\"},{\"idx\":6146,\"name\":\"1gram_idf_6146\"},{\"idx\":6147,\"name\":\"1gram_idf_6147\"},{\"idx\":6148,\"name\":\"1gram_idf_6148\"},{\"idx\":6149,\"name\":\"1gram_idf_6149\"},{\"idx\":6150,\"name\":\"1gram_idf_6150\"},{\"idx\":6151,\"name\":\"1gram_idf_6151\"},{\"idx\":6152,\"name\":\"1gram_idf_6152\"},{\"idx\":6153,\"name\":\"1gram_idf_6153\"},{\"idx\":6154,\"name\":\"1gram_idf_6154\"},{\"idx\":6155,\"name\":\"1gram_idf_6155\"},{\"idx\":6156,\"name\":\"1gram_idf_6156\"},{\"idx\":6157,\"name\":\"1gram_idf_6157\"},{\"idx\":6158,\"name\":\"1gram_idf_6158\"},{\"idx\":6159,\"name\":\"1gram_idf_6159\"},{\"idx\":6160,\"name\":\"1gram_idf_6160\"},{\"idx\":6161,\"name\":\"1gram_idf_6161\"},{\"idx\":6162,\"name\":\"1gram_idf_6162\"},{\"idx\":6163,\"name\":\"1gram_idf_6163\"},{\"idx\":6164,\"name\":\"1gram_idf_6164\"},{\"idx\":6165,\"name\":\"1gram_idf_6165\"},{\"idx\":6166,\"name\":\"1gram_idf_6166\"},{\"idx\":6167,\"name\":\"1gram_idf_6167\"},{\"idx\":6168,\"name\":\"1gram_idf_6168\"},{\"idx\":6169,\"name\":\"1gram_idf_6169\"},{\"idx\":6170,\"name\":\"1gram_idf_6170\"},{\"idx\":6171,\"name\":\"1gram_idf_6171\"},{\"idx\":6172,\"name\":\"1gram_idf_6172\"},{\"idx\":6173,\"name\":\"1gram_idf_6173\"},{\"idx\":6174,\"name\":\"1gram_idf_6174\"},{\"idx\":6175,\"name\":\"1gram_idf_6175\"},{\"idx\":6176,\"name\":\"1gram_idf_6176\"},{\"idx\":6177,\"name\":\"1gram_idf_6177\"},{\"idx\":6178,\"name\":\"1gram_idf_6178\"},{\"idx\":6179,\"name\":\"1gram_idf_6179\"},{\"idx\":6180,\"name\":\"1gram_idf_6180\"},{\"idx\":6181,\"name\":\"1gram_idf_6181\"},{\"idx\":6182,\"name\":\"1gram_idf_6182\"},{\"idx\":6183,\"name\":\"1gram_idf_6183\"},{\"idx\":6184,\"name\":\"1gram_idf_6184\"},{\"idx\":6185,\"name\":\"1gram_idf_6185\"},{\"idx\":6186,\"name\":\"1gram_idf_6186\"},{\"idx\":6187,\"name\":\"1gram_idf_6187\"},{\"idx\":6188,\"name\":\"1gram_idf_6188\"},{\"idx\":6189,\"name\":\"1gram_idf_6189\"},{\"idx\":6190,\"name\":\"1gram_idf_6190\"},{\"idx\":6191,\"name\":\"1gram_idf_6191\"},{\"idx\":6192,\"name\":\"1gram_idf_6192\"},{\"idx\":6193,\"name\":\"1gram_idf_6193\"},{\"idx\":6194,\"name\":\"1gram_idf_6194\"},{\"idx\":6195,\"name\":\"1gram_idf_6195\"},{\"idx\":6196,\"name\":\"1gram_idf_6196\"},{\"idx\":6197,\"name\":\"1gram_idf_6197\"},{\"idx\":6198,\"name\":\"1gram_idf_6198\"},{\"idx\":6199,\"name\":\"1gram_idf_6199\"},{\"idx\":6200,\"name\":\"1gram_idf_6200\"},{\"idx\":6201,\"name\":\"1gram_idf_6201\"},{\"idx\":6202,\"name\":\"1gram_idf_6202\"},{\"idx\":6203,\"name\":\"1gram_idf_6203\"},{\"idx\":6204,\"name\":\"1gram_idf_6204\"},{\"idx\":6205,\"name\":\"1gram_idf_6205\"},{\"idx\":6206,\"name\":\"1gram_idf_6206\"},{\"idx\":6207,\"name\":\"1gram_idf_6207\"},{\"idx\":6208,\"name\":\"1gram_idf_6208\"},{\"idx\":6209,\"name\":\"1gram_idf_6209\"},{\"idx\":6210,\"name\":\"1gram_idf_6210\"},{\"idx\":6211,\"name\":\"1gram_idf_6211\"},{\"idx\":6212,\"name\":\"1gram_idf_6212\"},{\"idx\":6213,\"name\":\"1gram_idf_6213\"},{\"idx\":6214,\"name\":\"1gram_idf_6214\"},{\"idx\":6215,\"name\":\"1gram_idf_6215\"},{\"idx\":6216,\"name\":\"1gram_idf_6216\"},{\"idx\":6217,\"name\":\"1gram_idf_6217\"},{\"idx\":6218,\"name\":\"1gram_idf_6218\"},{\"idx\":6219,\"name\":\"1gram_idf_6219\"},{\"idx\":6220,\"name\":\"1gram_idf_6220\"},{\"idx\":6221,\"name\":\"1gram_idf_6221\"},{\"idx\":6222,\"name\":\"1gram_idf_6222\"},{\"idx\":6223,\"name\":\"1gram_idf_6223\"},{\"idx\":6224,\"name\":\"1gram_idf_6224\"},{\"idx\":6225,\"name\":\"1gram_idf_6225\"},{\"idx\":6226,\"name\":\"1gram_idf_6226\"},{\"idx\":6227,\"name\":\"1gram_idf_6227\"},{\"idx\":6228,\"name\":\"1gram_idf_6228\"},{\"idx\":6229,\"name\":\"1gram_idf_6229\"},{\"idx\":6230,\"name\":\"1gram_idf_6230\"},{\"idx\":6231,\"name\":\"1gram_idf_6231\"},{\"idx\":6232,\"name\":\"1gram_idf_6232\"},{\"idx\":6233,\"name\":\"1gram_idf_6233\"},{\"idx\":6234,\"name\":\"1gram_idf_6234\"},{\"idx\":6235,\"name\":\"1gram_idf_6235\"},{\"idx\":6236,\"name\":\"1gram_idf_6236\"},{\"idx\":6237,\"name\":\"1gram_idf_6237\"},{\"idx\":6238,\"name\":\"1gram_idf_6238\"},{\"idx\":6239,\"name\":\"1gram_idf_6239\"},{\"idx\":6240,\"name\":\"1gram_idf_6240\"},{\"idx\":6241,\"name\":\"1gram_idf_6241\"},{\"idx\":6242,\"name\":\"1gram_idf_6242\"},{\"idx\":6243,\"name\":\"1gram_idf_6243\"},{\"idx\":6244,\"name\":\"1gram_idf_6244\"},{\"idx\":6245,\"name\":\"1gram_idf_6245\"},{\"idx\":6246,\"name\":\"1gram_idf_6246\"},{\"idx\":6247,\"name\":\"1gram_idf_6247\"},{\"idx\":6248,\"name\":\"1gram_idf_6248\"},{\"idx\":6249,\"name\":\"1gram_idf_6249\"},{\"idx\":6250,\"name\":\"1gram_idf_6250\"},{\"idx\":6251,\"name\":\"1gram_idf_6251\"},{\"idx\":6252,\"name\":\"1gram_idf_6252\"},{\"idx\":6253,\"name\":\"1gram_idf_6253\"},{\"idx\":6254,\"name\":\"1gram_idf_6254\"},{\"idx\":6255,\"name\":\"1gram_idf_6255\"},{\"idx\":6256,\"name\":\"1gram_idf_6256\"},{\"idx\":6257,\"name\":\"1gram_idf_6257\"},{\"idx\":6258,\"name\":\"1gram_idf_6258\"},{\"idx\":6259,\"name\":\"1gram_idf_6259\"},{\"idx\":6260,\"name\":\"1gram_idf_6260\"},{\"idx\":6261,\"name\":\"1gram_idf_6261\"},{\"idx\":6262,\"name\":\"1gram_idf_6262\"},{\"idx\":6263,\"name\":\"1gram_idf_6263\"},{\"idx\":6264,\"name\":\"1gram_idf_6264\"},{\"idx\":6265,\"name\":\"1gram_idf_6265\"},{\"idx\":6266,\"name\":\"1gram_idf_6266\"},{\"idx\":6267,\"name\":\"1gram_idf_6267\"},{\"idx\":6268,\"name\":\"1gram_idf_6268\"},{\"idx\":6269,\"name\":\"1gram_idf_6269\"},{\"idx\":6270,\"name\":\"1gram_idf_6270\"},{\"idx\":6271,\"name\":\"1gram_idf_6271\"},{\"idx\":6272,\"name\":\"1gram_idf_6272\"},{\"idx\":6273,\"name\":\"1gram_idf_6273\"},{\"idx\":6274,\"name\":\"1gram_idf_6274\"},{\"idx\":6275,\"name\":\"1gram_idf_6275\"},{\"idx\":6276,\"name\":\"1gram_idf_6276\"},{\"idx\":6277,\"name\":\"1gram_idf_6277\"},{\"idx\":6278,\"name\":\"1gram_idf_6278\"},{\"idx\":6279,\"name\":\"1gram_idf_6279\"},{\"idx\":6280,\"name\":\"1gram_idf_6280\"},{\"idx\":6281,\"name\":\"1gram_idf_6281\"},{\"idx\":6282,\"name\":\"1gram_idf_6282\"},{\"idx\":6283,\"name\":\"1gram_idf_6283\"},{\"idx\":6284,\"name\":\"1gram_idf_6284\"},{\"idx\":6285,\"name\":\"1gram_idf_6285\"},{\"idx\":6286,\"name\":\"1gram_idf_6286\"},{\"idx\":6287,\"name\":\"1gram_idf_6287\"},{\"idx\":6288,\"name\":\"1gram_idf_6288\"},{\"idx\":6289,\"name\":\"1gram_idf_6289\"},{\"idx\":6290,\"name\":\"1gram_idf_6290\"},{\"idx\":6291,\"name\":\"1gram_idf_6291\"},{\"idx\":6292,\"name\":\"1gram_idf_6292\"},{\"idx\":6293,\"name\":\"1gram_idf_6293\"},{\"idx\":6294,\"name\":\"1gram_idf_6294\"},{\"idx\":6295,\"name\":\"1gram_idf_6295\"},{\"idx\":6296,\"name\":\"1gram_idf_6296\"},{\"idx\":6297,\"name\":\"1gram_idf_6297\"},{\"idx\":6298,\"name\":\"1gram_idf_6298\"},{\"idx\":6299,\"name\":\"1gram_idf_6299\"},{\"idx\":6300,\"name\":\"1gram_idf_6300\"},{\"idx\":6301,\"name\":\"1gram_idf_6301\"},{\"idx\":6302,\"name\":\"1gram_idf_6302\"},{\"idx\":6303,\"name\":\"1gram_idf_6303\"},{\"idx\":6304,\"name\":\"1gram_idf_6304\"},{\"idx\":6305,\"name\":\"1gram_idf_6305\"},{\"idx\":6306,\"name\":\"1gram_idf_6306\"},{\"idx\":6307,\"name\":\"1gram_idf_6307\"},{\"idx\":6308,\"name\":\"1gram_idf_6308\"},{\"idx\":6309,\"name\":\"1gram_idf_6309\"},{\"idx\":6310,\"name\":\"1gram_idf_6310\"},{\"idx\":6311,\"name\":\"1gram_idf_6311\"},{\"idx\":6312,\"name\":\"1gram_idf_6312\"},{\"idx\":6313,\"name\":\"1gram_idf_6313\"},{\"idx\":6314,\"name\":\"1gram_idf_6314\"},{\"idx\":6315,\"name\":\"1gram_idf_6315\"},{\"idx\":6316,\"name\":\"1gram_idf_6316\"},{\"idx\":6317,\"name\":\"1gram_idf_6317\"},{\"idx\":6318,\"name\":\"1gram_idf_6318\"},{\"idx\":6319,\"name\":\"1gram_idf_6319\"},{\"idx\":6320,\"name\":\"1gram_idf_6320\"},{\"idx\":6321,\"name\":\"1gram_idf_6321\"},{\"idx\":6322,\"name\":\"1gram_idf_6322\"},{\"idx\":6323,\"name\":\"1gram_idf_6323\"},{\"idx\":6324,\"name\":\"1gram_idf_6324\"},{\"idx\":6325,\"name\":\"1gram_idf_6325\"},{\"idx\":6326,\"name\":\"1gram_idf_6326\"},{\"idx\":6327,\"name\":\"1gram_idf_6327\"},{\"idx\":6328,\"name\":\"1gram_idf_6328\"},{\"idx\":6329,\"name\":\"1gram_idf_6329\"},{\"idx\":6330,\"name\":\"1gram_idf_6330\"},{\"idx\":6331,\"name\":\"1gram_idf_6331\"},{\"idx\":6332,\"name\":\"1gram_idf_6332\"},{\"idx\":6333,\"name\":\"1gram_idf_6333\"},{\"idx\":6334,\"name\":\"1gram_idf_6334\"},{\"idx\":6335,\"name\":\"1gram_idf_6335\"},{\"idx\":6336,\"name\":\"1gram_idf_6336\"},{\"idx\":6337,\"name\":\"1gram_idf_6337\"},{\"idx\":6338,\"name\":\"1gram_idf_6338\"},{\"idx\":6339,\"name\":\"1gram_idf_6339\"},{\"idx\":6340,\"name\":\"1gram_idf_6340\"},{\"idx\":6341,\"name\":\"1gram_idf_6341\"},{\"idx\":6342,\"name\":\"1gram_idf_6342\"},{\"idx\":6343,\"name\":\"1gram_idf_6343\"},{\"idx\":6344,\"name\":\"1gram_idf_6344\"},{\"idx\":6345,\"name\":\"1gram_idf_6345\"},{\"idx\":6346,\"name\":\"1gram_idf_6346\"},{\"idx\":6347,\"name\":\"1gram_idf_6347\"},{\"idx\":6348,\"name\":\"1gram_idf_6348\"},{\"idx\":6349,\"name\":\"1gram_idf_6349\"},{\"idx\":6350,\"name\":\"1gram_idf_6350\"},{\"idx\":6351,\"name\":\"1gram_idf_6351\"},{\"idx\":6352,\"name\":\"1gram_idf_6352\"},{\"idx\":6353,\"name\":\"1gram_idf_6353\"},{\"idx\":6354,\"name\":\"1gram_idf_6354\"},{\"idx\":6355,\"name\":\"1gram_idf_6355\"},{\"idx\":6356,\"name\":\"1gram_idf_6356\"},{\"idx\":6357,\"name\":\"1gram_idf_6357\"},{\"idx\":6358,\"name\":\"1gram_idf_6358\"},{\"idx\":6359,\"name\":\"1gram_idf_6359\"},{\"idx\":6360,\"name\":\"1gram_idf_6360\"},{\"idx\":6361,\"name\":\"1gram_idf_6361\"},{\"idx\":6362,\"name\":\"1gram_idf_6362\"},{\"idx\":6363,\"name\":\"1gram_idf_6363\"},{\"idx\":6364,\"name\":\"1gram_idf_6364\"},{\"idx\":6365,\"name\":\"1gram_idf_6365\"},{\"idx\":6366,\"name\":\"1gram_idf_6366\"},{\"idx\":6367,\"name\":\"1gram_idf_6367\"},{\"idx\":6368,\"name\":\"1gram_idf_6368\"},{\"idx\":6369,\"name\":\"1gram_idf_6369\"},{\"idx\":6370,\"name\":\"1gram_idf_6370\"},{\"idx\":6371,\"name\":\"1gram_idf_6371\"},{\"idx\":6372,\"name\":\"1gram_idf_6372\"},{\"idx\":6373,\"name\":\"1gram_idf_6373\"},{\"idx\":6374,\"name\":\"1gram_idf_6374\"},{\"idx\":6375,\"name\":\"1gram_idf_6375\"},{\"idx\":6376,\"name\":\"1gram_idf_6376\"},{\"idx\":6377,\"name\":\"1gram_idf_6377\"},{\"idx\":6378,\"name\":\"1gram_idf_6378\"},{\"idx\":6379,\"name\":\"1gram_idf_6379\"},{\"idx\":6380,\"name\":\"1gram_idf_6380\"},{\"idx\":6381,\"name\":\"1gram_idf_6381\"},{\"idx\":6382,\"name\":\"1gram_idf_6382\"},{\"idx\":6383,\"name\":\"1gram_idf_6383\"},{\"idx\":6384,\"name\":\"1gram_idf_6384\"},{\"idx\":6385,\"name\":\"1gram_idf_6385\"},{\"idx\":6386,\"name\":\"1gram_idf_6386\"},{\"idx\":6387,\"name\":\"1gram_idf_6387\"},{\"idx\":6388,\"name\":\"1gram_idf_6388\"},{\"idx\":6389,\"name\":\"1gram_idf_6389\"},{\"idx\":6390,\"name\":\"1gram_idf_6390\"},{\"idx\":6391,\"name\":\"1gram_idf_6391\"},{\"idx\":6392,\"name\":\"1gram_idf_6392\"},{\"idx\":6393,\"name\":\"1gram_idf_6393\"},{\"idx\":6394,\"name\":\"1gram_idf_6394\"},{\"idx\":6395,\"name\":\"1gram_idf_6395\"},{\"idx\":6396,\"name\":\"1gram_idf_6396\"},{\"idx\":6397,\"name\":\"1gram_idf_6397\"},{\"idx\":6398,\"name\":\"1gram_idf_6398\"},{\"idx\":6399,\"name\":\"1gram_idf_6399\"},{\"idx\":6400,\"name\":\"1gram_idf_6400\"},{\"idx\":6401,\"name\":\"1gram_idf_6401\"},{\"idx\":6402,\"name\":\"1gram_idf_6402\"},{\"idx\":6403,\"name\":\"1gram_idf_6403\"},{\"idx\":6404,\"name\":\"1gram_idf_6404\"},{\"idx\":6405,\"name\":\"1gram_idf_6405\"},{\"idx\":6406,\"name\":\"1gram_idf_6406\"},{\"idx\":6407,\"name\":\"1gram_idf_6407\"},{\"idx\":6408,\"name\":\"1gram_idf_6408\"},{\"idx\":6409,\"name\":\"1gram_idf_6409\"},{\"idx\":6410,\"name\":\"1gram_idf_6410\"},{\"idx\":6411,\"name\":\"1gram_idf_6411\"},{\"idx\":6412,\"name\":\"1gram_idf_6412\"},{\"idx\":6413,\"name\":\"1gram_idf_6413\"},{\"idx\":6414,\"name\":\"1gram_idf_6414\"},{\"idx\":6415,\"name\":\"1gram_idf_6415\"},{\"idx\":6416,\"name\":\"1gram_idf_6416\"},{\"idx\":6417,\"name\":\"1gram_idf_6417\"},{\"idx\":6418,\"name\":\"1gram_idf_6418\"},{\"idx\":6419,\"name\":\"1gram_idf_6419\"},{\"idx\":6420,\"name\":\"1gram_idf_6420\"},{\"idx\":6421,\"name\":\"1gram_idf_6421\"},{\"idx\":6422,\"name\":\"1gram_idf_6422\"},{\"idx\":6423,\"name\":\"1gram_idf_6423\"},{\"idx\":6424,\"name\":\"1gram_idf_6424\"},{\"idx\":6425,\"name\":\"1gram_idf_6425\"},{\"idx\":6426,\"name\":\"1gram_idf_6426\"},{\"idx\":6427,\"name\":\"1gram_idf_6427\"},{\"idx\":6428,\"name\":\"1gram_idf_6428\"},{\"idx\":6429,\"name\":\"1gram_idf_6429\"},{\"idx\":6430,\"name\":\"1gram_idf_6430\"},{\"idx\":6431,\"name\":\"1gram_idf_6431\"},{\"idx\":6432,\"name\":\"1gram_idf_6432\"},{\"idx\":6433,\"name\":\"1gram_idf_6433\"},{\"idx\":6434,\"name\":\"1gram_idf_6434\"},{\"idx\":6435,\"name\":\"1gram_idf_6435\"},{\"idx\":6436,\"name\":\"1gram_idf_6436\"},{\"idx\":6437,\"name\":\"1gram_idf_6437\"},{\"idx\":6438,\"name\":\"1gram_idf_6438\"},{\"idx\":6439,\"name\":\"1gram_idf_6439\"},{\"idx\":6440,\"name\":\"1gram_idf_6440\"},{\"idx\":6441,\"name\":\"1gram_idf_6441\"},{\"idx\":6442,\"name\":\"1gram_idf_6442\"},{\"idx\":6443,\"name\":\"1gram_idf_6443\"},{\"idx\":6444,\"name\":\"1gram_idf_6444\"},{\"idx\":6445,\"name\":\"1gram_idf_6445\"},{\"idx\":6446,\"name\":\"1gram_idf_6446\"},{\"idx\":6447,\"name\":\"1gram_idf_6447\"},{\"idx\":6448,\"name\":\"1gram_idf_6448\"},{\"idx\":6449,\"name\":\"1gram_idf_6449\"},{\"idx\":6450,\"name\":\"1gram_idf_6450\"},{\"idx\":6451,\"name\":\"1gram_idf_6451\"},{\"idx\":6452,\"name\":\"1gram_idf_6452\"},{\"idx\":6453,\"name\":\"1gram_idf_6453\"},{\"idx\":6454,\"name\":\"1gram_idf_6454\"},{\"idx\":6455,\"name\":\"1gram_idf_6455\"},{\"idx\":6456,\"name\":\"1gram_idf_6456\"},{\"idx\":6457,\"name\":\"1gram_idf_6457\"},{\"idx\":6458,\"name\":\"1gram_idf_6458\"},{\"idx\":6459,\"name\":\"1gram_idf_6459\"},{\"idx\":6460,\"name\":\"1gram_idf_6460\"},{\"idx\":6461,\"name\":\"1gram_idf_6461\"},{\"idx\":6462,\"name\":\"1gram_idf_6462\"},{\"idx\":6463,\"name\":\"1gram_idf_6463\"},{\"idx\":6464,\"name\":\"1gram_idf_6464\"},{\"idx\":6465,\"name\":\"1gram_idf_6465\"},{\"idx\":6466,\"name\":\"1gram_idf_6466\"},{\"idx\":6467,\"name\":\"1gram_idf_6467\"},{\"idx\":6468,\"name\":\"1gram_idf_6468\"},{\"idx\":6469,\"name\":\"1gram_idf_6469\"},{\"idx\":6470,\"name\":\"1gram_idf_6470\"},{\"idx\":6471,\"name\":\"1gram_idf_6471\"},{\"idx\":6472,\"name\":\"1gram_idf_6472\"},{\"idx\":6473,\"name\":\"1gram_idf_6473\"},{\"idx\":6474,\"name\":\"1gram_idf_6474\"},{\"idx\":6475,\"name\":\"1gram_idf_6475\"},{\"idx\":6476,\"name\":\"1gram_idf_6476\"},{\"idx\":6477,\"name\":\"1gram_idf_6477\"},{\"idx\":6478,\"name\":\"1gram_idf_6478\"},{\"idx\":6479,\"name\":\"1gram_idf_6479\"},{\"idx\":6480,\"name\":\"1gram_idf_6480\"},{\"idx\":6481,\"name\":\"1gram_idf_6481\"},{\"idx\":6482,\"name\":\"1gram_idf_6482\"},{\"idx\":6483,\"name\":\"1gram_idf_6483\"},{\"idx\":6484,\"name\":\"1gram_idf_6484\"},{\"idx\":6485,\"name\":\"1gram_idf_6485\"},{\"idx\":6486,\"name\":\"1gram_idf_6486\"},{\"idx\":6487,\"name\":\"1gram_idf_6487\"},{\"idx\":6488,\"name\":\"1gram_idf_6488\"},{\"idx\":6489,\"name\":\"1gram_idf_6489\"},{\"idx\":6490,\"name\":\"1gram_idf_6490\"},{\"idx\":6491,\"name\":\"1gram_idf_6491\"},{\"idx\":6492,\"name\":\"1gram_idf_6492\"},{\"idx\":6493,\"name\":\"1gram_idf_6493\"},{\"idx\":6494,\"name\":\"1gram_idf_6494\"},{\"idx\":6495,\"name\":\"1gram_idf_6495\"},{\"idx\":6496,\"name\":\"1gram_idf_6496\"},{\"idx\":6497,\"name\":\"1gram_idf_6497\"},{\"idx\":6498,\"name\":\"1gram_idf_6498\"},{\"idx\":6499,\"name\":\"1gram_idf_6499\"},{\"idx\":6500,\"name\":\"1gram_idf_6500\"},{\"idx\":6501,\"name\":\"1gram_idf_6501\"},{\"idx\":6502,\"name\":\"1gram_idf_6502\"},{\"idx\":6503,\"name\":\"1gram_idf_6503\"},{\"idx\":6504,\"name\":\"1gram_idf_6504\"},{\"idx\":6505,\"name\":\"1gram_idf_6505\"},{\"idx\":6506,\"name\":\"1gram_idf_6506\"},{\"idx\":6507,\"name\":\"1gram_idf_6507\"},{\"idx\":6508,\"name\":\"1gram_idf_6508\"},{\"idx\":6509,\"name\":\"1gram_idf_6509\"},{\"idx\":6510,\"name\":\"1gram_idf_6510\"},{\"idx\":6511,\"name\":\"1gram_idf_6511\"},{\"idx\":6512,\"name\":\"1gram_idf_6512\"},{\"idx\":6513,\"name\":\"1gram_idf_6513\"},{\"idx\":6514,\"name\":\"1gram_idf_6514\"},{\"idx\":6515,\"name\":\"1gram_idf_6515\"},{\"idx\":6516,\"name\":\"1gram_idf_6516\"},{\"idx\":6517,\"name\":\"1gram_idf_6517\"},{\"idx\":6518,\"name\":\"1gram_idf_6518\"},{\"idx\":6519,\"name\":\"1gram_idf_6519\"},{\"idx\":6520,\"name\":\"1gram_idf_6520\"},{\"idx\":6521,\"name\":\"1gram_idf_6521\"},{\"idx\":6522,\"name\":\"1gram_idf_6522\"},{\"idx\":6523,\"name\":\"1gram_idf_6523\"},{\"idx\":6524,\"name\":\"1gram_idf_6524\"},{\"idx\":6525,\"name\":\"1gram_idf_6525\"},{\"idx\":6526,\"name\":\"1gram_idf_6526\"},{\"idx\":6527,\"name\":\"1gram_idf_6527\"},{\"idx\":6528,\"name\":\"1gram_idf_6528\"},{\"idx\":6529,\"name\":\"1gram_idf_6529\"},{\"idx\":6530,\"name\":\"1gram_idf_6530\"},{\"idx\":6531,\"name\":\"1gram_idf_6531\"},{\"idx\":6532,\"name\":\"1gram_idf_6532\"},{\"idx\":6533,\"name\":\"1gram_idf_6533\"},{\"idx\":6534,\"name\":\"1gram_idf_6534\"},{\"idx\":6535,\"name\":\"1gram_idf_6535\"},{\"idx\":6536,\"name\":\"1gram_idf_6536\"},{\"idx\":6537,\"name\":\"1gram_idf_6537\"},{\"idx\":6538,\"name\":\"1gram_idf_6538\"},{\"idx\":6539,\"name\":\"1gram_idf_6539\"},{\"idx\":6540,\"name\":\"1gram_idf_6540\"},{\"idx\":6541,\"name\":\"1gram_idf_6541\"},{\"idx\":6542,\"name\":\"1gram_idf_6542\"},{\"idx\":6543,\"name\":\"1gram_idf_6543\"},{\"idx\":6544,\"name\":\"1gram_idf_6544\"},{\"idx\":6545,\"name\":\"1gram_idf_6545\"},{\"idx\":6546,\"name\":\"1gram_idf_6546\"},{\"idx\":6547,\"name\":\"1gram_idf_6547\"},{\"idx\":6548,\"name\":\"1gram_idf_6548\"},{\"idx\":6549,\"name\":\"1gram_idf_6549\"},{\"idx\":6550,\"name\":\"1gram_idf_6550\"},{\"idx\":6551,\"name\":\"1gram_idf_6551\"},{\"idx\":6552,\"name\":\"1gram_idf_6552\"},{\"idx\":6553,\"name\":\"1gram_idf_6553\"},{\"idx\":6554,\"name\":\"1gram_idf_6554\"},{\"idx\":6555,\"name\":\"1gram_idf_6555\"},{\"idx\":6556,\"name\":\"1gram_idf_6556\"},{\"idx\":6557,\"name\":\"1gram_idf_6557\"},{\"idx\":6558,\"name\":\"1gram_idf_6558\"},{\"idx\":6559,\"name\":\"1gram_idf_6559\"},{\"idx\":6560,\"name\":\"1gram_idf_6560\"},{\"idx\":6561,\"name\":\"1gram_idf_6561\"},{\"idx\":6562,\"name\":\"1gram_idf_6562\"},{\"idx\":6563,\"name\":\"1gram_idf_6563\"},{\"idx\":6564,\"name\":\"1gram_idf_6564\"},{\"idx\":6565,\"name\":\"1gram_idf_6565\"},{\"idx\":6566,\"name\":\"1gram_idf_6566\"},{\"idx\":6567,\"name\":\"1gram_idf_6567\"},{\"idx\":6568,\"name\":\"1gram_idf_6568\"},{\"idx\":6569,\"name\":\"1gram_idf_6569\"},{\"idx\":6570,\"name\":\"1gram_idf_6570\"},{\"idx\":6571,\"name\":\"1gram_idf_6571\"},{\"idx\":6572,\"name\":\"1gram_idf_6572\"},{\"idx\":6573,\"name\":\"1gram_idf_6573\"},{\"idx\":6574,\"name\":\"1gram_idf_6574\"},{\"idx\":6575,\"name\":\"1gram_idf_6575\"},{\"idx\":6576,\"name\":\"1gram_idf_6576\"},{\"idx\":6577,\"name\":\"1gram_idf_6577\"},{\"idx\":6578,\"name\":\"1gram_idf_6578\"},{\"idx\":6579,\"name\":\"1gram_idf_6579\"},{\"idx\":6580,\"name\":\"1gram_idf_6580\"},{\"idx\":6581,\"name\":\"1gram_idf_6581\"},{\"idx\":6582,\"name\":\"1gram_idf_6582\"},{\"idx\":6583,\"name\":\"1gram_idf_6583\"},{\"idx\":6584,\"name\":\"1gram_idf_6584\"},{\"idx\":6585,\"name\":\"1gram_idf_6585\"},{\"idx\":6586,\"name\":\"1gram_idf_6586\"},{\"idx\":6587,\"name\":\"1gram_idf_6587\"},{\"idx\":6588,\"name\":\"1gram_idf_6588\"},{\"idx\":6589,\"name\":\"1gram_idf_6589\"},{\"idx\":6590,\"name\":\"1gram_idf_6590\"},{\"idx\":6591,\"name\":\"1gram_idf_6591\"},{\"idx\":6592,\"name\":\"1gram_idf_6592\"},{\"idx\":6593,\"name\":\"1gram_idf_6593\"},{\"idx\":6594,\"name\":\"1gram_idf_6594\"},{\"idx\":6595,\"name\":\"1gram_idf_6595\"},{\"idx\":6596,\"name\":\"1gram_idf_6596\"},{\"idx\":6597,\"name\":\"1gram_idf_6597\"},{\"idx\":6598,\"name\":\"1gram_idf_6598\"},{\"idx\":6599,\"name\":\"1gram_idf_6599\"},{\"idx\":6600,\"name\":\"1gram_idf_6600\"},{\"idx\":6601,\"name\":\"1gram_idf_6601\"},{\"idx\":6602,\"name\":\"1gram_idf_6602\"},{\"idx\":6603,\"name\":\"1gram_idf_6603\"},{\"idx\":6604,\"name\":\"1gram_idf_6604\"},{\"idx\":6605,\"name\":\"1gram_idf_6605\"},{\"idx\":6606,\"name\":\"1gram_idf_6606\"},{\"idx\":6607,\"name\":\"1gram_idf_6607\"},{\"idx\":6608,\"name\":\"1gram_idf_6608\"},{\"idx\":6609,\"name\":\"1gram_idf_6609\"},{\"idx\":6610,\"name\":\"1gram_idf_6610\"},{\"idx\":6611,\"name\":\"1gram_idf_6611\"},{\"idx\":6612,\"name\":\"1gram_idf_6612\"},{\"idx\":6613,\"name\":\"1gram_idf_6613\"},{\"idx\":6614,\"name\":\"1gram_idf_6614\"},{\"idx\":6615,\"name\":\"1gram_idf_6615\"},{\"idx\":6616,\"name\":\"1gram_idf_6616\"},{\"idx\":6617,\"name\":\"1gram_idf_6617\"},{\"idx\":6618,\"name\":\"1gram_idf_6618\"},{\"idx\":6619,\"name\":\"1gram_idf_6619\"},{\"idx\":6620,\"name\":\"1gram_idf_6620\"},{\"idx\":6621,\"name\":\"1gram_idf_6621\"},{\"idx\":6622,\"name\":\"1gram_idf_6622\"},{\"idx\":6623,\"name\":\"1gram_idf_6623\"},{\"idx\":6624,\"name\":\"1gram_idf_6624\"},{\"idx\":6625,\"name\":\"1gram_idf_6625\"},{\"idx\":6626,\"name\":\"1gram_idf_6626\"},{\"idx\":6627,\"name\":\"1gram_idf_6627\"},{\"idx\":6628,\"name\":\"1gram_idf_6628\"},{\"idx\":6629,\"name\":\"1gram_idf_6629\"},{\"idx\":6630,\"name\":\"1gram_idf_6630\"},{\"idx\":6631,\"name\":\"1gram_idf_6631\"},{\"idx\":6632,\"name\":\"1gram_idf_6632\"},{\"idx\":6633,\"name\":\"1gram_idf_6633\"},{\"idx\":6634,\"name\":\"1gram_idf_6634\"},{\"idx\":6635,\"name\":\"1gram_idf_6635\"},{\"idx\":6636,\"name\":\"1gram_idf_6636\"},{\"idx\":6637,\"name\":\"1gram_idf_6637\"},{\"idx\":6638,\"name\":\"1gram_idf_6638\"},{\"idx\":6639,\"name\":\"1gram_idf_6639\"},{\"idx\":6640,\"name\":\"1gram_idf_6640\"},{\"idx\":6641,\"name\":\"1gram_idf_6641\"},{\"idx\":6642,\"name\":\"1gram_idf_6642\"},{\"idx\":6643,\"name\":\"1gram_idf_6643\"},{\"idx\":6644,\"name\":\"1gram_idf_6644\"},{\"idx\":6645,\"name\":\"1gram_idf_6645\"},{\"idx\":6646,\"name\":\"1gram_idf_6646\"},{\"idx\":6647,\"name\":\"1gram_idf_6647\"},{\"idx\":6648,\"name\":\"1gram_idf_6648\"},{\"idx\":6649,\"name\":\"1gram_idf_6649\"},{\"idx\":6650,\"name\":\"1gram_idf_6650\"},{\"idx\":6651,\"name\":\"1gram_idf_6651\"},{\"idx\":6652,\"name\":\"1gram_idf_6652\"},{\"idx\":6653,\"name\":\"1gram_idf_6653\"},{\"idx\":6654,\"name\":\"1gram_idf_6654\"},{\"idx\":6655,\"name\":\"1gram_idf_6655\"},{\"idx\":6656,\"name\":\"1gram_idf_6656\"},{\"idx\":6657,\"name\":\"1gram_idf_6657\"},{\"idx\":6658,\"name\":\"1gram_idf_6658\"},{\"idx\":6659,\"name\":\"1gram_idf_6659\"},{\"idx\":6660,\"name\":\"1gram_idf_6660\"},{\"idx\":6661,\"name\":\"1gram_idf_6661\"},{\"idx\":6662,\"name\":\"1gram_idf_6662\"},{\"idx\":6663,\"name\":\"1gram_idf_6663\"},{\"idx\":6664,\"name\":\"1gram_idf_6664\"},{\"idx\":6665,\"name\":\"1gram_idf_6665\"},{\"idx\":6666,\"name\":\"1gram_idf_6666\"},{\"idx\":6667,\"name\":\"1gram_idf_6667\"},{\"idx\":6668,\"name\":\"1gram_idf_6668\"},{\"idx\":6669,\"name\":\"1gram_idf_6669\"},{\"idx\":6670,\"name\":\"1gram_idf_6670\"},{\"idx\":6671,\"name\":\"1gram_idf_6671\"},{\"idx\":6672,\"name\":\"1gram_idf_6672\"},{\"idx\":6673,\"name\":\"1gram_idf_6673\"},{\"idx\":6674,\"name\":\"1gram_idf_6674\"},{\"idx\":6675,\"name\":\"1gram_idf_6675\"},{\"idx\":6676,\"name\":\"1gram_idf_6676\"},{\"idx\":6677,\"name\":\"1gram_idf_6677\"},{\"idx\":6678,\"name\":\"1gram_idf_6678\"},{\"idx\":6679,\"name\":\"1gram_idf_6679\"},{\"idx\":6680,\"name\":\"1gram_idf_6680\"},{\"idx\":6681,\"name\":\"1gram_idf_6681\"},{\"idx\":6682,\"name\":\"1gram_idf_6682\"},{\"idx\":6683,\"name\":\"1gram_idf_6683\"},{\"idx\":6684,\"name\":\"1gram_idf_6684\"},{\"idx\":6685,\"name\":\"1gram_idf_6685\"},{\"idx\":6686,\"name\":\"1gram_idf_6686\"},{\"idx\":6687,\"name\":\"1gram_idf_6687\"},{\"idx\":6688,\"name\":\"1gram_idf_6688\"},{\"idx\":6689,\"name\":\"1gram_idf_6689\"},{\"idx\":6690,\"name\":\"1gram_idf_6690\"},{\"idx\":6691,\"name\":\"1gram_idf_6691\"},{\"idx\":6692,\"name\":\"1gram_idf_6692\"},{\"idx\":6693,\"name\":\"1gram_idf_6693\"},{\"idx\":6694,\"name\":\"1gram_idf_6694\"},{\"idx\":6695,\"name\":\"1gram_idf_6695\"},{\"idx\":6696,\"name\":\"1gram_idf_6696\"},{\"idx\":6697,\"name\":\"1gram_idf_6697\"},{\"idx\":6698,\"name\":\"1gram_idf_6698\"},{\"idx\":6699,\"name\":\"1gram_idf_6699\"},{\"idx\":6700,\"name\":\"1gram_idf_6700\"},{\"idx\":6701,\"name\":\"1gram_idf_6701\"},{\"idx\":6702,\"name\":\"1gram_idf_6702\"},{\"idx\":6703,\"name\":\"1gram_idf_6703\"},{\"idx\":6704,\"name\":\"1gram_idf_6704\"},{\"idx\":6705,\"name\":\"1gram_idf_6705\"},{\"idx\":6706,\"name\":\"1gram_idf_6706\"},{\"idx\":6707,\"name\":\"1gram_idf_6707\"},{\"idx\":6708,\"name\":\"1gram_idf_6708\"},{\"idx\":6709,\"name\":\"1gram_idf_6709\"},{\"idx\":6710,\"name\":\"1gram_idf_6710\"},{\"idx\":6711,\"name\":\"1gram_idf_6711\"},{\"idx\":6712,\"name\":\"1gram_idf_6712\"},{\"idx\":6713,\"name\":\"1gram_idf_6713\"},{\"idx\":6714,\"name\":\"1gram_idf_6714\"},{\"idx\":6715,\"name\":\"1gram_idf_6715\"},{\"idx\":6716,\"name\":\"1gram_idf_6716\"},{\"idx\":6717,\"name\":\"1gram_idf_6717\"},{\"idx\":6718,\"name\":\"1gram_idf_6718\"},{\"idx\":6719,\"name\":\"1gram_idf_6719\"},{\"idx\":6720,\"name\":\"1gram_idf_6720\"},{\"idx\":6721,\"name\":\"1gram_idf_6721\"},{\"idx\":6722,\"name\":\"1gram_idf_6722\"},{\"idx\":6723,\"name\":\"1gram_idf_6723\"},{\"idx\":6724,\"name\":\"1gram_idf_6724\"},{\"idx\":6725,\"name\":\"1gram_idf_6725\"},{\"idx\":6726,\"name\":\"1gram_idf_6726\"},{\"idx\":6727,\"name\":\"1gram_idf_6727\"},{\"idx\":6728,\"name\":\"1gram_idf_6728\"},{\"idx\":6729,\"name\":\"1gram_idf_6729\"},{\"idx\":6730,\"name\":\"1gram_idf_6730\"},{\"idx\":6731,\"name\":\"1gram_idf_6731\"},{\"idx\":6732,\"name\":\"1gram_idf_6732\"},{\"idx\":6733,\"name\":\"1gram_idf_6733\"},{\"idx\":6734,\"name\":\"1gram_idf_6734\"},{\"idx\":6735,\"name\":\"1gram_idf_6735\"},{\"idx\":6736,\"name\":\"1gram_idf_6736\"},{\"idx\":6737,\"name\":\"1gram_idf_6737\"},{\"idx\":6738,\"name\":\"1gram_idf_6738\"},{\"idx\":6739,\"name\":\"1gram_idf_6739\"},{\"idx\":6740,\"name\":\"1gram_idf_6740\"},{\"idx\":6741,\"name\":\"1gram_idf_6741\"},{\"idx\":6742,\"name\":\"1gram_idf_6742\"},{\"idx\":6743,\"name\":\"1gram_idf_6743\"},{\"idx\":6744,\"name\":\"1gram_idf_6744\"},{\"idx\":6745,\"name\":\"1gram_idf_6745\"},{\"idx\":6746,\"name\":\"1gram_idf_6746\"},{\"idx\":6747,\"name\":\"1gram_idf_6747\"},{\"idx\":6748,\"name\":\"1gram_idf_6748\"},{\"idx\":6749,\"name\":\"1gram_idf_6749\"},{\"idx\":6750,\"name\":\"1gram_idf_6750\"},{\"idx\":6751,\"name\":\"1gram_idf_6751\"},{\"idx\":6752,\"name\":\"1gram_idf_6752\"},{\"idx\":6753,\"name\":\"1gram_idf_6753\"},{\"idx\":6754,\"name\":\"1gram_idf_6754\"},{\"idx\":6755,\"name\":\"1gram_idf_6755\"},{\"idx\":6756,\"name\":\"1gram_idf_6756\"},{\"idx\":6757,\"name\":\"1gram_idf_6757\"},{\"idx\":6758,\"name\":\"1gram_idf_6758\"},{\"idx\":6759,\"name\":\"1gram_idf_6759\"},{\"idx\":6760,\"name\":\"1gram_idf_6760\"},{\"idx\":6761,\"name\":\"1gram_idf_6761\"},{\"idx\":6762,\"name\":\"1gram_idf_6762\"},{\"idx\":6763,\"name\":\"1gram_idf_6763\"},{\"idx\":6764,\"name\":\"1gram_idf_6764\"},{\"idx\":6765,\"name\":\"1gram_idf_6765\"},{\"idx\":6766,\"name\":\"1gram_idf_6766\"},{\"idx\":6767,\"name\":\"1gram_idf_6767\"},{\"idx\":6768,\"name\":\"1gram_idf_6768\"},{\"idx\":6769,\"name\":\"1gram_idf_6769\"},{\"idx\":6770,\"name\":\"1gram_idf_6770\"},{\"idx\":6771,\"name\":\"1gram_idf_6771\"},{\"idx\":6772,\"name\":\"1gram_idf_6772\"},{\"idx\":6773,\"name\":\"1gram_idf_6773\"},{\"idx\":6774,\"name\":\"1gram_idf_6774\"},{\"idx\":6775,\"name\":\"1gram_idf_6775\"},{\"idx\":6776,\"name\":\"1gram_idf_6776\"},{\"idx\":6777,\"name\":\"1gram_idf_6777\"},{\"idx\":6778,\"name\":\"1gram_idf_6778\"},{\"idx\":6779,\"name\":\"1gram_idf_6779\"},{\"idx\":6780,\"name\":\"1gram_idf_6780\"},{\"idx\":6781,\"name\":\"1gram_idf_6781\"},{\"idx\":6782,\"name\":\"1gram_idf_6782\"},{\"idx\":6783,\"name\":\"1gram_idf_6783\"},{\"idx\":6784,\"name\":\"1gram_idf_6784\"},{\"idx\":6785,\"name\":\"1gram_idf_6785\"},{\"idx\":6786,\"name\":\"1gram_idf_6786\"},{\"idx\":6787,\"name\":\"1gram_idf_6787\"},{\"idx\":6788,\"name\":\"1gram_idf_6788\"},{\"idx\":6789,\"name\":\"1gram_idf_6789\"},{\"idx\":6790,\"name\":\"1gram_idf_6790\"},{\"idx\":6791,\"name\":\"1gram_idf_6791\"},{\"idx\":6792,\"name\":\"1gram_idf_6792\"},{\"idx\":6793,\"name\":\"1gram_idf_6793\"},{\"idx\":6794,\"name\":\"1gram_idf_6794\"},{\"idx\":6795,\"name\":\"1gram_idf_6795\"},{\"idx\":6796,\"name\":\"1gram_idf_6796\"},{\"idx\":6797,\"name\":\"1gram_idf_6797\"},{\"idx\":6798,\"name\":\"1gram_idf_6798\"},{\"idx\":6799,\"name\":\"1gram_idf_6799\"},{\"idx\":6800,\"name\":\"1gram_idf_6800\"},{\"idx\":6801,\"name\":\"1gram_idf_6801\"},{\"idx\":6802,\"name\":\"1gram_idf_6802\"},{\"idx\":6803,\"name\":\"1gram_idf_6803\"},{\"idx\":6804,\"name\":\"1gram_idf_6804\"},{\"idx\":6805,\"name\":\"1gram_idf_6805\"},{\"idx\":6806,\"name\":\"1gram_idf_6806\"},{\"idx\":6807,\"name\":\"1gram_idf_6807\"},{\"idx\":6808,\"name\":\"1gram_idf_6808\"},{\"idx\":6809,\"name\":\"1gram_idf_6809\"},{\"idx\":6810,\"name\":\"1gram_idf_6810\"},{\"idx\":6811,\"name\":\"1gram_idf_6811\"},{\"idx\":6812,\"name\":\"1gram_idf_6812\"},{\"idx\":6813,\"name\":\"1gram_idf_6813\"},{\"idx\":6814,\"name\":\"1gram_idf_6814\"},{\"idx\":6815,\"name\":\"1gram_idf_6815\"},{\"idx\":6816,\"name\":\"1gram_idf_6816\"},{\"idx\":6817,\"name\":\"1gram_idf_6817\"},{\"idx\":6818,\"name\":\"1gram_idf_6818\"},{\"idx\":6819,\"name\":\"1gram_idf_6819\"},{\"idx\":6820,\"name\":\"1gram_idf_6820\"},{\"idx\":6821,\"name\":\"1gram_idf_6821\"},{\"idx\":6822,\"name\":\"1gram_idf_6822\"},{\"idx\":6823,\"name\":\"1gram_idf_6823\"},{\"idx\":6824,\"name\":\"1gram_idf_6824\"},{\"idx\":6825,\"name\":\"1gram_idf_6825\"},{\"idx\":6826,\"name\":\"1gram_idf_6826\"},{\"idx\":6827,\"name\":\"1gram_idf_6827\"},{\"idx\":6828,\"name\":\"1gram_idf_6828\"},{\"idx\":6829,\"name\":\"1gram_idf_6829\"},{\"idx\":6830,\"name\":\"1gram_idf_6830\"},{\"idx\":6831,\"name\":\"1gram_idf_6831\"},{\"idx\":6832,\"name\":\"1gram_idf_6832\"},{\"idx\":6833,\"name\":\"1gram_idf_6833\"},{\"idx\":6834,\"name\":\"1gram_idf_6834\"},{\"idx\":6835,\"name\":\"1gram_idf_6835\"},{\"idx\":6836,\"name\":\"1gram_idf_6836\"},{\"idx\":6837,\"name\":\"1gram_idf_6837\"},{\"idx\":6838,\"name\":\"1gram_idf_6838\"},{\"idx\":6839,\"name\":\"1gram_idf_6839\"},{\"idx\":6840,\"name\":\"1gram_idf_6840\"},{\"idx\":6841,\"name\":\"1gram_idf_6841\"},{\"idx\":6842,\"name\":\"1gram_idf_6842\"},{\"idx\":6843,\"name\":\"1gram_idf_6843\"},{\"idx\":6844,\"name\":\"1gram_idf_6844\"},{\"idx\":6845,\"name\":\"1gram_idf_6845\"},{\"idx\":6846,\"name\":\"1gram_idf_6846\"},{\"idx\":6847,\"name\":\"1gram_idf_6847\"},{\"idx\":6848,\"name\":\"1gram_idf_6848\"},{\"idx\":6849,\"name\":\"1gram_idf_6849\"},{\"idx\":6850,\"name\":\"1gram_idf_6850\"},{\"idx\":6851,\"name\":\"1gram_idf_6851\"},{\"idx\":6852,\"name\":\"1gram_idf_6852\"},{\"idx\":6853,\"name\":\"1gram_idf_6853\"},{\"idx\":6854,\"name\":\"1gram_idf_6854\"},{\"idx\":6855,\"name\":\"1gram_idf_6855\"},{\"idx\":6856,\"name\":\"1gram_idf_6856\"},{\"idx\":6857,\"name\":\"1gram_idf_6857\"},{\"idx\":6858,\"name\":\"1gram_idf_6858\"},{\"idx\":6859,\"name\":\"1gram_idf_6859\"},{\"idx\":6860,\"name\":\"1gram_idf_6860\"},{\"idx\":6861,\"name\":\"1gram_idf_6861\"},{\"idx\":6862,\"name\":\"1gram_idf_6862\"},{\"idx\":6863,\"name\":\"1gram_idf_6863\"},{\"idx\":6864,\"name\":\"1gram_idf_6864\"},{\"idx\":6865,\"name\":\"1gram_idf_6865\"},{\"idx\":6866,\"name\":\"1gram_idf_6866\"},{\"idx\":6867,\"name\":\"1gram_idf_6867\"},{\"idx\":6868,\"name\":\"1gram_idf_6868\"},{\"idx\":6869,\"name\":\"1gram_idf_6869\"},{\"idx\":6870,\"name\":\"1gram_idf_6870\"},{\"idx\":6871,\"name\":\"1gram_idf_6871\"},{\"idx\":6872,\"name\":\"1gram_idf_6872\"},{\"idx\":6873,\"name\":\"1gram_idf_6873\"},{\"idx\":6874,\"name\":\"1gram_idf_6874\"},{\"idx\":6875,\"name\":\"1gram_idf_6875\"},{\"idx\":6876,\"name\":\"1gram_idf_6876\"},{\"idx\":6877,\"name\":\"1gram_idf_6877\"},{\"idx\":6878,\"name\":\"1gram_idf_6878\"},{\"idx\":6879,\"name\":\"1gram_idf_6879\"},{\"idx\":6880,\"name\":\"1gram_idf_6880\"},{\"idx\":6881,\"name\":\"1gram_idf_6881\"},{\"idx\":6882,\"name\":\"1gram_idf_6882\"},{\"idx\":6883,\"name\":\"1gram_idf_6883\"},{\"idx\":6884,\"name\":\"1gram_idf_6884\"},{\"idx\":6885,\"name\":\"1gram_idf_6885\"},{\"idx\":6886,\"name\":\"1gram_idf_6886\"},{\"idx\":6887,\"name\":\"1gram_idf_6887\"},{\"idx\":6888,\"name\":\"1gram_idf_6888\"},{\"idx\":6889,\"name\":\"1gram_idf_6889\"},{\"idx\":6890,\"name\":\"1gram_idf_6890\"},{\"idx\":6891,\"name\":\"1gram_idf_6891\"},{\"idx\":6892,\"name\":\"1gram_idf_6892\"},{\"idx\":6893,\"name\":\"1gram_idf_6893\"},{\"idx\":6894,\"name\":\"1gram_idf_6894\"},{\"idx\":6895,\"name\":\"1gram_idf_6895\"},{\"idx\":6896,\"name\":\"1gram_idf_6896\"},{\"idx\":6897,\"name\":\"1gram_idf_6897\"},{\"idx\":6898,\"name\":\"1gram_idf_6898\"},{\"idx\":6899,\"name\":\"1gram_idf_6899\"},{\"idx\":6900,\"name\":\"1gram_idf_6900\"},{\"idx\":6901,\"name\":\"1gram_idf_6901\"},{\"idx\":6902,\"name\":\"1gram_idf_6902\"},{\"idx\":6903,\"name\":\"1gram_idf_6903\"},{\"idx\":6904,\"name\":\"1gram_idf_6904\"},{\"idx\":6905,\"name\":\"1gram_idf_6905\"},{\"idx\":6906,\"name\":\"1gram_idf_6906\"},{\"idx\":6907,\"name\":\"1gram_idf_6907\"},{\"idx\":6908,\"name\":\"1gram_idf_6908\"},{\"idx\":6909,\"name\":\"1gram_idf_6909\"},{\"idx\":6910,\"name\":\"1gram_idf_6910\"},{\"idx\":6911,\"name\":\"1gram_idf_6911\"},{\"idx\":6912,\"name\":\"1gram_idf_6912\"},{\"idx\":6913,\"name\":\"1gram_idf_6913\"},{\"idx\":6914,\"name\":\"1gram_idf_6914\"},{\"idx\":6915,\"name\":\"1gram_idf_6915\"},{\"idx\":6916,\"name\":\"1gram_idf_6916\"},{\"idx\":6917,\"name\":\"1gram_idf_6917\"},{\"idx\":6918,\"name\":\"1gram_idf_6918\"},{\"idx\":6919,\"name\":\"1gram_idf_6919\"},{\"idx\":6920,\"name\":\"1gram_idf_6920\"},{\"idx\":6921,\"name\":\"1gram_idf_6921\"},{\"idx\":6922,\"name\":\"1gram_idf_6922\"},{\"idx\":6923,\"name\":\"1gram_idf_6923\"},{\"idx\":6924,\"name\":\"1gram_idf_6924\"},{\"idx\":6925,\"name\":\"1gram_idf_6925\"},{\"idx\":6926,\"name\":\"1gram_idf_6926\"},{\"idx\":6927,\"name\":\"1gram_idf_6927\"},{\"idx\":6928,\"name\":\"1gram_idf_6928\"},{\"idx\":6929,\"name\":\"1gram_idf_6929\"},{\"idx\":6930,\"name\":\"1gram_idf_6930\"},{\"idx\":6931,\"name\":\"1gram_idf_6931\"},{\"idx\":6932,\"name\":\"1gram_idf_6932\"},{\"idx\":6933,\"name\":\"1gram_idf_6933\"},{\"idx\":6934,\"name\":\"1gram_idf_6934\"},{\"idx\":6935,\"name\":\"1gram_idf_6935\"},{\"idx\":6936,\"name\":\"1gram_idf_6936\"},{\"idx\":6937,\"name\":\"1gram_idf_6937\"},{\"idx\":6938,\"name\":\"1gram_idf_6938\"},{\"idx\":6939,\"name\":\"1gram_idf_6939\"},{\"idx\":6940,\"name\":\"1gram_idf_6940\"},{\"idx\":6941,\"name\":\"1gram_idf_6941\"},{\"idx\":6942,\"name\":\"1gram_idf_6942\"},{\"idx\":6943,\"name\":\"1gram_idf_6943\"},{\"idx\":6944,\"name\":\"1gram_idf_6944\"},{\"idx\":6945,\"name\":\"1gram_idf_6945\"},{\"idx\":6946,\"name\":\"1gram_idf_6946\"},{\"idx\":6947,\"name\":\"1gram_idf_6947\"},{\"idx\":6948,\"name\":\"1gram_idf_6948\"},{\"idx\":6949,\"name\":\"1gram_idf_6949\"},{\"idx\":6950,\"name\":\"1gram_idf_6950\"},{\"idx\":6951,\"name\":\"1gram_idf_6951\"},{\"idx\":6952,\"name\":\"1gram_idf_6952\"},{\"idx\":6953,\"name\":\"1gram_idf_6953\"},{\"idx\":6954,\"name\":\"1gram_idf_6954\"},{\"idx\":6955,\"name\":\"1gram_idf_6955\"},{\"idx\":6956,\"name\":\"1gram_idf_6956\"},{\"idx\":6957,\"name\":\"1gram_idf_6957\"},{\"idx\":6958,\"name\":\"1gram_idf_6958\"},{\"idx\":6959,\"name\":\"1gram_idf_6959\"},{\"idx\":6960,\"name\":\"1gram_idf_6960\"},{\"idx\":6961,\"name\":\"1gram_idf_6961\"},{\"idx\":6962,\"name\":\"1gram_idf_6962\"},{\"idx\":6963,\"name\":\"1gram_idf_6963\"},{\"idx\":6964,\"name\":\"1gram_idf_6964\"},{\"idx\":6965,\"name\":\"1gram_idf_6965\"},{\"idx\":6966,\"name\":\"1gram_idf_6966\"},{\"idx\":6967,\"name\":\"1gram_idf_6967\"},{\"idx\":6968,\"name\":\"1gram_idf_6968\"},{\"idx\":6969,\"name\":\"1gram_idf_6969\"},{\"idx\":6970,\"name\":\"1gram_idf_6970\"},{\"idx\":6971,\"name\":\"1gram_idf_6971\"},{\"idx\":6972,\"name\":\"1gram_idf_6972\"},{\"idx\":6973,\"name\":\"1gram_idf_6973\"},{\"idx\":6974,\"name\":\"1gram_idf_6974\"},{\"idx\":6975,\"name\":\"1gram_idf_6975\"},{\"idx\":6976,\"name\":\"1gram_idf_6976\"},{\"idx\":6977,\"name\":\"1gram_idf_6977\"},{\"idx\":6978,\"name\":\"1gram_idf_6978\"},{\"idx\":6979,\"name\":\"1gram_idf_6979\"},{\"idx\":6980,\"name\":\"1gram_idf_6980\"},{\"idx\":6981,\"name\":\"1gram_idf_6981\"},{\"idx\":6982,\"name\":\"1gram_idf_6982\"},{\"idx\":6983,\"name\":\"1gram_idf_6983\"},{\"idx\":6984,\"name\":\"1gram_idf_6984\"},{\"idx\":6985,\"name\":\"1gram_idf_6985\"},{\"idx\":6986,\"name\":\"1gram_idf_6986\"},{\"idx\":6987,\"name\":\"1gram_idf_6987\"},{\"idx\":6988,\"name\":\"1gram_idf_6988\"},{\"idx\":6989,\"name\":\"1gram_idf_6989\"},{\"idx\":6990,\"name\":\"1gram_idf_6990\"},{\"idx\":6991,\"name\":\"1gram_idf_6991\"},{\"idx\":6992,\"name\":\"1gram_idf_6992\"},{\"idx\":6993,\"name\":\"1gram_idf_6993\"},{\"idx\":6994,\"name\":\"1gram_idf_6994\"},{\"idx\":6995,\"name\":\"1gram_idf_6995\"},{\"idx\":6996,\"name\":\"1gram_idf_6996\"},{\"idx\":6997,\"name\":\"1gram_idf_6997\"},{\"idx\":6998,\"name\":\"1gram_idf_6998\"},{\"idx\":6999,\"name\":\"1gram_idf_6999\"},{\"idx\":7000,\"name\":\"1gram_idf_7000\"},{\"idx\":7001,\"name\":\"1gram_idf_7001\"},{\"idx\":7002,\"name\":\"1gram_idf_7002\"},{\"idx\":7003,\"name\":\"1gram_idf_7003\"},{\"idx\":7004,\"name\":\"1gram_idf_7004\"},{\"idx\":7005,\"name\":\"1gram_idf_7005\"},{\"idx\":7006,\"name\":\"1gram_idf_7006\"},{\"idx\":7007,\"name\":\"1gram_idf_7007\"},{\"idx\":7008,\"name\":\"1gram_idf_7008\"},{\"idx\":7009,\"name\":\"1gram_idf_7009\"},{\"idx\":7010,\"name\":\"1gram_idf_7010\"},{\"idx\":7011,\"name\":\"1gram_idf_7011\"},{\"idx\":7012,\"name\":\"1gram_idf_7012\"},{\"idx\":7013,\"name\":\"1gram_idf_7013\"},{\"idx\":7014,\"name\":\"1gram_idf_7014\"},{\"idx\":7015,\"name\":\"1gram_idf_7015\"},{\"idx\":7016,\"name\":\"1gram_idf_7016\"},{\"idx\":7017,\"name\":\"1gram_idf_7017\"},{\"idx\":7018,\"name\":\"1gram_idf_7018\"},{\"idx\":7019,\"name\":\"1gram_idf_7019\"},{\"idx\":7020,\"name\":\"1gram_idf_7020\"},{\"idx\":7021,\"name\":\"1gram_idf_7021\"},{\"idx\":7022,\"name\":\"1gram_idf_7022\"},{\"idx\":7023,\"name\":\"1gram_idf_7023\"},{\"idx\":7024,\"name\":\"1gram_idf_7024\"},{\"idx\":7025,\"name\":\"1gram_idf_7025\"},{\"idx\":7026,\"name\":\"1gram_idf_7026\"},{\"idx\":7027,\"name\":\"1gram_idf_7027\"},{\"idx\":7028,\"name\":\"1gram_idf_7028\"},{\"idx\":7029,\"name\":\"1gram_idf_7029\"},{\"idx\":7030,\"name\":\"1gram_idf_7030\"},{\"idx\":7031,\"name\":\"1gram_idf_7031\"},{\"idx\":7032,\"name\":\"1gram_idf_7032\"},{\"idx\":7033,\"name\":\"1gram_idf_7033\"},{\"idx\":7034,\"name\":\"1gram_idf_7034\"},{\"idx\":7035,\"name\":\"1gram_idf_7035\"},{\"idx\":7036,\"name\":\"1gram_idf_7036\"},{\"idx\":7037,\"name\":\"1gram_idf_7037\"},{\"idx\":7038,\"name\":\"1gram_idf_7038\"},{\"idx\":7039,\"name\":\"1gram_idf_7039\"},{\"idx\":7040,\"name\":\"1gram_idf_7040\"},{\"idx\":7041,\"name\":\"1gram_idf_7041\"},{\"idx\":7042,\"name\":\"1gram_idf_7042\"},{\"idx\":7043,\"name\":\"1gram_idf_7043\"},{\"idx\":7044,\"name\":\"1gram_idf_7044\"},{\"idx\":7045,\"name\":\"1gram_idf_7045\"},{\"idx\":7046,\"name\":\"1gram_idf_7046\"},{\"idx\":7047,\"name\":\"1gram_idf_7047\"},{\"idx\":7048,\"name\":\"1gram_idf_7048\"},{\"idx\":7049,\"name\":\"1gram_idf_7049\"},{\"idx\":7050,\"name\":\"1gram_idf_7050\"},{\"idx\":7051,\"name\":\"1gram_idf_7051\"},{\"idx\":7052,\"name\":\"1gram_idf_7052\"},{\"idx\":7053,\"name\":\"1gram_idf_7053\"},{\"idx\":7054,\"name\":\"1gram_idf_7054\"},{\"idx\":7055,\"name\":\"1gram_idf_7055\"},{\"idx\":7056,\"name\":\"1gram_idf_7056\"},{\"idx\":7057,\"name\":\"1gram_idf_7057\"},{\"idx\":7058,\"name\":\"1gram_idf_7058\"},{\"idx\":7059,\"name\":\"1gram_idf_7059\"},{\"idx\":7060,\"name\":\"1gram_idf_7060\"},{\"idx\":7061,\"name\":\"1gram_idf_7061\"},{\"idx\":7062,\"name\":\"1gram_idf_7062\"},{\"idx\":7063,\"name\":\"1gram_idf_7063\"},{\"idx\":7064,\"name\":\"1gram_idf_7064\"},{\"idx\":7065,\"name\":\"1gram_idf_7065\"},{\"idx\":7066,\"name\":\"1gram_idf_7066\"},{\"idx\":7067,\"name\":\"1gram_idf_7067\"},{\"idx\":7068,\"name\":\"1gram_idf_7068\"},{\"idx\":7069,\"name\":\"1gram_idf_7069\"},{\"idx\":7070,\"name\":\"1gram_idf_7070\"},{\"idx\":7071,\"name\":\"1gram_idf_7071\"},{\"idx\":7072,\"name\":\"1gram_idf_7072\"},{\"idx\":7073,\"name\":\"1gram_idf_7073\"},{\"idx\":7074,\"name\":\"1gram_idf_7074\"},{\"idx\":7075,\"name\":\"1gram_idf_7075\"},{\"idx\":7076,\"name\":\"1gram_idf_7076\"},{\"idx\":7077,\"name\":\"1gram_idf_7077\"},{\"idx\":7078,\"name\":\"1gram_idf_7078\"},{\"idx\":7079,\"name\":\"1gram_idf_7079\"},{\"idx\":7080,\"name\":\"1gram_idf_7080\"},{\"idx\":7081,\"name\":\"1gram_idf_7081\"},{\"idx\":7082,\"name\":\"1gram_idf_7082\"},{\"idx\":7083,\"name\":\"1gram_idf_7083\"},{\"idx\":7084,\"name\":\"1gram_idf_7084\"},{\"idx\":7085,\"name\":\"1gram_idf_7085\"},{\"idx\":7086,\"name\":\"1gram_idf_7086\"},{\"idx\":7087,\"name\":\"1gram_idf_7087\"},{\"idx\":7088,\"name\":\"1gram_idf_7088\"},{\"idx\":7089,\"name\":\"1gram_idf_7089\"},{\"idx\":7090,\"name\":\"1gram_idf_7090\"},{\"idx\":7091,\"name\":\"1gram_idf_7091\"},{\"idx\":7092,\"name\":\"1gram_idf_7092\"},{\"idx\":7093,\"name\":\"1gram_idf_7093\"},{\"idx\":7094,\"name\":\"1gram_idf_7094\"},{\"idx\":7095,\"name\":\"1gram_idf_7095\"},{\"idx\":7096,\"name\":\"1gram_idf_7096\"},{\"idx\":7097,\"name\":\"1gram_idf_7097\"},{\"idx\":7098,\"name\":\"1gram_idf_7098\"},{\"idx\":7099,\"name\":\"1gram_idf_7099\"},{\"idx\":7100,\"name\":\"1gram_idf_7100\"},{\"idx\":7101,\"name\":\"1gram_idf_7101\"},{\"idx\":7102,\"name\":\"1gram_idf_7102\"},{\"idx\":7103,\"name\":\"1gram_idf_7103\"},{\"idx\":7104,\"name\":\"1gram_idf_7104\"},{\"idx\":7105,\"name\":\"1gram_idf_7105\"},{\"idx\":7106,\"name\":\"1gram_idf_7106\"},{\"idx\":7107,\"name\":\"1gram_idf_7107\"},{\"idx\":7108,\"name\":\"1gram_idf_7108\"},{\"idx\":7109,\"name\":\"1gram_idf_7109\"},{\"idx\":7110,\"name\":\"1gram_idf_7110\"},{\"idx\":7111,\"name\":\"1gram_idf_7111\"},{\"idx\":7112,\"name\":\"1gram_idf_7112\"},{\"idx\":7113,\"name\":\"1gram_idf_7113\"},{\"idx\":7114,\"name\":\"1gram_idf_7114\"},{\"idx\":7115,\"name\":\"1gram_idf_7115\"},{\"idx\":7116,\"name\":\"1gram_idf_7116\"},{\"idx\":7117,\"name\":\"1gram_idf_7117\"},{\"idx\":7118,\"name\":\"1gram_idf_7118\"},{\"idx\":7119,\"name\":\"1gram_idf_7119\"},{\"idx\":7120,\"name\":\"1gram_idf_7120\"},{\"idx\":7121,\"name\":\"1gram_idf_7121\"},{\"idx\":7122,\"name\":\"1gram_idf_7122\"},{\"idx\":7123,\"name\":\"1gram_idf_7123\"},{\"idx\":7124,\"name\":\"1gram_idf_7124\"},{\"idx\":7125,\"name\":\"1gram_idf_7125\"},{\"idx\":7126,\"name\":\"1gram_idf_7126\"},{\"idx\":7127,\"name\":\"1gram_idf_7127\"},{\"idx\":7128,\"name\":\"1gram_idf_7128\"},{\"idx\":7129,\"name\":\"1gram_idf_7129\"},{\"idx\":7130,\"name\":\"1gram_idf_7130\"},{\"idx\":7131,\"name\":\"1gram_idf_7131\"},{\"idx\":7132,\"name\":\"1gram_idf_7132\"},{\"idx\":7133,\"name\":\"1gram_idf_7133\"},{\"idx\":7134,\"name\":\"1gram_idf_7134\"},{\"idx\":7135,\"name\":\"1gram_idf_7135\"},{\"idx\":7136,\"name\":\"1gram_idf_7136\"},{\"idx\":7137,\"name\":\"1gram_idf_7137\"},{\"idx\":7138,\"name\":\"1gram_idf_7138\"},{\"idx\":7139,\"name\":\"1gram_idf_7139\"},{\"idx\":7140,\"name\":\"1gram_idf_7140\"},{\"idx\":7141,\"name\":\"1gram_idf_7141\"},{\"idx\":7142,\"name\":\"1gram_idf_7142\"},{\"idx\":7143,\"name\":\"1gram_idf_7143\"},{\"idx\":7144,\"name\":\"1gram_idf_7144\"},{\"idx\":7145,\"name\":\"1gram_idf_7145\"},{\"idx\":7146,\"name\":\"1gram_idf_7146\"},{\"idx\":7147,\"name\":\"1gram_idf_7147\"},{\"idx\":7148,\"name\":\"1gram_idf_7148\"},{\"idx\":7149,\"name\":\"1gram_idf_7149\"},{\"idx\":7150,\"name\":\"1gram_idf_7150\"},{\"idx\":7151,\"name\":\"1gram_idf_7151\"},{\"idx\":7152,\"name\":\"1gram_idf_7152\"},{\"idx\":7153,\"name\":\"1gram_idf_7153\"},{\"idx\":7154,\"name\":\"1gram_idf_7154\"},{\"idx\":7155,\"name\":\"1gram_idf_7155\"},{\"idx\":7156,\"name\":\"1gram_idf_7156\"},{\"idx\":7157,\"name\":\"1gram_idf_7157\"},{\"idx\":7158,\"name\":\"1gram_idf_7158\"},{\"idx\":7159,\"name\":\"1gram_idf_7159\"},{\"idx\":7160,\"name\":\"1gram_idf_7160\"},{\"idx\":7161,\"name\":\"1gram_idf_7161\"},{\"idx\":7162,\"name\":\"1gram_idf_7162\"},{\"idx\":7163,\"name\":\"1gram_idf_7163\"},{\"idx\":7164,\"name\":\"1gram_idf_7164\"},{\"idx\":7165,\"name\":\"1gram_idf_7165\"},{\"idx\":7166,\"name\":\"1gram_idf_7166\"},{\"idx\":7167,\"name\":\"1gram_idf_7167\"},{\"idx\":7168,\"name\":\"1gram_idf_7168\"},{\"idx\":7169,\"name\":\"1gram_idf_7169\"},{\"idx\":7170,\"name\":\"1gram_idf_7170\"},{\"idx\":7171,\"name\":\"1gram_idf_7171\"},{\"idx\":7172,\"name\":\"1gram_idf_7172\"},{\"idx\":7173,\"name\":\"1gram_idf_7173\"},{\"idx\":7174,\"name\":\"1gram_idf_7174\"},{\"idx\":7175,\"name\":\"1gram_idf_7175\"},{\"idx\":7176,\"name\":\"1gram_idf_7176\"},{\"idx\":7177,\"name\":\"1gram_idf_7177\"},{\"idx\":7178,\"name\":\"1gram_idf_7178\"},{\"idx\":7179,\"name\":\"1gram_idf_7179\"},{\"idx\":7180,\"name\":\"1gram_idf_7180\"},{\"idx\":7181,\"name\":\"1gram_idf_7181\"},{\"idx\":7182,\"name\":\"1gram_idf_7182\"},{\"idx\":7183,\"name\":\"1gram_idf_7183\"},{\"idx\":7184,\"name\":\"1gram_idf_7184\"},{\"idx\":7185,\"name\":\"1gram_idf_7185\"},{\"idx\":7186,\"name\":\"1gram_idf_7186\"},{\"idx\":7187,\"name\":\"1gram_idf_7187\"},{\"idx\":7188,\"name\":\"1gram_idf_7188\"},{\"idx\":7189,\"name\":\"1gram_idf_7189\"},{\"idx\":7190,\"name\":\"1gram_idf_7190\"},{\"idx\":7191,\"name\":\"1gram_idf_7191\"},{\"idx\":7192,\"name\":\"1gram_idf_7192\"},{\"idx\":7193,\"name\":\"1gram_idf_7193\"},{\"idx\":7194,\"name\":\"1gram_idf_7194\"},{\"idx\":7195,\"name\":\"1gram_idf_7195\"},{\"idx\":7196,\"name\":\"1gram_idf_7196\"},{\"idx\":7197,\"name\":\"1gram_idf_7197\"},{\"idx\":7198,\"name\":\"1gram_idf_7198\"},{\"idx\":7199,\"name\":\"1gram_idf_7199\"},{\"idx\":7200,\"name\":\"1gram_idf_7200\"},{\"idx\":7201,\"name\":\"1gram_idf_7201\"},{\"idx\":7202,\"name\":\"1gram_idf_7202\"},{\"idx\":7203,\"name\":\"1gram_idf_7203\"},{\"idx\":7204,\"name\":\"1gram_idf_7204\"},{\"idx\":7205,\"name\":\"1gram_idf_7205\"},{\"idx\":7206,\"name\":\"1gram_idf_7206\"},{\"idx\":7207,\"name\":\"1gram_idf_7207\"},{\"idx\":7208,\"name\":\"1gram_idf_7208\"},{\"idx\":7209,\"name\":\"1gram_idf_7209\"},{\"idx\":7210,\"name\":\"1gram_idf_7210\"},{\"idx\":7211,\"name\":\"1gram_idf_7211\"},{\"idx\":7212,\"name\":\"1gram_idf_7212\"},{\"idx\":7213,\"name\":\"1gram_idf_7213\"},{\"idx\":7214,\"name\":\"1gram_idf_7214\"},{\"idx\":7215,\"name\":\"1gram_idf_7215\"},{\"idx\":7216,\"name\":\"1gram_idf_7216\"},{\"idx\":7217,\"name\":\"1gram_idf_7217\"},{\"idx\":7218,\"name\":\"1gram_idf_7218\"},{\"idx\":7219,\"name\":\"1gram_idf_7219\"},{\"idx\":7220,\"name\":\"1gram_idf_7220\"},{\"idx\":7221,\"name\":\"1gram_idf_7221\"},{\"idx\":7222,\"name\":\"1gram_idf_7222\"},{\"idx\":7223,\"name\":\"1gram_idf_7223\"},{\"idx\":7224,\"name\":\"1gram_idf_7224\"},{\"idx\":7225,\"name\":\"1gram_idf_7225\"},{\"idx\":7226,\"name\":\"1gram_idf_7226\"},{\"idx\":7227,\"name\":\"1gram_idf_7227\"},{\"idx\":7228,\"name\":\"1gram_idf_7228\"},{\"idx\":7229,\"name\":\"1gram_idf_7229\"},{\"idx\":7230,\"name\":\"1gram_idf_7230\"},{\"idx\":7231,\"name\":\"1gram_idf_7231\"},{\"idx\":7232,\"name\":\"1gram_idf_7232\"},{\"idx\":7233,\"name\":\"1gram_idf_7233\"},{\"idx\":7234,\"name\":\"1gram_idf_7234\"},{\"idx\":7235,\"name\":\"1gram_idf_7235\"},{\"idx\":7236,\"name\":\"1gram_idf_7236\"},{\"idx\":7237,\"name\":\"1gram_idf_7237\"},{\"idx\":7238,\"name\":\"1gram_idf_7238\"},{\"idx\":7239,\"name\":\"1gram_idf_7239\"},{\"idx\":7240,\"name\":\"1gram_idf_7240\"},{\"idx\":7241,\"name\":\"1gram_idf_7241\"},{\"idx\":7242,\"name\":\"1gram_idf_7242\"},{\"idx\":7243,\"name\":\"1gram_idf_7243\"},{\"idx\":7244,\"name\":\"1gram_idf_7244\"},{\"idx\":7245,\"name\":\"1gram_idf_7245\"},{\"idx\":7246,\"name\":\"1gram_idf_7246\"},{\"idx\":7247,\"name\":\"1gram_idf_7247\"},{\"idx\":7248,\"name\":\"1gram_idf_7248\"},{\"idx\":7249,\"name\":\"1gram_idf_7249\"},{\"idx\":7250,\"name\":\"1gram_idf_7250\"},{\"idx\":7251,\"name\":\"1gram_idf_7251\"},{\"idx\":7252,\"name\":\"1gram_idf_7252\"},{\"idx\":7253,\"name\":\"1gram_idf_7253\"},{\"idx\":7254,\"name\":\"1gram_idf_7254\"},{\"idx\":7255,\"name\":\"1gram_idf_7255\"},{\"idx\":7256,\"name\":\"1gram_idf_7256\"},{\"idx\":7257,\"name\":\"1gram_idf_7257\"},{\"idx\":7258,\"name\":\"1gram_idf_7258\"},{\"idx\":7259,\"name\":\"1gram_idf_7259\"},{\"idx\":7260,\"name\":\"1gram_idf_7260\"},{\"idx\":7261,\"name\":\"1gram_idf_7261\"},{\"idx\":7262,\"name\":\"1gram_idf_7262\"},{\"idx\":7263,\"name\":\"1gram_idf_7263\"},{\"idx\":7264,\"name\":\"1gram_idf_7264\"},{\"idx\":7265,\"name\":\"1gram_idf_7265\"},{\"idx\":7266,\"name\":\"1gram_idf_7266\"},{\"idx\":7267,\"name\":\"1gram_idf_7267\"},{\"idx\":7268,\"name\":\"1gram_idf_7268\"},{\"idx\":7269,\"name\":\"1gram_idf_7269\"},{\"idx\":7270,\"name\":\"1gram_idf_7270\"},{\"idx\":7271,\"name\":\"1gram_idf_7271\"},{\"idx\":7272,\"name\":\"1gram_idf_7272\"},{\"idx\":7273,\"name\":\"1gram_idf_7273\"},{\"idx\":7274,\"name\":\"1gram_idf_7274\"},{\"idx\":7275,\"name\":\"1gram_idf_7275\"},{\"idx\":7276,\"name\":\"1gram_idf_7276\"},{\"idx\":7277,\"name\":\"1gram_idf_7277\"},{\"idx\":7278,\"name\":\"1gram_idf_7278\"},{\"idx\":7279,\"name\":\"1gram_idf_7279\"},{\"idx\":7280,\"name\":\"1gram_idf_7280\"},{\"idx\":7281,\"name\":\"1gram_idf_7281\"},{\"idx\":7282,\"name\":\"1gram_idf_7282\"},{\"idx\":7283,\"name\":\"1gram_idf_7283\"},{\"idx\":7284,\"name\":\"1gram_idf_7284\"},{\"idx\":7285,\"name\":\"1gram_idf_7285\"},{\"idx\":7286,\"name\":\"1gram_idf_7286\"},{\"idx\":7287,\"name\":\"1gram_idf_7287\"},{\"idx\":7288,\"name\":\"1gram_idf_7288\"},{\"idx\":7289,\"name\":\"1gram_idf_7289\"},{\"idx\":7290,\"name\":\"1gram_idf_7290\"},{\"idx\":7291,\"name\":\"1gram_idf_7291\"},{\"idx\":7292,\"name\":\"1gram_idf_7292\"},{\"idx\":7293,\"name\":\"1gram_idf_7293\"},{\"idx\":7294,\"name\":\"1gram_idf_7294\"},{\"idx\":7295,\"name\":\"1gram_idf_7295\"},{\"idx\":7296,\"name\":\"1gram_idf_7296\"},{\"idx\":7297,\"name\":\"1gram_idf_7297\"},{\"idx\":7298,\"name\":\"1gram_idf_7298\"},{\"idx\":7299,\"name\":\"1gram_idf_7299\"},{\"idx\":7300,\"name\":\"1gram_idf_7300\"},{\"idx\":7301,\"name\":\"1gram_idf_7301\"},{\"idx\":7302,\"name\":\"1gram_idf_7302\"},{\"idx\":7303,\"name\":\"1gram_idf_7303\"},{\"idx\":7304,\"name\":\"1gram_idf_7304\"},{\"idx\":7305,\"name\":\"1gram_idf_7305\"},{\"idx\":7306,\"name\":\"1gram_idf_7306\"},{\"idx\":7307,\"name\":\"1gram_idf_7307\"},{\"idx\":7308,\"name\":\"1gram_idf_7308\"},{\"idx\":7309,\"name\":\"1gram_idf_7309\"},{\"idx\":7310,\"name\":\"1gram_idf_7310\"},{\"idx\":7311,\"name\":\"1gram_idf_7311\"},{\"idx\":7312,\"name\":\"1gram_idf_7312\"},{\"idx\":7313,\"name\":\"1gram_idf_7313\"},{\"idx\":7314,\"name\":\"1gram_idf_7314\"},{\"idx\":7315,\"name\":\"1gram_idf_7315\"},{\"idx\":7316,\"name\":\"1gram_idf_7316\"},{\"idx\":7317,\"name\":\"1gram_idf_7317\"},{\"idx\":7318,\"name\":\"1gram_idf_7318\"},{\"idx\":7319,\"name\":\"1gram_idf_7319\"},{\"idx\":7320,\"name\":\"1gram_idf_7320\"},{\"idx\":7321,\"name\":\"1gram_idf_7321\"},{\"idx\":7322,\"name\":\"1gram_idf_7322\"},{\"idx\":7323,\"name\":\"1gram_idf_7323\"},{\"idx\":7324,\"name\":\"1gram_idf_7324\"},{\"idx\":7325,\"name\":\"1gram_idf_7325\"},{\"idx\":7326,\"name\":\"1gram_idf_7326\"},{\"idx\":7327,\"name\":\"1gram_idf_7327\"},{\"idx\":7328,\"name\":\"1gram_idf_7328\"},{\"idx\":7329,\"name\":\"1gram_idf_7329\"},{\"idx\":7330,\"name\":\"1gram_idf_7330\"},{\"idx\":7331,\"name\":\"1gram_idf_7331\"},{\"idx\":7332,\"name\":\"1gram_idf_7332\"},{\"idx\":7333,\"name\":\"1gram_idf_7333\"},{\"idx\":7334,\"name\":\"1gram_idf_7334\"},{\"idx\":7335,\"name\":\"1gram_idf_7335\"},{\"idx\":7336,\"name\":\"1gram_idf_7336\"},{\"idx\":7337,\"name\":\"1gram_idf_7337\"},{\"idx\":7338,\"name\":\"1gram_idf_7338\"},{\"idx\":7339,\"name\":\"1gram_idf_7339\"},{\"idx\":7340,\"name\":\"1gram_idf_7340\"},{\"idx\":7341,\"name\":\"1gram_idf_7341\"},{\"idx\":7342,\"name\":\"1gram_idf_7342\"},{\"idx\":7343,\"name\":\"1gram_idf_7343\"},{\"idx\":7344,\"name\":\"1gram_idf_7344\"},{\"idx\":7345,\"name\":\"1gram_idf_7345\"},{\"idx\":7346,\"name\":\"1gram_idf_7346\"},{\"idx\":7347,\"name\":\"1gram_idf_7347\"},{\"idx\":7348,\"name\":\"1gram_idf_7348\"},{\"idx\":7349,\"name\":\"1gram_idf_7349\"},{\"idx\":7350,\"name\":\"1gram_idf_7350\"},{\"idx\":7351,\"name\":\"1gram_idf_7351\"},{\"idx\":7352,\"name\":\"1gram_idf_7352\"},{\"idx\":7353,\"name\":\"1gram_idf_7353\"},{\"idx\":7354,\"name\":\"1gram_idf_7354\"},{\"idx\":7355,\"name\":\"1gram_idf_7355\"},{\"idx\":7356,\"name\":\"1gram_idf_7356\"},{\"idx\":7357,\"name\":\"1gram_idf_7357\"},{\"idx\":7358,\"name\":\"1gram_idf_7358\"},{\"idx\":7359,\"name\":\"1gram_idf_7359\"},{\"idx\":7360,\"name\":\"1gram_idf_7360\"},{\"idx\":7361,\"name\":\"1gram_idf_7361\"},{\"idx\":7362,\"name\":\"1gram_idf_7362\"},{\"idx\":7363,\"name\":\"1gram_idf_7363\"},{\"idx\":7364,\"name\":\"1gram_idf_7364\"},{\"idx\":7365,\"name\":\"1gram_idf_7365\"},{\"idx\":7366,\"name\":\"1gram_idf_7366\"},{\"idx\":7367,\"name\":\"1gram_idf_7367\"},{\"idx\":7368,\"name\":\"1gram_idf_7368\"},{\"idx\":7369,\"name\":\"1gram_idf_7369\"},{\"idx\":7370,\"name\":\"1gram_idf_7370\"},{\"idx\":7371,\"name\":\"1gram_idf_7371\"},{\"idx\":7372,\"name\":\"1gram_idf_7372\"},{\"idx\":7373,\"name\":\"1gram_idf_7373\"},{\"idx\":7374,\"name\":\"1gram_idf_7374\"},{\"idx\":7375,\"name\":\"1gram_idf_7375\"},{\"idx\":7376,\"name\":\"1gram_idf_7376\"},{\"idx\":7377,\"name\":\"1gram_idf_7377\"},{\"idx\":7378,\"name\":\"1gram_idf_7378\"},{\"idx\":7379,\"name\":\"1gram_idf_7379\"},{\"idx\":7380,\"name\":\"1gram_idf_7380\"},{\"idx\":7381,\"name\":\"1gram_idf_7381\"},{\"idx\":7382,\"name\":\"1gram_idf_7382\"},{\"idx\":7383,\"name\":\"1gram_idf_7383\"},{\"idx\":7384,\"name\":\"1gram_idf_7384\"},{\"idx\":7385,\"name\":\"1gram_idf_7385\"},{\"idx\":7386,\"name\":\"1gram_idf_7386\"},{\"idx\":7387,\"name\":\"1gram_idf_7387\"},{\"idx\":7388,\"name\":\"1gram_idf_7388\"},{\"idx\":7389,\"name\":\"1gram_idf_7389\"},{\"idx\":7390,\"name\":\"1gram_idf_7390\"},{\"idx\":7391,\"name\":\"1gram_idf_7391\"},{\"idx\":7392,\"name\":\"1gram_idf_7392\"},{\"idx\":7393,\"name\":\"1gram_idf_7393\"},{\"idx\":7394,\"name\":\"1gram_idf_7394\"},{\"idx\":7395,\"name\":\"1gram_idf_7395\"},{\"idx\":7396,\"name\":\"1gram_idf_7396\"},{\"idx\":7397,\"name\":\"1gram_idf_7397\"},{\"idx\":7398,\"name\":\"1gram_idf_7398\"},{\"idx\":7399,\"name\":\"1gram_idf_7399\"},{\"idx\":7400,\"name\":\"1gram_idf_7400\"},{\"idx\":7401,\"name\":\"1gram_idf_7401\"},{\"idx\":7402,\"name\":\"1gram_idf_7402\"},{\"idx\":7403,\"name\":\"1gram_idf_7403\"},{\"idx\":7404,\"name\":\"1gram_idf_7404\"},{\"idx\":7405,\"name\":\"1gram_idf_7405\"},{\"idx\":7406,\"name\":\"1gram_idf_7406\"},{\"idx\":7407,\"name\":\"1gram_idf_7407\"},{\"idx\":7408,\"name\":\"1gram_idf_7408\"},{\"idx\":7409,\"name\":\"1gram_idf_7409\"},{\"idx\":7410,\"name\":\"1gram_idf_7410\"},{\"idx\":7411,\"name\":\"1gram_idf_7411\"},{\"idx\":7412,\"name\":\"1gram_idf_7412\"},{\"idx\":7413,\"name\":\"1gram_idf_7413\"},{\"idx\":7414,\"name\":\"1gram_idf_7414\"},{\"idx\":7415,\"name\":\"1gram_idf_7415\"},{\"idx\":7416,\"name\":\"1gram_idf_7416\"},{\"idx\":7417,\"name\":\"1gram_idf_7417\"},{\"idx\":7418,\"name\":\"1gram_idf_7418\"},{\"idx\":7419,\"name\":\"1gram_idf_7419\"},{\"idx\":7420,\"name\":\"1gram_idf_7420\"},{\"idx\":7421,\"name\":\"1gram_idf_7421\"},{\"idx\":7422,\"name\":\"1gram_idf_7422\"},{\"idx\":7423,\"name\":\"1gram_idf_7423\"},{\"idx\":7424,\"name\":\"1gram_idf_7424\"},{\"idx\":7425,\"name\":\"1gram_idf_7425\"},{\"idx\":7426,\"name\":\"1gram_idf_7426\"},{\"idx\":7427,\"name\":\"1gram_idf_7427\"},{\"idx\":7428,\"name\":\"1gram_idf_7428\"},{\"idx\":7429,\"name\":\"1gram_idf_7429\"},{\"idx\":7430,\"name\":\"1gram_idf_7430\"},{\"idx\":7431,\"name\":\"1gram_idf_7431\"},{\"idx\":7432,\"name\":\"1gram_idf_7432\"},{\"idx\":7433,\"name\":\"1gram_idf_7433\"},{\"idx\":7434,\"name\":\"1gram_idf_7434\"},{\"idx\":7435,\"name\":\"1gram_idf_7435\"},{\"idx\":7436,\"name\":\"1gram_idf_7436\"},{\"idx\":7437,\"name\":\"1gram_idf_7437\"},{\"idx\":7438,\"name\":\"1gram_idf_7438\"},{\"idx\":7439,\"name\":\"1gram_idf_7439\"},{\"idx\":7440,\"name\":\"1gram_idf_7440\"},{\"idx\":7441,\"name\":\"1gram_idf_7441\"},{\"idx\":7442,\"name\":\"1gram_idf_7442\"},{\"idx\":7443,\"name\":\"1gram_idf_7443\"},{\"idx\":7444,\"name\":\"1gram_idf_7444\"},{\"idx\":7445,\"name\":\"1gram_idf_7445\"},{\"idx\":7446,\"name\":\"1gram_idf_7446\"},{\"idx\":7447,\"name\":\"1gram_idf_7447\"},{\"idx\":7448,\"name\":\"1gram_idf_7448\"},{\"idx\":7449,\"name\":\"1gram_idf_7449\"},{\"idx\":7450,\"name\":\"1gram_idf_7450\"},{\"idx\":7451,\"name\":\"1gram_idf_7451\"},{\"idx\":7452,\"name\":\"1gram_idf_7452\"},{\"idx\":7453,\"name\":\"1gram_idf_7453\"},{\"idx\":7454,\"name\":\"1gram_idf_7454\"},{\"idx\":7455,\"name\":\"1gram_idf_7455\"},{\"idx\":7456,\"name\":\"1gram_idf_7456\"},{\"idx\":7457,\"name\":\"1gram_idf_7457\"},{\"idx\":7458,\"name\":\"1gram_idf_7458\"},{\"idx\":7459,\"name\":\"1gram_idf_7459\"},{\"idx\":7460,\"name\":\"1gram_idf_7460\"},{\"idx\":7461,\"name\":\"1gram_idf_7461\"},{\"idx\":7462,\"name\":\"1gram_idf_7462\"},{\"idx\":7463,\"name\":\"1gram_idf_7463\"},{\"idx\":7464,\"name\":\"1gram_idf_7464\"},{\"idx\":7465,\"name\":\"1gram_idf_7465\"},{\"idx\":7466,\"name\":\"1gram_idf_7466\"},{\"idx\":7467,\"name\":\"1gram_idf_7467\"},{\"idx\":7468,\"name\":\"1gram_idf_7468\"},{\"idx\":7469,\"name\":\"1gram_idf_7469\"},{\"idx\":7470,\"name\":\"1gram_idf_7470\"},{\"idx\":7471,\"name\":\"1gram_idf_7471\"},{\"idx\":7472,\"name\":\"1gram_idf_7472\"},{\"idx\":7473,\"name\":\"1gram_idf_7473\"},{\"idx\":7474,\"name\":\"1gram_idf_7474\"},{\"idx\":7475,\"name\":\"1gram_idf_7475\"},{\"idx\":7476,\"name\":\"1gram_idf_7476\"},{\"idx\":7477,\"name\":\"1gram_idf_7477\"},{\"idx\":7478,\"name\":\"1gram_idf_7478\"},{\"idx\":7479,\"name\":\"1gram_idf_7479\"},{\"idx\":7480,\"name\":\"1gram_idf_7480\"},{\"idx\":7481,\"name\":\"1gram_idf_7481\"},{\"idx\":7482,\"name\":\"1gram_idf_7482\"},{\"idx\":7483,\"name\":\"1gram_idf_7483\"},{\"idx\":7484,\"name\":\"1gram_idf_7484\"},{\"idx\":7485,\"name\":\"1gram_idf_7485\"},{\"idx\":7486,\"name\":\"1gram_idf_7486\"},{\"idx\":7487,\"name\":\"1gram_idf_7487\"},{\"idx\":7488,\"name\":\"1gram_idf_7488\"},{\"idx\":7489,\"name\":\"1gram_idf_7489\"},{\"idx\":7490,\"name\":\"1gram_idf_7490\"},{\"idx\":7491,\"name\":\"1gram_idf_7491\"},{\"idx\":7492,\"name\":\"1gram_idf_7492\"},{\"idx\":7493,\"name\":\"1gram_idf_7493\"},{\"idx\":7494,\"name\":\"1gram_idf_7494\"},{\"idx\":7495,\"name\":\"1gram_idf_7495\"},{\"idx\":7496,\"name\":\"1gram_idf_7496\"},{\"idx\":7497,\"name\":\"1gram_idf_7497\"},{\"idx\":7498,\"name\":\"1gram_idf_7498\"},{\"idx\":7499,\"name\":\"1gram_idf_7499\"},{\"idx\":7500,\"name\":\"1gram_idf_7500\"},{\"idx\":7501,\"name\":\"1gram_idf_7501\"},{\"idx\":7502,\"name\":\"1gram_idf_7502\"},{\"idx\":7503,\"name\":\"1gram_idf_7503\"},{\"idx\":7504,\"name\":\"1gram_idf_7504\"},{\"idx\":7505,\"name\":\"1gram_idf_7505\"},{\"idx\":7506,\"name\":\"1gram_idf_7506\"},{\"idx\":7507,\"name\":\"1gram_idf_7507\"},{\"idx\":7508,\"name\":\"1gram_idf_7508\"},{\"idx\":7509,\"name\":\"1gram_idf_7509\"},{\"idx\":7510,\"name\":\"1gram_idf_7510\"},{\"idx\":7511,\"name\":\"1gram_idf_7511\"},{\"idx\":7512,\"name\":\"1gram_idf_7512\"},{\"idx\":7513,\"name\":\"1gram_idf_7513\"},{\"idx\":7514,\"name\":\"1gram_idf_7514\"},{\"idx\":7515,\"name\":\"1gram_idf_7515\"},{\"idx\":7516,\"name\":\"1gram_idf_7516\"},{\"idx\":7517,\"name\":\"1gram_idf_7517\"},{\"idx\":7518,\"name\":\"1gram_idf_7518\"},{\"idx\":7519,\"name\":\"1gram_idf_7519\"},{\"idx\":7520,\"name\":\"1gram_idf_7520\"},{\"idx\":7521,\"name\":\"1gram_idf_7521\"},{\"idx\":7522,\"name\":\"1gram_idf_7522\"},{\"idx\":7523,\"name\":\"1gram_idf_7523\"},{\"idx\":7524,\"name\":\"1gram_idf_7524\"},{\"idx\":7525,\"name\":\"1gram_idf_7525\"},{\"idx\":7526,\"name\":\"1gram_idf_7526\"},{\"idx\":7527,\"name\":\"1gram_idf_7527\"},{\"idx\":7528,\"name\":\"1gram_idf_7528\"},{\"idx\":7529,\"name\":\"1gram_idf_7529\"},{\"idx\":7530,\"name\":\"1gram_idf_7530\"},{\"idx\":7531,\"name\":\"1gram_idf_7531\"},{\"idx\":7532,\"name\":\"1gram_idf_7532\"},{\"idx\":7533,\"name\":\"1gram_idf_7533\"},{\"idx\":7534,\"name\":\"1gram_idf_7534\"},{\"idx\":7535,\"name\":\"1gram_idf_7535\"},{\"idx\":7536,\"name\":\"1gram_idf_7536\"},{\"idx\":7537,\"name\":\"1gram_idf_7537\"},{\"idx\":7538,\"name\":\"1gram_idf_7538\"},{\"idx\":7539,\"name\":\"1gram_idf_7539\"},{\"idx\":7540,\"name\":\"1gram_idf_7540\"},{\"idx\":7541,\"name\":\"1gram_idf_7541\"},{\"idx\":7542,\"name\":\"1gram_idf_7542\"},{\"idx\":7543,\"name\":\"1gram_idf_7543\"},{\"idx\":7544,\"name\":\"1gram_idf_7544\"},{\"idx\":7545,\"name\":\"1gram_idf_7545\"},{\"idx\":7546,\"name\":\"1gram_idf_7546\"},{\"idx\":7547,\"name\":\"1gram_idf_7547\"},{\"idx\":7548,\"name\":\"1gram_idf_7548\"},{\"idx\":7549,\"name\":\"1gram_idf_7549\"},{\"idx\":7550,\"name\":\"1gram_idf_7550\"},{\"idx\":7551,\"name\":\"1gram_idf_7551\"},{\"idx\":7552,\"name\":\"1gram_idf_7552\"},{\"idx\":7553,\"name\":\"1gram_idf_7553\"},{\"idx\":7554,\"name\":\"1gram_idf_7554\"},{\"idx\":7555,\"name\":\"1gram_idf_7555\"},{\"idx\":7556,\"name\":\"1gram_idf_7556\"},{\"idx\":7557,\"name\":\"1gram_idf_7557\"},{\"idx\":7558,\"name\":\"1gram_idf_7558\"},{\"idx\":7559,\"name\":\"1gram_idf_7559\"},{\"idx\":7560,\"name\":\"1gram_idf_7560\"},{\"idx\":7561,\"name\":\"1gram_idf_7561\"},{\"idx\":7562,\"name\":\"1gram_idf_7562\"},{\"idx\":7563,\"name\":\"1gram_idf_7563\"},{\"idx\":7564,\"name\":\"1gram_idf_7564\"},{\"idx\":7565,\"name\":\"1gram_idf_7565\"},{\"idx\":7566,\"name\":\"1gram_idf_7566\"},{\"idx\":7567,\"name\":\"1gram_idf_7567\"},{\"idx\":7568,\"name\":\"1gram_idf_7568\"},{\"idx\":7569,\"name\":\"1gram_idf_7569\"},{\"idx\":7570,\"name\":\"1gram_idf_7570\"},{\"idx\":7571,\"name\":\"1gram_idf_7571\"},{\"idx\":7572,\"name\":\"1gram_idf_7572\"},{\"idx\":7573,\"name\":\"1gram_idf_7573\"},{\"idx\":7574,\"name\":\"1gram_idf_7574\"},{\"idx\":7575,\"name\":\"1gram_idf_7575\"},{\"idx\":7576,\"name\":\"1gram_idf_7576\"},{\"idx\":7577,\"name\":\"1gram_idf_7577\"},{\"idx\":7578,\"name\":\"1gram_idf_7578\"},{\"idx\":7579,\"name\":\"1gram_idf_7579\"},{\"idx\":7580,\"name\":\"1gram_idf_7580\"},{\"idx\":7581,\"name\":\"1gram_idf_7581\"},{\"idx\":7582,\"name\":\"1gram_idf_7582\"},{\"idx\":7583,\"name\":\"1gram_idf_7583\"},{\"idx\":7584,\"name\":\"1gram_idf_7584\"},{\"idx\":7585,\"name\":\"1gram_idf_7585\"},{\"idx\":7586,\"name\":\"1gram_idf_7586\"},{\"idx\":7587,\"name\":\"1gram_idf_7587\"},{\"idx\":7588,\"name\":\"1gram_idf_7588\"},{\"idx\":7589,\"name\":\"1gram_idf_7589\"},{\"idx\":7590,\"name\":\"1gram_idf_7590\"},{\"idx\":7591,\"name\":\"1gram_idf_7591\"},{\"idx\":7592,\"name\":\"1gram_idf_7592\"},{\"idx\":7593,\"name\":\"1gram_idf_7593\"},{\"idx\":7594,\"name\":\"1gram_idf_7594\"},{\"idx\":7595,\"name\":\"1gram_idf_7595\"},{\"idx\":7596,\"name\":\"1gram_idf_7596\"},{\"idx\":7597,\"name\":\"1gram_idf_7597\"},{\"idx\":7598,\"name\":\"1gram_idf_7598\"},{\"idx\":7599,\"name\":\"1gram_idf_7599\"},{\"idx\":7600,\"name\":\"1gram_idf_7600\"},{\"idx\":7601,\"name\":\"1gram_idf_7601\"},{\"idx\":7602,\"name\":\"1gram_idf_7602\"},{\"idx\":7603,\"name\":\"1gram_idf_7603\"},{\"idx\":7604,\"name\":\"1gram_idf_7604\"},{\"idx\":7605,\"name\":\"1gram_idf_7605\"},{\"idx\":7606,\"name\":\"1gram_idf_7606\"},{\"idx\":7607,\"name\":\"1gram_idf_7607\"},{\"idx\":7608,\"name\":\"1gram_idf_7608\"},{\"idx\":7609,\"name\":\"1gram_idf_7609\"},{\"idx\":7610,\"name\":\"1gram_idf_7610\"},{\"idx\":7611,\"name\":\"1gram_idf_7611\"},{\"idx\":7612,\"name\":\"1gram_idf_7612\"},{\"idx\":7613,\"name\":\"1gram_idf_7613\"},{\"idx\":7614,\"name\":\"1gram_idf_7614\"},{\"idx\":7615,\"name\":\"1gram_idf_7615\"},{\"idx\":7616,\"name\":\"1gram_idf_7616\"},{\"idx\":7617,\"name\":\"1gram_idf_7617\"},{\"idx\":7618,\"name\":\"1gram_idf_7618\"},{\"idx\":7619,\"name\":\"1gram_idf_7619\"},{\"idx\":7620,\"name\":\"1gram_idf_7620\"},{\"idx\":7621,\"name\":\"1gram_idf_7621\"},{\"idx\":7622,\"name\":\"1gram_idf_7622\"},{\"idx\":7623,\"name\":\"1gram_idf_7623\"},{\"idx\":7624,\"name\":\"1gram_idf_7624\"},{\"idx\":7625,\"name\":\"1gram_idf_7625\"},{\"idx\":7626,\"name\":\"1gram_idf_7626\"},{\"idx\":7627,\"name\":\"1gram_idf_7627\"},{\"idx\":7628,\"name\":\"1gram_idf_7628\"},{\"idx\":7629,\"name\":\"1gram_idf_7629\"},{\"idx\":7630,\"name\":\"1gram_idf_7630\"},{\"idx\":7631,\"name\":\"1gram_idf_7631\"},{\"idx\":7632,\"name\":\"1gram_idf_7632\"},{\"idx\":7633,\"name\":\"1gram_idf_7633\"},{\"idx\":7634,\"name\":\"1gram_idf_7634\"},{\"idx\":7635,\"name\":\"1gram_idf_7635\"},{\"idx\":7636,\"name\":\"1gram_idf_7636\"},{\"idx\":7637,\"name\":\"1gram_idf_7637\"},{\"idx\":7638,\"name\":\"1gram_idf_7638\"},{\"idx\":7639,\"name\":\"1gram_idf_7639\"},{\"idx\":7640,\"name\":\"1gram_idf_7640\"},{\"idx\":7641,\"name\":\"1gram_idf_7641\"},{\"idx\":7642,\"name\":\"1gram_idf_7642\"},{\"idx\":7643,\"name\":\"1gram_idf_7643\"},{\"idx\":7644,\"name\":\"1gram_idf_7644\"},{\"idx\":7645,\"name\":\"1gram_idf_7645\"},{\"idx\":7646,\"name\":\"1gram_idf_7646\"},{\"idx\":7647,\"name\":\"1gram_idf_7647\"},{\"idx\":7648,\"name\":\"1gram_idf_7648\"},{\"idx\":7649,\"name\":\"1gram_idf_7649\"},{\"idx\":7650,\"name\":\"1gram_idf_7650\"},{\"idx\":7651,\"name\":\"1gram_idf_7651\"},{\"idx\":7652,\"name\":\"1gram_idf_7652\"},{\"idx\":7653,\"name\":\"1gram_idf_7653\"},{\"idx\":7654,\"name\":\"1gram_idf_7654\"},{\"idx\":7655,\"name\":\"1gram_idf_7655\"},{\"idx\":7656,\"name\":\"1gram_idf_7656\"},{\"idx\":7657,\"name\":\"1gram_idf_7657\"},{\"idx\":7658,\"name\":\"1gram_idf_7658\"},{\"idx\":7659,\"name\":\"1gram_idf_7659\"},{\"idx\":7660,\"name\":\"1gram_idf_7660\"},{\"idx\":7661,\"name\":\"1gram_idf_7661\"},{\"idx\":7662,\"name\":\"1gram_idf_7662\"},{\"idx\":7663,\"name\":\"1gram_idf_7663\"},{\"idx\":7664,\"name\":\"1gram_idf_7664\"},{\"idx\":7665,\"name\":\"1gram_idf_7665\"},{\"idx\":7666,\"name\":\"1gram_idf_7666\"},{\"idx\":7667,\"name\":\"1gram_idf_7667\"},{\"idx\":7668,\"name\":\"1gram_idf_7668\"},{\"idx\":7669,\"name\":\"1gram_idf_7669\"},{\"idx\":7670,\"name\":\"1gram_idf_7670\"},{\"idx\":7671,\"name\":\"1gram_idf_7671\"},{\"idx\":7672,\"name\":\"1gram_idf_7672\"},{\"idx\":7673,\"name\":\"1gram_idf_7673\"},{\"idx\":7674,\"name\":\"1gram_idf_7674\"},{\"idx\":7675,\"name\":\"1gram_idf_7675\"},{\"idx\":7676,\"name\":\"1gram_idf_7676\"},{\"idx\":7677,\"name\":\"1gram_idf_7677\"},{\"idx\":7678,\"name\":\"1gram_idf_7678\"},{\"idx\":7679,\"name\":\"1gram_idf_7679\"},{\"idx\":7680,\"name\":\"1gram_idf_7680\"},{\"idx\":7681,\"name\":\"1gram_idf_7681\"},{\"idx\":7682,\"name\":\"1gram_idf_7682\"},{\"idx\":7683,\"name\":\"1gram_idf_7683\"},{\"idx\":7684,\"name\":\"1gram_idf_7684\"},{\"idx\":7685,\"name\":\"1gram_idf_7685\"},{\"idx\":7686,\"name\":\"1gram_idf_7686\"},{\"idx\":7687,\"name\":\"1gram_idf_7687\"},{\"idx\":7688,\"name\":\"1gram_idf_7688\"},{\"idx\":7689,\"name\":\"1gram_idf_7689\"},{\"idx\":7690,\"name\":\"1gram_idf_7690\"},{\"idx\":7691,\"name\":\"1gram_idf_7691\"},{\"idx\":7692,\"name\":\"1gram_idf_7692\"},{\"idx\":7693,\"name\":\"1gram_idf_7693\"},{\"idx\":7694,\"name\":\"1gram_idf_7694\"},{\"idx\":7695,\"name\":\"1gram_idf_7695\"},{\"idx\":7696,\"name\":\"1gram_idf_7696\"},{\"idx\":7697,\"name\":\"1gram_idf_7697\"},{\"idx\":7698,\"name\":\"1gram_idf_7698\"},{\"idx\":7699,\"name\":\"1gram_idf_7699\"},{\"idx\":7700,\"name\":\"1gram_idf_7700\"},{\"idx\":7701,\"name\":\"1gram_idf_7701\"},{\"idx\":7702,\"name\":\"1gram_idf_7702\"},{\"idx\":7703,\"name\":\"1gram_idf_7703\"},{\"idx\":7704,\"name\":\"1gram_idf_7704\"},{\"idx\":7705,\"name\":\"1gram_idf_7705\"},{\"idx\":7706,\"name\":\"1gram_idf_7706\"},{\"idx\":7707,\"name\":\"1gram_idf_7707\"},{\"idx\":7708,\"name\":\"1gram_idf_7708\"},{\"idx\":7709,\"name\":\"1gram_idf_7709\"},{\"idx\":7710,\"name\":\"1gram_idf_7710\"},{\"idx\":7711,\"name\":\"1gram_idf_7711\"},{\"idx\":7712,\"name\":\"1gram_idf_7712\"},{\"idx\":7713,\"name\":\"1gram_idf_7713\"},{\"idx\":7714,\"name\":\"1gram_idf_7714\"},{\"idx\":7715,\"name\":\"1gram_idf_7715\"},{\"idx\":7716,\"name\":\"1gram_idf_7716\"},{\"idx\":7717,\"name\":\"1gram_idf_7717\"},{\"idx\":7718,\"name\":\"1gram_idf_7718\"},{\"idx\":7719,\"name\":\"1gram_idf_7719\"},{\"idx\":7720,\"name\":\"1gram_idf_7720\"},{\"idx\":7721,\"name\":\"1gram_idf_7721\"},{\"idx\":7722,\"name\":\"1gram_idf_7722\"},{\"idx\":7723,\"name\":\"1gram_idf_7723\"},{\"idx\":7724,\"name\":\"1gram_idf_7724\"},{\"idx\":7725,\"name\":\"1gram_idf_7725\"},{\"idx\":7726,\"name\":\"1gram_idf_7726\"},{\"idx\":7727,\"name\":\"1gram_idf_7727\"},{\"idx\":7728,\"name\":\"1gram_idf_7728\"},{\"idx\":7729,\"name\":\"1gram_idf_7729\"},{\"idx\":7730,\"name\":\"1gram_idf_7730\"},{\"idx\":7731,\"name\":\"1gram_idf_7731\"},{\"idx\":7732,\"name\":\"1gram_idf_7732\"},{\"idx\":7733,\"name\":\"1gram_idf_7733\"},{\"idx\":7734,\"name\":\"1gram_idf_7734\"},{\"idx\":7735,\"name\":\"1gram_idf_7735\"},{\"idx\":7736,\"name\":\"1gram_idf_7736\"},{\"idx\":7737,\"name\":\"1gram_idf_7737\"},{\"idx\":7738,\"name\":\"1gram_idf_7738\"},{\"idx\":7739,\"name\":\"1gram_idf_7739\"},{\"idx\":7740,\"name\":\"1gram_idf_7740\"},{\"idx\":7741,\"name\":\"1gram_idf_7741\"},{\"idx\":7742,\"name\":\"1gram_idf_7742\"},{\"idx\":7743,\"name\":\"1gram_idf_7743\"},{\"idx\":7744,\"name\":\"1gram_idf_7744\"},{\"idx\":7745,\"name\":\"1gram_idf_7745\"},{\"idx\":7746,\"name\":\"1gram_idf_7746\"},{\"idx\":7747,\"name\":\"1gram_idf_7747\"},{\"idx\":7748,\"name\":\"1gram_idf_7748\"},{\"idx\":7749,\"name\":\"1gram_idf_7749\"},{\"idx\":7750,\"name\":\"1gram_idf_7750\"},{\"idx\":7751,\"name\":\"1gram_idf_7751\"},{\"idx\":7752,\"name\":\"1gram_idf_7752\"},{\"idx\":7753,\"name\":\"1gram_idf_7753\"},{\"idx\":7754,\"name\":\"1gram_idf_7754\"},{\"idx\":7755,\"name\":\"1gram_idf_7755\"},{\"idx\":7756,\"name\":\"1gram_idf_7756\"},{\"idx\":7757,\"name\":\"1gram_idf_7757\"},{\"idx\":7758,\"name\":\"1gram_idf_7758\"},{\"idx\":7759,\"name\":\"1gram_idf_7759\"},{\"idx\":7760,\"name\":\"1gram_idf_7760\"},{\"idx\":7761,\"name\":\"1gram_idf_7761\"},{\"idx\":7762,\"name\":\"1gram_idf_7762\"},{\"idx\":7763,\"name\":\"1gram_idf_7763\"},{\"idx\":7764,\"name\":\"1gram_idf_7764\"},{\"idx\":7765,\"name\":\"1gram_idf_7765\"},{\"idx\":7766,\"name\":\"1gram_idf_7766\"},{\"idx\":7767,\"name\":\"1gram_idf_7767\"},{\"idx\":7768,\"name\":\"1gram_idf_7768\"},{\"idx\":7769,\"name\":\"1gram_idf_7769\"},{\"idx\":7770,\"name\":\"1gram_idf_7770\"},{\"idx\":7771,\"name\":\"1gram_idf_7771\"},{\"idx\":7772,\"name\":\"1gram_idf_7772\"},{\"idx\":7773,\"name\":\"1gram_idf_7773\"},{\"idx\":7774,\"name\":\"1gram_idf_7774\"},{\"idx\":7775,\"name\":\"1gram_idf_7775\"},{\"idx\":7776,\"name\":\"1gram_idf_7776\"},{\"idx\":7777,\"name\":\"1gram_idf_7777\"},{\"idx\":7778,\"name\":\"1gram_idf_7778\"},{\"idx\":7779,\"name\":\"1gram_idf_7779\"},{\"idx\":7780,\"name\":\"1gram_idf_7780\"},{\"idx\":7781,\"name\":\"1gram_idf_7781\"},{\"idx\":7782,\"name\":\"1gram_idf_7782\"},{\"idx\":7783,\"name\":\"1gram_idf_7783\"},{\"idx\":7784,\"name\":\"1gram_idf_7784\"},{\"idx\":7785,\"name\":\"1gram_idf_7785\"},{\"idx\":7786,\"name\":\"1gram_idf_7786\"},{\"idx\":7787,\"name\":\"1gram_idf_7787\"},{\"idx\":7788,\"name\":\"1gram_idf_7788\"},{\"idx\":7789,\"name\":\"1gram_idf_7789\"},{\"idx\":7790,\"name\":\"1gram_idf_7790\"},{\"idx\":7791,\"name\":\"1gram_idf_7791\"},{\"idx\":7792,\"name\":\"1gram_idf_7792\"},{\"idx\":7793,\"name\":\"1gram_idf_7793\"},{\"idx\":7794,\"name\":\"1gram_idf_7794\"},{\"idx\":7795,\"name\":\"1gram_idf_7795\"},{\"idx\":7796,\"name\":\"1gram_idf_7796\"},{\"idx\":7797,\"name\":\"1gram_idf_7797\"},{\"idx\":7798,\"name\":\"1gram_idf_7798\"},{\"idx\":7799,\"name\":\"1gram_idf_7799\"},{\"idx\":7800,\"name\":\"1gram_idf_7800\"},{\"idx\":7801,\"name\":\"1gram_idf_7801\"},{\"idx\":7802,\"name\":\"1gram_idf_7802\"},{\"idx\":7803,\"name\":\"1gram_idf_7803\"},{\"idx\":7804,\"name\":\"1gram_idf_7804\"},{\"idx\":7805,\"name\":\"1gram_idf_7805\"},{\"idx\":7806,\"name\":\"1gram_idf_7806\"},{\"idx\":7807,\"name\":\"1gram_idf_7807\"},{\"idx\":7808,\"name\":\"1gram_idf_7808\"},{\"idx\":7809,\"name\":\"1gram_idf_7809\"},{\"idx\":7810,\"name\":\"1gram_idf_7810\"},{\"idx\":7811,\"name\":\"1gram_idf_7811\"},{\"idx\":7812,\"name\":\"1gram_idf_7812\"},{\"idx\":7813,\"name\":\"1gram_idf_7813\"},{\"idx\":7814,\"name\":\"1gram_idf_7814\"},{\"idx\":7815,\"name\":\"1gram_idf_7815\"},{\"idx\":7816,\"name\":\"1gram_idf_7816\"},{\"idx\":7817,\"name\":\"1gram_idf_7817\"},{\"idx\":7818,\"name\":\"1gram_idf_7818\"},{\"idx\":7819,\"name\":\"1gram_idf_7819\"},{\"idx\":7820,\"name\":\"1gram_idf_7820\"},{\"idx\":7821,\"name\":\"1gram_idf_7821\"},{\"idx\":7822,\"name\":\"1gram_idf_7822\"},{\"idx\":7823,\"name\":\"1gram_idf_7823\"},{\"idx\":7824,\"name\":\"1gram_idf_7824\"},{\"idx\":7825,\"name\":\"1gram_idf_7825\"},{\"idx\":7826,\"name\":\"1gram_idf_7826\"},{\"idx\":7827,\"name\":\"1gram_idf_7827\"},{\"idx\":7828,\"name\":\"1gram_idf_7828\"},{\"idx\":7829,\"name\":\"1gram_idf_7829\"},{\"idx\":7830,\"name\":\"1gram_idf_7830\"},{\"idx\":7831,\"name\":\"1gram_idf_7831\"},{\"idx\":7832,\"name\":\"1gram_idf_7832\"},{\"idx\":7833,\"name\":\"1gram_idf_7833\"},{\"idx\":7834,\"name\":\"1gram_idf_7834\"},{\"idx\":7835,\"name\":\"1gram_idf_7835\"},{\"idx\":7836,\"name\":\"1gram_idf_7836\"},{\"idx\":7837,\"name\":\"1gram_idf_7837\"},{\"idx\":7838,\"name\":\"1gram_idf_7838\"},{\"idx\":7839,\"name\":\"1gram_idf_7839\"},{\"idx\":7840,\"name\":\"1gram_idf_7840\"},{\"idx\":7841,\"name\":\"1gram_idf_7841\"},{\"idx\":7842,\"name\":\"1gram_idf_7842\"},{\"idx\":7843,\"name\":\"1gram_idf_7843\"},{\"idx\":7844,\"name\":\"1gram_idf_7844\"},{\"idx\":7845,\"name\":\"1gram_idf_7845\"},{\"idx\":7846,\"name\":\"1gram_idf_7846\"},{\"idx\":7847,\"name\":\"1gram_idf_7847\"},{\"idx\":7848,\"name\":\"1gram_idf_7848\"},{\"idx\":7849,\"name\":\"1gram_idf_7849\"},{\"idx\":7850,\"name\":\"1gram_idf_7850\"},{\"idx\":7851,\"name\":\"1gram_idf_7851\"},{\"idx\":7852,\"name\":\"1gram_idf_7852\"},{\"idx\":7853,\"name\":\"1gram_idf_7853\"},{\"idx\":7854,\"name\":\"1gram_idf_7854\"},{\"idx\":7855,\"name\":\"1gram_idf_7855\"},{\"idx\":7856,\"name\":\"1gram_idf_7856\"},{\"idx\":7857,\"name\":\"1gram_idf_7857\"},{\"idx\":7858,\"name\":\"1gram_idf_7858\"},{\"idx\":7859,\"name\":\"1gram_idf_7859\"},{\"idx\":7860,\"name\":\"1gram_idf_7860\"},{\"idx\":7861,\"name\":\"1gram_idf_7861\"},{\"idx\":7862,\"name\":\"1gram_idf_7862\"},{\"idx\":7863,\"name\":\"1gram_idf_7863\"},{\"idx\":7864,\"name\":\"1gram_idf_7864\"},{\"idx\":7865,\"name\":\"1gram_idf_7865\"},{\"idx\":7866,\"name\":\"1gram_idf_7866\"},{\"idx\":7867,\"name\":\"1gram_idf_7867\"},{\"idx\":7868,\"name\":\"1gram_idf_7868\"},{\"idx\":7869,\"name\":\"1gram_idf_7869\"},{\"idx\":7870,\"name\":\"1gram_idf_7870\"},{\"idx\":7871,\"name\":\"1gram_idf_7871\"},{\"idx\":7872,\"name\":\"1gram_idf_7872\"},{\"idx\":7873,\"name\":\"1gram_idf_7873\"},{\"idx\":7874,\"name\":\"1gram_idf_7874\"},{\"idx\":7875,\"name\":\"1gram_idf_7875\"},{\"idx\":7876,\"name\":\"1gram_idf_7876\"},{\"idx\":7877,\"name\":\"1gram_idf_7877\"},{\"idx\":7878,\"name\":\"1gram_idf_7878\"},{\"idx\":7879,\"name\":\"1gram_idf_7879\"},{\"idx\":7880,\"name\":\"1gram_idf_7880\"},{\"idx\":7881,\"name\":\"1gram_idf_7881\"},{\"idx\":7882,\"name\":\"1gram_idf_7882\"},{\"idx\":7883,\"name\":\"1gram_idf_7883\"},{\"idx\":7884,\"name\":\"1gram_idf_7884\"},{\"idx\":7885,\"name\":\"1gram_idf_7885\"},{\"idx\":7886,\"name\":\"1gram_idf_7886\"},{\"idx\":7887,\"name\":\"1gram_idf_7887\"},{\"idx\":7888,\"name\":\"1gram_idf_7888\"},{\"idx\":7889,\"name\":\"1gram_idf_7889\"},{\"idx\":7890,\"name\":\"1gram_idf_7890\"},{\"idx\":7891,\"name\":\"1gram_idf_7891\"},{\"idx\":7892,\"name\":\"1gram_idf_7892\"},{\"idx\":7893,\"name\":\"1gram_idf_7893\"},{\"idx\":7894,\"name\":\"1gram_idf_7894\"},{\"idx\":7895,\"name\":\"1gram_idf_7895\"},{\"idx\":7896,\"name\":\"1gram_idf_7896\"},{\"idx\":7897,\"name\":\"1gram_idf_7897\"},{\"idx\":7898,\"name\":\"1gram_idf_7898\"},{\"idx\":7899,\"name\":\"1gram_idf_7899\"},{\"idx\":7900,\"name\":\"1gram_idf_7900\"},{\"idx\":7901,\"name\":\"1gram_idf_7901\"},{\"idx\":7902,\"name\":\"1gram_idf_7902\"},{\"idx\":7903,\"name\":\"1gram_idf_7903\"},{\"idx\":7904,\"name\":\"1gram_idf_7904\"},{\"idx\":7905,\"name\":\"1gram_idf_7905\"},{\"idx\":7906,\"name\":\"1gram_idf_7906\"},{\"idx\":7907,\"name\":\"1gram_idf_7907\"},{\"idx\":7908,\"name\":\"1gram_idf_7908\"},{\"idx\":7909,\"name\":\"1gram_idf_7909\"},{\"idx\":7910,\"name\":\"1gram_idf_7910\"},{\"idx\":7911,\"name\":\"1gram_idf_7911\"},{\"idx\":7912,\"name\":\"1gram_idf_7912\"},{\"idx\":7913,\"name\":\"1gram_idf_7913\"},{\"idx\":7914,\"name\":\"1gram_idf_7914\"},{\"idx\":7915,\"name\":\"1gram_idf_7915\"},{\"idx\":7916,\"name\":\"1gram_idf_7916\"},{\"idx\":7917,\"name\":\"1gram_idf_7917\"},{\"idx\":7918,\"name\":\"1gram_idf_7918\"},{\"idx\":7919,\"name\":\"1gram_idf_7919\"},{\"idx\":7920,\"name\":\"1gram_idf_7920\"},{\"idx\":7921,\"name\":\"1gram_idf_7921\"},{\"idx\":7922,\"name\":\"1gram_idf_7922\"},{\"idx\":7923,\"name\":\"1gram_idf_7923\"},{\"idx\":7924,\"name\":\"1gram_idf_7924\"},{\"idx\":7925,\"name\":\"1gram_idf_7925\"},{\"idx\":7926,\"name\":\"1gram_idf_7926\"},{\"idx\":7927,\"name\":\"1gram_idf_7927\"},{\"idx\":7928,\"name\":\"1gram_idf_7928\"},{\"idx\":7929,\"name\":\"1gram_idf_7929\"},{\"idx\":7930,\"name\":\"1gram_idf_7930\"},{\"idx\":7931,\"name\":\"1gram_idf_7931\"},{\"idx\":7932,\"name\":\"1gram_idf_7932\"},{\"idx\":7933,\"name\":\"1gram_idf_7933\"},{\"idx\":7934,\"name\":\"1gram_idf_7934\"},{\"idx\":7935,\"name\":\"1gram_idf_7935\"},{\"idx\":7936,\"name\":\"1gram_idf_7936\"},{\"idx\":7937,\"name\":\"1gram_idf_7937\"},{\"idx\":7938,\"name\":\"1gram_idf_7938\"},{\"idx\":7939,\"name\":\"1gram_idf_7939\"},{\"idx\":7940,\"name\":\"1gram_idf_7940\"},{\"idx\":7941,\"name\":\"1gram_idf_7941\"},{\"idx\":7942,\"name\":\"1gram_idf_7942\"},{\"idx\":7943,\"name\":\"1gram_idf_7943\"},{\"idx\":7944,\"name\":\"1gram_idf_7944\"},{\"idx\":7945,\"name\":\"1gram_idf_7945\"},{\"idx\":7946,\"name\":\"1gram_idf_7946\"},{\"idx\":7947,\"name\":\"1gram_idf_7947\"},{\"idx\":7948,\"name\":\"1gram_idf_7948\"},{\"idx\":7949,\"name\":\"1gram_idf_7949\"},{\"idx\":7950,\"name\":\"1gram_idf_7950\"},{\"idx\":7951,\"name\":\"1gram_idf_7951\"},{\"idx\":7952,\"name\":\"1gram_idf_7952\"},{\"idx\":7953,\"name\":\"1gram_idf_7953\"},{\"idx\":7954,\"name\":\"1gram_idf_7954\"},{\"idx\":7955,\"name\":\"1gram_idf_7955\"},{\"idx\":7956,\"name\":\"1gram_idf_7956\"},{\"idx\":7957,\"name\":\"1gram_idf_7957\"},{\"idx\":7958,\"name\":\"1gram_idf_7958\"},{\"idx\":7959,\"name\":\"1gram_idf_7959\"},{\"idx\":7960,\"name\":\"1gram_idf_7960\"},{\"idx\":7961,\"name\":\"1gram_idf_7961\"},{\"idx\":7962,\"name\":\"1gram_idf_7962\"},{\"idx\":7963,\"name\":\"1gram_idf_7963\"},{\"idx\":7964,\"name\":\"1gram_idf_7964\"},{\"idx\":7965,\"name\":\"1gram_idf_7965\"},{\"idx\":7966,\"name\":\"1gram_idf_7966\"},{\"idx\":7967,\"name\":\"1gram_idf_7967\"},{\"idx\":7968,\"name\":\"1gram_idf_7968\"},{\"idx\":7969,\"name\":\"1gram_idf_7969\"},{\"idx\":7970,\"name\":\"1gram_idf_7970\"},{\"idx\":7971,\"name\":\"1gram_idf_7971\"},{\"idx\":7972,\"name\":\"1gram_idf_7972\"},{\"idx\":7973,\"name\":\"1gram_idf_7973\"},{\"idx\":7974,\"name\":\"1gram_idf_7974\"},{\"idx\":7975,\"name\":\"1gram_idf_7975\"},{\"idx\":7976,\"name\":\"1gram_idf_7976\"},{\"idx\":7977,\"name\":\"1gram_idf_7977\"},{\"idx\":7978,\"name\":\"1gram_idf_7978\"},{\"idx\":7979,\"name\":\"1gram_idf_7979\"},{\"idx\":7980,\"name\":\"1gram_idf_7980\"},{\"idx\":7981,\"name\":\"1gram_idf_7981\"},{\"idx\":7982,\"name\":\"1gram_idf_7982\"},{\"idx\":7983,\"name\":\"1gram_idf_7983\"},{\"idx\":7984,\"name\":\"1gram_idf_7984\"},{\"idx\":7985,\"name\":\"1gram_idf_7985\"},{\"idx\":7986,\"name\":\"1gram_idf_7986\"},{\"idx\":7987,\"name\":\"1gram_idf_7987\"},{\"idx\":7988,\"name\":\"1gram_idf_7988\"},{\"idx\":7989,\"name\":\"1gram_idf_7989\"},{\"idx\":7990,\"name\":\"1gram_idf_7990\"},{\"idx\":7991,\"name\":\"1gram_idf_7991\"},{\"idx\":7992,\"name\":\"1gram_idf_7992\"},{\"idx\":7993,\"name\":\"1gram_idf_7993\"},{\"idx\":7994,\"name\":\"1gram_idf_7994\"},{\"idx\":7995,\"name\":\"1gram_idf_7995\"},{\"idx\":7996,\"name\":\"1gram_idf_7996\"},{\"idx\":7997,\"name\":\"1gram_idf_7997\"},{\"idx\":7998,\"name\":\"1gram_idf_7998\"},{\"idx\":7999,\"name\":\"1gram_idf_7999\"},{\"idx\":8000,\"name\":\"1gram_idf_8000\"},{\"idx\":8001,\"name\":\"1gram_idf_8001\"},{\"idx\":8002,\"name\":\"1gram_idf_8002\"},{\"idx\":8003,\"name\":\"1gram_idf_8003\"},{\"idx\":8004,\"name\":\"1gram_idf_8004\"},{\"idx\":8005,\"name\":\"1gram_idf_8005\"},{\"idx\":8006,\"name\":\"1gram_idf_8006\"},{\"idx\":8007,\"name\":\"1gram_idf_8007\"},{\"idx\":8008,\"name\":\"1gram_idf_8008\"},{\"idx\":8009,\"name\":\"1gram_idf_8009\"},{\"idx\":8010,\"name\":\"1gram_idf_8010\"},{\"idx\":8011,\"name\":\"1gram_idf_8011\"},{\"idx\":8012,\"name\":\"1gram_idf_8012\"},{\"idx\":8013,\"name\":\"1gram_idf_8013\"},{\"idx\":8014,\"name\":\"1gram_idf_8014\"},{\"idx\":8015,\"name\":\"1gram_idf_8015\"},{\"idx\":8016,\"name\":\"1gram_idf_8016\"},{\"idx\":8017,\"name\":\"1gram_idf_8017\"},{\"idx\":8018,\"name\":\"1gram_idf_8018\"},{\"idx\":8019,\"name\":\"1gram_idf_8019\"},{\"idx\":8020,\"name\":\"1gram_idf_8020\"},{\"idx\":8021,\"name\":\"1gram_idf_8021\"},{\"idx\":8022,\"name\":\"1gram_idf_8022\"},{\"idx\":8023,\"name\":\"1gram_idf_8023\"},{\"idx\":8024,\"name\":\"1gram_idf_8024\"},{\"idx\":8025,\"name\":\"1gram_idf_8025\"},{\"idx\":8026,\"name\":\"1gram_idf_8026\"},{\"idx\":8027,\"name\":\"1gram_idf_8027\"},{\"idx\":8028,\"name\":\"1gram_idf_8028\"},{\"idx\":8029,\"name\":\"1gram_idf_8029\"},{\"idx\":8030,\"name\":\"1gram_idf_8030\"},{\"idx\":8031,\"name\":\"1gram_idf_8031\"},{\"idx\":8032,\"name\":\"1gram_idf_8032\"},{\"idx\":8033,\"name\":\"1gram_idf_8033\"},{\"idx\":8034,\"name\":\"1gram_idf_8034\"},{\"idx\":8035,\"name\":\"1gram_idf_8035\"},{\"idx\":8036,\"name\":\"1gram_idf_8036\"},{\"idx\":8037,\"name\":\"1gram_idf_8037\"},{\"idx\":8038,\"name\":\"1gram_idf_8038\"},{\"idx\":8039,\"name\":\"1gram_idf_8039\"},{\"idx\":8040,\"name\":\"1gram_idf_8040\"},{\"idx\":8041,\"name\":\"1gram_idf_8041\"},{\"idx\":8042,\"name\":\"1gram_idf_8042\"},{\"idx\":8043,\"name\":\"1gram_idf_8043\"},{\"idx\":8044,\"name\":\"1gram_idf_8044\"},{\"idx\":8045,\"name\":\"1gram_idf_8045\"},{\"idx\":8046,\"name\":\"1gram_idf_8046\"},{\"idx\":8047,\"name\":\"1gram_idf_8047\"},{\"idx\":8048,\"name\":\"1gram_idf_8048\"},{\"idx\":8049,\"name\":\"1gram_idf_8049\"},{\"idx\":8050,\"name\":\"1gram_idf_8050\"},{\"idx\":8051,\"name\":\"1gram_idf_8051\"},{\"idx\":8052,\"name\":\"1gram_idf_8052\"},{\"idx\":8053,\"name\":\"1gram_idf_8053\"},{\"idx\":8054,\"name\":\"1gram_idf_8054\"},{\"idx\":8055,\"name\":\"1gram_idf_8055\"},{\"idx\":8056,\"name\":\"1gram_idf_8056\"},{\"idx\":8057,\"name\":\"1gram_idf_8057\"},{\"idx\":8058,\"name\":\"1gram_idf_8058\"},{\"idx\":8059,\"name\":\"1gram_idf_8059\"},{\"idx\":8060,\"name\":\"1gram_idf_8060\"},{\"idx\":8061,\"name\":\"1gram_idf_8061\"},{\"idx\":8062,\"name\":\"1gram_idf_8062\"},{\"idx\":8063,\"name\":\"1gram_idf_8063\"},{\"idx\":8064,\"name\":\"1gram_idf_8064\"},{\"idx\":8065,\"name\":\"1gram_idf_8065\"},{\"idx\":8066,\"name\":\"1gram_idf_8066\"},{\"idx\":8067,\"name\":\"1gram_idf_8067\"},{\"idx\":8068,\"name\":\"1gram_idf_8068\"},{\"idx\":8069,\"name\":\"1gram_idf_8069\"},{\"idx\":8070,\"name\":\"1gram_idf_8070\"},{\"idx\":8071,\"name\":\"1gram_idf_8071\"},{\"idx\":8072,\"name\":\"1gram_idf_8072\"},{\"idx\":8073,\"name\":\"1gram_idf_8073\"},{\"idx\":8074,\"name\":\"1gram_idf_8074\"},{\"idx\":8075,\"name\":\"1gram_idf_8075\"},{\"idx\":8076,\"name\":\"1gram_idf_8076\"},{\"idx\":8077,\"name\":\"1gram_idf_8077\"},{\"idx\":8078,\"name\":\"1gram_idf_8078\"},{\"idx\":8079,\"name\":\"1gram_idf_8079\"},{\"idx\":8080,\"name\":\"1gram_idf_8080\"},{\"idx\":8081,\"name\":\"1gram_idf_8081\"},{\"idx\":8082,\"name\":\"1gram_idf_8082\"},{\"idx\":8083,\"name\":\"1gram_idf_8083\"},{\"idx\":8084,\"name\":\"1gram_idf_8084\"},{\"idx\":8085,\"name\":\"1gram_idf_8085\"},{\"idx\":8086,\"name\":\"1gram_idf_8086\"},{\"idx\":8087,\"name\":\"1gram_idf_8087\"},{\"idx\":8088,\"name\":\"1gram_idf_8088\"},{\"idx\":8089,\"name\":\"1gram_idf_8089\"},{\"idx\":8090,\"name\":\"1gram_idf_8090\"},{\"idx\":8091,\"name\":\"1gram_idf_8091\"},{\"idx\":8092,\"name\":\"1gram_idf_8092\"},{\"idx\":8093,\"name\":\"1gram_idf_8093\"},{\"idx\":8094,\"name\":\"1gram_idf_8094\"},{\"idx\":8095,\"name\":\"1gram_idf_8095\"},{\"idx\":8096,\"name\":\"1gram_idf_8096\"},{\"idx\":8097,\"name\":\"1gram_idf_8097\"},{\"idx\":8098,\"name\":\"1gram_idf_8098\"},{\"idx\":8099,\"name\":\"1gram_idf_8099\"},{\"idx\":8100,\"name\":\"1gram_idf_8100\"},{\"idx\":8101,\"name\":\"1gram_idf_8101\"},{\"idx\":8102,\"name\":\"1gram_idf_8102\"},{\"idx\":8103,\"name\":\"1gram_idf_8103\"},{\"idx\":8104,\"name\":\"1gram_idf_8104\"},{\"idx\":8105,\"name\":\"1gram_idf_8105\"},{\"idx\":8106,\"name\":\"1gram_idf_8106\"},{\"idx\":8107,\"name\":\"1gram_idf_8107\"},{\"idx\":8108,\"name\":\"1gram_idf_8108\"},{\"idx\":8109,\"name\":\"1gram_idf_8109\"},{\"idx\":8110,\"name\":\"1gram_idf_8110\"},{\"idx\":8111,\"name\":\"1gram_idf_8111\"},{\"idx\":8112,\"name\":\"1gram_idf_8112\"},{\"idx\":8113,\"name\":\"1gram_idf_8113\"},{\"idx\":8114,\"name\":\"1gram_idf_8114\"},{\"idx\":8115,\"name\":\"1gram_idf_8115\"},{\"idx\":8116,\"name\":\"1gram_idf_8116\"},{\"idx\":8117,\"name\":\"1gram_idf_8117\"},{\"idx\":8118,\"name\":\"1gram_idf_8118\"},{\"idx\":8119,\"name\":\"1gram_idf_8119\"},{\"idx\":8120,\"name\":\"1gram_idf_8120\"},{\"idx\":8121,\"name\":\"1gram_idf_8121\"},{\"idx\":8122,\"name\":\"1gram_idf_8122\"},{\"idx\":8123,\"name\":\"1gram_idf_8123\"},{\"idx\":8124,\"name\":\"1gram_idf_8124\"},{\"idx\":8125,\"name\":\"1gram_idf_8125\"},{\"idx\":8126,\"name\":\"1gram_idf_8126\"},{\"idx\":8127,\"name\":\"1gram_idf_8127\"},{\"idx\":8128,\"name\":\"1gram_idf_8128\"},{\"idx\":8129,\"name\":\"1gram_idf_8129\"},{\"idx\":8130,\"name\":\"1gram_idf_8130\"},{\"idx\":8131,\"name\":\"1gram_idf_8131\"},{\"idx\":8132,\"name\":\"1gram_idf_8132\"},{\"idx\":8133,\"name\":\"1gram_idf_8133\"},{\"idx\":8134,\"name\":\"1gram_idf_8134\"},{\"idx\":8135,\"name\":\"1gram_idf_8135\"},{\"idx\":8136,\"name\":\"1gram_idf_8136\"},{\"idx\":8137,\"name\":\"1gram_idf_8137\"},{\"idx\":8138,\"name\":\"1gram_idf_8138\"},{\"idx\":8139,\"name\":\"1gram_idf_8139\"},{\"idx\":8140,\"name\":\"1gram_idf_8140\"},{\"idx\":8141,\"name\":\"1gram_idf_8141\"},{\"idx\":8142,\"name\":\"1gram_idf_8142\"},{\"idx\":8143,\"name\":\"1gram_idf_8143\"},{\"idx\":8144,\"name\":\"1gram_idf_8144\"},{\"idx\":8145,\"name\":\"1gram_idf_8145\"},{\"idx\":8146,\"name\":\"1gram_idf_8146\"},{\"idx\":8147,\"name\":\"1gram_idf_8147\"},{\"idx\":8148,\"name\":\"1gram_idf_8148\"},{\"idx\":8149,\"name\":\"1gram_idf_8149\"},{\"idx\":8150,\"name\":\"1gram_idf_8150\"},{\"idx\":8151,\"name\":\"1gram_idf_8151\"},{\"idx\":8152,\"name\":\"1gram_idf_8152\"},{\"idx\":8153,\"name\":\"1gram_idf_8153\"},{\"idx\":8154,\"name\":\"1gram_idf_8154\"},{\"idx\":8155,\"name\":\"1gram_idf_8155\"},{\"idx\":8156,\"name\":\"1gram_idf_8156\"},{\"idx\":8157,\"name\":\"1gram_idf_8157\"},{\"idx\":8158,\"name\":\"1gram_idf_8158\"},{\"idx\":8159,\"name\":\"1gram_idf_8159\"},{\"idx\":8160,\"name\":\"1gram_idf_8160\"},{\"idx\":8161,\"name\":\"1gram_idf_8161\"},{\"idx\":8162,\"name\":\"1gram_idf_8162\"},{\"idx\":8163,\"name\":\"1gram_idf_8163\"},{\"idx\":8164,\"name\":\"1gram_idf_8164\"},{\"idx\":8165,\"name\":\"1gram_idf_8165\"},{\"idx\":8166,\"name\":\"1gram_idf_8166\"},{\"idx\":8167,\"name\":\"1gram_idf_8167\"},{\"idx\":8168,\"name\":\"1gram_idf_8168\"},{\"idx\":8169,\"name\":\"1gram_idf_8169\"},{\"idx\":8170,\"name\":\"1gram_idf_8170\"},{\"idx\":8171,\"name\":\"1gram_idf_8171\"},{\"idx\":8172,\"name\":\"1gram_idf_8172\"},{\"idx\":8173,\"name\":\"1gram_idf_8173\"},{\"idx\":8174,\"name\":\"1gram_idf_8174\"},{\"idx\":8175,\"name\":\"1gram_idf_8175\"},{\"idx\":8176,\"name\":\"1gram_idf_8176\"},{\"idx\":8177,\"name\":\"1gram_idf_8177\"},{\"idx\":8178,\"name\":\"1gram_idf_8178\"},{\"idx\":8179,\"name\":\"1gram_idf_8179\"},{\"idx\":8180,\"name\":\"1gram_idf_8180\"},{\"idx\":8181,\"name\":\"1gram_idf_8181\"},{\"idx\":8182,\"name\":\"1gram_idf_8182\"},{\"idx\":8183,\"name\":\"1gram_idf_8183\"},{\"idx\":8184,\"name\":\"1gram_idf_8184\"},{\"idx\":8185,\"name\":\"1gram_idf_8185\"},{\"idx\":8186,\"name\":\"1gram_idf_8186\"},{\"idx\":8187,\"name\":\"1gram_idf_8187\"},{\"idx\":8188,\"name\":\"1gram_idf_8188\"},{\"idx\":8189,\"name\":\"1gram_idf_8189\"},{\"idx\":8190,\"name\":\"1gram_idf_8190\"},{\"idx\":8191,\"name\":\"1gram_idf_8191\"},{\"idx\":8192,\"name\":\"1gram_idf_8192\"},{\"idx\":8193,\"name\":\"1gram_idf_8193\"},{\"idx\":8194,\"name\":\"1gram_idf_8194\"},{\"idx\":8195,\"name\":\"1gram_idf_8195\"},{\"idx\":8196,\"name\":\"1gram_idf_8196\"},{\"idx\":8197,\"name\":\"1gram_idf_8197\"},{\"idx\":8198,\"name\":\"1gram_idf_8198\"},{\"idx\":8199,\"name\":\"1gram_idf_8199\"},{\"idx\":8200,\"name\":\"1gram_idf_8200\"},{\"idx\":8201,\"name\":\"1gram_idf_8201\"},{\"idx\":8202,\"name\":\"1gram_idf_8202\"},{\"idx\":8203,\"name\":\"1gram_idf_8203\"},{\"idx\":8204,\"name\":\"1gram_idf_8204\"},{\"idx\":8205,\"name\":\"1gram_idf_8205\"},{\"idx\":8206,\"name\":\"1gram_idf_8206\"},{\"idx\":8207,\"name\":\"1gram_idf_8207\"},{\"idx\":8208,\"name\":\"1gram_idf_8208\"},{\"idx\":8209,\"name\":\"1gram_idf_8209\"},{\"idx\":8210,\"name\":\"1gram_idf_8210\"},{\"idx\":8211,\"name\":\"1gram_idf_8211\"},{\"idx\":8212,\"name\":\"1gram_idf_8212\"},{\"idx\":8213,\"name\":\"1gram_idf_8213\"},{\"idx\":8214,\"name\":\"1gram_idf_8214\"},{\"idx\":8215,\"name\":\"1gram_idf_8215\"},{\"idx\":8216,\"name\":\"1gram_idf_8216\"},{\"idx\":8217,\"name\":\"1gram_idf_8217\"},{\"idx\":8218,\"name\":\"1gram_idf_8218\"},{\"idx\":8219,\"name\":\"1gram_idf_8219\"},{\"idx\":8220,\"name\":\"1gram_idf_8220\"},{\"idx\":8221,\"name\":\"1gram_idf_8221\"},{\"idx\":8222,\"name\":\"1gram_idf_8222\"},{\"idx\":8223,\"name\":\"1gram_idf_8223\"},{\"idx\":8224,\"name\":\"1gram_idf_8224\"},{\"idx\":8225,\"name\":\"1gram_idf_8225\"},{\"idx\":8226,\"name\":\"1gram_idf_8226\"},{\"idx\":8227,\"name\":\"1gram_idf_8227\"},{\"idx\":8228,\"name\":\"1gram_idf_8228\"},{\"idx\":8229,\"name\":\"1gram_idf_8229\"},{\"idx\":8230,\"name\":\"1gram_idf_8230\"},{\"idx\":8231,\"name\":\"1gram_idf_8231\"},{\"idx\":8232,\"name\":\"1gram_idf_8232\"},{\"idx\":8233,\"name\":\"1gram_idf_8233\"},{\"idx\":8234,\"name\":\"1gram_idf_8234\"},{\"idx\":8235,\"name\":\"1gram_idf_8235\"},{\"idx\":8236,\"name\":\"1gram_idf_8236\"},{\"idx\":8237,\"name\":\"1gram_idf_8237\"},{\"idx\":8238,\"name\":\"1gram_idf_8238\"},{\"idx\":8239,\"name\":\"1gram_idf_8239\"},{\"idx\":8240,\"name\":\"1gram_idf_8240\"},{\"idx\":8241,\"name\":\"1gram_idf_8241\"},{\"idx\":8242,\"name\":\"1gram_idf_8242\"},{\"idx\":8243,\"name\":\"1gram_idf_8243\"},{\"idx\":8244,\"name\":\"1gram_idf_8244\"},{\"idx\":8245,\"name\":\"1gram_idf_8245\"},{\"idx\":8246,\"name\":\"1gram_idf_8246\"},{\"idx\":8247,\"name\":\"1gram_idf_8247\"},{\"idx\":8248,\"name\":\"1gram_idf_8248\"},{\"idx\":8249,\"name\":\"1gram_idf_8249\"},{\"idx\":8250,\"name\":\"1gram_idf_8250\"},{\"idx\":8251,\"name\":\"1gram_idf_8251\"},{\"idx\":8252,\"name\":\"1gram_idf_8252\"},{\"idx\":8253,\"name\":\"1gram_idf_8253\"},{\"idx\":8254,\"name\":\"1gram_idf_8254\"},{\"idx\":8255,\"name\":\"1gram_idf_8255\"},{\"idx\":8256,\"name\":\"1gram_idf_8256\"},{\"idx\":8257,\"name\":\"1gram_idf_8257\"},{\"idx\":8258,\"name\":\"1gram_idf_8258\"},{\"idx\":8259,\"name\":\"1gram_idf_8259\"},{\"idx\":8260,\"name\":\"1gram_idf_8260\"},{\"idx\":8261,\"name\":\"1gram_idf_8261\"},{\"idx\":8262,\"name\":\"1gram_idf_8262\"},{\"idx\":8263,\"name\":\"1gram_idf_8263\"},{\"idx\":8264,\"name\":\"1gram_idf_8264\"},{\"idx\":8265,\"name\":\"1gram_idf_8265\"},{\"idx\":8266,\"name\":\"1gram_idf_8266\"},{\"idx\":8267,\"name\":\"1gram_idf_8267\"},{\"idx\":8268,\"name\":\"1gram_idf_8268\"},{\"idx\":8269,\"name\":\"1gram_idf_8269\"},{\"idx\":8270,\"name\":\"1gram_idf_8270\"},{\"idx\":8271,\"name\":\"1gram_idf_8271\"},{\"idx\":8272,\"name\":\"1gram_idf_8272\"},{\"idx\":8273,\"name\":\"1gram_idf_8273\"},{\"idx\":8274,\"name\":\"1gram_idf_8274\"},{\"idx\":8275,\"name\":\"1gram_idf_8275\"},{\"idx\":8276,\"name\":\"1gram_idf_8276\"},{\"idx\":8277,\"name\":\"1gram_idf_8277\"},{\"idx\":8278,\"name\":\"1gram_idf_8278\"},{\"idx\":8279,\"name\":\"1gram_idf_8279\"},{\"idx\":8280,\"name\":\"1gram_idf_8280\"},{\"idx\":8281,\"name\":\"1gram_idf_8281\"},{\"idx\":8282,\"name\":\"1gram_idf_8282\"},{\"idx\":8283,\"name\":\"1gram_idf_8283\"},{\"idx\":8284,\"name\":\"1gram_idf_8284\"},{\"idx\":8285,\"name\":\"1gram_idf_8285\"},{\"idx\":8286,\"name\":\"1gram_idf_8286\"},{\"idx\":8287,\"name\":\"1gram_idf_8287\"},{\"idx\":8288,\"name\":\"1gram_idf_8288\"},{\"idx\":8289,\"name\":\"1gram_idf_8289\"},{\"idx\":8290,\"name\":\"1gram_idf_8290\"},{\"idx\":8291,\"name\":\"1gram_idf_8291\"},{\"idx\":8292,\"name\":\"1gram_idf_8292\"},{\"idx\":8293,\"name\":\"1gram_idf_8293\"},{\"idx\":8294,\"name\":\"1gram_idf_8294\"},{\"idx\":8295,\"name\":\"1gram_idf_8295\"},{\"idx\":8296,\"name\":\"1gram_idf_8296\"},{\"idx\":8297,\"name\":\"1gram_idf_8297\"},{\"idx\":8298,\"name\":\"1gram_idf_8298\"},{\"idx\":8299,\"name\":\"1gram_idf_8299\"},{\"idx\":8300,\"name\":\"1gram_idf_8300\"},{\"idx\":8301,\"name\":\"1gram_idf_8301\"},{\"idx\":8302,\"name\":\"1gram_idf_8302\"},{\"idx\":8303,\"name\":\"1gram_idf_8303\"},{\"idx\":8304,\"name\":\"1gram_idf_8304\"},{\"idx\":8305,\"name\":\"1gram_idf_8305\"},{\"idx\":8306,\"name\":\"1gram_idf_8306\"},{\"idx\":8307,\"name\":\"1gram_idf_8307\"},{\"idx\":8308,\"name\":\"1gram_idf_8308\"},{\"idx\":8309,\"name\":\"1gram_idf_8309\"},{\"idx\":8310,\"name\":\"1gram_idf_8310\"},{\"idx\":8311,\"name\":\"1gram_idf_8311\"},{\"idx\":8312,\"name\":\"1gram_idf_8312\"},{\"idx\":8313,\"name\":\"1gram_idf_8313\"},{\"idx\":8314,\"name\":\"1gram_idf_8314\"},{\"idx\":8315,\"name\":\"1gram_idf_8315\"},{\"idx\":8316,\"name\":\"1gram_idf_8316\"},{\"idx\":8317,\"name\":\"1gram_idf_8317\"},{\"idx\":8318,\"name\":\"1gram_idf_8318\"},{\"idx\":8319,\"name\":\"1gram_idf_8319\"},{\"idx\":8320,\"name\":\"1gram_idf_8320\"},{\"idx\":8321,\"name\":\"1gram_idf_8321\"},{\"idx\":8322,\"name\":\"1gram_idf_8322\"},{\"idx\":8323,\"name\":\"1gram_idf_8323\"},{\"idx\":8324,\"name\":\"1gram_idf_8324\"},{\"idx\":8325,\"name\":\"1gram_idf_8325\"},{\"idx\":8326,\"name\":\"1gram_idf_8326\"},{\"idx\":8327,\"name\":\"1gram_idf_8327\"},{\"idx\":8328,\"name\":\"1gram_idf_8328\"},{\"idx\":8329,\"name\":\"1gram_idf_8329\"},{\"idx\":8330,\"name\":\"1gram_idf_8330\"},{\"idx\":8331,\"name\":\"1gram_idf_8331\"},{\"idx\":8332,\"name\":\"1gram_idf_8332\"},{\"idx\":8333,\"name\":\"1gram_idf_8333\"},{\"idx\":8334,\"name\":\"1gram_idf_8334\"},{\"idx\":8335,\"name\":\"1gram_idf_8335\"},{\"idx\":8336,\"name\":\"1gram_idf_8336\"},{\"idx\":8337,\"name\":\"1gram_idf_8337\"},{\"idx\":8338,\"name\":\"1gram_idf_8338\"},{\"idx\":8339,\"name\":\"1gram_idf_8339\"},{\"idx\":8340,\"name\":\"1gram_idf_8340\"},{\"idx\":8341,\"name\":\"1gram_idf_8341\"},{\"idx\":8342,\"name\":\"1gram_idf_8342\"},{\"idx\":8343,\"name\":\"1gram_idf_8343\"},{\"idx\":8344,\"name\":\"1gram_idf_8344\"},{\"idx\":8345,\"name\":\"1gram_idf_8345\"},{\"idx\":8346,\"name\":\"1gram_idf_8346\"},{\"idx\":8347,\"name\":\"1gram_idf_8347\"},{\"idx\":8348,\"name\":\"1gram_idf_8348\"},{\"idx\":8349,\"name\":\"1gram_idf_8349\"},{\"idx\":8350,\"name\":\"1gram_idf_8350\"},{\"idx\":8351,\"name\":\"1gram_idf_8351\"},{\"idx\":8352,\"name\":\"1gram_idf_8352\"},{\"idx\":8353,\"name\":\"1gram_idf_8353\"},{\"idx\":8354,\"name\":\"1gram_idf_8354\"},{\"idx\":8355,\"name\":\"1gram_idf_8355\"},{\"idx\":8356,\"name\":\"1gram_idf_8356\"},{\"idx\":8357,\"name\":\"1gram_idf_8357\"},{\"idx\":8358,\"name\":\"1gram_idf_8358\"},{\"idx\":8359,\"name\":\"1gram_idf_8359\"},{\"idx\":8360,\"name\":\"1gram_idf_8360\"},{\"idx\":8361,\"name\":\"1gram_idf_8361\"},{\"idx\":8362,\"name\":\"1gram_idf_8362\"},{\"idx\":8363,\"name\":\"1gram_idf_8363\"},{\"idx\":8364,\"name\":\"1gram_idf_8364\"},{\"idx\":8365,\"name\":\"1gram_idf_8365\"},{\"idx\":8366,\"name\":\"1gram_idf_8366\"},{\"idx\":8367,\"name\":\"1gram_idf_8367\"},{\"idx\":8368,\"name\":\"1gram_idf_8368\"},{\"idx\":8369,\"name\":\"1gram_idf_8369\"},{\"idx\":8370,\"name\":\"1gram_idf_8370\"},{\"idx\":8371,\"name\":\"1gram_idf_8371\"},{\"idx\":8372,\"name\":\"1gram_idf_8372\"},{\"idx\":8373,\"name\":\"1gram_idf_8373\"},{\"idx\":8374,\"name\":\"1gram_idf_8374\"},{\"idx\":8375,\"name\":\"1gram_idf_8375\"},{\"idx\":8376,\"name\":\"1gram_idf_8376\"},{\"idx\":8377,\"name\":\"1gram_idf_8377\"},{\"idx\":8378,\"name\":\"1gram_idf_8378\"},{\"idx\":8379,\"name\":\"1gram_idf_8379\"},{\"idx\":8380,\"name\":\"1gram_idf_8380\"},{\"idx\":8381,\"name\":\"1gram_idf_8381\"},{\"idx\":8382,\"name\":\"1gram_idf_8382\"},{\"idx\":8383,\"name\":\"1gram_idf_8383\"},{\"idx\":8384,\"name\":\"1gram_idf_8384\"},{\"idx\":8385,\"name\":\"1gram_idf_8385\"},{\"idx\":8386,\"name\":\"1gram_idf_8386\"},{\"idx\":8387,\"name\":\"1gram_idf_8387\"},{\"idx\":8388,\"name\":\"1gram_idf_8388\"},{\"idx\":8389,\"name\":\"1gram_idf_8389\"},{\"idx\":8390,\"name\":\"1gram_idf_8390\"},{\"idx\":8391,\"name\":\"1gram_idf_8391\"},{\"idx\":8392,\"name\":\"1gram_idf_8392\"},{\"idx\":8393,\"name\":\"1gram_idf_8393\"},{\"idx\":8394,\"name\":\"1gram_idf_8394\"},{\"idx\":8395,\"name\":\"1gram_idf_8395\"},{\"idx\":8396,\"name\":\"1gram_idf_8396\"},{\"idx\":8397,\"name\":\"1gram_idf_8397\"},{\"idx\":8398,\"name\":\"1gram_idf_8398\"},{\"idx\":8399,\"name\":\"1gram_idf_8399\"},{\"idx\":8400,\"name\":\"1gram_idf_8400\"},{\"idx\":8401,\"name\":\"1gram_idf_8401\"},{\"idx\":8402,\"name\":\"1gram_idf_8402\"},{\"idx\":8403,\"name\":\"1gram_idf_8403\"},{\"idx\":8404,\"name\":\"1gram_idf_8404\"},{\"idx\":8405,\"name\":\"1gram_idf_8405\"},{\"idx\":8406,\"name\":\"1gram_idf_8406\"},{\"idx\":8407,\"name\":\"1gram_idf_8407\"},{\"idx\":8408,\"name\":\"1gram_idf_8408\"},{\"idx\":8409,\"name\":\"1gram_idf_8409\"},{\"idx\":8410,\"name\":\"1gram_idf_8410\"},{\"idx\":8411,\"name\":\"1gram_idf_8411\"},{\"idx\":8412,\"name\":\"1gram_idf_8412\"},{\"idx\":8413,\"name\":\"1gram_idf_8413\"},{\"idx\":8414,\"name\":\"1gram_idf_8414\"},{\"idx\":8415,\"name\":\"1gram_idf_8415\"},{\"idx\":8416,\"name\":\"1gram_idf_8416\"},{\"idx\":8417,\"name\":\"1gram_idf_8417\"},{\"idx\":8418,\"name\":\"1gram_idf_8418\"},{\"idx\":8419,\"name\":\"1gram_idf_8419\"},{\"idx\":8420,\"name\":\"1gram_idf_8420\"},{\"idx\":8421,\"name\":\"1gram_idf_8421\"},{\"idx\":8422,\"name\":\"1gram_idf_8422\"},{\"idx\":8423,\"name\":\"1gram_idf_8423\"},{\"idx\":8424,\"name\":\"1gram_idf_8424\"},{\"idx\":8425,\"name\":\"1gram_idf_8425\"},{\"idx\":8426,\"name\":\"1gram_idf_8426\"},{\"idx\":8427,\"name\":\"1gram_idf_8427\"},{\"idx\":8428,\"name\":\"1gram_idf_8428\"},{\"idx\":8429,\"name\":\"1gram_idf_8429\"},{\"idx\":8430,\"name\":\"1gram_idf_8430\"},{\"idx\":8431,\"name\":\"1gram_idf_8431\"},{\"idx\":8432,\"name\":\"1gram_idf_8432\"},{\"idx\":8433,\"name\":\"1gram_idf_8433\"},{\"idx\":8434,\"name\":\"1gram_idf_8434\"},{\"idx\":8435,\"name\":\"1gram_idf_8435\"},{\"idx\":8436,\"name\":\"1gram_idf_8436\"},{\"idx\":8437,\"name\":\"1gram_idf_8437\"},{\"idx\":8438,\"name\":\"1gram_idf_8438\"},{\"idx\":8439,\"name\":\"1gram_idf_8439\"},{\"idx\":8440,\"name\":\"1gram_idf_8440\"},{\"idx\":8441,\"name\":\"1gram_idf_8441\"},{\"idx\":8442,\"name\":\"1gram_idf_8442\"},{\"idx\":8443,\"name\":\"1gram_idf_8443\"},{\"idx\":8444,\"name\":\"1gram_idf_8444\"},{\"idx\":8445,\"name\":\"1gram_idf_8445\"},{\"idx\":8446,\"name\":\"1gram_idf_8446\"},{\"idx\":8447,\"name\":\"1gram_idf_8447\"},{\"idx\":8448,\"name\":\"1gram_idf_8448\"},{\"idx\":8449,\"name\":\"1gram_idf_8449\"},{\"idx\":8450,\"name\":\"1gram_idf_8450\"},{\"idx\":8451,\"name\":\"1gram_idf_8451\"},{\"idx\":8452,\"name\":\"1gram_idf_8452\"},{\"idx\":8453,\"name\":\"1gram_idf_8453\"},{\"idx\":8454,\"name\":\"1gram_idf_8454\"},{\"idx\":8455,\"name\":\"1gram_idf_8455\"},{\"idx\":8456,\"name\":\"1gram_idf_8456\"},{\"idx\":8457,\"name\":\"1gram_idf_8457\"},{\"idx\":8458,\"name\":\"1gram_idf_8458\"},{\"idx\":8459,\"name\":\"1gram_idf_8459\"},{\"idx\":8460,\"name\":\"1gram_idf_8460\"},{\"idx\":8461,\"name\":\"1gram_idf_8461\"},{\"idx\":8462,\"name\":\"1gram_idf_8462\"},{\"idx\":8463,\"name\":\"1gram_idf_8463\"},{\"idx\":8464,\"name\":\"1gram_idf_8464\"},{\"idx\":8465,\"name\":\"1gram_idf_8465\"},{\"idx\":8466,\"name\":\"1gram_idf_8466\"},{\"idx\":8467,\"name\":\"1gram_idf_8467\"},{\"idx\":8468,\"name\":\"1gram_idf_8468\"},{\"idx\":8469,\"name\":\"1gram_idf_8469\"},{\"idx\":8470,\"name\":\"1gram_idf_8470\"},{\"idx\":8471,\"name\":\"1gram_idf_8471\"},{\"idx\":8472,\"name\":\"1gram_idf_8472\"},{\"idx\":8473,\"name\":\"1gram_idf_8473\"},{\"idx\":8474,\"name\":\"1gram_idf_8474\"},{\"idx\":8475,\"name\":\"1gram_idf_8475\"},{\"idx\":8476,\"name\":\"1gram_idf_8476\"},{\"idx\":8477,\"name\":\"1gram_idf_8477\"},{\"idx\":8478,\"name\":\"1gram_idf_8478\"},{\"idx\":8479,\"name\":\"1gram_idf_8479\"},{\"idx\":8480,\"name\":\"1gram_idf_8480\"},{\"idx\":8481,\"name\":\"1gram_idf_8481\"},{\"idx\":8482,\"name\":\"1gram_idf_8482\"},{\"idx\":8483,\"name\":\"1gram_idf_8483\"},{\"idx\":8484,\"name\":\"1gram_idf_8484\"}]},\"num_attrs\":8485}}",
         "name": "features",
         "type": "{\"type\":\"udt\",\"class\":\"org.apache.spark.ml.linalg.VectorUDT\",\"pyClass\":\"pyspark.ml.linalg.VectorUDT\",\"sqlType\":{\"type\":\"struct\",\"fields\":[{\"name\":\"type\",\"type\":\"byte\",\"nullable\":false,\"metadata\":{}},{\"name\":\"size\",\"type\":\"integer\",\"nullable\":true,\"metadata\":{}},{\"name\":\"indices\",\"type\":{\"type\":\"array\",\"elementType\":\"integer\",\"containsNull\":false},\"nullable\":true,\"metadata\":{}},{\"name\":\"values\",\"type\":{\"type\":\"array\",\"elementType\":\"double\",\"containsNull\":false},\"nullable\":true,\"metadata\":{}}]}}"
        },
        {
         "metadata": "{\"ml_attr\":{\"vals\":[\"negative\",\"positive\",\"neutral\"],\"type\":\"nominal\",\"name\":\"label\"}}",
         "name": "label",
         "type": "\"double\""
        },
        {
         "metadata": "{\"ml_attr\":{\"num_attrs\":3}}",
         "name": "rawPrediction",
         "type": "{\"type\":\"udt\",\"class\":\"org.apache.spark.ml.linalg.VectorUDT\",\"pyClass\":\"pyspark.ml.linalg.VectorUDT\",\"sqlType\":{\"type\":\"struct\",\"fields\":[{\"name\":\"type\",\"type\":\"byte\",\"nullable\":false,\"metadata\":{}},{\"name\":\"size\",\"type\":\"integer\",\"nullable\":true,\"metadata\":{}},{\"name\":\"indices\",\"type\":{\"type\":\"array\",\"elementType\":\"integer\",\"containsNull\":false},\"nullable\":true,\"metadata\":{}},{\"name\":\"values\",\"type\":{\"type\":\"array\",\"elementType\":\"double\",\"containsNull\":false},\"nullable\":true,\"metadata\":{}}]}}"
        },
        {
         "metadata": "{\"ml_attr\":{\"num_attrs\":3}}",
         "name": "probability",
         "type": "{\"type\":\"udt\",\"class\":\"org.apache.spark.ml.linalg.VectorUDT\",\"pyClass\":\"pyspark.ml.linalg.VectorUDT\",\"sqlType\":{\"type\":\"struct\",\"fields\":[{\"name\":\"type\",\"type\":\"byte\",\"nullable\":false,\"metadata\":{}},{\"name\":\"size\",\"type\":\"integer\",\"nullable\":true,\"metadata\":{}},{\"name\":\"indices\",\"type\":{\"type\":\"array\",\"elementType\":\"integer\",\"containsNull\":false},\"nullable\":true,\"metadata\":{}},{\"name\":\"values\",\"type\":{\"type\":\"array\",\"elementType\":\"double\",\"containsNull\":false},\"nullable\":true,\"metadata\":{}}]}}"
        },
        {
         "metadata": "{\"ml_attr\":{\"type\":\"nominal\",\"num_vals\":3}}",
         "name": "prediction",
         "type": "\"double\""
        }
       ],
       "type": "table"
      }
     },
     "output_type": "display_data"
    }
   ],
   "source": [
    "display(predictions.limit(10))"
   ]
  },
  {
   "cell_type": "code",
   "execution_count": null,
   "metadata": {
    "application/vnd.databricks.v1+cell": {
     "cellMetadata": {
      "byteLimit": 2048000,
      "rowLimit": 10000
     },
     "inputWidgets": {},
     "nuid": "5dd4a6b8-b395-4e4d-9420-b5fe9544fa41",
     "showTitle": false,
     "tableResultSettingsMap": {},
     "title": ""
    }
   },
   "outputs": [
    {
     "name": "stdout",
     "output_type": "stream",
     "text": [
      "root\n",
      " |-- tweet: string (nullable = true)\n",
      " |-- sentiment: string (nullable = true)\n",
      " |-- polarity: float (nullable = true)\n",
      " |-- tokens: array (nullable = true)\n",
      " |    |-- element: string (containsNull = true)\n",
      " |-- filtered: array (nullable = true)\n",
      " |    |-- element: string (containsNull = true)\n",
      " |-- cv: vector (nullable = true)\n",
      " |-- 1gram_idf: vector (nullable = true)\n",
      " |-- features: vector (nullable = true)\n",
      " |-- label: double (nullable = false)\n",
      " |-- rawPrediction: vector (nullable = true)\n",
      " |-- probability: vector (nullable = true)\n",
      " |-- prediction: double (nullable = false)\n",
      "\n"
     ]
    }
   ],
   "source": [
    "predictions.printSchema()"
   ]
  },
  {
   "cell_type": "code",
   "execution_count": null,
   "metadata": {
    "application/vnd.databricks.v1+cell": {
     "cellMetadata": {
      "byteLimit": 2048000,
      "rowLimit": 10000
     },
     "inputWidgets": {},
     "nuid": "c2a36526-e594-4ba7-bf9d-c802392ee392",
     "showTitle": false,
     "tableResultSettingsMap": {},
     "title": ""
    }
   },
   "outputs": [
    {
     "data": {
      "text/html": [
       "<style scoped>\n",
       "  .table-result-container {\n",
       "    max-height: 300px;\n",
       "    overflow: auto;\n",
       "  }\n",
       "  table, th, td {\n",
       "    border: 1px solid black;\n",
       "    border-collapse: collapse;\n",
       "  }\n",
       "  th, td {\n",
       "    padding: 5px;\n",
       "  }\n",
       "  th {\n",
       "    text-align: left;\n",
       "  }\n",
       "</style><div class='table-result-container'><table class='table-result'><thead style='background-color: white'><tr><th>tweet</th><th>sentiment</th><th>polarity</th><th>label</th><th>prediction</th></tr></thead><tbody><tr><td>there are many innovations and surprises in the future project dxgm metaverse universe you can par</td><td>positive</td><td>0.25</td><td>1.0</td><td>1.0</td></tr><tr><td>gplex with blockchain technology in the gaming world with the unique metaverse world waiting to be</td><td>positive</td><td>0.375</td><td>1.0</td><td>1.0</td></tr><tr><td>there are many innovations and surprises in the future project dxgm metaverse universe you can partic</td><td>positive</td><td>0.25</td><td>1.0</td><td>1.0</td></tr><tr><td>gplex with blockchain technology in the gaming world with the unique metaverse world waiting to be</td><td>positive</td><td>0.375</td><td>1.0</td><td>1.0</td></tr><tr><td>there are many innovations and surprises in the future project dxgm metaverse universe you can partic</td><td>positive</td><td>0.25</td><td>1.0</td><td>1.0</td></tr><tr><td>gplex with blockchain technology in the gaming world with the unique metaverse world waiting to be d</td><td>positive</td><td>0.375</td><td>1.0</td><td>1.0</td></tr><tr><td>gplex with blockchain technology in the gaming world with the unique metaverse world waiting to</td><td>positive</td><td>0.375</td><td>1.0</td><td>1.0</td></tr><tr><td>gplex with blockchain technology in the gaming world with the unique metaverse world waiting to</td><td>positive</td><td>0.375</td><td>1.0</td><td>1.0</td></tr><tr><td>there are many innovations and surprises in the future project dxgm metaverse universe you can part</td><td>positive</td><td>0.25</td><td>1.0</td><td>1.0</td></tr><tr><td>the vf phoenix variable fighter was an prototype for the vf valkyrie it served in as a front line fighter</td><td>neutral</td><td>0.0</td><td>2.0</td><td>2.0</td></tr></tbody></table></div>"
      ]
     },
     "metadata": {
      "application/vnd.databricks.v1+output": {
       "addedWidgets": {},
       "aggData": [],
       "aggError": "",
       "aggOverflow": false,
       "aggSchema": [],
       "aggSeriesLimitReached": false,
       "aggType": "",
       "arguments": {},
       "columnCustomDisplayInfos": {},
       "data": [
        [
         "there are many innovations and surprises in the future project dxgm metaverse universe you can par",
         "positive",
         0.25,
         1,
         1
        ],
        [
         "gplex with blockchain technology in the gaming world with the unique metaverse world waiting to be",
         "positive",
         0.375,
         1,
         1
        ],
        [
         "there are many innovations and surprises in the future project dxgm metaverse universe you can partic",
         "positive",
         0.25,
         1,
         1
        ],
        [
         "gplex with blockchain technology in the gaming world with the unique metaverse world waiting to be",
         "positive",
         0.375,
         1,
         1
        ],
        [
         "there are many innovations and surprises in the future project dxgm metaverse universe you can partic",
         "positive",
         0.25,
         1,
         1
        ],
        [
         "gplex with blockchain technology in the gaming world with the unique metaverse world waiting to be d",
         "positive",
         0.375,
         1,
         1
        ],
        [
         "gplex with blockchain technology in the gaming world with the unique metaverse world waiting to",
         "positive",
         0.375,
         1,
         1
        ],
        [
         "gplex with blockchain technology in the gaming world with the unique metaverse world waiting to",
         "positive",
         0.375,
         1,
         1
        ],
        [
         "there are many innovations and surprises in the future project dxgm metaverse universe you can part",
         "positive",
         0.25,
         1,
         1
        ],
        [
         "the vf phoenix variable fighter was an prototype for the vf valkyrie it served in as a front line fighter",
         "neutral",
         0,
         2,
         2
        ]
       ],
       "datasetInfos": [],
       "dbfsResultPath": null,
       "isJsonSchema": true,
       "metadata": {},
       "overflow": false,
       "plotOptions": {
        "customPlotOptions": {},
        "displayType": "table",
        "pivotAggregation": null,
        "pivotColumns": null,
        "xColumns": null,
        "yColumns": null
       },
       "removedWidgets": [],
       "schema": [
        {
         "metadata": "{}",
         "name": "tweet",
         "type": "\"string\""
        },
        {
         "metadata": "{}",
         "name": "sentiment",
         "type": "\"string\""
        },
        {
         "metadata": "{}",
         "name": "polarity",
         "type": "\"float\""
        },
        {
         "metadata": "{\"ml_attr\":{\"vals\":[\"negative\",\"positive\",\"neutral\"],\"type\":\"nominal\",\"name\":\"label\"}}",
         "name": "label",
         "type": "\"double\""
        },
        {
         "metadata": "{\"ml_attr\":{\"type\":\"nominal\",\"num_vals\":3}}",
         "name": "prediction",
         "type": "\"double\""
        }
       ],
       "type": "table"
      }
     },
     "output_type": "display_data"
    }
   ],
   "source": [
    "my_bucket = \"/mnt/project\"\n",
    "\n",
    "# Save data df to bucket\n",
    "\n",
    "(tweets_labeled.write                      \n",
    "  .option(\"delimiter\", \"\\t\")  \n",
    "  .option(\"header\", \"false\")\n",
    "  .mode(\"overwrite\")              \n",
    "  .csv(my_bucket + \"/data\")              \n",
    ")\n",
    "\n",
    "# Drop array and vector columns from predictitons\n",
    "\n",
    "predictions_final = predictions.drop(\"tokens\", \"filtered\", \"cv\", \"1gram_idf\", \"features\", \"rawPrediction\", \"probability\")\n",
    "\n",
    "# Save prediction_final df to bucket\n",
    "\n",
    "(predictions_final.write                      \n",
    "  .option(\"delimiter\", \"\\t\")  \n",
    "  .option(\"header\", \"false\")\n",
    "  .mode(\"overwrite\")              \n",
    "  .csv(my_bucket + \"/predictions\")              \n",
    ")\n"
   ]
  },
  {
   "cell_type": "code",
   "execution_count": null,
   "metadata": {
    "application/vnd.databricks.v1+cell": {
     "cellMetadata": {
      "byteLimit": 2048000,
      "rowLimit": 10000
     },
     "inputWidgets": {},
     "nuid": "382b7a1a-5958-4c3f-b539-b97214b82d94",
     "showTitle": false,
     "tableResultSettingsMap": {},
     "title": ""
    }
   },
   "outputs": [],
   "source": [
    "my_bucket = \"/mnt/project\"\n",
    "\n",
    "# Drop array and vector columns from predictitons_test\n",
    "\n",
    "predictions_test = predictions_test.drop(\"tokens\", \"filtered\", \"cv\", \"1gram_idf\", \"features\", \"rawPrediction\", \"probability\")\n",
    "\n",
    "# Save prediction_test df to bucket\n",
    "\n",
    "(predictions_test.write                      \n",
    "  .option(\"delimiter\", \"\\t\")  \n",
    "  .option(\"header\", \"false\")\n",
    "  .mode(\"overwrite\")              \n",
    "  .csv(my_bucket + \"/predictions_testdata\")              \n",
    ")\n"
   ]
  },
  {
   "cell_type": "code",
   "execution_count": null,
   "metadata": {
    "application/vnd.databricks.v1+cell": {
     "cellMetadata": {
      "byteLimit": 2048000,
      "rowLimit": 10000
     },
     "inputWidgets": {},
     "nuid": "3e356c72-9a12-4905-9502-e60b5721a45c",
     "showTitle": false,
     "tableResultSettingsMap": {},
     "title": ""
    }
   },
   "outputs": [],
   "source": [
    "# Create text data with filtered tweet for WordCloud visualization\n",
    "\n",
    "from pyspark.ml.feature import StopWordsRemover, Tokenizer\n",
    "\n",
    "tokenizer = Tokenizer(inputCol=\"tweet\", outputCol=\"tokens\")\n",
    "tweets_tokenized = tokenizer.transform(tweets_clean)\n",
    "stopword_remover = StopWordsRemover(inputCol=\"tokens\", outputCol=\"filtered\")\n",
    "tweets_filtered = stopword_remover.transform(tweets_tokenized)\n",
    "\n",
    "tweets_text = []\n",
    "\n",
    "for row in tweets_filtered.toPandas()[\"filtered\"]:\n",
    "  for value in row:\n",
    "      tweets_text.append(value)\n",
    "\n"
   ]
  },
  {
   "cell_type": "code",
   "execution_count": null,
   "metadata": {
    "application/vnd.databricks.v1+cell": {
     "cellMetadata": {
      "byteLimit": 2048000,
      "rowLimit": 10000
     },
     "inputWidgets": {},
     "nuid": "81cd2a7f-561b-4e0c-bd11-ae719dccadfa",
     "showTitle": false,
     "tableResultSettingsMap": {},
     "title": ""
    }
   },
   "outputs": [],
   "source": [
    "my_bucket = \"/mnt/project\"\n",
    "\n",
    "# Save text_file to bucket\n",
    "\n",
    "df = spark.createDataFrame(tweets_text, StringType())\n",
    "\n",
    "(df.write                      \n",
    "  .option(\"delimiter\", \"\\t\")  \n",
    "  .option(\"header\", \"false\")\n",
    "  .mode(\"overwrite\")              \n",
    "  .csv(my_bucket + \"/tweets_text\")              \n",
    ")"
   ]
  }
 ],
 "metadata": {
  "application/vnd.databricks.v1+notebook": {
   "dashboards": [],
   "environmentMetadata": null,
   "language": "python",
   "notebookMetadata": {
    "mostRecentlyExecutedCommandWithImplicitDF": {
     "commandId": 2620700416409424,
     "dataframes": [
      "_sqldf"
     ]
    },
    "pythonIndentUnit": 2
   },
   "notebookName": "WeCloudData Project",
   "widgets": {}
  },
  "kernelspec": {
   "display_name": "Python 3 (ipykernel)",
   "language": "python",
   "name": "python3"
  },
  "language_info": {
   "codemirror_mode": {
    "name": "ipython",
    "version": 3
   },
   "file_extension": ".py",
   "mimetype": "text/x-python",
   "name": "python",
   "nbconvert_exporter": "python",
   "pygments_lexer": "ipython3",
   "version": "3.11.7"
  }
 },
 "nbformat": 4,
 "nbformat_minor": 4
}
